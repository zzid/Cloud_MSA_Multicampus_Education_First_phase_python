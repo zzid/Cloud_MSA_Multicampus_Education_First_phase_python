{
 "cells": [
  {
   "cell_type": "markdown",
   "metadata": {},
   "source": [
    "## 1. NHN News title search\n",
    "* requests, beautifulsoup basic\n",
    "* css selector -> attribute"
   ]
  },
  {
   "cell_type": "code",
   "execution_count": 2,
   "metadata": {},
   "outputs": [],
   "source": [
    "import requests\n",
    "from bs4 import BeautifulSoup\n",
    "from urllib.parse import urljoin"
   ]
  },
  {
   "cell_type": "code",
   "execution_count": 3,
   "metadata": {
    "tags": []
   },
   "outputs": [
    {
     "output_type": "stream",
     "name": "stdout",
     "text": "status code : 200\nresponse header : {'date': 'Mon, 20 Jul 2020 07:55:50 GMT', 'cache-control': 'no-cache', 'expires': 'Thu, 01 Jan 1970 00:00:00 GMT', 'set-cookie': 'JSESSIONID=3DE2C104AF3C360165F02D5E8F9D5A49; Path=/main; HttpOnly', 'content-language': 'ko-KR', 'vary': 'Accept-Encoding', 'content-encoding': 'gzip', 'transfer-encoding': 'chunked', 'content-type': 'text/html;charset=EUC-KR', 'referrer-policy': 'unsafe-url', 'server': 'nfront'}\n"
    }
   ],
   "source": [
    "url = 'https://news.naver.com/'\n",
    "response = requests.get(url)\n",
    "print(f'status code : {response.status_code}')\n",
    "print(f'response header : {response.headers}')"
   ]
  },
  {
   "cell_type": "markdown",
   "metadata": {},
   "source": [
    "<pre>\n",
    "http protocol\n",
    "http method (REST)\n",
    "    GET: append to url and send that (less secure)\n",
    "    POST : encapsule with body stream (more secure)\n",
    "    PUT : \n",
    "    DELETE : \n",
    "\n",
    "Cookie & Session\n",
    "    HTTP is connection less\n",
    "    For each client~ \n",
    "    ** HAVE TO DO\n",
    "\n",
    "CSS Selector\n",
    "    Tag selector            : select the tag with 'tag name'\n",
    "                                soup.select('li')\n",
    "    ID(#) selector          : select the tag with 'id'\n",
    "                                soup.select('#myDiv') \n",
    "    Class(.) selector       : select the tag with 'class'\n",
    "                                soup.select('.myClass')  OR\n",
    "                                soup.select('div.myClass')\n",
    "    Attribute([]) selector   : select the tag with 'attribute'\n",
    "                                soup.select[\"a[href='']\"]\n",
    "                                tag[attr*=\"bar\"] : partially matched\n",
    "                                tag[attr^=\"bar\"] : if start with \"bar\"\n",
    "                                tag[attr$=\"bar\"] : if end with \"bar\"\n",
    "</pre>                                \n",
    "```html                            \n",
    "<div id = 'myDiv'>\n",
    "</div>\n",
    "<div class = 'myClass'>\n",
    "</div>\n",
    "<ul>\n",
    "    <li>aaa</li>\n",
    "    <li>bbb</li>\n",
    "</ul>\n",
    "```\n",
    "    "
   ]
  },
  {
   "cell_type": "code",
   "execution_count": 52,
   "metadata": {
    "tags": []
   },
   "outputs": [],
   "source": [
    "html_doc = response.text #page source code\n",
    "## BeautifulSoup\n",
    "soup = BeautifulSoup(html_doc, 'html.parser')\n",
    "\n",
    "tag_list = soup.select(\"a[href*=read.nhn]\")\n",
    "\n",
    "# for i in tag_list:\n",
    "#     ttl = i.get('title') ## get from bs4\n",
    "#     if ttl is not None: \n",
    "#         print(ttl)\n",
    "# print(\"===========================\")\n",
    "for i in tag_list:\n",
    "    ttl = i.text.strip() # text from bs4\n",
    "    # link = urljoin(url, i['href'])\n",
    "    # print(f'{ttl} \\\"{link}\\\"')\n",
    "    # print(ttl)\n"
   ]
  },
  {
   "cell_type": "markdown",
   "metadata": {},
   "source": [
    "## 2. papago API \n",
    "### Code example from Naver"
   ]
  },
  {
   "cell_type": "code",
   "execution_count": 5,
   "metadata": {
    "tags": []
   },
   "outputs": [
    {
     "output_type": "stream",
     "name": "stdout",
     "text": "{\"message\":{\"@type\":\"response\",\"@service\":\"naverservice.nmt.proxy\",\"@version\":\"1.0.0\",\"result\":{\"srcLangType\":\"en\",\"tarLangType\":\"ko\",\"translatedText\":\"왜 그녀가 가야만 했는지 모르겠다, 그녀는 말하지 않을 것이다.\",\"engineType\":\"N2MT\",\"pivot\":null}}}\n"
    }
   ],
   "source": [
    "import os\n",
    "import sys\n",
    "import urllib.request\n",
    "client_id = \"6YdSTBn2_cC7tlhp7vHZ\"\n",
    "client_secret = \"_qvvwbv5BE\"\n",
    "encText = urllib.parse.quote(\"Why she had to go, I don't know, she wouldn't say.\")\n",
    "data = \"source=en&target=ko&text=\" + encText\n",
    "url = \"https://openapi.naver.com/v1/papago/n2mt\"\n",
    "request = urllib.request.Request(url)\n",
    "request.add_header(\"X-Naver-Client-Id\",client_id)\n",
    "request.add_header(\"X-Naver-Client-Secret\",client_secret)\n",
    "response = urllib.request.urlopen(request, data=data.encode(\"utf-8\"))\n",
    "rescode = response.getcode()\n",
    "if(rescode==200):\n",
    "    response_body = response.read()\n",
    "    print(response_body.decode('utf-8'))\n",
    "else:\n",
    "    print(\"Error Code:\" + rescode)"
   ]
  },
  {
   "cell_type": "markdown",
   "metadata": {},
   "source": [
    "### Using Requests , JSON"
   ]
  },
  {
   "cell_type": "code",
   "execution_count": 6,
   "metadata": {
    "tags": []
   },
   "outputs": [
    {
     "output_type": "stream",
     "name": "stdout",
     "text": "{\"message\":{\"@type\":\"response\",\"@service\":\"naverservice.nmt.proxy\",\"@version\":\"1.0.0\",\"result\":{\"srcLangType\":\"en\",\"tarLangType\":\"ko\",\"translatedText\":\"왜 그녀가 가야만 했는지 모르겠다, 그녀는 말하지 않을 것이다.\",\"engineType\":\"N2MT\",\"pivot\":null}}}\n"
    }
   ],
   "source": [
    "import requests\n",
    "client_id = \"6YdSTBn2_cC7tlhp7vHZ\"\n",
    "client_secret = \"_qvvwbv5BE\"\n",
    "encText = \"Why she had to go, I don't know, she wouldn't say.\"\n",
    "url = \"https://openapi.naver.com/v1/papago/n2mt\"\n",
    "\n",
    "req_headers = {\n",
    "    \"X-Naver-Client-Id\" : client_id,\n",
    "    \"X-Naver-Client-Secret\" : client_secret,\n",
    "}\n",
    "params ={\n",
    "    \"source\" : 'en',\n",
    "    \"target\" : 'ko',\n",
    "    \"text\" : encText,\n",
    "}\n",
    "response = requests.post(url, headers = req_headers, data = params)\n",
    "# print(f'response headers : {response.headers}')\n",
    "# print(f'request headers : {response.request.headers}')\n",
    "# print(f'status cdoe : {response.status_code}')\n",
    "\n",
    "if response.status_code == 200:\n",
    "    print(response.text)\n",
    "else:\n",
    "    print(f'Error Code {response.status_code}')"
   ]
  },
  {
   "cell_type": "code",
   "execution_count": 7,
   "metadata": {
    "tags": []
   },
   "outputs": [
    {
     "output_type": "stream",
     "name": "stdout",
     "text": "왜 그녀가 가야만 했는지 모르겠다, 그녀는 말하지 않을 것이다.\n"
    }
   ],
   "source": [
    "# print only translated text\n",
    "myjson = response.json()\n",
    "print(myjson['message']['result']['translatedText'])"
   ]
  },
  {
   "cell_type": "markdown",
   "metadata": {},
   "source": [
    "### (From requests,) Using requests, session object "
   ]
  },
  {
   "cell_type": "code",
   "execution_count": 15,
   "metadata": {
    "tags": []
   },
   "outputs": [
    {
     "output_type": "stream",
     "name": "stdout",
     "text": "오, 나는 어제를 다시 그리게 돼.\n"
    }
   ],
   "source": [
    "import requests\n",
    "from requests import Request, Session\n",
    "client_id = \"6YdSTBn2_cC7tlhp7vHZ\"\n",
    "client_secret = \"_qvvwbv5BE\"\n",
    "encText = \"Oh, I believe in yesterday.\"\n",
    "url = \"https://openapi.naver.com/v1/papago/n2mt\"\n",
    "\n",
    "req_headers = {\n",
    "    \"X-Naver-Client-Id\" : client_id,\n",
    "    \"X-Naver-Client-Secret\" : client_secret,\n",
    "}\n",
    "params ={\n",
    "    \"source\" : 'en',\n",
    "    \"target\" : 'ko',\n",
    "    \"text\" : encText,\n",
    "}\n",
    "## Make session object\n",
    "session = Session()\n",
    "## Make Request object\n",
    "request = Request('POST', url, headers=req_headers, data = params)\n",
    "## prepare() from request\n",
    "prepared = request.prepare()\n",
    "\n",
    "## send() from session, call server\n",
    "response = session.send(prepared)\n",
    "\n",
    "\n",
    "if response.status_code == 200:\n",
    "    print(response.json()['message']['result']['translatedText'])\n",
    "else:\n",
    "    print(f'Error Code {response.status_code}')"
   ]
  },
  {
   "cell_type": "markdown",
   "metadata": {},
   "source": [
    "### Translate whole file"
   ]
  },
  {
   "cell_type": "code",
   "execution_count": 51,
   "metadata": {
    "tags": []
   },
   "outputs": [
    {
     "output_type": "stream",
     "name": "stdout",
     "text": "EN : Yesterday all my troubles seemed so far away.\nKR : 어제 나의 모든 고민들은 너무나 멀리 떨어져 있는 것 같았다.\n\nEN : Now it looks as though they're here to stay.\nKR : 이제 그들은 여기 머물기 위해 온 것처럼 보인다.\n\nEN : Oh, I believe in yesterday.\nKR : 오, 나는 어제를 다시 그리게 돼.\n\nEN : Suddenly I'm not half the man I used to be.\nKR : 갑자기 나는 예전과 같은 사람이 아니다.\n\nEN : There's a shadow hanging over me.\nKR : 내 위에 그림자가 드리워져 있다.\n\nEN : Oh, yesterday came suddenly.\nKR : 아, 어제 갑자기 왔구나.\n\nEN : Why she had to go, I don't know, she wouldn't say.\nKR : 왜 그녀가 가야만 했는지 모르겠다, 그녀는 말하지 않을 것이다.\n\nEN : I said something wrong, now I long for yesterday.\nKR : 내가 말을 잘못해서 어제가 그립다.\n\nEN : Yesterday love was such an easy game to play.\nKR : 어제는 사랑이 정말 쉬운 게임이었다.\n\nEN : Now I need a place to hide away.\nKR : 이제 나는 숨을 곳이 필요해.\n\nEN : Oh, I believe in yesterday.\nKR : 오, 나는 어제를 다시 그리게 돼.\n\nEN : Why she had to go, I don't know, she wouldn't say.\nKR : 왜 그녀가 가야만 했는지 모르겠다, 그녀는 말하지 않을 것이다.\n\nEN : I said something wrong, now I long for yesterday.\nKR : 내가 말을 잘못해서 어제가 그립다.\n\nEN : Yesterday love was such an easy game to play.\nKR : 어제는 사랑이 정말 쉬운 게임이었다.\n\nEN : Now I need a place to hide away.\nKR : 이제 나는 숨을 곳이 필요해.\n\nEN : Oh, I believe in yesterday.\nKR : 오, 나는 어제를 다시 그리게 돼.\n\nEN : Mm mm mm mm mm mm mm\nKR : mm mm mm mm mm mm mm mm\n\n"
    }
   ],
   "source": [
    "import requests,os,sys\n",
    "from requests import Request, Session\n",
    "# print(os.getcwd())\n",
    "# os.chdir('../docs/webscrap_source/data')\n",
    "def get_lyrics():\n",
    "    temp = []\n",
    "    with open('./yesterday.txt', 'r', encoding = 'utf8') as file:\n",
    "        contents = file.read()\n",
    "        temp = contents.split('\\n') ## this is a list automatically \n",
    "    return temp\n",
    "    \n",
    "def save_file(my_list):\n",
    "    with open('./yesterday_korean.txt', 'w', encoding = 'utf8') as file:\n",
    "        file.writelines(my_list)\n",
    "\n",
    "\n",
    "def main():\n",
    "    session = Session()\n",
    "\n",
    "    client_id = \"6YdSTBn2_cC7tlhp7vHZ\"\n",
    "    client_secret = \"_qvvwbv5BE\"\n",
    "    encText = \"Oh, I believe in yesterday.\"\n",
    "    url = \"https://openapi.naver.com/v1/papago/n2mt\"\n",
    "\n",
    "    req_headers = {\n",
    "        \"X-Naver-Client-Id\" : client_id,\n",
    "        \"X-Naver-Client-Secret\" : client_secret,\n",
    "    }\n",
    "    \n",
    "    lyrics = get_lyrics()\n",
    "    lyrics = [_ for _ in lyrics if len(_) != 0]\n",
    "    ko_texts = []\n",
    "    for encText in lyrics:\n",
    "        params ={\n",
    "            \"source\" : 'en',\n",
    "            \"target\" : 'ko',\n",
    "            \"text\" : encText,\n",
    "        }\n",
    "        req = Request('POST', url, data = params, headers= req_headers)\n",
    "        prepared = req.prepare()\n",
    "        res = session.send(prepared)\n",
    "        try:\n",
    "            ko_text = res.json()['message']['result']['translatedText']\n",
    "        except Exception as err:\n",
    "            print(err)\n",
    "        else:\n",
    "            ko_texts.append(ko_text +'\\n')\n",
    "            print(f'EN : {encText}\\nKR : {ko_text}\\n')\n",
    "    save_file(ko_texts)\n",
    "main()"
   ]
  }
 ],
 "metadata": {
  "kernelspec": {
   "display_name": "Python 3",
   "language": "python",
   "name": "python3"
  },
  "language_info": {
   "codemirror_mode": {
    "name": "ipython",
    "version": 3
   },
   "file_extension": ".py",
   "mimetype": "text/x-python",
   "name": "python",
   "nbconvert_exporter": "python",
   "pygments_lexer": "ipython3",
   "version": 3
  }
 },
 "nbformat": 4,
 "nbformat_minor": 2
}