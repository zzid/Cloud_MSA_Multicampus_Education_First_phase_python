{
 "metadata": {
  "language_info": {
   "codemirror_mode": {
    "name": "ipython",
    "version": 3
   },
   "file_extension": ".py",
   "mimetype": "text/x-python",
   "name": "python",
   "nbconvert_exporter": "python",
   "pygments_lexer": "ipython3",
   "version": 3
  },
  "orig_nbformat": 2,
  "kernelspec": {
   "name": "python_defaultSpec_1595982966964",
   "display_name": "Python 3.7.0 64-bit ('base': conda)"
  }
 },
 "nbformat": 4,
 "nbformat_minor": 2,
 "cells": [
  {
   "cell_type": "markdown",
   "metadata": {},
   "source": [
    "## Selenium\n"
   ]
  },
  {
   "cell_type": "code",
   "execution_count": 3,
   "metadata": {
    "tags": []
   },
   "outputs": [
    {
     "output_type": "stream",
     "name": "stdout",
     "text": "Name: selenium\nVersion: 3.141.0\nSummary: Python bindings for Selenium\nHome-page: https://github.com/SeleniumHQ/selenium/\nAuthor: UNKNOWN\nAuthor-email: UNKNOWN\nLicense: Apache 2.0\nLocation: c:\\anaconda3\\lib\\site-packages\nRequires: urllib3\nRequired-by: \n"
    }
   ],
   "source": [
    "!pip show selenium"
   ]
  },
  {
   "cell_type": "markdown",
   "metadata": {},
   "source": [
    "#### Create web driver object and click element"
   ]
  },
  {
   "cell_type": "code",
   "execution_count": 25,
   "metadata": {
    "tags": []
   },
   "outputs": [
    {
     "output_type": "stream",
     "name": "stdout",
     "text": "Python\nPSF\nDocs\n"
    }
   ],
   "source": [
    "from selenium import webdriver\n",
    "import time\n",
    "\n",
    "# Create web driver object : execute chromedriver.exe \n",
    "browser = webdriver.Chrome('./chromedriver.exe')\n",
    "# Send the request to 'python.org'\n",
    "browser.get('https://www.python.org/')\n",
    "# Find the element which have pypi\n",
    "menus = browser.find_elements_by_css_selector(\"#top ul.menu li\")\n",
    "\n",
    "pypi = None\n",
    "for menu in menus:\n",
    "    if menu.text == 'PyPI':\n",
    "        pypi = menu\n",
    "        break\n",
    "    print(menu.text)\n",
    "# Execute click() \n",
    "pypi.click()\n",
    "# Sleep() and quit\n",
    "time.sleep(3)\n",
    "browser.quit()"
   ]
  },
  {
   "cell_type": "markdown",
   "metadata": {},
   "source": [
    "#### Save screenshot"
   ]
  },
  {
   "cell_type": "code",
   "execution_count": 28,
   "metadata": {},
   "outputs": [],
   "source": [
    "from selenium import webdriver\n",
    "import time, os\n",
    "\n",
    "driver = webdriver.Chrome('./chromedriver.exe')\n",
    "driver.get('https://www.naver.com/')\n",
    "if not os.path.isdir('./img'):\n",
    "    os.mkdir('./img')\n",
    "driver.save_screenshot('./img/naver.jpg')\n",
    "time.sleep(3)\n",
    "driver.quit()"
   ]
  },
  {
   "cell_type": "code",
   "execution_count": null,
   "metadata": {},
   "outputs": [],
   "source": []
  }
 ]
}