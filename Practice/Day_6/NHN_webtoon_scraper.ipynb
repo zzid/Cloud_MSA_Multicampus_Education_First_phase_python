{
 "cells": [
  {
   "cell_type": "markdown",
   "metadata": {},
   "source": [
    "## 3. NHN webtoon image download and upload\n",
    "* Set the url to Header name 'Referer'\n",
    "* Using get() function from requests, request the image data\n",
    "* Using response.content property\n",
    "* Store as file in local"
   ]
  },
  {
   "cell_type": "markdown",
   "metadata": {},
   "source": [
    "### 1. Download images"
   ]
  },
  {
   "cell_type": "code",
   "execution_count": 1,
   "metadata": {
    "tags": []
   },
   "outputs": [
    {
     "output_type": "stream",
     "name": "stdout",
     "text": "20200720100426_690986752102510f0a4f0c65118d2681_IMAG01_1.jpg\nWriting image to 20200720100426_690986752102510f0a4f0c65118d2681_IMAG01_1.jpg (90306 bytes)\n20200720100426_690986752102510f0a4f0c65118d2681_IMAG01_2.jpg\nWriting image to 20200720100426_690986752102510f0a4f0c65118d2681_IMAG01_2.jpg (136958 bytes)\n20200720100426_690986752102510f0a4f0c65118d2681_IMAG01_3.jpg\nWriting image to 20200720100426_690986752102510f0a4f0c65118d2681_IMAG01_3.jpg (127172 bytes)\n"
    }
   ],
   "source": [
    "import requests, os\n",
    "# print(os.getcwd())\n",
    "req_hearder = {\n",
    "    'referer' : 'https://comic.naver.com/webtoon/detail.nhn?titleId=746535&no=3',\n",
    "    # 'referer' is reserved header name!\n",
    "}\n",
    "\n",
    "img_urls =[\n",
    "    'https://image-comic.pstatic.net/webtoon/746535/3/20200720100426_690986752102510f0a4f0c65118d2681_IMAG01_1.jpg',\n",
    "'https://image-comic.pstatic.net/webtoon/746535/3/20200720100426_690986752102510f0a4f0c65118d2681_IMAG01_2.jpg',\n",
    "'https://image-comic.pstatic.net/webtoon/746535/3/20200720100426_690986752102510f0a4f0c65118d2681_IMAG01_3.jpg',\n",
    "\n",
    "]\n",
    "\n",
    "for img_url in img_urls:\n",
    "    res = requests.get(img_url, headers = req_hearder)\n",
    "    # print(res.ok)\n",
    "    # print(res.content)\n",
    "    # print(res.text)\n",
    "    img_data = res.content\n",
    "    file_name = os.path.basename(img_url)\n",
    "    print(file_name)\n",
    "    with open('./img/' + file_name, 'wb') as f:\n",
    "        print(f'Writing image to {file_name} ({len(img_data)} bytes)')\n",
    "        f.write(img_data)\n",
    "\n",
    "\n"
   ]
  },
  {
   "cell_type": "markdown",
   "metadata": {},
   "source": [
    "### 2. Upload images\n",
    "* File upload have to use \"POST\" method"
   ]
  },
  {
   "cell_type": "code",
   "execution_count": 10,
   "metadata": {
    "tags": []
   },
   "outputs": [],
   "source": [
    "import requests\n",
    "\n",
    "upload_files ={\n",
    "    'img1' : open('./img/20200720100426_690986752102510f0a4f0c65118d2681_IMAG01_1.jpg', 'rb'),\n",
    "    'img2' : open('./img/20200720100426_690986752102510f0a4f0c65118d2681_IMAG01_2.jpg', 'rb'),\n",
    "    'img3' : open('./img/20200720100426_690986752102510f0a4f0c65118d2681_IMAG01_3.jpg', 'rb')\n",
    "}\n",
    "url = 'https://httpbin.org/post'\n",
    "res = requests.post(url, files = upload_files)\n",
    "# print(res.status_code)\n",
    "with open('./img/' + 'url', 'w') as f:\n",
    "    f.write(res.json()['files']['img3'])"
   ]
  },
  {
   "cell_type": "markdown",
   "metadata": {},
   "source": [
    "## 3. Download whole image from one webtoon page\n",
    "* soup.select('img\\[src$=.jpg\\]')\n",
    "* Make img dir, store images to that dir"
   ]
  },
  {
   "cell_type": "code",
   "execution_count": 34,
   "metadata": {
    "tags": []
   },
   "outputs": [
    {
     "output_type": "stream",
     "name": "stdout",
     "text": "https://shared-comic.pstatic.net/thumb/webtoon/746535/thumbnail/thumbnail_IMAG04_4fb1e692-4e52-4450-a4b4-8a5a8ba3e0b5.jpg\nWriting image to thumbnail_IMAG04_4fb1e692-4e52-4450-a4b4-8a5a8ba3e0b5.jpg (24869 bytes)\nhttps://image-comic.pstatic.net/webtoon/746535/3/20200720100426_690986752102510f0a4f0c65118d2681_IMAG01_1.jpg\nWriting image to 20200720100426_690986752102510f0a4f0c65118d2681_IMAG01_1.jpg (90306 bytes)\nhttps://image-comic.pstatic.net/webtoon/746535/3/20200720100426_690986752102510f0a4f0c65118d2681_IMAG01_2.jpg\nWriting image to 20200720100426_690986752102510f0a4f0c65118d2681_IMAG01_2.jpg (136958 bytes)\nhttps://image-comic.pstatic.net/webtoon/746535/3/20200720100426_690986752102510f0a4f0c65118d2681_IMAG01_3.jpg\nWriting image to 20200720100426_690986752102510f0a4f0c65118d2681_IMAG01_3.jpg (127172 bytes)\nhttps://image-comic.pstatic.net/webtoon/746535/3/20200720100426_690986752102510f0a4f0c65118d2681_IMAG01_4.jpg\nWriting image to 20200720100426_690986752102510f0a4f0c65118d2681_IMAG01_4.jpg (85992 bytes)\nhttps://image-comic.pstatic.net/webtoon/746535/3/20200720100426_690986752102510f0a4f0c65118d2681_IMAG01_5.jpg\nWriting image to 20200720100426_690986752102510f0a4f0c65118d2681_IMAG01_5.jpg (138305 bytes)\nhttps://image-comic.pstatic.net/webtoon/746535/3/20200720100426_690986752102510f0a4f0c65118d2681_IMAG01_6.jpg\nWriting image to 20200720100426_690986752102510f0a4f0c65118d2681_IMAG01_6.jpg (156849 bytes)\nhttps://image-comic.pstatic.net/webtoon/746535/3/20200720100426_690986752102510f0a4f0c65118d2681_IMAG01_7.jpg\nWriting image to 20200720100426_690986752102510f0a4f0c65118d2681_IMAG01_7.jpg (132656 bytes)\nhttps://image-comic.pstatic.net/webtoon/746535/3/20200720100426_690986752102510f0a4f0c65118d2681_IMAG01_8.jpg\nWriting image to 20200720100426_690986752102510f0a4f0c65118d2681_IMAG01_8.jpg (89340 bytes)\nhttps://image-comic.pstatic.net/webtoon/746535/3/20200720100426_690986752102510f0a4f0c65118d2681_IMAG01_9.jpg\nWriting image to 20200720100426_690986752102510f0a4f0c65118d2681_IMAG01_9.jpg (106257 bytes)\nhttps://image-comic.pstatic.net/webtoon/746535/3/20200720100426_690986752102510f0a4f0c65118d2681_IMAG01_10.jpg\nWriting image to 20200720100426_690986752102510f0a4f0c65118d2681_IMAG01_10.jpg (96078 bytes)\nhttps://image-comic.pstatic.net/webtoon/746535/3/20200720100426_690986752102510f0a4f0c65118d2681_IMAG01_11.jpg\nWriting image to 20200720100426_690986752102510f0a4f0c65118d2681_IMAG01_11.jpg (104407 bytes)\nhttps://image-comic.pstatic.net/webtoon/746535/3/20200720100426_690986752102510f0a4f0c65118d2681_IMAG01_12.jpg\nWriting image to 20200720100426_690986752102510f0a4f0c65118d2681_IMAG01_12.jpg (47333 bytes)\nhttps://image-comic.pstatic.net/webtoon/746535/3/20200720100426_690986752102510f0a4f0c65118d2681_IMAG01_13.jpg\nWriting image to 20200720100426_690986752102510f0a4f0c65118d2681_IMAG01_13.jpg (85870 bytes)\nhttps://image-comic.pstatic.net/webtoon/746535/3/20200720100426_690986752102510f0a4f0c65118d2681_IMAG01_14.jpg\nWriting image to 20200720100426_690986752102510f0a4f0c65118d2681_IMAG01_14.jpg (66988 bytes)\nhttps://image-comic.pstatic.net/webtoon/746535/3/20200720100426_690986752102510f0a4f0c65118d2681_IMAG01_15.jpg\nWriting image to 20200720100426_690986752102510f0a4f0c65118d2681_IMAG01_15.jpg (118356 bytes)\nhttps://image-comic.pstatic.net/webtoon/746535/3/20200720100426_690986752102510f0a4f0c65118d2681_IMAG01_16.jpg\nWriting image to 20200720100426_690986752102510f0a4f0c65118d2681_IMAG01_16.jpg (134527 bytes)\nhttps://image-comic.pstatic.net/webtoon/746535/3/20200720100426_690986752102510f0a4f0c65118d2681_IMAG01_17.jpg\nWriting image to 20200720100426_690986752102510f0a4f0c65118d2681_IMAG01_17.jpg (131218 bytes)\nhttps://image-comic.pstatic.net/webtoon/746535/3/20200720100426_690986752102510f0a4f0c65118d2681_IMAG01_18.jpg\nWriting image to 20200720100426_690986752102510f0a4f0c65118d2681_IMAG01_18.jpg (141561 bytes)\nhttps://image-comic.pstatic.net/webtoon/746535/3/20200720100426_690986752102510f0a4f0c65118d2681_IMAG01_19.jpg\nWriting image to 20200720100426_690986752102510f0a4f0c65118d2681_IMAG01_19.jpg (142825 bytes)\nhttps://image-comic.pstatic.net/webtoon/746535/3/20200720100426_690986752102510f0a4f0c65118d2681_IMAG01_20.jpg\nWriting image to 20200720100426_690986752102510f0a4f0c65118d2681_IMAG01_20.jpg (141603 bytes)\nhttps://image-comic.pstatic.net/webtoon/746535/3/20200720100426_690986752102510f0a4f0c65118d2681_IMAG01_21.jpg\nWriting image to 20200720100426_690986752102510f0a4f0c65118d2681_IMAG01_21.jpg (102306 bytes)\nhttps://image-comic.pstatic.net/webtoon/746535/3/20200720100426_690986752102510f0a4f0c65118d2681_IMAG01_22.jpg\nWriting image to 20200720100426_690986752102510f0a4f0c65118d2681_IMAG01_22.jpg (136859 bytes)\nhttps://image-comic.pstatic.net/webtoon/746535/3/20200720100426_690986752102510f0a4f0c65118d2681_IMAG01_23.jpg\nWriting image to 20200720100426_690986752102510f0a4f0c65118d2681_IMAG01_23.jpg (157885 bytes)\nhttps://image-comic.pstatic.net/webtoon/746535/3/20200720100426_690986752102510f0a4f0c65118d2681_IMAG01_24.jpg\nWriting image to 20200720100426_690986752102510f0a4f0c65118d2681_IMAG01_24.jpg (90468 bytes)\nhttps://image-comic.pstatic.net/webtoon/746535/3/20200720100426_690986752102510f0a4f0c65118d2681_IMAG01_25.jpg\nWriting image to 20200720100426_690986752102510f0a4f0c65118d2681_IMAG01_25.jpg (67827 bytes)\nhttps://image-comic.pstatic.net/webtoon/746535/3/20200720100426_690986752102510f0a4f0c65118d2681_IMAG01_26.jpg\nWriting image to 20200720100426_690986752102510f0a4f0c65118d2681_IMAG01_26.jpg (151951 bytes)\nhttps://image-comic.pstatic.net/webtoon/746535/3/20200720100426_690986752102510f0a4f0c65118d2681_IMAG01_27.jpg\nWriting image to 20200720100426_690986752102510f0a4f0c65118d2681_IMAG01_27.jpg (108804 bytes)\nhttps://image-comic.pstatic.net/webtoon/746535/3/20200720100426_690986752102510f0a4f0c65118d2681_IMAG01_28.jpg\nWriting image to 20200720100426_690986752102510f0a4f0c65118d2681_IMAG01_28.jpg (97201 bytes)\nhttps://image-comic.pstatic.net/webtoon/746535/3/20200720100426_690986752102510f0a4f0c65118d2681_IMAG01_29.jpg\nWriting image to 20200720100426_690986752102510f0a4f0c65118d2681_IMAG01_29.jpg (94713 bytes)\nhttps://image-comic.pstatic.net/webtoon/746535/3/20200720100426_690986752102510f0a4f0c65118d2681_IMAG01_30.jpg\nWriting image to 20200720100426_690986752102510f0a4f0c65118d2681_IMAG01_30.jpg (80935 bytes)\nhttps://image-comic.pstatic.net/webtoon/746535/3/20200720100426_690986752102510f0a4f0c65118d2681_IMAG01_31.jpg\nWriting image to 20200720100426_690986752102510f0a4f0c65118d2681_IMAG01_31.jpg (124635 bytes)\nhttps://image-comic.pstatic.net/webtoon/746535/3/20200720100426_690986752102510f0a4f0c65118d2681_IMAG01_32.jpg\nWriting image to 20200720100426_690986752102510f0a4f0c65118d2681_IMAG01_32.jpg (83061 bytes)\nhttps://image-comic.pstatic.net/webtoon/746535/3/20200720100426_690986752102510f0a4f0c65118d2681_IMAG01_33.jpg\nWriting image to 20200720100426_690986752102510f0a4f0c65118d2681_IMAG01_33.jpg (114296 bytes)\nhttps://image-comic.pstatic.net/webtoon/746535/3/20200720100426_690986752102510f0a4f0c65118d2681_IMAG01_34.jpg\nWriting image to 20200720100426_690986752102510f0a4f0c65118d2681_IMAG01_34.jpg (93474 bytes)\nhttps://image-comic.pstatic.net/webtoon/746535/3/20200720100426_690986752102510f0a4f0c65118d2681_IMAG01_35.jpg\nWriting image to 20200720100426_690986752102510f0a4f0c65118d2681_IMAG01_35.jpg (123846 bytes)\nhttps://image-comic.pstatic.net/webtoon/746535/3/20200720100426_690986752102510f0a4f0c65118d2681_IMAG01_36.jpg\nWriting image to 20200720100426_690986752102510f0a4f0c65118d2681_IMAG01_36.jpg (70306 bytes)\nhttps://image-comic.pstatic.net/webtoon/746535/3/20200720100426_690986752102510f0a4f0c65118d2681_IMAG01_37.jpg\nWriting image to 20200720100426_690986752102510f0a4f0c65118d2681_IMAG01_37.jpg (111883 bytes)\nhttps://image-comic.pstatic.net/webtoon/746535/3/20200720100426_690986752102510f0a4f0c65118d2681_IMAG01_38.jpg\nWriting image to 20200720100426_690986752102510f0a4f0c65118d2681_IMAG01_38.jpg (111064 bytes)\nhttps://image-comic.pstatic.net/webtoon/746535/3/20200720100426_690986752102510f0a4f0c65118d2681_IMAG01_39.jpg\nWriting image to 20200720100426_690986752102510f0a4f0c65118d2681_IMAG01_39.jpg (131782 bytes)\nhttps://image-comic.pstatic.net/webtoon/746535/3/20200720100426_690986752102510f0a4f0c65118d2681_IMAG01_40.jpg\nWriting image to 20200720100426_690986752102510f0a4f0c65118d2681_IMAG01_40.jpg (202984 bytes)\nhttps://image-comic.pstatic.net/webtoon/746535/3/20200720100426_690986752102510f0a4f0c65118d2681_IMAG01_41.jpg\nWriting image to 20200720100426_690986752102510f0a4f0c65118d2681_IMAG01_41.jpg (77105 bytes)\nhttps://image-comic.pstatic.net/webtoon/746535/3/20200720100426_690986752102510f0a4f0c65118d2681_IMAG01_42.jpg\nWriting image to 20200720100426_690986752102510f0a4f0c65118d2681_IMAG01_42.jpg (64915 bytes)\nhttps://image-comic.pstatic.net/webtoon/746535/3/20200720100426_690986752102510f0a4f0c65118d2681_IMAG01_43.jpg\nWriting image to 20200720100426_690986752102510f0a4f0c65118d2681_IMAG01_43.jpg (132153 bytes)\nhttps://image-comic.pstatic.net/webtoon/746535/3/20200720100426_690986752102510f0a4f0c65118d2681_IMAG01_44.jpg\nWriting image to 20200720100426_690986752102510f0a4f0c65118d2681_IMAG01_44.jpg (109184 bytes)\nhttps://image-comic.pstatic.net/webtoon/746535/3/20200720100426_690986752102510f0a4f0c65118d2681_IMAG01_45.jpg\nWriting image to 20200720100426_690986752102510f0a4f0c65118d2681_IMAG01_45.jpg (161972 bytes)\nhttps://image-comic.pstatic.net/webtoon/746535/3/20200720100426_690986752102510f0a4f0c65118d2681_IMAG01_46.jpg\nWriting image to 20200720100426_690986752102510f0a4f0c65118d2681_IMAG01_46.jpg (103062 bytes)\nhttps://image-comic.pstatic.net/webtoon/746535/3/20200720100426_690986752102510f0a4f0c65118d2681_IMAG01_47.jpg\nWriting image to 20200720100426_690986752102510f0a4f0c65118d2681_IMAG01_47.jpg (145143 bytes)\nhttps://image-comic.pstatic.net/webtoon/746535/3/20200720100426_690986752102510f0a4f0c65118d2681_IMAG01_48.jpg\nWriting image to 20200720100426_690986752102510f0a4f0c65118d2681_IMAG01_48.jpg (84299 bytes)\nhttps://image-comic.pstatic.net/webtoon/746535/3/20200720100426_690986752102510f0a4f0c65118d2681_IMAG01_49.jpg\nWriting image to 20200720100426_690986752102510f0a4f0c65118d2681_IMAG01_49.jpg (78051 bytes)\nhttps://image-comic.pstatic.net/webtoon/746535/3/20200720100426_690986752102510f0a4f0c65118d2681_IMAG01_50.jpg\nWriting image to 20200720100426_690986752102510f0a4f0c65118d2681_IMAG01_50.jpg (117121 bytes)\nhttps://image-comic.pstatic.net/webtoon/746535/3/20200720100426_690986752102510f0a4f0c65118d2681_IMAG01_51.jpg\nWriting image to 20200720100426_690986752102510f0a4f0c65118d2681_IMAG01_51.jpg (86981 bytes)\nhttps://image-comic.pstatic.net/webtoon/746535/3/20200720100426_690986752102510f0a4f0c65118d2681_IMAG01_52.jpg\nWriting image to 20200720100426_690986752102510f0a4f0c65118d2681_IMAG01_52.jpg (64344 bytes)\nhttps://image-comic.pstatic.net/webtoon/746535/3/20200720100426_690986752102510f0a4f0c65118d2681_IMAG01_53.jpg\nWriting image to 20200720100426_690986752102510f0a4f0c65118d2681_IMAG01_53.jpg (66506 bytes)\nhttps://image-comic.pstatic.net/webtoon/746535/3/20200720100426_690986752102510f0a4f0c65118d2681_IMAG01_54.jpg\nWriting image to 20200720100426_690986752102510f0a4f0c65118d2681_IMAG01_54.jpg (132651 bytes)\nhttps://image-comic.pstatic.net/webtoon/746535/3/20200720100426_690986752102510f0a4f0c65118d2681_IMAG01_55.jpg\nWriting image to 20200720100426_690986752102510f0a4f0c65118d2681_IMAG01_55.jpg (114014 bytes)\nhttps://image-comic.pstatic.net/webtoon/746535/3/20200720100426_690986752102510f0a4f0c65118d2681_IMAG01_56.jpg\nWriting image to 20200720100426_690986752102510f0a4f0c65118d2681_IMAG01_56.jpg (115580 bytes)\nhttps://image-comic.pstatic.net/webtoon/746535/3/20200720100426_690986752102510f0a4f0c65118d2681_IMAG01_57.jpg\nWriting image to 20200720100426_690986752102510f0a4f0c65118d2681_IMAG01_57.jpg (76262 bytes)\nhttps://image-comic.pstatic.net/webtoon/746535/3/20200720100426_690986752102510f0a4f0c65118d2681_IMAG01_58.jpg\nWriting image to 20200720100426_690986752102510f0a4f0c65118d2681_IMAG01_58.jpg (128008 bytes)\nhttps://image-comic.pstatic.net/webtoon/746535/3/20200720100426_690986752102510f0a4f0c65118d2681_IMAG01_59.jpg\nWriting image to 20200720100426_690986752102510f0a4f0c65118d2681_IMAG01_59.jpg (50518 bytes)\nhttps://image-comic.pstatic.net/webtoon/746535/3/20200720100426_690986752102510f0a4f0c65118d2681_IMAG01_60.jpg\nWriting image to 20200720100426_690986752102510f0a4f0c65118d2681_IMAG01_60.jpg (93099 bytes)\nhttps://image-comic.pstatic.net/webtoon/746535/3/20200720100426_690986752102510f0a4f0c65118d2681_IMAG01_61.jpg\nWriting image to 20200720100426_690986752102510f0a4f0c65118d2681_IMAG01_61.jpg (68968 bytes)\nhttps://image-comic.pstatic.net/webtoon/746535/3/20200720100426_690986752102510f0a4f0c65118d2681_IMAG01_62.jpg\nWriting image to 20200720100426_690986752102510f0a4f0c65118d2681_IMAG01_62.jpg (141283 bytes)\nhttps://image-comic.pstatic.net/webtoon/746535/3/20200720100426_690986752102510f0a4f0c65118d2681_IMAG01_63.jpg\nWriting image to 20200720100426_690986752102510f0a4f0c65118d2681_IMAG01_63.jpg (54858 bytes)\nhttps://image-comic.pstatic.net/banner/store/banner_46f974be-9804-4e61-96aa-19815a7b59fa.jpg\nWriting image to banner_46f974be-9804-4e61-96aa-19815a7b59fa.jpg (34211 bytes)\nhttps://shared-comic.pstatic.net/thumb/webtoon/746535/1/thumbnail_202x120_806e3474-c097-431e-935b-817956ed7de8.jpg\nWriting image to thumbnail_202x120_806e3474-c097-431e-935b-817956ed7de8.jpg (18097 bytes)\nhttps://shared-comic.pstatic.net/thumb/webtoon/746535/2/thumbnail_202x120_033071a1-d592-480d-8261-c6c385fbaae6.jpg\nWriting image to thumbnail_202x120_033071a1-d592-480d-8261-c6c385fbaae6.jpg (12939 bytes)\nhttps://shared-comic.pstatic.net/thumb/webtoon/746535/3/thumbnail_202x120_4f45fc7a-bace-428a-88aa-159d92518b65.jpg\nWriting image to thumbnail_202x120_4f45fc7a-bace-428a-88aa-159d92518b65.jpg (37783 bytes)\nhttps://shared-comic.pstatic.net/thumb/webtoon/731930/thumbnail/thumbnail_IMAG10_52f6ef62-3219-4513-8746-714a97b816e8.jpg\nWriting image to thumbnail_IMAG10_52f6ef62-3219-4513-8746-714a97b816e8.jpg (15532 bytes)\nhttps://shared-comic.pstatic.net/thumb/webtoon/701700/thumbnail/thumbnail_IMAG10_91d1c77b-9ad9-43ce-8299-ed986700c65a.jpg\nWriting image to thumbnail_IMAG10_91d1c77b-9ad9-43ce-8299-ed986700c65a.jpg (14173 bytes)\nhttps://shared-comic.pstatic.net/thumb/webtoon/701081/thumbnail/thumbnail_IMAG10_7120be5e-b5c7-4727-aba5-cb500c6098ab.jpg\nWriting image to thumbnail_IMAG10_7120be5e-b5c7-4727-aba5-cb500c6098ab.jpg (9991 bytes)\n"
    }
   ],
   "source": [
    "from bs4 import BeautifulSoup\n",
    "import requests,os,re\n",
    "\n",
    "main_url = 'https://comic.naver.com/webtoon/detail.nhn?titleId=746535&no=3'\n",
    "\n",
    "req_hearder = {\n",
    "    'referer' : main_url\n",
    "    # 'referer' is reserved header name!\n",
    "}\n",
    "res = requests.get(main_url)\n",
    "html = res.text\n",
    "\n",
    "soup = BeautifulSoup(html, 'html.parser') # make object first\n",
    "img_urls = []\n",
    "\n",
    "if not os.path.isdir('./img'):\n",
    "    os.mkdir('./img')\n",
    "\n",
    "for i in soup.select('img[src$=.jpg]'):\n",
    "    # img_urls.append(img_url.get('src'))\n",
    "    img_url = i.get('src')\n",
    "    res = requests.get(img_url, headers = req_hearder)\n",
    "    img_data = res.content\n",
    "    file_name = os.path.basename(img_url)\n",
    "    with open('./img/' + file_name, 'wb') as f:\n",
    "        print(f'Writing image to {file_name} ({len(img_data)} bytes)')\n",
    "        f.write(img_data)\n",
    "\n",
    "\n"
   ]
  },
  {
   "cell_type": "markdown",
   "metadata": {},
   "source": [
    "* Exercise"
   ]
  },
  {
   "cell_type": "code",
   "execution_count": 120,
   "metadata": {
    "tags": []
   },
   "outputs": [
    {
     "output_type": "stream",
     "name": "stdout",
     "text": "<class 'bs4.element.Tag'>\n<class 'bs4.element.Tag'>\n<class 'bs4.element.Tag'>\n<class 'bs4.element.Tag'>\n<class 'bs4.element.Tag'>\n<class 'bs4.element.Tag'>\n{'패밀리 사이즈': 'https://comic.naver.com/webtoon/list.nhn?titleId=626906', '마음의소리': 'https://comic.naver.com/webtoon/list.nhn?titleId=20853', '윌유메리미': 'https://comic.naver.com/webtoon/list.nhn?titleId=616239', '오늘의 순정망화': 'https://comic.naver.com/webtoon/list.nhn?titleId=716857', '자판귀': 'https://comic.naver.com/webtoon/list.nhn?titleId=703850', '한림체육관': 'https://comic.naver.com/webtoon/list.nhn?titleId=743139'}\n"
    }
   ],
   "source": [
    "import os, requests\n",
    "from bs4 import BeautifulSoup\n",
    "from urllib.parse import urljoin\n",
    "url = \"https://comic.naver.com/index.nhn\"\n",
    "res = requests.get(url)\n",
    "req_hearder ={\n",
    "    'referer' : url,\n",
    "}\n",
    "text = res.text\n",
    "# print(text)\n",
    "soup = BeautifulSoup(text, 'html.parser')\n",
    "# print(soup)\n",
    "recomanded = {}\n",
    "for i in soup.select(\".genreRecomImg2\"):\n",
    "    link =''\n",
    "    for a in i.select('a'):\n",
    "        link = urljoin(url, a.get('href'))\n",
    "        # print(link)\n",
    "    for j in i.select(\"img[src$=.jpg]\"):\n",
    "        img_src = j.get('src')\n",
    "        ttl = j.get('title')\n",
    "        if not os.path.isdir(\"./recomToon\"):\n",
    "            os.mkdir(\"./recomToon\")\n",
    "        with open('./recomToon/' + ttl +'.jpg', 'wb') as f:\n",
    "            res = requests.get(img_src, headers = req_hearder)\n",
    "            img_data = res.content\n",
    "            f.write(img_data)\n",
    "        recomanded[ttl] = link\n",
    "print(recomanded)\n",
    "\n",
    "\n"
   ]
  },
  {
   "cell_type": "code",
   "execution_count": 143,
   "metadata": {
    "tags": []
   },
   "outputs": [],
   "source": [
    "from bs4 import BeautifulSoup\n",
    "import requests, html\n",
    "def wrt(soupObject,url):\n",
    "    with open(url,'w') as f:\n",
    "        f.write(soupObject.prettify(formatter='html'))\n",
    "with open('./test2.html', encoding='utf8') as text:\n",
    "    soup = BeautifulSoup(text)\n",
    "    # print(soup)\n",
    "    og_tag = soup.body\n",
    "    n_tag = soup.new_tag('div', id = 'test')\n",
    "    og_tag.append(n_tag)\n",
    "    n_tag.string = 'Hi! i\\'m in2!'\n",
    "    soup.body.insert(3, n_tag)\n",
    "    wrt(soup, './test.html')\n",
    "# li_tag.i.replace_with(new_tag)\n",
    "\n",
    "# html_txt = soup.prettify(formatter='html')\n",
    "# text.close\n",
    "# print(html_txt)\n",
    "# with open('test.html', 'w') as file2:\n",
    "#     file2.write(html_txt)\n"
   ]
  },
  {
   "cell_type": "code",
   "execution_count": 148,
   "metadata": {},
   "outputs": [
    {
     "output_type": "execute_result",
     "data": {
      "text/plain": "'\\nWill do later\\n'"
     },
     "metadata": {},
     "execution_count": 148
    }
   ],
   "source": [
    "'''\n",
    "Will do again later \n",
    "'''\n",
    "# import os, requests\n",
    "# from bs4 import BeautifulSoup\n",
    "# from urllib.parse import urljoin\n",
    "# url = \"https://comic.naver.com/index.nhn\"\n",
    "# res = requests.get(url)\n",
    "# req_hearder ={\n",
    "#     'referer' : url,\n",
    "# }\n",
    "# text = res.text\n",
    "# # print(text)\n",
    "# soup = BeautifulSoup(text, 'html.parser')\n",
    "# # print(soup)\n",
    "# recomanded = {}\n",
    "# for i in soup.select(\".genreRecomImg2\"):\n",
    "#     link =''\n",
    "#     for a in i.select('a'):\n",
    "#         link = urljoin(url, a.get('href'))\n",
    "#         # print(link)\n",
    "#     for j in i.select(\"img[src$=.jpg]\"):\n",
    "#         img_src = j.get('src')\n",
    "#         ttl = j.get('title')\n",
    "#         res = requests.get(img_src, headers = req_hearder)\n",
    "#         img_data = res.content\n",
    "#         soup2 = BeautifulSoup(f)\n",
    "#         og_tag = soup2.body\n",
    "#         new_tag = soup2.new_tag('img', src = img_data)\n",
    "#         og_tag.append(new_tag)\n",
    "#         soup2.body.insert(3,new_tag)\n",
    "#         with open('test2.html', 'w') as f:\n",
    "#             f.write(soup2.prettify(formatter='html'))\n",
    "#         recomanded[ttl] = link\n",
    "# print(recomanded)\n",
    "\n",
    "\n"
   ]
  },
  {
   "cell_type": "markdown",
   "metadata": {},
   "source": [
    "* Make function, can download images from each pages"
   ]
  },
  {
   "cell_type": "code",
   "execution_count": 272,
   "metadata": {
    "tags": [
     "outputPrepend"
    ]
   },
   "outputs": [
    {
     "output_type": "stream",
     "name": "stdout",
     "text": "\n20200622182759_10668cac6c59288e24beba97cdf35225_IMAG01_12.jpg\n20200622182759_10668cac6c59288e24beba97cdf35225_IMAG01_13.jpg\n20200622182759_10668cac6c59288e24beba97cdf35225_IMAG01_14.jpg\n20200622182759_10668cac6c59288e24beba97cdf35225_IMAG01_15.jpg\n20200622182759_10668cac6c59288e24beba97cdf35225_IMAG01_16.jpg\n20200622182759_10668cac6c59288e24beba97cdf35225_IMAG01_17.jpg\n20200622182759_10668cac6c59288e24beba97cdf35225_IMAG01_18.jpg\n20200622182759_10668cac6c59288e24beba97cdf35225_IMAG01_19.jpg\n20200622182759_10668cac6c59288e24beba97cdf35225_IMAG01_20.jpg\n20200622182759_10668cac6c59288e24beba97cdf35225_IMAG01_21.jpg\n20200622182759_10668cac6c59288e24beba97cdf35225_IMAG01_22.jpg\n20200622182759_10668cac6c59288e24beba97cdf35225_IMAG01_23.jpg\n20200622182759_10668cac6c59288e24beba97cdf35225_IMAG01_24.jpg\n20200622182759_10668cac6c59288e24beba97cdf35225_IMAG01_25.jpg\n20200622182759_10668cac6c59288e24beba97cdf35225_IMAG01_26.jpg\n20200622182759_10668cac6c59288e24beba97cdf35225_IMAG01_27.jpg\n20200622182759_10668cac6c59288e24beba97cdf35225_IMAG01_28.jpg\n20200622182759_10668cac6c59288e24beba97cdf35225_IMAG01_29.jpg\n20200622182759_10668cac6c59288e24beba97cdf35225_IMAG01_30.jpg\n20200622182759_10668cac6c59288e24beba97cdf35225_IMAG01_31.jpg\n20200622182759_10668cac6c59288e24beba97cdf35225_IMAG01_32.jpg\n20200622182759_10668cac6c59288e24beba97cdf35225_IMAG01_33.jpg\n20200622182759_10668cac6c59288e24beba97cdf35225_IMAG01_34.jpg\n20200622182759_10668cac6c59288e24beba97cdf35225_IMAG01_35.jpg\n20200622182759_10668cac6c59288e24beba97cdf35225_IMAG01_36.jpg\n20200622182759_10668cac6c59288e24beba97cdf35225_IMAG01_37.jpg\n20200622182759_10668cac6c59288e24beba97cdf35225_IMAG01_38.jpg\n20200622182759_10668cac6c59288e24beba97cdf35225_IMAG01_39.jpg\n20200622182759_10668cac6c59288e24beba97cdf35225_IMAG01_40.jpg\n20200622182759_10668cac6c59288e24beba97cdf35225_IMAG01_41.jpg\n20200622182759_10668cac6c59288e24beba97cdf35225_IMAG01_42.jpg\n20200622182759_10668cac6c59288e24beba97cdf35225_IMAG01_43.jpg\n20200622182759_10668cac6c59288e24beba97cdf35225_IMAG01_44.jpg\n20200622182759_10668cac6c59288e24beba97cdf35225_IMAG01_45.jpg\n20200622182759_10668cac6c59288e24beba97cdf35225_IMAG01_46.jpg\n20200622182759_10668cac6c59288e24beba97cdf35225_IMAG01_47.jpg\n20200622182759_10668cac6c59288e24beba97cdf35225_IMAG01_48.jpg\n20200622182759_10668cac6c59288e24beba97cdf35225_IMAG01_49.jpg\n20200622182759_10668cac6c59288e24beba97cdf35225_IMAG01_50.jpg\n20200622182759_10668cac6c59288e24beba97cdf35225_IMAG01_51.jpg\n20200622182759_10668cac6c59288e24beba97cdf35225_IMAG01_52.jpg\n20200622182759_10668cac6c59288e24beba97cdf35225_IMAG01_53.jpg\n20200622182759_10668cac6c59288e24beba97cdf35225_IMAG01_54.jpg\n20200622182759_10668cac6c59288e24beba97cdf35225_IMAG01_55.jpg\n20200622182759_10668cac6c59288e24beba97cdf35225_IMAG01_56.jpg\n20200622182759_10668cac6c59288e24beba97cdf35225_IMAG01_57.jpg\n20200622182759_10668cac6c59288e24beba97cdf35225_IMAG01_58.jpg\n20200622182759_10668cac6c59288e24beba97cdf35225_IMAG01_59.jpg\n20200622182759_10668cac6c59288e24beba97cdf35225_IMAG01_60.jpg\n20200622182759_10668cac6c59288e24beba97cdf35225_IMAG01_61.jpg\n20200622182759_10668cac6c59288e24beba97cdf35225_IMAG01_62.jpg\n20200622182759_10668cac6c59288e24beba97cdf35225_IMAG01_63.jpg\n20200622182759_10668cac6c59288e24beba97cdf35225_IMAG01_64.jpg\n20200622182759_10668cac6c59288e24beba97cdf35225_IMAG01_65.jpg\n20200622182759_10668cac6c59288e24beba97cdf35225_IMAG01_66.jpg\n20200622182759_10668cac6c59288e24beba97cdf35225_IMAG01_67.jpg\n20200622182759_10668cac6c59288e24beba97cdf35225_IMAG01_68.jpg\n20200622182759_10668cac6c59288e24beba97cdf35225_IMAG01_69.jpg\n20200622182759_10668cac6c59288e24beba97cdf35225_IMAG01_70.jpg\n20200622182759_10668cac6c59288e24beba97cdf35225_IMAG01_71.jpg\n20200622182759_10668cac6c59288e24beba97cdf35225_IMAG01_72.jpg\n20200622182759_10668cac6c59288e24beba97cdf35225_IMAG01_73.jpg\n20200622182759_10668cac6c59288e24beba97cdf35225_IMAG01_74.jpg\n20200622182759_10668cac6c59288e24beba97cdf35225_IMAG01_75.jpg\n20200622182759_10668cac6c59288e24beba97cdf35225_IMAG01_76.jpg\n20200622182759_10668cac6c59288e24beba97cdf35225_IMAG01_77.jpg\n20200622182759_10668cac6c59288e24beba97cdf35225_IMAG01_78.jpg\n20200622182759_10668cac6c59288e24beba97cdf35225_IMAG01_79.jpg\n20200622182759_10668cac6c59288e24beba97cdf35225_IMAG01_80.jpg\n20200622182759_10668cac6c59288e24beba97cdf35225_IMAG01_81.jpg\n20200622182759_10668cac6c59288e24beba97cdf35225_IMAG01_82.jpg\n20200622182759_10668cac6c59288e24beba97cdf35225_IMAG01_83.jpg\n20200622182759_10668cac6c59288e24beba97cdf35225_IMAG01_84.jpg\n20200622182759_10668cac6c59288e24beba97cdf35225_IMAG01_85.jpg\n20200622182759_10668cac6c59288e24beba97cdf35225_IMAG01_86.jpg\n20200706214242_cd85263cfe9b497fc2039e411ada8c0e_IMAG01_1.jpg\n20200706214242_cd85263cfe9b497fc2039e411ada8c0e_IMAG01_2.jpg\n20200706214242_cd85263cfe9b497fc2039e411ada8c0e_IMAG01_3.jpg\n20200706214242_cd85263cfe9b497fc2039e411ada8c0e_IMAG01_4.jpg\n20200706214242_cd85263cfe9b497fc2039e411ada8c0e_IMAG01_5.jpg\n20200706214242_cd85263cfe9b497fc2039e411ada8c0e_IMAG01_6.jpg\n20200706214242_cd85263cfe9b497fc2039e411ada8c0e_IMAG01_7.jpg\n20200706214242_cd85263cfe9b497fc2039e411ada8c0e_IMAG01_8.jpg\n20200706214242_cd85263cfe9b497fc2039e411ada8c0e_IMAG01_9.jpg\n20200706214242_cd85263cfe9b497fc2039e411ada8c0e_IMAG01_10.jpg\n20200706214242_cd85263cfe9b497fc2039e411ada8c0e_IMAG01_11.jpg\n20200706214242_cd85263cfe9b497fc2039e411ada8c0e_IMAG01_12.jpg\n20200706214242_cd85263cfe9b497fc2039e411ada8c0e_IMAG01_13.jpg\n20200706214242_cd85263cfe9b497fc2039e411ada8c0e_IMAG01_14.jpg\n20200706214242_cd85263cfe9b497fc2039e411ada8c0e_IMAG01_15.jpg\n20200706214242_cd85263cfe9b497fc2039e411ada8c0e_IMAG01_16.jpg\n20200706214242_cd85263cfe9b497fc2039e411ada8c0e_IMAG01_17.jpg\n20200706214242_cd85263cfe9b497fc2039e411ada8c0e_IMAG01_18.jpg\n20200706214242_cd85263cfe9b497fc2039e411ada8c0e_IMAG01_19.jpg\n20200706214242_cd85263cfe9b497fc2039e411ada8c0e_IMAG01_20.jpg\n20200706214242_cd85263cfe9b497fc2039e411ada8c0e_IMAG01_21.jpg\n20200706214242_cd85263cfe9b497fc2039e411ada8c0e_IMAG01_22.jpg\n20200706214242_cd85263cfe9b497fc2039e411ada8c0e_IMAG01_23.jpg\n20200706214242_cd85263cfe9b497fc2039e411ada8c0e_IMAG01_24.jpg\n20200706214242_cd85263cfe9b497fc2039e411ada8c0e_IMAG01_25.jpg\n20200706214242_cd85263cfe9b497fc2039e411ada8c0e_IMAG01_26.jpg\n20200706214242_cd85263cfe9b497fc2039e411ada8c0e_IMAG01_27.jpg\n20200706214242_cd85263cfe9b497fc2039e411ada8c0e_IMAG01_28.jpg\n20200706214242_cd85263cfe9b497fc2039e411ada8c0e_IMAG01_29.jpg\n20200706214242_cd85263cfe9b497fc2039e411ada8c0e_IMAG01_30.jpg\n20200706214242_cd85263cfe9b497fc2039e411ada8c0e_IMAG01_31.jpg\n20200706214242_cd85263cfe9b497fc2039e411ada8c0e_IMAG01_32.jpg\n20200706214242_cd85263cfe9b497fc2039e411ada8c0e_IMAG01_33.jpg\n20200706214242_cd85263cfe9b497fc2039e411ada8c0e_IMAG01_34.jpg\n20200706214242_cd85263cfe9b497fc2039e411ada8c0e_IMAG01_35.jpg\n20200706214242_cd85263cfe9b497fc2039e411ada8c0e_IMAG01_36.jpg\n20200706214242_cd85263cfe9b497fc2039e411ada8c0e_IMAG01_37.jpg\n20200706214242_cd85263cfe9b497fc2039e411ada8c0e_IMAG01_38.jpg\n20200706214242_cd85263cfe9b497fc2039e411ada8c0e_IMAG01_39.jpg\n20200706214242_cd85263cfe9b497fc2039e411ada8c0e_IMAG01_40.jpg\n20200706214242_cd85263cfe9b497fc2039e411ada8c0e_IMAG01_41.jpg\n20200706214242_cd85263cfe9b497fc2039e411ada8c0e_IMAG01_42.jpg\n20200706214242_cd85263cfe9b497fc2039e411ada8c0e_IMAG01_43.jpg\n20200706214242_cd85263cfe9b497fc2039e411ada8c0e_IMAG01_44.jpg\n20200706214242_cd85263cfe9b497fc2039e411ada8c0e_IMAG01_45.jpg\n20200706214242_cd85263cfe9b497fc2039e411ada8c0e_IMAG01_46.jpg\n20200706214242_cd85263cfe9b497fc2039e411ada8c0e_IMAG01_47.jpg\n20200706214242_cd85263cfe9b497fc2039e411ada8c0e_IMAG01_48.jpg\n20200706214242_cd85263cfe9b497fc2039e411ada8c0e_IMAG01_49.jpg\n20200706214242_cd85263cfe9b497fc2039e411ada8c0e_IMAG01_50.jpg\n20200706214242_cd85263cfe9b497fc2039e411ada8c0e_IMAG01_51.jpg\n20200706214242_cd85263cfe9b497fc2039e411ada8c0e_IMAG01_52.jpg\n20200706214242_cd85263cfe9b497fc2039e411ada8c0e_IMAG01_53.jpg\n20200706214242_cd85263cfe9b497fc2039e411ada8c0e_IMAG01_54.jpg\n20200706214242_cd85263cfe9b497fc2039e411ada8c0e_IMAG01_55.jpg\n20200706214242_cd85263cfe9b497fc2039e411ada8c0e_IMAG01_56.jpg\n20200706214242_cd85263cfe9b497fc2039e411ada8c0e_IMAG01_57.jpg\n20200706214242_cd85263cfe9b497fc2039e411ada8c0e_IMAG01_58.jpg\n20200706214242_cd85263cfe9b497fc2039e411ada8c0e_IMAG01_59.jpg\n20200706214242_cd85263cfe9b497fc2039e411ada8c0e_IMAG01_60.jpg\n20200706214242_cd85263cfe9b497fc2039e411ada8c0e_IMAG01_61.jpg\n20200706214242_cd85263cfe9b497fc2039e411ada8c0e_IMAG01_62.jpg\n20200706214242_cd85263cfe9b497fc2039e411ada8c0e_IMAG01_63.jpg\n20200706214242_cd85263cfe9b497fc2039e411ada8c0e_IMAG01_64.jpg\n20200706214242_cd85263cfe9b497fc2039e411ada8c0e_IMAG01_65.jpg\n20200706214242_cd85263cfe9b497fc2039e411ada8c0e_IMAG01_66.jpg\n20200706214242_cd85263cfe9b497fc2039e411ada8c0e_IMAG01_67.jpg\n20200706214242_cd85263cfe9b497fc2039e411ada8c0e_IMAG01_68.jpg\n20200706214242_cd85263cfe9b497fc2039e411ada8c0e_IMAG01_69.jpg\n20200706214242_cd85263cfe9b497fc2039e411ada8c0e_IMAG01_70.jpg\n20200706214242_cd85263cfe9b497fc2039e411ada8c0e_IMAG01_71.jpg\n20200706214242_cd85263cfe9b497fc2039e411ada8c0e_IMAG01_72.jpg\n20200706214242_cd85263cfe9b497fc2039e411ada8c0e_IMAG01_73.jpg\n20200706214242_cd85263cfe9b497fc2039e411ada8c0e_IMAG01_74.jpg\n20200706214242_cd85263cfe9b497fc2039e411ada8c0e_IMAG01_75.jpg\n20200706214242_cd85263cfe9b497fc2039e411ada8c0e_IMAG01_76.jpg\n20200706214242_cd85263cfe9b497fc2039e411ada8c0e_IMAG01_77.jpg\n20200706214242_cd85263cfe9b497fc2039e411ada8c0e_IMAG01_78.jpg\n20200706214242_cd85263cfe9b497fc2039e411ada8c0e_IMAG01_79.jpg\n20200706214242_cd85263cfe9b497fc2039e411ada8c0e_IMAG01_80.jpg\n20200706214242_cd85263cfe9b497fc2039e411ada8c0e_IMAG01_81.jpg\n20200706214242_cd85263cfe9b497fc2039e411ada8c0e_IMAG01_82.jpg\n20200706214242_cd85263cfe9b497fc2039e411ada8c0e_IMAG01_83.jpg\n20200706214242_cd85263cfe9b497fc2039e411ada8c0e_IMAG01_84.jpg\n20200611191914_7d708aad654015aebb4373c0e2a1a96e_IMAG01_1.jpg\n20200611191914_7d708aad654015aebb4373c0e2a1a96e_IMAG01_2.jpg\n20200611191914_7d708aad654015aebb4373c0e2a1a96e_IMAG01_3.jpg\n20200611191914_7d708aad654015aebb4373c0e2a1a96e_IMAG01_4.jpg\n20200611191914_7d708aad654015aebb4373c0e2a1a96e_IMAG01_5.jpg\n20200611191914_7d708aad654015aebb4373c0e2a1a96e_IMAG01_6.jpg\n20200611191914_7d708aad654015aebb4373c0e2a1a96e_IMAG01_7.jpg\n20200611191914_7d708aad654015aebb4373c0e2a1a96e_IMAG01_8.jpg\n20200611191914_7d708aad654015aebb4373c0e2a1a96e_IMAG01_9.jpg\n20200611191914_7d708aad654015aebb4373c0e2a1a96e_IMAG01_10.jpg\n20200611191914_7d708aad654015aebb4373c0e2a1a96e_IMAG01_11.jpg\n20200611191914_7d708aad654015aebb4373c0e2a1a96e_IMAG01_12.jpg\n20200611191914_7d708aad654015aebb4373c0e2a1a96e_IMAG01_13.jpg\n20200611191914_7d708aad654015aebb4373c0e2a1a96e_IMAG01_14.jpg\n20200611191914_7d708aad654015aebb4373c0e2a1a96e_IMAG01_15.jpg\n20200611191914_7d708aad654015aebb4373c0e2a1a96e_IMAG01_16.jpg\n20200611191914_7d708aad654015aebb4373c0e2a1a96e_IMAG01_17.jpg\n20200611191914_7d708aad654015aebb4373c0e2a1a96e_IMAG01_18.jpg\n20200611191914_7d708aad654015aebb4373c0e2a1a96e_IMAG01_19.jpg\n20200611191914_7d708aad654015aebb4373c0e2a1a96e_IMAG01_20.jpg\n20200611191914_7d708aad654015aebb4373c0e2a1a96e_IMAG01_21.jpg\n20200611191914_7d708aad654015aebb4373c0e2a1a96e_IMAG01_22.jpg\n20200611191914_7d708aad654015aebb4373c0e2a1a96e_IMAG01_23.jpg\n20200611191914_7d708aad654015aebb4373c0e2a1a96e_IMAG01_24.jpg\n20200611191914_7d708aad654015aebb4373c0e2a1a96e_IMAG01_25.jpg\n20200611191914_7d708aad654015aebb4373c0e2a1a96e_IMAG01_26.jpg\n20200611191914_7d708aad654015aebb4373c0e2a1a96e_IMAG01_27.jpg\n20200611191914_7d708aad654015aebb4373c0e2a1a96e_IMAG01_28.jpg\n20200611191914_7d708aad654015aebb4373c0e2a1a96e_IMAG01_29.jpg\n20200611191914_7d708aad654015aebb4373c0e2a1a96e_IMAG01_30.jpg\n20200611191914_7d708aad654015aebb4373c0e2a1a96e_IMAG01_31.jpg\n20200611191914_7d708aad654015aebb4373c0e2a1a96e_IMAG01_32.jpg\n20200611191914_7d708aad654015aebb4373c0e2a1a96e_IMAG01_33.jpg\n20200611191914_7d708aad654015aebb4373c0e2a1a96e_IMAG01_34.jpg\n20200611191914_7d708aad654015aebb4373c0e2a1a96e_IMAG01_35.jpg\n20200611191914_7d708aad654015aebb4373c0e2a1a96e_IMAG01_36.jpg\n20200611191914_7d708aad654015aebb4373c0e2a1a96e_IMAG01_37.jpg\n20200611191914_7d708aad654015aebb4373c0e2a1a96e_IMAG01_38.jpg\n20200611191914_7d708aad654015aebb4373c0e2a1a96e_IMAG01_39.jpg\n20200611191914_7d708aad654015aebb4373c0e2a1a96e_IMAG01_40.jpg\n20200611191914_7d708aad654015aebb4373c0e2a1a96e_IMAG01_41.jpg\n20200611191914_7d708aad654015aebb4373c0e2a1a96e_IMAG01_42.jpg\n20200611191914_7d708aad654015aebb4373c0e2a1a96e_IMAG01_43.jpg\n20200611191914_7d708aad654015aebb4373c0e2a1a96e_IMAG01_44.jpg\n20200611191914_7d708aad654015aebb4373c0e2a1a96e_IMAG01_45.jpg\n20200611191914_7d708aad654015aebb4373c0e2a1a96e_IMAG01_46.jpg\n20200611191914_7d708aad654015aebb4373c0e2a1a96e_IMAG01_47.jpg\n20200611191914_7d708aad654015aebb4373c0e2a1a96e_IMAG01_48.jpg\n20200611191914_7d708aad654015aebb4373c0e2a1a96e_IMAG01_49.jpg\n20200611191914_7d708aad654015aebb4373c0e2a1a96e_IMAG01_50.jpg\n20200611191914_7d708aad654015aebb4373c0e2a1a96e_IMAG01_51.jpg\n20200611191914_7d708aad654015aebb4373c0e2a1a96e_IMAG01_52.jpg\n20200611191914_7d708aad654015aebb4373c0e2a1a96e_IMAG01_53.jpg\n20200611191914_7d708aad654015aebb4373c0e2a1a96e_IMAG01_54.jpg\n20200611191914_7d708aad654015aebb4373c0e2a1a96e_IMAG01_55.jpg\n20200611191914_7d708aad654015aebb4373c0e2a1a96e_IMAG01_56.jpg\n20200611191914_7d708aad654015aebb4373c0e2a1a96e_IMAG01_57.jpg\n20200611191914_7d708aad654015aebb4373c0e2a1a96e_IMAG01_58.jpg\n20200611191914_7d708aad654015aebb4373c0e2a1a96e_IMAG01_59.jpg\n20200611191914_7d708aad654015aebb4373c0e2a1a96e_IMAG01_60.jpg\n20200611191914_7d708aad654015aebb4373c0e2a1a96e_IMAG01_61.jpg\n20200611191914_7d708aad654015aebb4373c0e2a1a96e_IMAG01_62.jpg\n20200611191914_7d708aad654015aebb4373c0e2a1a96e_IMAG01_63.jpg\n20200611191914_7d708aad654015aebb4373c0e2a1a96e_IMAG01_64.jpg\n20200611191914_7d708aad654015aebb4373c0e2a1a96e_IMAG01_65.jpg\n20200611191914_7d708aad654015aebb4373c0e2a1a96e_IMAG01_66.jpg\n20200611191914_7d708aad654015aebb4373c0e2a1a96e_IMAG01_67.jpg\n20200611191914_7d708aad654015aebb4373c0e2a1a96e_IMAG01_68.jpg\n20200611191914_7d708aad654015aebb4373c0e2a1a96e_IMAG01_69.jpg\n20200611191914_7d708aad654015aebb4373c0e2a1a96e_IMAG01_70.jpg\n20200611191914_7d708aad654015aebb4373c0e2a1a96e_IMAG01_71.jpg\n20200611191914_7d708aad654015aebb4373c0e2a1a96e_IMAG01_72.jpg\n20200611191914_7d708aad654015aebb4373c0e2a1a96e_IMAG01_73.jpg\n20200611191914_7d708aad654015aebb4373c0e2a1a96e_IMAG01_74.jpg\n20200611191914_7d708aad654015aebb4373c0e2a1a96e_IMAG01_75.jpg\n20200611191914_7d708aad654015aebb4373c0e2a1a96e_IMAG01_76.jpg\n20200611191914_7d708aad654015aebb4373c0e2a1a96e_IMAG01_77.jpg\n20200611191914_7d708aad654015aebb4373c0e2a1a96e_IMAG01_78.jpg\n20200611191914_7d708aad654015aebb4373c0e2a1a96e_IMAG01_79.jpg\n20200611191914_7d708aad654015aebb4373c0e2a1a96e_IMAG01_80.jpg\n20200611191914_7d708aad654015aebb4373c0e2a1a96e_IMAG01_81.jpg\n20200611191914_7d708aad654015aebb4373c0e2a1a96e_IMAG01_82.jpg\n20200611191914_7d708aad654015aebb4373c0e2a1a96e_IMAG01_83.jpg\n20200608222003_6109153f00e7f7d9377f62179963e3f8_IMAG01_1.jpg\n20200608222003_6109153f00e7f7d9377f62179963e3f8_IMAG01_2.jpg\n20200608222003_6109153f00e7f7d9377f62179963e3f8_IMAG01_3.jpg\n20200608222003_6109153f00e7f7d9377f62179963e3f8_IMAG01_4.jpg\n20200608222003_6109153f00e7f7d9377f62179963e3f8_IMAG01_5.jpg\n20200608222003_6109153f00e7f7d9377f62179963e3f8_IMAG01_6.jpg\n20200608222003_6109153f00e7f7d9377f62179963e3f8_IMAG01_7.jpg\n20200608222003_6109153f00e7f7d9377f62179963e3f8_IMAG01_8.jpg\n20200608222003_6109153f00e7f7d9377f62179963e3f8_IMAG01_9.jpg\n20200608222003_6109153f00e7f7d9377f62179963e3f8_IMAG01_10.jpg\n20200608222003_6109153f00e7f7d9377f62179963e3f8_IMAG01_11.jpg\n20200608222003_6109153f00e7f7d9377f62179963e3f8_IMAG01_12.jpg\n20200608222003_6109153f00e7f7d9377f62179963e3f8_IMAG01_13.jpg\n20200608222003_6109153f00e7f7d9377f62179963e3f8_IMAG01_14.jpg\n20200608222003_6109153f00e7f7d9377f62179963e3f8_IMAG01_15.jpg\n20200608222003_6109153f00e7f7d9377f62179963e3f8_IMAG01_16.jpg\n20200608222003_6109153f00e7f7d9377f62179963e3f8_IMAG01_17.jpg\n20200608222003_6109153f00e7f7d9377f62179963e3f8_IMAG01_18.jpg\n20200608222003_6109153f00e7f7d9377f62179963e3f8_IMAG01_19.jpg\n20200608222003_6109153f00e7f7d9377f62179963e3f8_IMAG01_20.jpg\n20200608222003_6109153f00e7f7d9377f62179963e3f8_IMAG01_21.jpg\n20200608222003_6109153f00e7f7d9377f62179963e3f8_IMAG01_22.jpg\n20200608222003_6109153f00e7f7d9377f62179963e3f8_IMAG01_23.jpg\n20200608222003_6109153f00e7f7d9377f62179963e3f8_IMAG01_24.jpg\n20200608222003_6109153f00e7f7d9377f62179963e3f8_IMAG01_25.jpg\n20200608222003_6109153f00e7f7d9377f62179963e3f8_IMAG01_26.jpg\n20200608222003_6109153f00e7f7d9377f62179963e3f8_IMAG01_27.jpg\n20200608222003_6109153f00e7f7d9377f62179963e3f8_IMAG01_28.jpg\n20200608222003_6109153f00e7f7d9377f62179963e3f8_IMAG01_29.jpg\n20200608222003_6109153f00e7f7d9377f62179963e3f8_IMAG01_30.jpg\n20200608222003_6109153f00e7f7d9377f62179963e3f8_IMAG01_31.jpg\n20200608222003_6109153f00e7f7d9377f62179963e3f8_IMAG01_32.jpg\n20200608222003_6109153f00e7f7d9377f62179963e3f8_IMAG01_33.jpg\n20200608222003_6109153f00e7f7d9377f62179963e3f8_IMAG01_34.jpg\n20200608222003_6109153f00e7f7d9377f62179963e3f8_IMAG01_35.jpg\n20200608222003_6109153f00e7f7d9377f62179963e3f8_IMAG01_36.jpg\n20200608222003_6109153f00e7f7d9377f62179963e3f8_IMAG01_37.jpg\n20200608222003_6109153f00e7f7d9377f62179963e3f8_IMAG01_38.jpg\n20200608222003_6109153f00e7f7d9377f62179963e3f8_IMAG01_39.jpg\n20200608222003_6109153f00e7f7d9377f62179963e3f8_IMAG01_40.jpg\n20200608222003_6109153f00e7f7d9377f62179963e3f8_IMAG01_41.jpg\n20200608222003_6109153f00e7f7d9377f62179963e3f8_IMAG01_42.jpg\n20200608222003_6109153f00e7f7d9377f62179963e3f8_IMAG01_43.jpg\n20200608222003_6109153f00e7f7d9377f62179963e3f8_IMAG01_44.jpg\n20200608222003_6109153f00e7f7d9377f62179963e3f8_IMAG01_45.jpg\n20200608222003_6109153f00e7f7d9377f62179963e3f8_IMAG01_46.jpg\n20200608222003_6109153f00e7f7d9377f62179963e3f8_IMAG01_47.jpg\n20200608222003_6109153f00e7f7d9377f62179963e3f8_IMAG01_48.jpg\n20200608222003_6109153f00e7f7d9377f62179963e3f8_IMAG01_49.jpg\n20200608222003_6109153f00e7f7d9377f62179963e3f8_IMAG01_50.jpg\n20200608222003_6109153f00e7f7d9377f62179963e3f8_IMAG01_51.jpg\n20200608222003_6109153f00e7f7d9377f62179963e3f8_IMAG01_52.jpg\n20200608222003_6109153f00e7f7d9377f62179963e3f8_IMAG01_53.jpg\n20200608222003_6109153f00e7f7d9377f62179963e3f8_IMAG01_54.jpg\n20200608222003_6109153f00e7f7d9377f62179963e3f8_IMAG01_55.jpg\n20200608222003_6109153f00e7f7d9377f62179963e3f8_IMAG01_56.jpg\n20200608222003_6109153f00e7f7d9377f62179963e3f8_IMAG01_57.jpg\n20200608222003_6109153f00e7f7d9377f62179963e3f8_IMAG01_58.jpg\n20200608222003_6109153f00e7f7d9377f62179963e3f8_IMAG01_59.jpg\n20200608222003_6109153f00e7f7d9377f62179963e3f8_IMAG01_60.jpg\n20200608222003_6109153f00e7f7d9377f62179963e3f8_IMAG01_61.jpg\n20200608222003_6109153f00e7f7d9377f62179963e3f8_IMAG01_62.jpg\n20200608222003_6109153f00e7f7d9377f62179963e3f8_IMAG01_63.jpg\n20200608222003_6109153f00e7f7d9377f62179963e3f8_IMAG01_64.jpg\n20200608222003_6109153f00e7f7d9377f62179963e3f8_IMAG01_65.jpg\n20200608222003_6109153f00e7f7d9377f62179963e3f8_IMAG01_66.jpg\n20200608222003_6109153f00e7f7d9377f62179963e3f8_IMAG01_67.jpg\n20200608222003_6109153f00e7f7d9377f62179963e3f8_IMAG01_68.jpg\n20200608222003_6109153f00e7f7d9377f62179963e3f8_IMAG01_69.jpg\n20200608222003_6109153f00e7f7d9377f62179963e3f8_IMAG01_70.jpg\n20200608222003_6109153f00e7f7d9377f62179963e3f8_IMAG01_71.jpg\n20200608222003_6109153f00e7f7d9377f62179963e3f8_IMAG01_72.jpg\n20200608222003_6109153f00e7f7d9377f62179963e3f8_IMAG01_73.jpg\n20200608222003_6109153f00e7f7d9377f62179963e3f8_IMAG01_74.jpg\n20200608222003_6109153f00e7f7d9377f62179963e3f8_IMAG01_75.jpg\n20200608222003_6109153f00e7f7d9377f62179963e3f8_IMAG01_76.jpg\n20200608222003_6109153f00e7f7d9377f62179963e3f8_IMAG01_77.jpg\n20200608222003_6109153f00e7f7d9377f62179963e3f8_IMAG01_78.jpg\n20200608222003_6109153f00e7f7d9377f62179963e3f8_IMAG01_79.jpg\n20200608222003_6109153f00e7f7d9377f62179963e3f8_IMAG01_80.jpg\n20200608222003_6109153f00e7f7d9377f62179963e3f8_IMAG01_81.jpg\n"
    },
    {
     "output_type": "error",
     "ename": "OSError",
     "evalue": "[WinError 123] 파일 이름, 디렉터리 이름 또는 볼륨 레이블 구문이 잘못되었습니다: '사신소년/50화 시이라! 나한테 사기쳤어!?'",
     "traceback": [
      "\u001b[1;31m---------------------------------------------------------------------------\u001b[0m",
      "\u001b[1;31mOSError\u001b[0m                                   Traceback (most recent call last)",
      "\u001b[1;32m<ipython-input-272-94a6d4a78a9d>\u001b[0m in \u001b[0;36m<module>\u001b[1;34m\u001b[0m\n\u001b[0;32m     91\u001b[0m \u001b[1;33m\u001b[0m\u001b[0m\n\u001b[0;32m     92\u001b[0m \u001b[1;33m\u001b[0m\u001b[0m\n\u001b[1;32m---> 93\u001b[1;33m \u001b[0mmain\u001b[0m\u001b[1;33m(\u001b[0m\u001b[1;33m)\u001b[0m\u001b[1;33m\u001b[0m\u001b[0m\n\u001b[0m\u001b[0;32m     94\u001b[0m \u001b[1;33m\u001b[0m\u001b[0m\n\u001b[0;32m     95\u001b[0m \u001b[1;33m\u001b[0m\u001b[0m\n",
      "\u001b[1;32m<ipython-input-272-94a6d4a78a9d>\u001b[0m in \u001b[0;36mmain\u001b[1;34m()\u001b[0m\n\u001b[0;32m     83\u001b[0m                 \u001b[1;32mif\u001b[0m \u001b[1;32mnot\u001b[0m \u001b[0mline\u001b[0m\u001b[1;33m:\u001b[0m\u001b[1;33m\u001b[0m\u001b[0m\n\u001b[0;32m     84\u001b[0m                     \u001b[1;32mbreak\u001b[0m\u001b[1;33m\u001b[0m\u001b[0m\n\u001b[1;32m---> 85\u001b[1;33m                 \u001b[0mgo_webtoon\u001b[0m\u001b[1;33m(\u001b[0m\u001b[0mline\u001b[0m\u001b[1;33m,\u001b[0m\u001b[0mtitle\u001b[0m\u001b[1;33m)\u001b[0m\u001b[1;33m\u001b[0m\u001b[0m\n\u001b[0m\u001b[0;32m     86\u001b[0m     \u001b[1;31m# Can make more higher\u001b[0m\u001b[1;33m\u001b[0m\u001b[1;33m\u001b[0m\u001b[0m\n\u001b[0;32m     87\u001b[0m     \u001b[1;31m# title = 'Sound_of_mind'\u001b[0m\u001b[1;33m\u001b[0m\u001b[1;33m\u001b[0m\u001b[0m\n",
      "\u001b[1;32m<ipython-input-272-94a6d4a78a9d>\u001b[0m in \u001b[0;36mgo_webtoon\u001b[1;34m(url, title)\u001b[0m\n\u001b[0;32m     57\u001b[0m     \u001b[0mdir_name\u001b[0m \u001b[1;33m=\u001b[0m \u001b[0mtitle\u001b[0m \u001b[1;33m+\u001b[0m \u001b[1;34m'/'\u001b[0m \u001b[1;33m+\u001b[0m \u001b[0mfile_name\u001b[0m\u001b[1;33m\u001b[0m\u001b[0m\n\u001b[0;32m     58\u001b[0m     \u001b[1;32mif\u001b[0m \u001b[1;32mnot\u001b[0m \u001b[0mos\u001b[0m\u001b[1;33m.\u001b[0m\u001b[0mpath\u001b[0m\u001b[1;33m.\u001b[0m\u001b[0misdir\u001b[0m\u001b[1;33m(\u001b[0m\u001b[0mdir_name\u001b[0m\u001b[1;33m)\u001b[0m\u001b[1;33m:\u001b[0m\u001b[1;33m\u001b[0m\u001b[0m\n\u001b[1;32m---> 59\u001b[1;33m         \u001b[0mos\u001b[0m\u001b[1;33m.\u001b[0m\u001b[0mmkdir\u001b[0m\u001b[1;33m(\u001b[0m\u001b[0mdir_name\u001b[0m\u001b[1;33m)\u001b[0m\u001b[1;33m\u001b[0m\u001b[0m\n\u001b[0m\u001b[0;32m     60\u001b[0m     \u001b[1;32mfor\u001b[0m \u001b[0ma\u001b[0m \u001b[1;32min\u001b[0m \u001b[0msoup\u001b[0m\u001b[1;33m.\u001b[0m\u001b[0mselect\u001b[0m\u001b[1;33m(\u001b[0m\u001b[1;34m'.wt_viewer'\u001b[0m\u001b[1;33m)\u001b[0m\u001b[1;33m:\u001b[0m\u001b[1;33m\u001b[0m\u001b[0m\n\u001b[0;32m     61\u001b[0m         \u001b[1;32mfor\u001b[0m \u001b[0mb\u001b[0m \u001b[1;32min\u001b[0m \u001b[0ma\u001b[0m\u001b[1;33m.\u001b[0m\u001b[0mselect\u001b[0m\u001b[1;33m(\u001b[0m\u001b[1;34m'img'\u001b[0m\u001b[1;33m)\u001b[0m\u001b[1;33m:\u001b[0m\u001b[1;33m\u001b[0m\u001b[0m\n",
      "\u001b[1;31mOSError\u001b[0m: [WinError 123] 파일 이름, 디렉터리 이름 또는 볼륨 레이블 구문이 잘못되었습니다: '사신소년/50화 시이라! 나한테 사기쳤어!?'"
     ]
    }
   ],
   "source": [
    "import os, requests\n",
    "from bs4 import BeautifulSoup\n",
    "from urllib.parse import urljoin\n",
    "\n",
    "\n",
    "\n",
    "def get_recom_toons(url):\n",
    "    res = requests.get(url)\n",
    "    soup = BeautifulSoup(res.text, 'html.parser')\n",
    "    toon_list = {}\n",
    "    for i in soup.select('#genreRecommand'):\n",
    "        for j in i.select('a[href^=\"/webtoon/list\"]'):\n",
    "            link = urljoin(url, j.get('href'))\n",
    "            for k in j.select('img'):\n",
    "                toon_list[k.get('title')] = link\n",
    "            # print(j.get('href'))\n",
    "            # print(j.a.string)\n",
    "    print(toon_list)\n",
    "\n",
    "    for i in toon_list:\n",
    "        if not os.path.isdir(i):\n",
    "            os.mkdir(i)\n",
    "        \n",
    "        with open(i + '/' +'temp.txt', 'w', encoding='utf8') as f:\n",
    "            f.write(toon_list[i])\n",
    "    \n",
    "    return toon_list\n",
    "    # print(titles)\n",
    "    # if not os.path.isdir(dirname):\n",
    "    #     os.mkdir(dirname)\n",
    "\n",
    "def get_list_page(dirname,url):\n",
    "    res = requests.get(url)\n",
    "    text = res.text\n",
    "    # print(text)\n",
    "    soup = BeautifulSoup(text, 'html.parser')\n",
    "    links = {}\n",
    "    for a in soup.select('#content'):\n",
    "        for i in a.select('a[href^=\"/webtoon/detail\"]'):\n",
    "            full_url = urljoin(url, i.get('href'))\n",
    "            if i.string:\n",
    "                links[i.string] = full_url\n",
    "        # print(links)\n",
    "        with open(dirname + '/' +'temp.txt', 'w', encoding='utf8') as f:\n",
    "            for i in links:\n",
    "                # f.write(links[i] + '\\t\\t' + i + '\\n')\n",
    "                f.write(links[i] +'\\n')\n",
    "\n",
    "def go_webtoon(url,title):\n",
    "    url = url[:len(url)-1] # delete '\\n'\n",
    "    res =requests.get(url)\n",
    "    req_hearder ={\n",
    "        'referer' : url,\n",
    "    }\n",
    "    soup = BeautifulSoup(res.text, 'html.parser')\n",
    "    file_name = soup.h3.string\n",
    "    dir_name = title + '/' + file_name\n",
    "    if not os.path.isdir(dir_name):\n",
    "        os.mkdir(dir_name)\n",
    "    for a in soup.select('.wt_viewer'):\n",
    "        for b in a.select('img'):\n",
    "            img_src = b.get('src')\n",
    "            # print(img_src)\n",
    "            res = requests.get(img_src, headers = req_hearder)\n",
    "            img_data = res.content\n",
    "            # print(img_data)\n",
    "            file_name = os.path.basename(img_src)\n",
    "            print(file_name)\n",
    "            with open(dir_name +'/' + file_name, 'wb') as f:\n",
    "                # print(f'Writing image to {file_name} ({len(img_data)} bytes)')\n",
    "                f.write(img_data)\n",
    "\n",
    "\n",
    "\n",
    "def main():\n",
    "    root = \"https://comic.naver.com/index.nhn\"\n",
    "    title_list = get_recom_toons(root)\n",
    "    for title in title_list:\n",
    "        get_list_page(title, title_list[title])\n",
    "        with open(title + '/' + 'temp.txt', 'r') as f:\n",
    "            while 1:\n",
    "                line = f.readline()\n",
    "                if not line:\n",
    "                    break\n",
    "                go_webtoon(line,title)\n",
    "    # Can make more higher \n",
    "    # title = 'Sound_of_mind'\n",
    "    # first_add = \"https://comic.naver.com/webtoon/list.nhn?titleId=20853\"\n",
    "    # get_list_page(title, first_add)\n",
    "\n",
    "\n",
    "\n",
    "main()\n",
    "\n",
    "\n"
   ]
  },
  {
   "cell_type": "code",
   "execution_count": null,
   "metadata": {},
   "outputs": [],
   "source": []
  }
 ],
 "metadata": {
  "kernelspec": {
   "display_name": "Python 3",
   "language": "python",
   "name": "python3"
  },
  "language_info": {
   "codemirror_mode": {
    "name": "ipython",
    "version": 3
   },
   "file_extension": ".py",
   "mimetype": "text/x-python",
   "name": "python",
   "nbconvert_exporter": "python",
   "pygments_lexer": "ipython3",
   "version": 3
  }
 },
 "nbformat": 4,
 "nbformat_minor": 2
}