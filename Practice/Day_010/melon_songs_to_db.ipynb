{
 "metadata": {
  "language_info": {
   "codemirror_mode": {
    "name": "ipython",
    "version": 3
   },
   "file_extension": ".py",
   "mimetype": "text/x-python",
   "name": "python",
   "nbconvert_exporter": "python",
   "pygments_lexer": "ipython3",
   "version": 3
  },
  "orig_nbformat": 2,
  "kernelspec": {
   "name": "python_defaultSpec_1595819180335",
   "display_name": "Python 3.7.0 64-bit ('base': conda)"
  }
 },
 "nbformat": 4,
 "nbformat_minor": 2,
 "cells": [
  {
   "cell_type": "code",
   "execution_count": 3,
   "metadata": {
    "tags": []
   },
   "outputs": [
    {
     "output_type": "stream",
     "name": "stdout",
     "text": "<class 'pandas.core.frame.DataFrame'>\nRangeIndex: 100 entries, 0 to 99\nData columns (total 6 columns):\n #   Column  Non-Null Count  Dtype \n---  ------  --------------  ----- \n 0   곡명      100 non-null    object\n 1   가수      100 non-null    object\n 2   앨범      100 non-null    object\n 3   발매일     100 non-null    object\n 4   장르      100 non-null    object\n 5   가사      100 non-null    object\ndtypes: object(6)\nmemory usage: 4.8+ KB\n"
    }
   ],
   "source": [
    "import json\n",
    "import pandas as pd\n",
    "# import os\n",
    "# os.getcwd()\n",
    "with open('songs.json','r', encoding='utf8') as f:\n",
    "    json_data = json.loads(f.read())\n",
    "\n",
    "data_df = pd.DataFrame(columns = ['곡명', '가수','앨범', '발매일', '장르','가사'])\n",
    "data_df.head()\n",
    "for data in json_data:\n",
    "    # DataFrame have to assign again\n",
    "    data_df = data_df.append(pd.Series(data), ignore_index = True)\n",
    "\n",
    "data_df.info()"
   ]
  },
  {
   "cell_type": "code",
   "execution_count": 4,
   "metadata": {
    "tags": []
   },
   "outputs": [
    {
     "output_type": "execute_result",
     "data": {
      "text/plain": "방탄소년단                  8\n아이유                    5\n폴킴                     5\n임영웅                    3\n싹쓰리 (유두래곤, 린다G, 비룡)    3\n                      ..\n식케이 (Sik-K)            1\nASH ISLAND             1\n휘인 (Whee In)           1\n진민호                    1\nRuel                   1\nName: 가수, Length: 71, dtype: int64"
     },
     "metadata": {},
     "execution_count": 4
    }
   ],
   "source": [
    "data_df['가수'].value_counts()"
   ]
  },
  {
   "cell_type": "code",
   "execution_count": 5,
   "metadata": {},
   "outputs": [
    {
     "output_type": "execute_result",
     "data": {
      "text/plain": "                                           곡명    장르                         앨범\n36  작은 것들을 위한 시 (Boy With Luv) (Feat. Halsey)    댄스  MAP OF THE SOUL : PERSONA\n39                                         ON  랩/힙합        MAP OF THE SOUL : 7\n69                                         봄날  랩/힙합       YOU NEVER WALK ALONE\n74                       00:00 (Zero O’Clock)  랩/힙합        MAP OF THE SOUL : 7\n81                                 Black Swan  랩/힙합        MAP OF THE SOUL : 7\n87                                         친구  랩/힙합        MAP OF THE SOUL : 7\n94                                     Filter  랩/힙합        MAP OF THE SOUL : 7\n95                                       Moon  랩/힙합        MAP OF THE SOUL : 7",
      "text/html": "<div>\n<style scoped>\n    .dataframe tbody tr th:only-of-type {\n        vertical-align: middle;\n    }\n\n    .dataframe tbody tr th {\n        vertical-align: top;\n    }\n\n    .dataframe thead th {\n        text-align: right;\n    }\n</style>\n<table border=\"1\" class=\"dataframe\">\n  <thead>\n    <tr style=\"text-align: right;\">\n      <th></th>\n      <th>곡명</th>\n      <th>장르</th>\n      <th>앨범</th>\n    </tr>\n  </thead>\n  <tbody>\n    <tr>\n      <th>36</th>\n      <td>작은 것들을 위한 시 (Boy With Luv) (Feat. Halsey)</td>\n      <td>댄스</td>\n      <td>MAP OF THE SOUL : PERSONA</td>\n    </tr>\n    <tr>\n      <th>39</th>\n      <td>ON</td>\n      <td>랩/힙합</td>\n      <td>MAP OF THE SOUL : 7</td>\n    </tr>\n    <tr>\n      <th>69</th>\n      <td>봄날</td>\n      <td>랩/힙합</td>\n      <td>YOU NEVER WALK ALONE</td>\n    </tr>\n    <tr>\n      <th>74</th>\n      <td>00:00 (Zero O’Clock)</td>\n      <td>랩/힙합</td>\n      <td>MAP OF THE SOUL : 7</td>\n    </tr>\n    <tr>\n      <th>81</th>\n      <td>Black Swan</td>\n      <td>랩/힙합</td>\n      <td>MAP OF THE SOUL : 7</td>\n    </tr>\n    <tr>\n      <th>87</th>\n      <td>친구</td>\n      <td>랩/힙합</td>\n      <td>MAP OF THE SOUL : 7</td>\n    </tr>\n    <tr>\n      <th>94</th>\n      <td>Filter</td>\n      <td>랩/힙합</td>\n      <td>MAP OF THE SOUL : 7</td>\n    </tr>\n    <tr>\n      <th>95</th>\n      <td>Moon</td>\n      <td>랩/힙합</td>\n      <td>MAP OF THE SOUL : 7</td>\n    </tr>\n  </tbody>\n</table>\n</div>"
     },
     "metadata": {},
     "execution_count": 5
    }
   ],
   "source": [
    "data_df.loc[data_df['가수'] == '방탄소년단', ['곡명', '장르','앨범']]"
   ]
  },
  {
   "cell_type": "code",
   "execution_count": 6,
   "metadata": {},
   "outputs": [
    {
     "output_type": "execute_result",
     "data": {
      "text/plain": "                  곡명                   가수                 앨범         발매일  \\\n1          다시 여기 바닷가  싹쓰리 (유두래곤, 린다G, 비룡)          다시 여기 바닷가  2020.07.18   \n2        마리아 (Maria)          화사 (Hwa Sa)              María  2020.06.29   \n3  How You Like That            BLACKPINK  How You Like That  2020.06.26   \n\n     장르                                                 가사  \n1    댄스  예아 호우 예예예싹쓰리 인더 하우스커커커커커몬 싹 쓰리 투 렛츠고나 다시 또 설레어...  \n2    댄스  욕을 하도 먹어 체했어 하도서러워도 어쩌겠어 I do모두들 미워하느라 애썼네날 무너...  \n3  랩/힙합  보란 듯이 무너졌어바닥을 뚫고 저 지하까지옷 끝자락 잡겠다고저 높이 두 손을 뻗어봐...  ",
      "text/html": "<div>\n<style scoped>\n    .dataframe tbody tr th:only-of-type {\n        vertical-align: middle;\n    }\n\n    .dataframe tbody tr th {\n        vertical-align: top;\n    }\n\n    .dataframe thead th {\n        text-align: right;\n    }\n</style>\n<table border=\"1\" class=\"dataframe\">\n  <thead>\n    <tr style=\"text-align: right;\">\n      <th></th>\n      <th>곡명</th>\n      <th>가수</th>\n      <th>앨범</th>\n      <th>발매일</th>\n      <th>장르</th>\n      <th>가사</th>\n    </tr>\n  </thead>\n  <tbody>\n    <tr>\n      <th>1</th>\n      <td>다시 여기 바닷가</td>\n      <td>싹쓰리 (유두래곤, 린다G, 비룡)</td>\n      <td>다시 여기 바닷가</td>\n      <td>2020.07.18</td>\n      <td>댄스</td>\n      <td>예아 호우 예예예싹쓰리 인더 하우스커커커커커몬 싹 쓰리 투 렛츠고나 다시 또 설레어...</td>\n    </tr>\n    <tr>\n      <th>2</th>\n      <td>마리아 (Maria)</td>\n      <td>화사 (Hwa Sa)</td>\n      <td>María</td>\n      <td>2020.06.29</td>\n      <td>댄스</td>\n      <td>욕을 하도 먹어 체했어 하도서러워도 어쩌겠어 I do모두들 미워하느라 애썼네날 무너...</td>\n    </tr>\n    <tr>\n      <th>3</th>\n      <td>How You Like That</td>\n      <td>BLACKPINK</td>\n      <td>How You Like That</td>\n      <td>2020.06.26</td>\n      <td>랩/힙합</td>\n      <td>보란 듯이 무너졌어바닥을 뚫고 저 지하까지옷 끝자락 잡겠다고저 높이 두 손을 뻗어봐...</td>\n    </tr>\n  </tbody>\n</table>\n</div>"
     },
     "metadata": {},
     "execution_count": 6
    }
   ],
   "source": [
    "import numpy as np\n",
    "data_df = data_df.reset_index(drop = True) # I guess this is not necessary\n",
    "data_df.index = np.arange(1,len(data_df)+1)\n",
    "data_df.head(3)"
   ]
  },
  {
   "cell_type": "code",
   "execution_count": 7,
   "metadata": {},
   "outputs": [
    {
     "output_type": "execute_result",
     "data": {
      "text/plain": "                name               singer              album release_date  \\\n1          다시 여기 바닷가  싹쓰리 (유두래곤, 린다G, 비룡)          다시 여기 바닷가   2020.07.18   \n2        마리아 (Maria)          화사 (Hwa Sa)              María   2020.06.29   \n3  How You Like That            BLACKPINK  How You Like That   2020.06.26   \n\n  genre                                              lyric  \n1    댄스  예아 호우 예예예싹쓰리 인더 하우스커커커커커몬 싹 쓰리 투 렛츠고나 다시 또 설레어...  \n2    댄스  욕을 하도 먹어 체했어 하도서러워도 어쩌겠어 I do모두들 미워하느라 애썼네날 무너...  \n3  랩/힙합  보란 듯이 무너졌어바닥을 뚫고 저 지하까지옷 끝자락 잡겠다고저 높이 두 손을 뻗어봐...  ",
      "text/html": "<div>\n<style scoped>\n    .dataframe tbody tr th:only-of-type {\n        vertical-align: middle;\n    }\n\n    .dataframe tbody tr th {\n        vertical-align: top;\n    }\n\n    .dataframe thead th {\n        text-align: right;\n    }\n</style>\n<table border=\"1\" class=\"dataframe\">\n  <thead>\n    <tr style=\"text-align: right;\">\n      <th></th>\n      <th>name</th>\n      <th>singer</th>\n      <th>album</th>\n      <th>release_date</th>\n      <th>genre</th>\n      <th>lyric</th>\n    </tr>\n  </thead>\n  <tbody>\n    <tr>\n      <th>1</th>\n      <td>다시 여기 바닷가</td>\n      <td>싹쓰리 (유두래곤, 린다G, 비룡)</td>\n      <td>다시 여기 바닷가</td>\n      <td>2020.07.18</td>\n      <td>댄스</td>\n      <td>예아 호우 예예예싹쓰리 인더 하우스커커커커커몬 싹 쓰리 투 렛츠고나 다시 또 설레어...</td>\n    </tr>\n    <tr>\n      <th>2</th>\n      <td>마리아 (Maria)</td>\n      <td>화사 (Hwa Sa)</td>\n      <td>María</td>\n      <td>2020.06.29</td>\n      <td>댄스</td>\n      <td>욕을 하도 먹어 체했어 하도서러워도 어쩌겠어 I do모두들 미워하느라 애썼네날 무너...</td>\n    </tr>\n    <tr>\n      <th>3</th>\n      <td>How You Like That</td>\n      <td>BLACKPINK</td>\n      <td>How You Like That</td>\n      <td>2020.06.26</td>\n      <td>랩/힙합</td>\n      <td>보란 듯이 무너졌어바닥을 뚫고 저 지하까지옷 끝자락 잡겠다고저 높이 두 손을 뻗어봐...</td>\n    </tr>\n  </tbody>\n</table>\n</div>"
     },
     "metadata": {},
     "execution_count": 7
    }
   ],
   "source": [
    "# Change column name\n",
    "data_df.columns = ['name', 'singer', 'album', 'release_date', 'genre', 'lyric']\n",
    "data_df.head(3)"
   ]
  },
  {
   "cell_type": "code",
   "execution_count": 8,
   "metadata": {
    "tags": []
   },
   "outputs": [
    {
     "output_type": "stream",
     "name": "stdout",
     "text": "name : 41\nsinger : 19\nalbum : 40\nrelease_date : 10\ngenre : 14\nlyric : 2155\n"
    }
   ],
   "source": [
    "# Length check for each column\n",
    "\n",
    "def find_column_max_leng(col):\n",
    "    return data_df[col].str.len().max()\n",
    "def find_all(data_frame):\n",
    "    for column in data_frame.columns:\n",
    "        print(f'{column} : {find_column_max_leng(column)}')\n",
    "\n",
    "find_all(data_df)"
   ]
  },
  {
   "cell_type": "code",
   "execution_count": 9,
   "metadata": {},
   "outputs": [],
   "source": [
    "# DataFrame to Table \n",
    "import pymysql\n",
    "import sqlalchemy\n",
    "pymysql.install_as_MySQLdb()\n",
    "from sqlalchemy import create_engine\n",
    "\n",
    "engine = create_engine(\"mysql+mysqldb://python:\" + \"python\" + \"@localhost/python_db\"\\\n",
    "    , encoding = 'utf-8')\n",
    "## mysql + mysqldb : ID  + Password + DB name\n",
    "conn = engine.connect()\n",
    "\n",
    "data_df.to_sql(name = 'songs', con = engine, if_exists= 'replace', index=True, index_label='id',\\\n",
    "    dtype={\n",
    "        'id' : sqlalchemy.types.INTEGER(),\n",
    "        'name' :sqlalchemy.types.VARCHAR(100),\n",
    "        'singer' :sqlalchemy.types.VARCHAR(100),\n",
    "        'album' :sqlalchemy.types.VARCHAR(100),\n",
    "        'release_date' :sqlalchemy.DATE, ## Date type\n",
    "        'genre' :sqlalchemy.types.VARCHAR(100),\n",
    "        'lyric' :sqlalchemy.types.VARCHAR(2500)\n",
    "    })"
   ]
  },
  {
   "cell_type": "code",
   "execution_count": null,
   "metadata": {},
   "outputs": [],
   "source": []
  }
 ]
}