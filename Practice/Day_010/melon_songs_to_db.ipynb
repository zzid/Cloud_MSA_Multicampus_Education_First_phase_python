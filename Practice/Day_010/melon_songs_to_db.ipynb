{
 "metadata": {
  "language_info": {
   "codemirror_mode": {
    "name": "ipython",
    "version": 3
   },
   "file_extension": ".py",
   "mimetype": "text/x-python",
   "name": "python",
   "nbconvert_exporter": "python",
   "pygments_lexer": "ipython3",
   "version": 3
  },
  "orig_nbformat": 2,
  "kernelspec": {
   "name": "python_defaultSpec_1595830750410",
   "display_name": "Python 3.7.0 64-bit ('base': conda)"
  }
 },
 "nbformat": 4,
 "nbformat_minor": 2,
 "cells": [
  {
   "cell_type": "code",
   "execution_count": 4,
   "metadata": {
    "tags": []
   },
   "outputs": [
    {
     "output_type": "stream",
     "name": "stdout",
     "text": "<class 'pandas.core.frame.DataFrame'>\nRangeIndex: 100 entries, 0 to 99\nData columns (total 6 columns):\n #   Column  Non-Null Count  Dtype \n---  ------  --------------  ----- \n 0   곡명      100 non-null    object\n 1   가수      100 non-null    object\n 2   앨범      100 non-null    object\n 3   발매일     100 non-null    object\n 4   장르      100 non-null    object\n 5   가사      100 non-null    object\ndtypes: object(6)\nmemory usage: 4.8+ KB\n"
    }
   ],
   "source": [
    "import json\n",
    "import pandas as pd\n",
    "# import os\n",
    "# os.getcwd()\n",
    "with open('songs.json','r', encoding='utf8') as f:\n",
    "    json_data = json.loads(f.read())\n",
    "\n",
    "data_df = pd.DataFrame(columns = ['곡명', '가수','앨범', '발매일', '장르','가사'])\n",
    "data_df.head()\n",
    "for data in json_data:\n",
    "    # DataFrame have to assign again\n",
    "    data_df = data_df.append(pd.Series(data), ignore_index = True)\n",
    "\n",
    "data_df.info()"
   ]
  },
  {
   "cell_type": "code",
   "execution_count": 5,
   "metadata": {
    "tags": []
   },
   "outputs": [
    {
     "output_type": "execute_result",
     "data": {
      "text/plain": "방탄소년단                  8\n폴킴                     5\n아이유                    5\n싹쓰리 (유두래곤, 린다G, 비룡)    3\n임영웅                    3\n                      ..\n산들                     1\n조정석                    1\n백지영                    1\n김필                     1\nRed Velvet (레드벨벳)      1\nName: 가수, Length: 71, dtype: int64"
     },
     "metadata": {},
     "execution_count": 5
    }
   ],
   "source": [
    "data_df['가수'].value_counts()"
   ]
  },
  {
   "cell_type": "code",
   "execution_count": 6,
   "metadata": {},
   "outputs": [
    {
     "output_type": "execute_result",
     "data": {
      "text/plain": "                                           곡명    장르                         앨범\n36  작은 것들을 위한 시 (Boy With Luv) (Feat. Halsey)    댄스  MAP OF THE SOUL : PERSONA\n39                                         ON  랩/힙합        MAP OF THE SOUL : 7\n69                                         봄날  랩/힙합       YOU NEVER WALK ALONE\n74                       00:00 (Zero O’Clock)  랩/힙합        MAP OF THE SOUL : 7\n81                                 Black Swan  랩/힙합        MAP OF THE SOUL : 7\n87                                         친구  랩/힙합        MAP OF THE SOUL : 7\n94                                     Filter  랩/힙합        MAP OF THE SOUL : 7\n95                                       Moon  랩/힙합        MAP OF THE SOUL : 7",
      "text/html": "<div>\n<style scoped>\n    .dataframe tbody tr th:only-of-type {\n        vertical-align: middle;\n    }\n\n    .dataframe tbody tr th {\n        vertical-align: top;\n    }\n\n    .dataframe thead th {\n        text-align: right;\n    }\n</style>\n<table border=\"1\" class=\"dataframe\">\n  <thead>\n    <tr style=\"text-align: right;\">\n      <th></th>\n      <th>곡명</th>\n      <th>장르</th>\n      <th>앨범</th>\n    </tr>\n  </thead>\n  <tbody>\n    <tr>\n      <th>36</th>\n      <td>작은 것들을 위한 시 (Boy With Luv) (Feat. Halsey)</td>\n      <td>댄스</td>\n      <td>MAP OF THE SOUL : PERSONA</td>\n    </tr>\n    <tr>\n      <th>39</th>\n      <td>ON</td>\n      <td>랩/힙합</td>\n      <td>MAP OF THE SOUL : 7</td>\n    </tr>\n    <tr>\n      <th>69</th>\n      <td>봄날</td>\n      <td>랩/힙합</td>\n      <td>YOU NEVER WALK ALONE</td>\n    </tr>\n    <tr>\n      <th>74</th>\n      <td>00:00 (Zero O’Clock)</td>\n      <td>랩/힙합</td>\n      <td>MAP OF THE SOUL : 7</td>\n    </tr>\n    <tr>\n      <th>81</th>\n      <td>Black Swan</td>\n      <td>랩/힙합</td>\n      <td>MAP OF THE SOUL : 7</td>\n    </tr>\n    <tr>\n      <th>87</th>\n      <td>친구</td>\n      <td>랩/힙합</td>\n      <td>MAP OF THE SOUL : 7</td>\n    </tr>\n    <tr>\n      <th>94</th>\n      <td>Filter</td>\n      <td>랩/힙합</td>\n      <td>MAP OF THE SOUL : 7</td>\n    </tr>\n    <tr>\n      <th>95</th>\n      <td>Moon</td>\n      <td>랩/힙합</td>\n      <td>MAP OF THE SOUL : 7</td>\n    </tr>\n  </tbody>\n</table>\n</div>"
     },
     "metadata": {},
     "execution_count": 6
    }
   ],
   "source": [
    "data_df.loc[data_df['가수'] == '방탄소년단', ['곡명', '장르','앨범']]"
   ]
  },
  {
   "cell_type": "code",
   "execution_count": 7,
   "metadata": {},
   "outputs": [
    {
     "output_type": "execute_result",
     "data": {
      "text/plain": "                  곡명                   가수                 앨범         발매일  \\\n1          다시 여기 바닷가  싹쓰리 (유두래곤, 린다G, 비룡)          다시 여기 바닷가  2020.07.18   \n2        마리아 (Maria)          화사 (Hwa Sa)              María  2020.06.29   \n3  How You Like That            BLACKPINK  How You Like That  2020.06.26   \n\n     장르                                                 가사  \n1    댄스  예아 호우 예예예싹쓰리 인더 하우스커커커커커몬 싹 쓰리 투 렛츠고나 다시 또 설레어...  \n2    댄스  욕을 하도 먹어 체했어 하도서러워도 어쩌겠어 I do모두들 미워하느라 애썼네날 무너...  \n3  랩/힙합  보란 듯이 무너졌어바닥을 뚫고 저 지하까지옷 끝자락 잡겠다고저 높이 두 손을 뻗어봐...  ",
      "text/html": "<div>\n<style scoped>\n    .dataframe tbody tr th:only-of-type {\n        vertical-align: middle;\n    }\n\n    .dataframe tbody tr th {\n        vertical-align: top;\n    }\n\n    .dataframe thead th {\n        text-align: right;\n    }\n</style>\n<table border=\"1\" class=\"dataframe\">\n  <thead>\n    <tr style=\"text-align: right;\">\n      <th></th>\n      <th>곡명</th>\n      <th>가수</th>\n      <th>앨범</th>\n      <th>발매일</th>\n      <th>장르</th>\n      <th>가사</th>\n    </tr>\n  </thead>\n  <tbody>\n    <tr>\n      <th>1</th>\n      <td>다시 여기 바닷가</td>\n      <td>싹쓰리 (유두래곤, 린다G, 비룡)</td>\n      <td>다시 여기 바닷가</td>\n      <td>2020.07.18</td>\n      <td>댄스</td>\n      <td>예아 호우 예예예싹쓰리 인더 하우스커커커커커몬 싹 쓰리 투 렛츠고나 다시 또 설레어...</td>\n    </tr>\n    <tr>\n      <th>2</th>\n      <td>마리아 (Maria)</td>\n      <td>화사 (Hwa Sa)</td>\n      <td>María</td>\n      <td>2020.06.29</td>\n      <td>댄스</td>\n      <td>욕을 하도 먹어 체했어 하도서러워도 어쩌겠어 I do모두들 미워하느라 애썼네날 무너...</td>\n    </tr>\n    <tr>\n      <th>3</th>\n      <td>How You Like That</td>\n      <td>BLACKPINK</td>\n      <td>How You Like That</td>\n      <td>2020.06.26</td>\n      <td>랩/힙합</td>\n      <td>보란 듯이 무너졌어바닥을 뚫고 저 지하까지옷 끝자락 잡겠다고저 높이 두 손을 뻗어봐...</td>\n    </tr>\n  </tbody>\n</table>\n</div>"
     },
     "metadata": {},
     "execution_count": 7
    }
   ],
   "source": [
    "import numpy as np\n",
    "data_df = data_df.reset_index(drop = True) # I guess this is not necessary\n",
    "data_df.index = np.arange(1,len(data_df)+1)\n",
    "data_df.head(3)"
   ]
  },
  {
   "cell_type": "code",
   "execution_count": 8,
   "metadata": {},
   "outputs": [
    {
     "output_type": "execute_result",
     "data": {
      "text/plain": "                name               singer              album release_date  \\\n1          다시 여기 바닷가  싹쓰리 (유두래곤, 린다G, 비룡)          다시 여기 바닷가   2020.07.18   \n2        마리아 (Maria)          화사 (Hwa Sa)              María   2020.06.29   \n3  How You Like That            BLACKPINK  How You Like That   2020.06.26   \n\n  genre                                              lyric  \n1    댄스  예아 호우 예예예싹쓰리 인더 하우스커커커커커몬 싹 쓰리 투 렛츠고나 다시 또 설레어...  \n2    댄스  욕을 하도 먹어 체했어 하도서러워도 어쩌겠어 I do모두들 미워하느라 애썼네날 무너...  \n3  랩/힙합  보란 듯이 무너졌어바닥을 뚫고 저 지하까지옷 끝자락 잡겠다고저 높이 두 손을 뻗어봐...  ",
      "text/html": "<div>\n<style scoped>\n    .dataframe tbody tr th:only-of-type {\n        vertical-align: middle;\n    }\n\n    .dataframe tbody tr th {\n        vertical-align: top;\n    }\n\n    .dataframe thead th {\n        text-align: right;\n    }\n</style>\n<table border=\"1\" class=\"dataframe\">\n  <thead>\n    <tr style=\"text-align: right;\">\n      <th></th>\n      <th>name</th>\n      <th>singer</th>\n      <th>album</th>\n      <th>release_date</th>\n      <th>genre</th>\n      <th>lyric</th>\n    </tr>\n  </thead>\n  <tbody>\n    <tr>\n      <th>1</th>\n      <td>다시 여기 바닷가</td>\n      <td>싹쓰리 (유두래곤, 린다G, 비룡)</td>\n      <td>다시 여기 바닷가</td>\n      <td>2020.07.18</td>\n      <td>댄스</td>\n      <td>예아 호우 예예예싹쓰리 인더 하우스커커커커커몬 싹 쓰리 투 렛츠고나 다시 또 설레어...</td>\n    </tr>\n    <tr>\n      <th>2</th>\n      <td>마리아 (Maria)</td>\n      <td>화사 (Hwa Sa)</td>\n      <td>María</td>\n      <td>2020.06.29</td>\n      <td>댄스</td>\n      <td>욕을 하도 먹어 체했어 하도서러워도 어쩌겠어 I do모두들 미워하느라 애썼네날 무너...</td>\n    </tr>\n    <tr>\n      <th>3</th>\n      <td>How You Like That</td>\n      <td>BLACKPINK</td>\n      <td>How You Like That</td>\n      <td>2020.06.26</td>\n      <td>랩/힙합</td>\n      <td>보란 듯이 무너졌어바닥을 뚫고 저 지하까지옷 끝자락 잡겠다고저 높이 두 손을 뻗어봐...</td>\n    </tr>\n  </tbody>\n</table>\n</div>"
     },
     "metadata": {},
     "execution_count": 8
    }
   ],
   "source": [
    "# Change column name\n",
    "data_df.columns = ['name', 'singer', 'album', 'release_date', 'genre', 'lyric']\n",
    "data_df.head(3)"
   ]
  },
  {
   "cell_type": "code",
   "execution_count": 9,
   "metadata": {
    "tags": []
   },
   "outputs": [
    {
     "output_type": "stream",
     "name": "stdout",
     "text": "name : 41\nsinger : 19\nalbum : 40\nrelease_date : 10\ngenre : 14\nlyric : 2155\n"
    }
   ],
   "source": [
    "# Length check for each column\n",
    "\n",
    "def find_column_max_leng(col):\n",
    "    return data_df[col].str.len().max()\n",
    "def find_all(data_frame):\n",
    "    for column in data_frame.columns:\n",
    "        print(f'{column} : {find_column_max_leng(column)}')\n",
    "\n",
    "find_all(data_df)"
   ]
  },
  {
   "cell_type": "markdown",
   "metadata": {},
   "source": [
    "* DataFrame to DB Table "
   ]
  },
  {
   "cell_type": "code",
   "execution_count": 10,
   "metadata": {},
   "outputs": [],
   "source": [
    "\n",
    "import pymysql\n",
    "import sqlalchemy\n",
    "pymysql.install_as_MySQLdb()\n",
    "from sqlalchemy import create_engine\n",
    "\n",
    "engine = create_engine(\"mysql+mysqldb://python:\" + \"python\" + \"@localhost/python_db\"\\\n",
    "    , encoding = 'utf-8')\n",
    "## mysql + mysqldb : ID  + Password + DB name\n",
    "conn = engine.connect()\n",
    "\n",
    "data_df.to_sql(name = 'songs', con = engine, if_exists= 'replace', index=True, index_label='id',\\\n",
    "    dtype={\n",
    "        'id' : sqlalchemy.types.INTEGER(),\n",
    "        'name' :sqlalchemy.types.VARCHAR(100),\n",
    "        'singer' :sqlalchemy.types.VARCHAR(100),\n",
    "        'album' :sqlalchemy.types.VARCHAR(100),\n",
    "        'release_date' :sqlalchemy.DATE, ## Date type\n",
    "        'genre' :sqlalchemy.types.VARCHAR(100),\n",
    "        'lyric' :sqlalchemy.types.VARCHAR(2500)\n",
    "    })\n",
    "\n",
    "conn.close()"
   ]
  },
  {
   "cell_type": "markdown",
   "metadata": {},
   "source": [
    "* DB Table to DataFrame"
   ]
  },
  {
   "cell_type": "code",
   "execution_count": 13,
   "metadata": {},
   "outputs": [
    {
     "output_type": "execute_result",
     "data": {
      "text/plain": "       인구수 행정구역   광역시도\n0   313851  원주시    강원도\n1  1125461  수원시    경기도\n2  1010040  창원시   경상남도\n3   488395  포항시   경상북도\n4   439683   북구  광주광역시",
      "text/html": "<div>\n<style scoped>\n    .dataframe tbody tr th:only-of-type {\n        vertical-align: middle;\n    }\n\n    .dataframe tbody tr th {\n        vertical-align: top;\n    }\n\n    .dataframe thead th {\n        text-align: right;\n    }\n</style>\n<table border=\"1\" class=\"dataframe\">\n  <thead>\n    <tr style=\"text-align: right;\">\n      <th></th>\n      <th>인구수</th>\n      <th>행정구역</th>\n      <th>광역시도</th>\n    </tr>\n  </thead>\n  <tbody>\n    <tr>\n      <th>0</th>\n      <td>313851</td>\n      <td>원주시</td>\n      <td>강원도</td>\n    </tr>\n    <tr>\n      <th>1</th>\n      <td>1125461</td>\n      <td>수원시</td>\n      <td>경기도</td>\n    </tr>\n    <tr>\n      <th>2</th>\n      <td>1010040</td>\n      <td>창원시</td>\n      <td>경상남도</td>\n    </tr>\n    <tr>\n      <th>3</th>\n      <td>488395</td>\n      <td>포항시</td>\n      <td>경상북도</td>\n    </tr>\n    <tr>\n      <th>4</th>\n      <td>439683</td>\n      <td>북구</td>\n      <td>광주광역시</td>\n    </tr>\n  </tbody>\n</table>\n</div>"
     },
     "metadata": {},
     "execution_count": 13
    }
   ],
   "source": [
    "\n",
    "import pymysql\n",
    "import sqlalchemy\n",
    "pymysql.install_as_MySQLdb()\n",
    "from sqlalchemy import create_engine\n",
    "\n",
    "engine = create_engine(\"mysql+mysqldb://python:\" + \"python\" + \"@localhost/python_db\"\\\n",
    "    , encoding = 'utf-8')\n",
    "## mysql + mysqldb : ID  + Password + DB name\n",
    "conn = engine.connect()\n",
    "songs_df = pd.read_sql_table('maxpop', conn)\n",
    "conn.close()\n",
    "\n",
    "songs_df.head()"
   ]
  },
  {
   "cell_type": "markdown",
   "metadata": {},
   "source": [
    "* SQL query to DataFrame"
   ]
  },
  {
   "cell_type": "code",
   "execution_count": 18,
   "metadata": {},
   "outputs": [
    {
     "output_type": "execute_result",
     "data": {
      "text/plain": "   id                      name     singer                  album  \\\n0  10                       아로하        조정석   슬기로운 의사생활 OST Part 3   \n1  14              사랑하게 될 줄 알았어        전미도  슬기로운 의사생활 OST Part 11   \n2  22  흔들리는 꽃들 속에서 네 샴푸향이 느껴진거야        장범준      멜로가 체질 OST Part 3   \n3  27                        시작  가호 (Gaho)     이태원 클라쓰 OST Part.2   \n4  29           좋은 사람 있으면 소개시켜줘   조이 (JOY)   슬기로운 의사생활 OST Part 2   \n\n  release_date        genre                                              lyric  \n0   2020-03-27   발라드, 국내드라마  어두운 불빛아래 촛불 하나와인 잔에 담긴 약속하나항상 너의 곁에서 널 지켜줄거야날 ...  \n1   2020-05-22   발라드, 국내드라마  널 처음 사진으로 본 그날구십구년 일월 삼십일일그날 이후 지금 이 순간까지나 하나만...  \n2   2019-08-23  록/메탈, 국내드라마  흔들리는 꽃들 속에서네 샴푸향이 느껴진거야스쳐지나간건가 뒤돌아보지만그냥 사람들만 보...  \n3   2020-02-01  록/메탈, 국내드라마  새로운 시작은 늘 설레게 하지모든 걸 이겨낼 것처럼시간을 뒤쫓는 시계바늘처럼앞질러 ...  \n4   2020-03-20   발라드, 국내드라마  좋은 사람 있으면 소개시켜줘때로는 물처럼 때로는 불처럼진심으로 나만을 사랑할 수 있...  ",
      "text/html": "<div>\n<style scoped>\n    .dataframe tbody tr th:only-of-type {\n        vertical-align: middle;\n    }\n\n    .dataframe tbody tr th {\n        vertical-align: top;\n    }\n\n    .dataframe thead th {\n        text-align: right;\n    }\n</style>\n<table border=\"1\" class=\"dataframe\">\n  <thead>\n    <tr style=\"text-align: right;\">\n      <th></th>\n      <th>id</th>\n      <th>name</th>\n      <th>singer</th>\n      <th>album</th>\n      <th>release_date</th>\n      <th>genre</th>\n      <th>lyric</th>\n    </tr>\n  </thead>\n  <tbody>\n    <tr>\n      <th>0</th>\n      <td>10</td>\n      <td>아로하</td>\n      <td>조정석</td>\n      <td>슬기로운 의사생활 OST Part 3</td>\n      <td>2020-03-27</td>\n      <td>발라드, 국내드라마</td>\n      <td>어두운 불빛아래 촛불 하나와인 잔에 담긴 약속하나항상 너의 곁에서 널 지켜줄거야날 ...</td>\n    </tr>\n    <tr>\n      <th>1</th>\n      <td>14</td>\n      <td>사랑하게 될 줄 알았어</td>\n      <td>전미도</td>\n      <td>슬기로운 의사생활 OST Part 11</td>\n      <td>2020-05-22</td>\n      <td>발라드, 국내드라마</td>\n      <td>널 처음 사진으로 본 그날구십구년 일월 삼십일일그날 이후 지금 이 순간까지나 하나만...</td>\n    </tr>\n    <tr>\n      <th>2</th>\n      <td>22</td>\n      <td>흔들리는 꽃들 속에서 네 샴푸향이 느껴진거야</td>\n      <td>장범준</td>\n      <td>멜로가 체질 OST Part 3</td>\n      <td>2019-08-23</td>\n      <td>록/메탈, 국내드라마</td>\n      <td>흔들리는 꽃들 속에서네 샴푸향이 느껴진거야스쳐지나간건가 뒤돌아보지만그냥 사람들만 보...</td>\n    </tr>\n    <tr>\n      <th>3</th>\n      <td>27</td>\n      <td>시작</td>\n      <td>가호 (Gaho)</td>\n      <td>이태원 클라쓰 OST Part.2</td>\n      <td>2020-02-01</td>\n      <td>록/메탈, 국내드라마</td>\n      <td>새로운 시작은 늘 설레게 하지모든 걸 이겨낼 것처럼시간을 뒤쫓는 시계바늘처럼앞질러 ...</td>\n    </tr>\n    <tr>\n      <th>4</th>\n      <td>29</td>\n      <td>좋은 사람 있으면 소개시켜줘</td>\n      <td>조이 (JOY)</td>\n      <td>슬기로운 의사생활 OST Part 2</td>\n      <td>2020-03-20</td>\n      <td>발라드, 국내드라마</td>\n      <td>좋은 사람 있으면 소개시켜줘때로는 물처럼 때로는 불처럼진심으로 나만을 사랑할 수 있...</td>\n    </tr>\n  </tbody>\n</table>\n</div>"
     },
     "metadata": {},
     "execution_count": 18
    }
   ],
   "source": [
    "\n",
    "import pymysql\n",
    "import sqlalchemy\n",
    "pymysql.install_as_MySQLdb()\n",
    "from sqlalchemy import create_engine\n",
    "\n",
    "engine = create_engine(\"mysql+mysqldb://python:\" + \"python\" + \"@localhost/python_db\"\\\n",
    "    , encoding = 'utf-8')\n",
    "## mysql + mysqldb : ID  + Password + DB name\n",
    "conn = engine.connect()\n",
    "\n",
    "# select * from songs where album like \"%OST %\" \n",
    "target = 'OST '\n",
    "sql = \"\"\"select * from songs where album like %s; \"\"\"\n",
    "query_df = pd.read_sql(sql,con = conn, params = ('%' + target + '%', ))\n",
    "conn.close()\n",
    "\n",
    "query_df.head()"
   ]
  }
 ]
}