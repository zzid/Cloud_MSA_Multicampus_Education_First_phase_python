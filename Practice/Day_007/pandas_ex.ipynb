{
 "metadata": {
  "language_info": {
   "codemirror_mode": {
    "name": "ipython",
    "version": 3
   },
   "file_extension": ".py",
   "mimetype": "text/x-python",
   "name": "python",
   "nbconvert_exporter": "python",
   "pygments_lexer": "ipython3",
   "version": 3
  },
  "orig_nbformat": 2,
  "kernelspec": {
   "name": "python_defaultSpec_1595401282398",
   "display_name": "Python 3.7.0 64-bit ('base': conda)"
  }
 },
 "nbformat": 4,
 "nbformat_minor": 2,
 "cells": [
  {
   "cell_type": "markdown",
   "metadata": {},
   "source": [
    "## Pandas API\n",
    "* Analysing the \"Administrative area data\"\n",
    "* Read csv file"
   ]
  },
  {
   "cell_type": "code",
   "execution_count": 121,
   "metadata": {
    "tags": []
   },
   "outputs": [
    {
     "output_type": "execute_result",
     "data": {
      "text/plain": "   Unnamed: 0     인구수 shortName   x  y       면적 광역시도 행정구역\n0           0  202520        강릉  11  4  1040.07  강원도  강릉시\n1           1   25589    고성(강원)   9  0   664.19  강원도  고성군\n2           2   86747        동해  11  5   180.01  강원도  동해시\n3           3   63986        삼척  11  8  1185.80  강원도  삼척시\n4           4   76733        속초   9  1   105.25  강원도  속초시",
      "text/html": "<div>\n<style scoped>\n    .dataframe tbody tr th:only-of-type {\n        vertical-align: middle;\n    }\n\n    .dataframe tbody tr th {\n        vertical-align: top;\n    }\n\n    .dataframe thead th {\n        text-align: right;\n    }\n</style>\n<table border=\"1\" class=\"dataframe\">\n  <thead>\n    <tr style=\"text-align: right;\">\n      <th></th>\n      <th>Unnamed: 0</th>\n      <th>인구수</th>\n      <th>shortName</th>\n      <th>x</th>\n      <th>y</th>\n      <th>면적</th>\n      <th>광역시도</th>\n      <th>행정구역</th>\n    </tr>\n  </thead>\n  <tbody>\n    <tr>\n      <th>0</th>\n      <td>0</td>\n      <td>202520</td>\n      <td>강릉</td>\n      <td>11</td>\n      <td>4</td>\n      <td>1040.07</td>\n      <td>강원도</td>\n      <td>강릉시</td>\n    </tr>\n    <tr>\n      <th>1</th>\n      <td>1</td>\n      <td>25589</td>\n      <td>고성(강원)</td>\n      <td>9</td>\n      <td>0</td>\n      <td>664.19</td>\n      <td>강원도</td>\n      <td>고성군</td>\n    </tr>\n    <tr>\n      <th>2</th>\n      <td>2</td>\n      <td>86747</td>\n      <td>동해</td>\n      <td>11</td>\n      <td>5</td>\n      <td>180.01</td>\n      <td>강원도</td>\n      <td>동해시</td>\n    </tr>\n    <tr>\n      <th>3</th>\n      <td>3</td>\n      <td>63986</td>\n      <td>삼척</td>\n      <td>11</td>\n      <td>8</td>\n      <td>1185.80</td>\n      <td>강원도</td>\n      <td>삼척시</td>\n    </tr>\n    <tr>\n      <th>4</th>\n      <td>4</td>\n      <td>76733</td>\n      <td>속초</td>\n      <td>9</td>\n      <td>1</td>\n      <td>105.25</td>\n      <td>강원도</td>\n      <td>속초시</td>\n    </tr>\n  </tbody>\n</table>\n</div>"
     },
     "metadata": {},
     "execution_count": 121
    }
   ],
   "source": [
    "import pandas as pd\n",
    "data = pd.read_csv('data_draw_korea.csv') # simillar with 'R' language\n",
    "# print(type(data)) # > <class 'pandas.core.frame.DataFrame'>\n",
    "data.head() ## Default # of head() is '5'\n",
    "# data.head(10)\n",
    "# data.tail() ## Default is also '5'\n",
    "\n",
    "# data.columns # > Index(['Unnamed: 0', '인구수', 'shortName', 'x', 'y', '면적', '광역시도', '행정구역'], dtype='object')\n",
    "\n",
    "# data.index # > RangeIndex(start=0, stop=229, step=1)\n",
    "\n",
    "# data.shape # (229, 8)\n",
    "\n",
    "# data.info() ## info() >> DataFrame's metadata\n",
    "\n",
    "# data.index # > RangeIndex(start=0, stop=229, step=1)\n",
    "\n",
    "# data.shape # (229, 8)\n",
    "\n",
    "# data.info() ## info() >> DataFrame's metadata\n",
    "\n",
    "# data.describe() ## show statics of int type columns only \n",
    "\n",
    "# data['인구수'] ## Get one column (Series type)\n",
    "\n",
    "# data['인구수'].head()\n",
    "\n"
   ]
  },
  {
   "cell_type": "code",
   "execution_count": 122,
   "metadata": {
    "tags": []
   },
   "outputs": [
    {
     "output_type": "execute_result",
     "data": {
      "text/plain": "       Unnamed: 0           인구수           x           y           면적\ncount  229.000000  2.290000e+02  229.000000  229.000000   229.000000\nmean   114.000000  2.110898e+05    6.117904   11.262009   435.419795\nstd     66.250786  2.074378e+05    3.320469    6.040898   381.612549\nmin      0.000000  8.392000e+03    0.000000    0.000000     2.800000\n25%     57.000000  4.955900e+04    3.000000    6.000000    54.000000\n50%    114.000000  1.401590e+05    6.000000   11.000000   436.400000\n75%    171.000000  3.216180e+05    9.000000   16.000000   692.800000\nmax    228.000000  1.125461e+06   13.000000   25.000000  1817.940000",
      "text/html": "<div>\n<style scoped>\n    .dataframe tbody tr th:only-of-type {\n        vertical-align: middle;\n    }\n\n    .dataframe tbody tr th {\n        vertical-align: top;\n    }\n\n    .dataframe thead th {\n        text-align: right;\n    }\n</style>\n<table border=\"1\" class=\"dataframe\">\n  <thead>\n    <tr style=\"text-align: right;\">\n      <th></th>\n      <th>Unnamed: 0</th>\n      <th>인구수</th>\n      <th>x</th>\n      <th>y</th>\n      <th>면적</th>\n    </tr>\n  </thead>\n  <tbody>\n    <tr>\n      <th>count</th>\n      <td>229.000000</td>\n      <td>2.290000e+02</td>\n      <td>229.000000</td>\n      <td>229.000000</td>\n      <td>229.000000</td>\n    </tr>\n    <tr>\n      <th>mean</th>\n      <td>114.000000</td>\n      <td>2.110898e+05</td>\n      <td>6.117904</td>\n      <td>11.262009</td>\n      <td>435.419795</td>\n    </tr>\n    <tr>\n      <th>std</th>\n      <td>66.250786</td>\n      <td>2.074378e+05</td>\n      <td>3.320469</td>\n      <td>6.040898</td>\n      <td>381.612549</td>\n    </tr>\n    <tr>\n      <th>min</th>\n      <td>0.000000</td>\n      <td>8.392000e+03</td>\n      <td>0.000000</td>\n      <td>0.000000</td>\n      <td>2.800000</td>\n    </tr>\n    <tr>\n      <th>25%</th>\n      <td>57.000000</td>\n      <td>4.955900e+04</td>\n      <td>3.000000</td>\n      <td>6.000000</td>\n      <td>54.000000</td>\n    </tr>\n    <tr>\n      <th>50%</th>\n      <td>114.000000</td>\n      <td>1.401590e+05</td>\n      <td>6.000000</td>\n      <td>11.000000</td>\n      <td>436.400000</td>\n    </tr>\n    <tr>\n      <th>75%</th>\n      <td>171.000000</td>\n      <td>3.216180e+05</td>\n      <td>9.000000</td>\n      <td>16.000000</td>\n      <td>692.800000</td>\n    </tr>\n    <tr>\n      <th>max</th>\n      <td>228.000000</td>\n      <td>1.125461e+06</td>\n      <td>13.000000</td>\n      <td>25.000000</td>\n      <td>1817.940000</td>\n    </tr>\n  </tbody>\n</table>\n</div>"
     },
     "metadata": {},
     "execution_count": 122
    }
   ],
   "source": [
    "data.describe() ## show statics of int type columns only "
   ]
  },
  {
   "cell_type": "code",
   "execution_count": 123,
   "metadata": {
    "tags": []
   },
   "outputs": [
    {
     "output_type": "stream",
     "name": "stdout",
     "text": "인구수(최대) :  1125461\n인구수(최소) :  8392\n인구수(평균) :  211089.77729257641\n면적(최대) :  1817.94\n면적(최소) :  2.8\n면적(평균) :  435.41979475982555\n"
    }
   ],
   "source": [
    "print('인구수(최대) : ', data['인구수'].max())\n",
    "print('인구수(최소) : ', data['인구수'].min())\n",
    "print('인구수(평균) : ', data['인구수'].mean())\n",
    "\n",
    "print('면적(최대) : ', data['면적'].max())\n",
    "print('면적(최소) : ', data['면적'].min())\n",
    "print('면적(평균) : ', data['면적'].mean())"
   ]
  },
  {
   "cell_type": "code",
   "execution_count": 124,
   "metadata": {},
   "outputs": [
    {
     "output_type": "execute_result",
     "data": {
      "text/plain": "   Unnamed: 0     인구수 shortName   x  y       면적 광역시도 행정구역\n0           0  202520        강릉  11  4  1040.07  강원도  강릉시\n1           1   25589    고성(강원)   9  0   664.19  강원도  고성군",
      "text/html": "<div>\n<style scoped>\n    .dataframe tbody tr th:only-of-type {\n        vertical-align: middle;\n    }\n\n    .dataframe tbody tr th {\n        vertical-align: top;\n    }\n\n    .dataframe thead th {\n        text-align: right;\n    }\n</style>\n<table border=\"1\" class=\"dataframe\">\n  <thead>\n    <tr style=\"text-align: right;\">\n      <th></th>\n      <th>Unnamed: 0</th>\n      <th>인구수</th>\n      <th>shortName</th>\n      <th>x</th>\n      <th>y</th>\n      <th>면적</th>\n      <th>광역시도</th>\n      <th>행정구역</th>\n    </tr>\n  </thead>\n  <tbody>\n    <tr>\n      <th>0</th>\n      <td>0</td>\n      <td>202520</td>\n      <td>강릉</td>\n      <td>11</td>\n      <td>4</td>\n      <td>1040.07</td>\n      <td>강원도</td>\n      <td>강릉시</td>\n    </tr>\n    <tr>\n      <th>1</th>\n      <td>1</td>\n      <td>25589</td>\n      <td>고성(강원)</td>\n      <td>9</td>\n      <td>0</td>\n      <td>664.19</td>\n      <td>강원도</td>\n      <td>고성군</td>\n    </tr>\n  </tbody>\n</table>\n</div>"
     },
     "metadata": {},
     "execution_count": 124
    }
   ],
   "source": [
    "data.head(2)"
   ]
  },
  {
   "cell_type": "code",
   "execution_count": 125,
   "metadata": {},
   "outputs": [
    {
     "output_type": "execute_result",
     "data": {
      "text/plain": "   seq     인구수 shortName   x  y       면적 광역시도 행정구역\n0    0  202520        강릉  11  4  1040.07  강원도  강릉시\n1    1   25589    고성(강원)   9  0   664.19  강원도  고성군",
      "text/html": "<div>\n<style scoped>\n    .dataframe tbody tr th:only-of-type {\n        vertical-align: middle;\n    }\n\n    .dataframe tbody tr th {\n        vertical-align: top;\n    }\n\n    .dataframe thead th {\n        text-align: right;\n    }\n</style>\n<table border=\"1\" class=\"dataframe\">\n  <thead>\n    <tr style=\"text-align: right;\">\n      <th></th>\n      <th>seq</th>\n      <th>인구수</th>\n      <th>shortName</th>\n      <th>x</th>\n      <th>y</th>\n      <th>면적</th>\n      <th>광역시도</th>\n      <th>행정구역</th>\n    </tr>\n  </thead>\n  <tbody>\n    <tr>\n      <th>0</th>\n      <td>0</td>\n      <td>202520</td>\n      <td>강릉</td>\n      <td>11</td>\n      <td>4</td>\n      <td>1040.07</td>\n      <td>강원도</td>\n      <td>강릉시</td>\n    </tr>\n    <tr>\n      <th>1</th>\n      <td>1</td>\n      <td>25589</td>\n      <td>고성(강원)</td>\n      <td>9</td>\n      <td>0</td>\n      <td>664.19</td>\n      <td>강원도</td>\n      <td>고성군</td>\n    </tr>\n  </tbody>\n</table>\n</div>"
     },
     "metadata": {},
     "execution_count": 125
    }
   ],
   "source": [
    "data = data.rename(columns = {'Unnamed: 0' : 'seq' }) ## Change column name \n",
    "data.head(2)"
   ]
  },
  {
   "cell_type": "code",
   "execution_count": 126,
   "metadata": {},
   "outputs": [
    {
     "output_type": "execute_result",
     "data": {
      "text/plain": "        인구수 shortName   x  y       면적 광역시도 행정구역\nseq                                            \n0    202520        강릉  11  4  1040.07  강원도  강릉시\n1     25589    고성(강원)   9  0   664.19  강원도  고성군",
      "text/html": "<div>\n<style scoped>\n    .dataframe tbody tr th:only-of-type {\n        vertical-align: middle;\n    }\n\n    .dataframe tbody tr th {\n        vertical-align: top;\n    }\n\n    .dataframe thead th {\n        text-align: right;\n    }\n</style>\n<table border=\"1\" class=\"dataframe\">\n  <thead>\n    <tr style=\"text-align: right;\">\n      <th></th>\n      <th>인구수</th>\n      <th>shortName</th>\n      <th>x</th>\n      <th>y</th>\n      <th>면적</th>\n      <th>광역시도</th>\n      <th>행정구역</th>\n    </tr>\n    <tr>\n      <th>seq</th>\n      <th></th>\n      <th></th>\n      <th></th>\n      <th></th>\n      <th></th>\n      <th></th>\n      <th></th>\n    </tr>\n  </thead>\n  <tbody>\n    <tr>\n      <th>0</th>\n      <td>202520</td>\n      <td>강릉</td>\n      <td>11</td>\n      <td>4</td>\n      <td>1040.07</td>\n      <td>강원도</td>\n      <td>강릉시</td>\n    </tr>\n    <tr>\n      <th>1</th>\n      <td>25589</td>\n      <td>고성(강원)</td>\n      <td>9</td>\n      <td>0</td>\n      <td>664.19</td>\n      <td>강원도</td>\n      <td>고성군</td>\n    </tr>\n  </tbody>\n</table>\n</div>"
     },
     "metadata": {},
     "execution_count": 126
    }
   ],
   "source": [
    "data = data.set_index('seq') ## Change 'seq' col to index\n",
    "data.head(2)"
   ]
  },
  {
   "cell_type": "markdown",
   "metadata": {},
   "source": [
    "### Select specific column and row\n",
    "* Select specific cols, rows ( loc[], iloc[] )\n",
    "* Select cols, rows with slicing \n",
    "* Boolean indexing - select the row which satisfy the condition\n"
   ]
  },
  {
   "cell_type": "code",
   "execution_count": 127,
   "metadata": {},
   "outputs": [
    {
     "output_type": "execute_result",
     "data": {
      "text/plain": "        인구수 행정구역  광역시도\nseq                   \n224  127462  제천시  충청북도\n225   34480  증평군  충청북도\n226   62809  진천군  충청북도\n227  790216  청주시  충청북도\n228  198077  충주시  충청북도",
      "text/html": "<div>\n<style scoped>\n    .dataframe tbody tr th:only-of-type {\n        vertical-align: middle;\n    }\n\n    .dataframe tbody tr th {\n        vertical-align: top;\n    }\n\n    .dataframe thead th {\n        text-align: right;\n    }\n</style>\n<table border=\"1\" class=\"dataframe\">\n  <thead>\n    <tr style=\"text-align: right;\">\n      <th></th>\n      <th>인구수</th>\n      <th>행정구역</th>\n      <th>광역시도</th>\n    </tr>\n    <tr>\n      <th>seq</th>\n      <th></th>\n      <th></th>\n      <th></th>\n    </tr>\n  </thead>\n  <tbody>\n    <tr>\n      <th>224</th>\n      <td>127462</td>\n      <td>제천시</td>\n      <td>충청북도</td>\n    </tr>\n    <tr>\n      <th>225</th>\n      <td>34480</td>\n      <td>증평군</td>\n      <td>충청북도</td>\n    </tr>\n    <tr>\n      <th>226</th>\n      <td>62809</td>\n      <td>진천군</td>\n      <td>충청북도</td>\n    </tr>\n    <tr>\n      <th>227</th>\n      <td>790216</td>\n      <td>청주시</td>\n      <td>충청북도</td>\n    </tr>\n    <tr>\n      <th>228</th>\n      <td>198077</td>\n      <td>충주시</td>\n      <td>충청북도</td>\n    </tr>\n  </tbody>\n</table>\n</div>"
     },
     "metadata": {},
     "execution_count": 127
    }
   ],
   "source": [
    "# data.loc[:,'인구수'] ##  [row, col]\n",
    "data.loc[:,'인구수'] ##  [row, col]\n",
    "data.loc[:,['인구수', '행정구역', '광역시도']].tail(5)"
   ]
  },
  {
   "cell_type": "code",
   "execution_count": 128,
   "metadata": {},
   "outputs": [
    {
     "output_type": "execute_result",
     "data": {
      "text/plain": "        인구수 shortName   x  y       면적\nseq                                  \n0    202520        강릉  11  4  1040.07\n1     25589    고성(강원)   9  0   664.19\n2     86747        동해  11  5   180.01\n3     63986        삼척  11  8  1185.80\n4     76733        속초   9  1   105.25",
      "text/html": "<div>\n<style scoped>\n    .dataframe tbody tr th:only-of-type {\n        vertical-align: middle;\n    }\n\n    .dataframe tbody tr th {\n        vertical-align: top;\n    }\n\n    .dataframe thead th {\n        text-align: right;\n    }\n</style>\n<table border=\"1\" class=\"dataframe\">\n  <thead>\n    <tr style=\"text-align: right;\">\n      <th></th>\n      <th>인구수</th>\n      <th>shortName</th>\n      <th>x</th>\n      <th>y</th>\n      <th>면적</th>\n    </tr>\n    <tr>\n      <th>seq</th>\n      <th></th>\n      <th></th>\n      <th></th>\n      <th></th>\n      <th></th>\n    </tr>\n  </thead>\n  <tbody>\n    <tr>\n      <th>0</th>\n      <td>202520</td>\n      <td>강릉</td>\n      <td>11</td>\n      <td>4</td>\n      <td>1040.07</td>\n    </tr>\n    <tr>\n      <th>1</th>\n      <td>25589</td>\n      <td>고성(강원)</td>\n      <td>9</td>\n      <td>0</td>\n      <td>664.19</td>\n    </tr>\n    <tr>\n      <th>2</th>\n      <td>86747</td>\n      <td>동해</td>\n      <td>11</td>\n      <td>5</td>\n      <td>180.01</td>\n    </tr>\n    <tr>\n      <th>3</th>\n      <td>63986</td>\n      <td>삼척</td>\n      <td>11</td>\n      <td>8</td>\n      <td>1185.80</td>\n    </tr>\n    <tr>\n      <th>4</th>\n      <td>76733</td>\n      <td>속초</td>\n      <td>9</td>\n      <td>1</td>\n      <td>105.25</td>\n    </tr>\n  </tbody>\n</table>\n</div>"
     },
     "metadata": {},
     "execution_count": 128
    }
   ],
   "source": [
    "# Slicing\n",
    "data.loc[:,'인구수':'면적'].head(5)"
   ]
  },
  {
   "cell_type": "code",
   "execution_count": 129,
   "metadata": {},
   "outputs": [
    {
     "output_type": "execute_result",
     "data": {
      "text/plain": "        인구수 shortName   x   y     면적   광역시도 행정구역\nseq                                             \n100  196378      대구서구   8  14  17.50  대구광역시   서구\n111  271753      부산남구  11  19  25.91  부산광역시   남구\n120  198383      부산연제  11  17  12.08  부산광역시  연제구",
      "text/html": "<div>\n<style scoped>\n    .dataframe tbody tr th:only-of-type {\n        vertical-align: middle;\n    }\n\n    .dataframe tbody tr th {\n        vertical-align: top;\n    }\n\n    .dataframe thead th {\n        text-align: right;\n    }\n</style>\n<table border=\"1\" class=\"dataframe\">\n  <thead>\n    <tr style=\"text-align: right;\">\n      <th></th>\n      <th>인구수</th>\n      <th>shortName</th>\n      <th>x</th>\n      <th>y</th>\n      <th>면적</th>\n      <th>광역시도</th>\n      <th>행정구역</th>\n    </tr>\n    <tr>\n      <th>seq</th>\n      <th></th>\n      <th></th>\n      <th></th>\n      <th></th>\n      <th></th>\n      <th></th>\n      <th></th>\n    </tr>\n  </thead>\n  <tbody>\n    <tr>\n      <th>100</th>\n      <td>196378</td>\n      <td>대구서구</td>\n      <td>8</td>\n      <td>14</td>\n      <td>17.50</td>\n      <td>대구광역시</td>\n      <td>서구</td>\n    </tr>\n    <tr>\n      <th>111</th>\n      <td>271753</td>\n      <td>부산남구</td>\n      <td>11</td>\n      <td>19</td>\n      <td>25.91</td>\n      <td>부산광역시</td>\n      <td>남구</td>\n    </tr>\n    <tr>\n      <th>120</th>\n      <td>198383</td>\n      <td>부산연제</td>\n      <td>11</td>\n      <td>17</td>\n      <td>12.08</td>\n      <td>부산광역시</td>\n      <td>연제구</td>\n    </tr>\n  </tbody>\n</table>\n</div>"
     },
     "metadata": {},
     "execution_count": 129
    }
   ],
   "source": [
    "data.loc[[100,111,120],:]"
   ]
  },
  {
   "cell_type": "code",
   "execution_count": 130,
   "metadata": {},
   "outputs": [
    {
     "output_type": "execute_result",
     "data": {
      "text/plain": "        인구수 shortName   x   y      면적   광역시도  행정구역\nseq                                               \n110  142223      부산기장  12  16  217.90  부산광역시   기장군\n111  271753      부산남구  11  19   25.91  부산광역시    남구\n112   85952      부산동구  10  17    9.77  부산광역시    동구\n113  256584      부산동래  11  16   16.60  부산광역시   동래구\n114  365721     부산부산진  10  16   29.70  부산광역시  부산진구\n115  292375      부산북구   9  16   38.30  부산광역시    북구",
      "text/html": "<div>\n<style scoped>\n    .dataframe tbody tr th:only-of-type {\n        vertical-align: middle;\n    }\n\n    .dataframe tbody tr th {\n        vertical-align: top;\n    }\n\n    .dataframe thead th {\n        text-align: right;\n    }\n</style>\n<table border=\"1\" class=\"dataframe\">\n  <thead>\n    <tr style=\"text-align: right;\">\n      <th></th>\n      <th>인구수</th>\n      <th>shortName</th>\n      <th>x</th>\n      <th>y</th>\n      <th>면적</th>\n      <th>광역시도</th>\n      <th>행정구역</th>\n    </tr>\n    <tr>\n      <th>seq</th>\n      <th></th>\n      <th></th>\n      <th></th>\n      <th></th>\n      <th></th>\n      <th></th>\n      <th></th>\n    </tr>\n  </thead>\n  <tbody>\n    <tr>\n      <th>110</th>\n      <td>142223</td>\n      <td>부산기장</td>\n      <td>12</td>\n      <td>16</td>\n      <td>217.90</td>\n      <td>부산광역시</td>\n      <td>기장군</td>\n    </tr>\n    <tr>\n      <th>111</th>\n      <td>271753</td>\n      <td>부산남구</td>\n      <td>11</td>\n      <td>19</td>\n      <td>25.91</td>\n      <td>부산광역시</td>\n      <td>남구</td>\n    </tr>\n    <tr>\n      <th>112</th>\n      <td>85952</td>\n      <td>부산동구</td>\n      <td>10</td>\n      <td>17</td>\n      <td>9.77</td>\n      <td>부산광역시</td>\n      <td>동구</td>\n    </tr>\n    <tr>\n      <th>113</th>\n      <td>256584</td>\n      <td>부산동래</td>\n      <td>11</td>\n      <td>16</td>\n      <td>16.60</td>\n      <td>부산광역시</td>\n      <td>동래구</td>\n    </tr>\n    <tr>\n      <th>114</th>\n      <td>365721</td>\n      <td>부산부산진</td>\n      <td>10</td>\n      <td>16</td>\n      <td>29.70</td>\n      <td>부산광역시</td>\n      <td>부산진구</td>\n    </tr>\n    <tr>\n      <th>115</th>\n      <td>292375</td>\n      <td>부산북구</td>\n      <td>9</td>\n      <td>16</td>\n      <td>38.30</td>\n      <td>부산광역시</td>\n      <td>북구</td>\n    </tr>\n  </tbody>\n</table>\n</div>"
     },
     "metadata": {},
     "execution_count": 130
    }
   ],
   "source": [
    "# Slicing\n",
    "data.loc[110:115,:]"
   ]
  },
  {
   "cell_type": "code",
   "execution_count": 133,
   "metadata": {
    "tags": []
   },
   "outputs": [
    {
     "output_type": "stream",
     "name": "stdout",
     "text": "행정구역 광역시도\nseq          \n0    강릉시  강원도\n1    고성군  강원도\n2    동해시  강원도\n3    삼척시  강원도\n4    속초시  강원도\n5    양구군  강원도\n6    양양군  강원도\n7    영월군  강원도\n8    원주시  강원도\n9    인제군  강원도\n10   정선군  강원도\n11   철원군  강원도\n12   춘천시  강원도\n13   태백시  강원도\n14   평창군  강원도\n15   홍천군  강원도\n16   화천군  강원도\n17   횡성군  강원도\n18   가평군  경기도\n19   고양시  경기도 \n\n         인구수 shortName   x  y        면적\nseq                                    \n10     34242        정선  11  6  1220.670\n20     63227        과천   7  7    35.813\n30   1125461        수원   6  9   121.090\n"
    }
   ],
   "source": [
    "# 1. Get 20 rows, by cols '행정구역', '광역시도'\n",
    "cols = ['행정구역', '광역시도']\n",
    "print(data.loc[:,cols].head(20), '\\n')\n",
    "\n",
    "# 2. Get 10th, 20th, 30th row, by cols '인구수' ~ '면적'\n",
    "print(data.loc[[10,20,30], '인구수' : '면적'])"
   ]
  },
  {
   "cell_type": "code",
   "execution_count": null,
   "metadata": {},
   "outputs": [],
   "source": []
  }
 ]
}