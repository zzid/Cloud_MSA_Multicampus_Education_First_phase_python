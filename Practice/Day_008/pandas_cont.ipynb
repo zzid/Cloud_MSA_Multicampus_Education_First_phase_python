{
 "metadata": {
  "language_info": {
   "codemirror_mode": {
    "name": "ipython",
    "version": 3
   },
   "file_extension": ".py",
   "mimetype": "text/x-python",
   "name": "python",
   "nbconvert_exporter": "python",
   "pygments_lexer": "ipython3",
   "version": 3
  },
  "orig_nbformat": 2,
  "kernelspec": {
   "name": "python_defaultSpec_1595486761707",
   "display_name": "Python 3.7.0 64-bit ('base': conda)"
  }
 },
 "nbformat": 4,
 "nbformat_minor": 2,
 "cells": [
  {
   "cell_type": "markdown",
   "metadata": {},
   "source": [
    "## Pandas API(Cont')"
   ]
  },
  {
   "cell_type": "code",
   "execution_count": 24,
   "metadata": {
    "tags": []
   },
   "outputs": [
    {
     "output_type": "execute_result",
     "data": {
      "text/plain": "       Unnamed: 0           인구수           x           y           면적\ncount  229.000000  2.290000e+02  229.000000  229.000000   229.000000\nmean   114.000000  2.110898e+05    6.117904   11.262009   435.419795\nstd     66.250786  2.074378e+05    3.320469    6.040898   381.612549\nmin      0.000000  8.392000e+03    0.000000    0.000000     2.800000\n25%     57.000000  4.955900e+04    3.000000    6.000000    54.000000\n50%    114.000000  1.401590e+05    6.000000   11.000000   436.400000\n75%    171.000000  3.216180e+05    9.000000   16.000000   692.800000\nmax    228.000000  1.125461e+06   13.000000   25.000000  1817.940000",
      "text/html": "<div>\n<style scoped>\n    .dataframe tbody tr th:only-of-type {\n        vertical-align: middle;\n    }\n\n    .dataframe tbody tr th {\n        vertical-align: top;\n    }\n\n    .dataframe thead th {\n        text-align: right;\n    }\n</style>\n<table border=\"1\" class=\"dataframe\">\n  <thead>\n    <tr style=\"text-align: right;\">\n      <th></th>\n      <th>Unnamed: 0</th>\n      <th>인구수</th>\n      <th>x</th>\n      <th>y</th>\n      <th>면적</th>\n    </tr>\n  </thead>\n  <tbody>\n    <tr>\n      <th>count</th>\n      <td>229.000000</td>\n      <td>2.290000e+02</td>\n      <td>229.000000</td>\n      <td>229.000000</td>\n      <td>229.000000</td>\n    </tr>\n    <tr>\n      <th>mean</th>\n      <td>114.000000</td>\n      <td>2.110898e+05</td>\n      <td>6.117904</td>\n      <td>11.262009</td>\n      <td>435.419795</td>\n    </tr>\n    <tr>\n      <th>std</th>\n      <td>66.250786</td>\n      <td>2.074378e+05</td>\n      <td>3.320469</td>\n      <td>6.040898</td>\n      <td>381.612549</td>\n    </tr>\n    <tr>\n      <th>min</th>\n      <td>0.000000</td>\n      <td>8.392000e+03</td>\n      <td>0.000000</td>\n      <td>0.000000</td>\n      <td>2.800000</td>\n    </tr>\n    <tr>\n      <th>25%</th>\n      <td>57.000000</td>\n      <td>4.955900e+04</td>\n      <td>3.000000</td>\n      <td>6.000000</td>\n      <td>54.000000</td>\n    </tr>\n    <tr>\n      <th>50%</th>\n      <td>114.000000</td>\n      <td>1.401590e+05</td>\n      <td>6.000000</td>\n      <td>11.000000</td>\n      <td>436.400000</td>\n    </tr>\n    <tr>\n      <th>75%</th>\n      <td>171.000000</td>\n      <td>3.216180e+05</td>\n      <td>9.000000</td>\n      <td>16.000000</td>\n      <td>692.800000</td>\n    </tr>\n    <tr>\n      <th>max</th>\n      <td>228.000000</td>\n      <td>1.125461e+06</td>\n      <td>13.000000</td>\n      <td>25.000000</td>\n      <td>1817.940000</td>\n    </tr>\n  </tbody>\n</table>\n</div>"
     },
     "metadata": {},
     "execution_count": 24
    }
   ],
   "source": [
    "import pandas as pd\n",
    "\n",
    "data = pd.read_csv('../Day_7/data_draw_korea.csv')\n",
    "data.describe()\n"
   ]
  },
  {
   "cell_type": "code",
   "execution_count": 25,
   "metadata": {
    "tags": []
   },
   "outputs": [
    {
     "output_type": "stream",
     "name": "stdout",
     "text": "표준편차 :  207437.8370475227\n"
    }
   ],
   "source": [
    "data = data.rename(columns = {'Unnamed: 0' : 'seq' })\n",
    "data = data.set_index('seq')\n",
    "print('표준편차 : ', data['인구수'].std())"
   ]
  },
  {
   "cell_type": "code",
   "execution_count": 26,
   "metadata": {},
   "outputs": [
    {
     "output_type": "execute_result",
     "data": {
      "text/plain": "        인구수 shortName   x\nseq                      \n0    202520        강릉  11\n1     25589    고성(강원)   9\n2     86747        동해  11",
      "text/html": "<div>\n<style scoped>\n    .dataframe tbody tr th:only-of-type {\n        vertical-align: middle;\n    }\n\n    .dataframe tbody tr th {\n        vertical-align: top;\n    }\n\n    .dataframe thead th {\n        text-align: right;\n    }\n</style>\n<table border=\"1\" class=\"dataframe\">\n  <thead>\n    <tr style=\"text-align: right;\">\n      <th></th>\n      <th>인구수</th>\n      <th>shortName</th>\n      <th>x</th>\n    </tr>\n    <tr>\n      <th>seq</th>\n      <th></th>\n      <th></th>\n      <th></th>\n    </tr>\n  </thead>\n  <tbody>\n    <tr>\n      <th>0</th>\n      <td>202520</td>\n      <td>강릉</td>\n      <td>11</td>\n    </tr>\n    <tr>\n      <th>1</th>\n      <td>25589</td>\n      <td>고성(강원)</td>\n      <td>9</td>\n    </tr>\n    <tr>\n      <th>2</th>\n      <td>86747</td>\n      <td>동해</td>\n      <td>11</td>\n    </tr>\n  </tbody>\n</table>\n</div>"
     },
     "metadata": {},
     "execution_count": 26
    }
   ],
   "source": [
    "data.iloc[0:3, 0:3] ## based on \"Index\""
   ]
  },
  {
   "cell_type": "code",
   "execution_count": 27,
   "metadata": {},
   "outputs": [
    {
     "output_type": "execute_result",
     "data": {
      "text/plain": "array(['강릉시', '고성군', '동해시', '삼척시', '속초시', '양구군', '양양군', '영월군', '원주시',\n       '인제군', '정선군', '철원군', '춘천시', '태백시', '평창군', '홍천군', '화천군', '횡성군',\n       '가평군', '고양시', '과천시', '광명시', '광주시', '구리시', '군포시', '김포시', '남양주시',\n       '동두천시', '부천시', '성남시', '수원시', '시흥시', '안산시', '안성시', '안양시', '양주시',\n       '양평군', '여주시', '연천군', '오산시', '용인시', '의왕시', '의정부시', '이천시', '파주시',\n       '평택시', '포천시', '하남시', '화성시', '거제시', '거창군', '김해시', '남해군', '밀양시',\n       '사천시', '산청군', '양산시', '의령군', '진주시', '창녕군', '창원시', '통영시', '하동군',\n       '함안군', '함양군', '합천군', '경산시', '경주시', '고령군', '구미시', '군위군', '김천시',\n       '문경시', '봉화군', '상주시', '성주군', '안동시', '영덕군', '영양군', '영주시', '영천시',\n       '예천군', '울릉군', '울진군', '의성군', '청도군', '청송군', '칠곡군', '포항시', '광산구',\n       '남구', '동구', '북구', '서구', '달서구', '달성군', '수성구', '중구', '대덕구', '유성구',\n       '강서구', '금정구', '기장군', '동래구', '부산진구', '사상구', '사하구', '수영구', '연제구',\n       '영도구', '해운대구', '강남구', '강동구', '강북구', '관악구', '광진구', '구로구', '금천구',\n       '노원구', '도봉구', '동대문구', '동작구', '마포구', '서대문구', '서초구', '성동구', '성북구',\n       '송파구', '양천구', '영등포구', '용산구', '은평구', '종로구', '중랑구', '세종시', '울주군',\n       '강화군', '계양구', '남동구', '부평구', '연수구', '옹진군', '강진군', '고흥군', '곡성군',\n       '광양시', '구례군', '나주시', '담양군', '목포시', '무안군', '보성군', '순천시', '신안군',\n       '여수시', '영광군', '영암군', '완도군', '장성군', '장흥군', '진도군', '함평군', '해남군',\n       '화순군', '고창군', '군산시', '김제시', '남원시', '무주군', '부안군', '순창군', '완주군',\n       '익산시', '임실군', '장수군', '전주시', '정읍시', '진안군', '서귀포시', '제주시', '계룡시',\n       '공주시', '금산군', '논산시', '당진시', '보령시', '부여군', '서산시', '서천군', '아산시',\n       '예산군', '천안시', '청양군', '태안군', '홍성군', '괴산군', '단양군', '보은군', '영동군',\n       '옥천군', '음성군', '제천시', '증평군', '진천군', '청주시', '충주시'], dtype=object)"
     },
     "metadata": {},
     "execution_count": 27
    }
   ],
   "source": [
    "data['행정구역'].unique() ## simillar with [SQL DISTINCT]"
   ]
  },
  {
   "cell_type": "code",
   "execution_count": 28,
   "metadata": {},
   "outputs": [
    {
     "output_type": "execute_result",
     "data": {
      "text/plain": "경기도        31\n서울특별시      25\n경상북도       23\n전라남도       22\n강원도        18\n경상남도       18\n부산광역시      16\n충청남도       15\n전라북도       14\n충청북도       11\n인천광역시      10\n대구광역시       8\n대전광역시       5\n울산광역시       5\n광주광역시       5\n제주특별자치도     2\n세종특별자치시     1\nName: 광역시도, dtype: int64"
     },
     "metadata": {},
     "execution_count": 28
    }
   ],
   "source": [
    "data['광역시도'].value_counts()"
   ]
  },
  {
   "cell_type": "code",
   "execution_count": 29,
   "metadata": {},
   "outputs": [
    {
     "output_type": "execute_result",
     "data": {
      "text/plain": "        인구수 shortName  x  y     면적   광역시도  행정구역\nseq                                            \n124  526157      서울강남  6  7  39.50  서울특별시   강남구\n125  432028      서울강동  8  5  24.60  서울특별시   강동구\n126  310292      서울강북  5  2  23.60  서울특별시   강북구\n127  554709      서울강서  4  4  41.40  서울특별시   강서구\n128  484478      서울관악  5  6  29.60  서울특별시   관악구\n129  342909      서울광진  7  6  17.05  서울특별시   광진구\n130  401233      서울구로  4  7  20.11  서울특별시   구로구\n131  222566      서울금천  5  7  13.01  서울특별시   금천구\n132  547202      서울노원  6  1  35.44  서울특별시   노원구\n133  331682      서울도봉  5  1  20.80  서울특별시   도봉구\n134  342429     서울동대문  7  4  14.20  서울특별시  동대문구\n135  383917      서울동작  5  5  16.36  서울특별시   동작구\n136  364232      서울마포  5  4  23.87  서울특별시   마포구\n137  288543     서울서대문  5  3  17.60  서울특별시  서대문구\n138  407416      서울서초  6  6  47.04  서울특별시   서초구\n139  279939      서울성동  7  5  16.85  서울특별시   성동구\n140  434061      서울성북  6  2  24.57  서울특별시   성북구\n141  615487      서울송파  8  6  33.90  서울특별시   송파구\n142  453634      서울양천  4  5  17.40  서울특별시   양천구\n143  351837     서울영등포  4  6  24.56  서울특별시  영등포구\n144  208603      서울용산  6  5  21.87  서울특별시   용산구\n145  464236      서울은평  4  3  29.70  서울특별시   은평구\n146  140595      서울종로  6  3  23.90  서울특별시   종로구\n147  114967      서울중구  6  4   9.96  서울특별시    중구\n148  391655      서울중랑  8  4  18.50  서울특별시   중랑구",
      "text/html": "<div>\n<style scoped>\n    .dataframe tbody tr th:only-of-type {\n        vertical-align: middle;\n    }\n\n    .dataframe tbody tr th {\n        vertical-align: top;\n    }\n\n    .dataframe thead th {\n        text-align: right;\n    }\n</style>\n<table border=\"1\" class=\"dataframe\">\n  <thead>\n    <tr style=\"text-align: right;\">\n      <th></th>\n      <th>인구수</th>\n      <th>shortName</th>\n      <th>x</th>\n      <th>y</th>\n      <th>면적</th>\n      <th>광역시도</th>\n      <th>행정구역</th>\n    </tr>\n    <tr>\n      <th>seq</th>\n      <th></th>\n      <th></th>\n      <th></th>\n      <th></th>\n      <th></th>\n      <th></th>\n      <th></th>\n    </tr>\n  </thead>\n  <tbody>\n    <tr>\n      <th>124</th>\n      <td>526157</td>\n      <td>서울강남</td>\n      <td>6</td>\n      <td>7</td>\n      <td>39.50</td>\n      <td>서울특별시</td>\n      <td>강남구</td>\n    </tr>\n    <tr>\n      <th>125</th>\n      <td>432028</td>\n      <td>서울강동</td>\n      <td>8</td>\n      <td>5</td>\n      <td>24.60</td>\n      <td>서울특별시</td>\n      <td>강동구</td>\n    </tr>\n    <tr>\n      <th>126</th>\n      <td>310292</td>\n      <td>서울강북</td>\n      <td>5</td>\n      <td>2</td>\n      <td>23.60</td>\n      <td>서울특별시</td>\n      <td>강북구</td>\n    </tr>\n    <tr>\n      <th>127</th>\n      <td>554709</td>\n      <td>서울강서</td>\n      <td>4</td>\n      <td>4</td>\n      <td>41.40</td>\n      <td>서울특별시</td>\n      <td>강서구</td>\n    </tr>\n    <tr>\n      <th>128</th>\n      <td>484478</td>\n      <td>서울관악</td>\n      <td>5</td>\n      <td>6</td>\n      <td>29.60</td>\n      <td>서울특별시</td>\n      <td>관악구</td>\n    </tr>\n    <tr>\n      <th>129</th>\n      <td>342909</td>\n      <td>서울광진</td>\n      <td>7</td>\n      <td>6</td>\n      <td>17.05</td>\n      <td>서울특별시</td>\n      <td>광진구</td>\n    </tr>\n    <tr>\n      <th>130</th>\n      <td>401233</td>\n      <td>서울구로</td>\n      <td>4</td>\n      <td>7</td>\n      <td>20.11</td>\n      <td>서울특별시</td>\n      <td>구로구</td>\n    </tr>\n    <tr>\n      <th>131</th>\n      <td>222566</td>\n      <td>서울금천</td>\n      <td>5</td>\n      <td>7</td>\n      <td>13.01</td>\n      <td>서울특별시</td>\n      <td>금천구</td>\n    </tr>\n    <tr>\n      <th>132</th>\n      <td>547202</td>\n      <td>서울노원</td>\n      <td>6</td>\n      <td>1</td>\n      <td>35.44</td>\n      <td>서울특별시</td>\n      <td>노원구</td>\n    </tr>\n    <tr>\n      <th>133</th>\n      <td>331682</td>\n      <td>서울도봉</td>\n      <td>5</td>\n      <td>1</td>\n      <td>20.80</td>\n      <td>서울특별시</td>\n      <td>도봉구</td>\n    </tr>\n    <tr>\n      <th>134</th>\n      <td>342429</td>\n      <td>서울동대문</td>\n      <td>7</td>\n      <td>4</td>\n      <td>14.20</td>\n      <td>서울특별시</td>\n      <td>동대문구</td>\n    </tr>\n    <tr>\n      <th>135</th>\n      <td>383917</td>\n      <td>서울동작</td>\n      <td>5</td>\n      <td>5</td>\n      <td>16.36</td>\n      <td>서울특별시</td>\n      <td>동작구</td>\n    </tr>\n    <tr>\n      <th>136</th>\n      <td>364232</td>\n      <td>서울마포</td>\n      <td>5</td>\n      <td>4</td>\n      <td>23.87</td>\n      <td>서울특별시</td>\n      <td>마포구</td>\n    </tr>\n    <tr>\n      <th>137</th>\n      <td>288543</td>\n      <td>서울서대문</td>\n      <td>5</td>\n      <td>3</td>\n      <td>17.60</td>\n      <td>서울특별시</td>\n      <td>서대문구</td>\n    </tr>\n    <tr>\n      <th>138</th>\n      <td>407416</td>\n      <td>서울서초</td>\n      <td>6</td>\n      <td>6</td>\n      <td>47.04</td>\n      <td>서울특별시</td>\n      <td>서초구</td>\n    </tr>\n    <tr>\n      <th>139</th>\n      <td>279939</td>\n      <td>서울성동</td>\n      <td>7</td>\n      <td>5</td>\n      <td>16.85</td>\n      <td>서울특별시</td>\n      <td>성동구</td>\n    </tr>\n    <tr>\n      <th>140</th>\n      <td>434061</td>\n      <td>서울성북</td>\n      <td>6</td>\n      <td>2</td>\n      <td>24.57</td>\n      <td>서울특별시</td>\n      <td>성북구</td>\n    </tr>\n    <tr>\n      <th>141</th>\n      <td>615487</td>\n      <td>서울송파</td>\n      <td>8</td>\n      <td>6</td>\n      <td>33.90</td>\n      <td>서울특별시</td>\n      <td>송파구</td>\n    </tr>\n    <tr>\n      <th>142</th>\n      <td>453634</td>\n      <td>서울양천</td>\n      <td>4</td>\n      <td>5</td>\n      <td>17.40</td>\n      <td>서울특별시</td>\n      <td>양천구</td>\n    </tr>\n    <tr>\n      <th>143</th>\n      <td>351837</td>\n      <td>서울영등포</td>\n      <td>4</td>\n      <td>6</td>\n      <td>24.56</td>\n      <td>서울특별시</td>\n      <td>영등포구</td>\n    </tr>\n    <tr>\n      <th>144</th>\n      <td>208603</td>\n      <td>서울용산</td>\n      <td>6</td>\n      <td>5</td>\n      <td>21.87</td>\n      <td>서울특별시</td>\n      <td>용산구</td>\n    </tr>\n    <tr>\n      <th>145</th>\n      <td>464236</td>\n      <td>서울은평</td>\n      <td>4</td>\n      <td>3</td>\n      <td>29.70</td>\n      <td>서울특별시</td>\n      <td>은평구</td>\n    </tr>\n    <tr>\n      <th>146</th>\n      <td>140595</td>\n      <td>서울종로</td>\n      <td>6</td>\n      <td>3</td>\n      <td>23.90</td>\n      <td>서울특별시</td>\n      <td>종로구</td>\n    </tr>\n    <tr>\n      <th>147</th>\n      <td>114967</td>\n      <td>서울중구</td>\n      <td>6</td>\n      <td>4</td>\n      <td>9.96</td>\n      <td>서울특별시</td>\n      <td>중구</td>\n    </tr>\n    <tr>\n      <th>148</th>\n      <td>391655</td>\n      <td>서울중랑</td>\n      <td>8</td>\n      <td>4</td>\n      <td>18.50</td>\n      <td>서울특별시</td>\n      <td>중랑구</td>\n    </tr>\n  </tbody>\n</table>\n</div>"
     },
     "metadata": {},
     "execution_count": 29
    }
   ],
   "source": [
    "seoul = data['광역시도'] == '서울특별시'\n",
    "data.loc[seoul,:]"
   ]
  },
  {
   "cell_type": "code",
   "execution_count": 30,
   "metadata": {},
   "outputs": [
    {
     "output_type": "execute_result",
     "data": {
      "text/plain": "     행정구역     인구수\nseq              \n108   강서구   84722\n109   금정구  235887\n110   기장군  142223\n111    남구  271753\n112    동구   85952\n113   동래구  256584\n114  부산진구  365721\n115    북구  292375\n116   사상구  228824\n117   사하구  322757\n118    서구  107107\n119   수영구  168618\n120   연제구  198383\n121   영도구  122446\n122    중구   43105\n123  해운대구  397134",
      "text/html": "<div>\n<style scoped>\n    .dataframe tbody tr th:only-of-type {\n        vertical-align: middle;\n    }\n\n    .dataframe tbody tr th {\n        vertical-align: top;\n    }\n\n    .dataframe thead th {\n        text-align: right;\n    }\n</style>\n<table border=\"1\" class=\"dataframe\">\n  <thead>\n    <tr style=\"text-align: right;\">\n      <th></th>\n      <th>행정구역</th>\n      <th>인구수</th>\n    </tr>\n    <tr>\n      <th>seq</th>\n      <th></th>\n      <th></th>\n    </tr>\n  </thead>\n  <tbody>\n    <tr>\n      <th>108</th>\n      <td>강서구</td>\n      <td>84722</td>\n    </tr>\n    <tr>\n      <th>109</th>\n      <td>금정구</td>\n      <td>235887</td>\n    </tr>\n    <tr>\n      <th>110</th>\n      <td>기장군</td>\n      <td>142223</td>\n    </tr>\n    <tr>\n      <th>111</th>\n      <td>남구</td>\n      <td>271753</td>\n    </tr>\n    <tr>\n      <th>112</th>\n      <td>동구</td>\n      <td>85952</td>\n    </tr>\n    <tr>\n      <th>113</th>\n      <td>동래구</td>\n      <td>256584</td>\n    </tr>\n    <tr>\n      <th>114</th>\n      <td>부산진구</td>\n      <td>365721</td>\n    </tr>\n    <tr>\n      <th>115</th>\n      <td>북구</td>\n      <td>292375</td>\n    </tr>\n    <tr>\n      <th>116</th>\n      <td>사상구</td>\n      <td>228824</td>\n    </tr>\n    <tr>\n      <th>117</th>\n      <td>사하구</td>\n      <td>322757</td>\n    </tr>\n    <tr>\n      <th>118</th>\n      <td>서구</td>\n      <td>107107</td>\n    </tr>\n    <tr>\n      <th>119</th>\n      <td>수영구</td>\n      <td>168618</td>\n    </tr>\n    <tr>\n      <th>120</th>\n      <td>연제구</td>\n      <td>198383</td>\n    </tr>\n    <tr>\n      <th>121</th>\n      <td>영도구</td>\n      <td>122446</td>\n    </tr>\n    <tr>\n      <th>122</th>\n      <td>중구</td>\n      <td>43105</td>\n    </tr>\n    <tr>\n      <th>123</th>\n      <td>해운대구</td>\n      <td>397134</td>\n    </tr>\n  </tbody>\n</table>\n</div>"
     },
     "metadata": {},
     "execution_count": 30
    }
   ],
   "source": [
    "busan = data['광역시도'] == '부산광역시'\n",
    "col = ['행정구역','인구수']\n",
    "data.loc[busan,col]"
   ]
  },
  {
   "cell_type": "code",
   "execution_count": 31,
   "metadata": {},
   "outputs": [
    {
     "output_type": "execute_result",
     "data": {
      "text/plain": "        인구수 shortName   x   y     면적   광역시도 행정구역\nseq                                             \n111  271753      부산남구  11  19  25.91  부산광역시   남구",
      "text/html": "<div>\n<style scoped>\n    .dataframe tbody tr th:only-of-type {\n        vertical-align: middle;\n    }\n\n    .dataframe tbody tr th {\n        vertical-align: top;\n    }\n\n    .dataframe thead th {\n        text-align: right;\n    }\n</style>\n<table border=\"1\" class=\"dataframe\">\n  <thead>\n    <tr style=\"text-align: right;\">\n      <th></th>\n      <th>인구수</th>\n      <th>shortName</th>\n      <th>x</th>\n      <th>y</th>\n      <th>면적</th>\n      <th>광역시도</th>\n      <th>행정구역</th>\n    </tr>\n    <tr>\n      <th>seq</th>\n      <th></th>\n      <th></th>\n      <th></th>\n      <th></th>\n      <th></th>\n      <th></th>\n      <th></th>\n    </tr>\n  </thead>\n  <tbody>\n    <tr>\n      <th>111</th>\n      <td>271753</td>\n      <td>부산남구</td>\n      <td>11</td>\n      <td>19</td>\n      <td>25.91</td>\n      <td>부산광역시</td>\n      <td>남구</td>\n    </tr>\n  </tbody>\n</table>\n</div>"
     },
     "metadata": {},
     "execution_count": 31
    }
   ],
   "source": [
    "busan = data['광역시도'] == '부산광역시'\n",
    "namgu = data['행정구역'] == '남구'\n",
    "data.loc[busan & namgu, :] ## common group\n"
   ]
  },
  {
   "cell_type": "code",
   "execution_count": 32,
   "metadata": {
    "tags": []
   },
   "outputs": [
    {
     "output_type": "stream",
     "name": "stdout",
     "text": "211089.77729257641\n435.41979475982555\n"
    },
    {
     "output_type": "execute_result",
     "data": {
      "text/plain": "        인구수       면적  광역시도 행정구역\nseq                            \n0    202520  1040.07   강원도  강릉시\n1     25589   664.19   강원도  고성군\n3     63986  1185.80   강원도  삼척시\n5     20809   700.80   강원도  양구군\n6     24551   628.68   강원도  양양군\n..      ...      ...   ...  ...\n221   46524   845.01  충청북도  영동군\n222   47599   537.13  충청북도  옥천군\n223   86441   521.05  충청북도  음성군\n224  127462   882.47  충청북도  제천시\n228  198077   983.70  충청북도  충주시\n\n[95 rows x 4 columns]",
      "text/html": "<div>\n<style scoped>\n    .dataframe tbody tr th:only-of-type {\n        vertical-align: middle;\n    }\n\n    .dataframe tbody tr th {\n        vertical-align: top;\n    }\n\n    .dataframe thead th {\n        text-align: right;\n    }\n</style>\n<table border=\"1\" class=\"dataframe\">\n  <thead>\n    <tr style=\"text-align: right;\">\n      <th></th>\n      <th>인구수</th>\n      <th>면적</th>\n      <th>광역시도</th>\n      <th>행정구역</th>\n    </tr>\n    <tr>\n      <th>seq</th>\n      <th></th>\n      <th></th>\n      <th></th>\n      <th></th>\n    </tr>\n  </thead>\n  <tbody>\n    <tr>\n      <th>0</th>\n      <td>202520</td>\n      <td>1040.07</td>\n      <td>강원도</td>\n      <td>강릉시</td>\n    </tr>\n    <tr>\n      <th>1</th>\n      <td>25589</td>\n      <td>664.19</td>\n      <td>강원도</td>\n      <td>고성군</td>\n    </tr>\n    <tr>\n      <th>3</th>\n      <td>63986</td>\n      <td>1185.80</td>\n      <td>강원도</td>\n      <td>삼척시</td>\n    </tr>\n    <tr>\n      <th>5</th>\n      <td>20809</td>\n      <td>700.80</td>\n      <td>강원도</td>\n      <td>양구군</td>\n    </tr>\n    <tr>\n      <th>6</th>\n      <td>24551</td>\n      <td>628.68</td>\n      <td>강원도</td>\n      <td>양양군</td>\n    </tr>\n    <tr>\n      <th>...</th>\n      <td>...</td>\n      <td>...</td>\n      <td>...</td>\n      <td>...</td>\n    </tr>\n    <tr>\n      <th>221</th>\n      <td>46524</td>\n      <td>845.01</td>\n      <td>충청북도</td>\n      <td>영동군</td>\n    </tr>\n    <tr>\n      <th>222</th>\n      <td>47599</td>\n      <td>537.13</td>\n      <td>충청북도</td>\n      <td>옥천군</td>\n    </tr>\n    <tr>\n      <th>223</th>\n      <td>86441</td>\n      <td>521.05</td>\n      <td>충청북도</td>\n      <td>음성군</td>\n    </tr>\n    <tr>\n      <th>224</th>\n      <td>127462</td>\n      <td>882.47</td>\n      <td>충청북도</td>\n      <td>제천시</td>\n    </tr>\n    <tr>\n      <th>228</th>\n      <td>198077</td>\n      <td>983.70</td>\n      <td>충청북도</td>\n      <td>충주시</td>\n    </tr>\n  </tbody>\n</table>\n<p>95 rows × 4 columns</p>\n</div>"
     },
     "metadata": {},
     "execution_count": 32
    }
   ],
   "source": [
    "pop_mean = data['인구수'].mean()\n",
    "print(pop_mean)\n",
    "area_mean = data['면적'].mean()\n",
    "print(area_mean)\n",
    "\n",
    "col = ['인구수','면적', '광역시도','행정구역']\n",
    "lower_pop = data['인구수'] < pop_mean\n",
    "data.loc[lower_pop, col]\n",
    "\n",
    "bigger_area = data['면적'] > area_mean\n",
    "data.loc[bigger_area, col]\n",
    "\n",
    "data.loc[ lower_pop & bigger_area, col]"
   ]
  },
  {
   "cell_type": "code",
   "execution_count": 33,
   "metadata": {},
   "outputs": [
    {
     "output_type": "execute_result",
     "data": {
      "text/plain": "     행정구역\nseq      \n19    고양시\n21    광명시\n22    광주시\n24    군포시\n25    김포시\n26   남양주시\n28    부천시\n29    성남시\n30    수원시\n31    시흥시\n32    안산시\n34    안양시\n40    용인시\n42   의정부시\n44    파주시\n45    평택시\n48    화성시",
      "text/html": "<div>\n<style scoped>\n    .dataframe tbody tr th:only-of-type {\n        vertical-align: middle;\n    }\n\n    .dataframe tbody tr th {\n        vertical-align: top;\n    }\n\n    .dataframe thead th {\n        text-align: right;\n    }\n</style>\n<table border=\"1\" class=\"dataframe\">\n  <thead>\n    <tr style=\"text-align: right;\">\n      <th></th>\n      <th>행정구역</th>\n    </tr>\n    <tr>\n      <th>seq</th>\n      <th></th>\n    </tr>\n  </thead>\n  <tbody>\n    <tr>\n      <th>19</th>\n      <td>고양시</td>\n    </tr>\n    <tr>\n      <th>21</th>\n      <td>광명시</td>\n    </tr>\n    <tr>\n      <th>22</th>\n      <td>광주시</td>\n    </tr>\n    <tr>\n      <th>24</th>\n      <td>군포시</td>\n    </tr>\n    <tr>\n      <th>25</th>\n      <td>김포시</td>\n    </tr>\n    <tr>\n      <th>26</th>\n      <td>남양주시</td>\n    </tr>\n    <tr>\n      <th>28</th>\n      <td>부천시</td>\n    </tr>\n    <tr>\n      <th>29</th>\n      <td>성남시</td>\n    </tr>\n    <tr>\n      <th>30</th>\n      <td>수원시</td>\n    </tr>\n    <tr>\n      <th>31</th>\n      <td>시흥시</td>\n    </tr>\n    <tr>\n      <th>32</th>\n      <td>안산시</td>\n    </tr>\n    <tr>\n      <th>34</th>\n      <td>안양시</td>\n    </tr>\n    <tr>\n      <th>40</th>\n      <td>용인시</td>\n    </tr>\n    <tr>\n      <th>42</th>\n      <td>의정부시</td>\n    </tr>\n    <tr>\n      <th>44</th>\n      <td>파주시</td>\n    </tr>\n    <tr>\n      <th>45</th>\n      <td>평택시</td>\n    </tr>\n    <tr>\n      <th>48</th>\n      <td>화성시</td>\n    </tr>\n  </tbody>\n</table>\n</div>"
     },
     "metadata": {},
     "execution_count": 33
    }
   ],
   "source": [
    "# Get the 행정구역 which has more population than mean \n",
    "mean_pop = data['인구수'].mean()\n",
    "col = ['행정구역']\n",
    "gyeongi = data['광역시도'] == '경기도'\n",
    "bigger_pop = data['인구수'] > mean_pop\n",
    "data.loc[gyeongi & bigger_pop, col]\n"
   ]
  },
  {
   "cell_type": "code",
   "execution_count": 34,
   "metadata": {
    "tags": []
   },
   "outputs": [
    {
     "output_type": "execute_result",
     "data": {
      "text/plain": "행정구역       횡성군\n인구수     313851\ndtype: object"
     },
     "metadata": {},
     "execution_count": 34
    }
   ],
   "source": [
    "# Get the most pop in 강원도\n",
    "gangwon = data['광역시도'] == '강원도'\n",
    "col = ['행정구역', '인구수']\n",
    "data.loc[gangwon, col ].max()"
   ]
  },
  {
   "cell_type": "code",
   "execution_count": 35,
   "metadata": {
    "tags": []
   },
   "outputs": [
    {
     "output_type": "stream",
     "name": "stdout",
     "text": "397134\n==========================\n1125461\n"
    }
   ],
   "source": [
    "# Make these as function\n",
    "def province_most_pop(name):\n",
    "    specific = data['광역시도'] == name\n",
    "    return data.loc[specific, '인구수'].max()\n",
    "\n",
    "print(province_most_pop('부산광역시'))\n",
    "print('==========================')\n",
    "print(province_most_pop('경기도'))"
   ]
  },
  {
   "cell_type": "code",
   "execution_count": 36,
   "metadata": {
    "tags": []
   },
   "outputs": [],
   "source": [
    "def whole(obj):\n",
    "    uniq = data['광역시도'].unique()\n",
    "    for prov in uniq:\n",
    "        obj = obj.append(province_most_pop(prov))"
   ]
  },
  {
   "cell_type": "code",
   "execution_count": 37,
   "metadata": {
    "tags": []
   },
   "outputs": [
    {
     "output_type": "stream",
     "name": "stdout",
     "text": "인구수  행정구역     광역시도\n8     313851   원주시      강원도\n30   1125461   수원시      경기도\n61   1010040   창원시     경상남도\n89    488395   포항시     경상북도\n93    439683    북구    광주광역시\n96    584517   달서구    대구광역시\n105   475094    서구    대전광역시\n123   397134  해운대구    부산광역시\n141   615487   송파구    서울특별시\n149   191233   세종시  세종특별자치시\n150   327270    남구    울산광역시\n160   527153   부평구    인천광역시\n177   263166   여수시     전라남도\n198   630708   전주시     전라북도\n202   430504   제주시  제주특별자치도\n214   584912   천안시     충청남도\n227   790216   청주시     충청북도\n"
    },
    {
     "output_type": "execute_result",
     "data": {
      "text/plain": "    index      인구수  행정구역     광역시도\n0       8   313851   원주시      강원도\n1      30  1125461   수원시      경기도\n2      61  1010040   창원시     경상남도\n3      89   488395   포항시     경상북도\n4      93   439683    북구    광주광역시\n5      96   584517   달서구    대구광역시\n6     105   475094    서구    대전광역시\n7     123   397134  해운대구    부산광역시\n8     141   615487   송파구    서울특별시\n9     149   191233   세종시  세종특별자치시\n10    150   327270    남구    울산광역시\n11    160   527153   부평구    인천광역시\n12    177   263166   여수시     전라남도\n13    198   630708   전주시     전라북도\n14    202   430504   제주시  제주특별자치도\n15    214   584912   천안시     충청남도\n16    227   790216   청주시     충청북도",
      "text/html": "<div>\n<style scoped>\n    .dataframe tbody tr th:only-of-type {\n        vertical-align: middle;\n    }\n\n    .dataframe tbody tr th {\n        vertical-align: top;\n    }\n\n    .dataframe thead th {\n        text-align: right;\n    }\n</style>\n<table border=\"1\" class=\"dataframe\">\n  <thead>\n    <tr style=\"text-align: right;\">\n      <th></th>\n      <th>index</th>\n      <th>인구수</th>\n      <th>행정구역</th>\n      <th>광역시도</th>\n    </tr>\n  </thead>\n  <tbody>\n    <tr>\n      <th>0</th>\n      <td>8</td>\n      <td>313851</td>\n      <td>원주시</td>\n      <td>강원도</td>\n    </tr>\n    <tr>\n      <th>1</th>\n      <td>30</td>\n      <td>1125461</td>\n      <td>수원시</td>\n      <td>경기도</td>\n    </tr>\n    <tr>\n      <th>2</th>\n      <td>61</td>\n      <td>1010040</td>\n      <td>창원시</td>\n      <td>경상남도</td>\n    </tr>\n    <tr>\n      <th>3</th>\n      <td>89</td>\n      <td>488395</td>\n      <td>포항시</td>\n      <td>경상북도</td>\n    </tr>\n    <tr>\n      <th>4</th>\n      <td>93</td>\n      <td>439683</td>\n      <td>북구</td>\n      <td>광주광역시</td>\n    </tr>\n    <tr>\n      <th>5</th>\n      <td>96</td>\n      <td>584517</td>\n      <td>달서구</td>\n      <td>대구광역시</td>\n    </tr>\n    <tr>\n      <th>6</th>\n      <td>105</td>\n      <td>475094</td>\n      <td>서구</td>\n      <td>대전광역시</td>\n    </tr>\n    <tr>\n      <th>7</th>\n      <td>123</td>\n      <td>397134</td>\n      <td>해운대구</td>\n      <td>부산광역시</td>\n    </tr>\n    <tr>\n      <th>8</th>\n      <td>141</td>\n      <td>615487</td>\n      <td>송파구</td>\n      <td>서울특별시</td>\n    </tr>\n    <tr>\n      <th>9</th>\n      <td>149</td>\n      <td>191233</td>\n      <td>세종시</td>\n      <td>세종특별자치시</td>\n    </tr>\n    <tr>\n      <th>10</th>\n      <td>150</td>\n      <td>327270</td>\n      <td>남구</td>\n      <td>울산광역시</td>\n    </tr>\n    <tr>\n      <th>11</th>\n      <td>160</td>\n      <td>527153</td>\n      <td>부평구</td>\n      <td>인천광역시</td>\n    </tr>\n    <tr>\n      <th>12</th>\n      <td>177</td>\n      <td>263166</td>\n      <td>여수시</td>\n      <td>전라남도</td>\n    </tr>\n    <tr>\n      <th>13</th>\n      <td>198</td>\n      <td>630708</td>\n      <td>전주시</td>\n      <td>전라북도</td>\n    </tr>\n    <tr>\n      <th>14</th>\n      <td>202</td>\n      <td>430504</td>\n      <td>제주시</td>\n      <td>제주특별자치도</td>\n    </tr>\n    <tr>\n      <th>15</th>\n      <td>214</td>\n      <td>584912</td>\n      <td>천안시</td>\n      <td>충청남도</td>\n    </tr>\n    <tr>\n      <th>16</th>\n      <td>227</td>\n      <td>790216</td>\n      <td>청주시</td>\n      <td>충청북도</td>\n    </tr>\n  </tbody>\n</table>\n</div>"
     },
     "metadata": {},
     "execution_count": 37
    }
   ],
   "source": [
    "#  To make above PRETTY (Create New dataframe and assign)\n",
    "col = ['인구수', '행정구역','광역시도']\n",
    "max_pops = pd.DataFrame(columns= col)\n",
    "# print(max_pops)\n",
    "\n",
    "uniq = data['광역시도'].unique()\n",
    "for prov in uniq:\n",
    "    max_pops = max_pops.append(data.loc[data['인구수'] == province_most_pop(prov), col]) ## Should assign again after append\n",
    "print(max_pops)\n",
    "max_pops.reset_index() ## reset index ( has drop param :: True : drop the original (default is False))\n"
   ]
  },
  {
   "cell_type": "code",
   "execution_count": 38,
   "metadata": {},
   "outputs": [
    {
     "output_type": "execute_result",
     "data": {
      "text/plain": "RangeIndex(start=0, stop=17, step=1)"
     },
     "metadata": {},
     "execution_count": 38
    }
   ],
   "source": [
    "## Another function with area\n",
    "col = ['면적', '행정구역','광역시도']\n",
    "def province_most_area(name):\n",
    "    specific = data['광역시도'] == name\n",
    "    temp = data.loc[specific, '면적'].max()\n",
    "    return data.loc[data['면적'] == temp, col]\n",
    "max_areas = pd.DataFrame(columns= col)\n",
    "for prov in uniq:\n",
    "    max_areas = max_areas.append(province_most_area(prov))\n",
    "max_areas = max_areas.reset_index(drop = True)\n",
    "max_areas.index\n",
    "# max_areas"
   ]
  },
  {
   "cell_type": "code",
   "execution_count": 39,
   "metadata": {},
   "outputs": [
    {
     "output_type": "execute_result",
     "data": {
      "text/plain": "         면적 행정구역     광역시도\n1   1817.94  홍천군      강원도\n2    877.08  양평군      경기도\n3    983.42  합천군     경상남도\n4   1519.00  안동시     경상북도\n5    222.88  광산구    광주광역시\n6    427.03  달성군    대구광역시\n7    177.16  유성구    대전광역시\n8    217.90  기장군    부산광역시\n9     47.04  서초구    서울특별시\n10   465.23  세종시  세종특별자치시\n11   754.93  울주군    울산광역시\n12   411.20  강화군    인천광역시\n13   907.35  순천시     전라남도\n14   821.00  완주군     전라북도\n15   977.80  제주시  제주특별자치도\n16   940.71  공주시     충청남도\n17   983.70  충주시     충청북도",
      "text/html": "<div>\n<style scoped>\n    .dataframe tbody tr th:only-of-type {\n        vertical-align: middle;\n    }\n\n    .dataframe tbody tr th {\n        vertical-align: top;\n    }\n\n    .dataframe thead th {\n        text-align: right;\n    }\n</style>\n<table border=\"1\" class=\"dataframe\">\n  <thead>\n    <tr style=\"text-align: right;\">\n      <th></th>\n      <th>면적</th>\n      <th>행정구역</th>\n      <th>광역시도</th>\n    </tr>\n  </thead>\n  <tbody>\n    <tr>\n      <th>1</th>\n      <td>1817.94</td>\n      <td>홍천군</td>\n      <td>강원도</td>\n    </tr>\n    <tr>\n      <th>2</th>\n      <td>877.08</td>\n      <td>양평군</td>\n      <td>경기도</td>\n    </tr>\n    <tr>\n      <th>3</th>\n      <td>983.42</td>\n      <td>합천군</td>\n      <td>경상남도</td>\n    </tr>\n    <tr>\n      <th>4</th>\n      <td>1519.00</td>\n      <td>안동시</td>\n      <td>경상북도</td>\n    </tr>\n    <tr>\n      <th>5</th>\n      <td>222.88</td>\n      <td>광산구</td>\n      <td>광주광역시</td>\n    </tr>\n    <tr>\n      <th>6</th>\n      <td>427.03</td>\n      <td>달성군</td>\n      <td>대구광역시</td>\n    </tr>\n    <tr>\n      <th>7</th>\n      <td>177.16</td>\n      <td>유성구</td>\n      <td>대전광역시</td>\n    </tr>\n    <tr>\n      <th>8</th>\n      <td>217.90</td>\n      <td>기장군</td>\n      <td>부산광역시</td>\n    </tr>\n    <tr>\n      <th>9</th>\n      <td>47.04</td>\n      <td>서초구</td>\n      <td>서울특별시</td>\n    </tr>\n    <tr>\n      <th>10</th>\n      <td>465.23</td>\n      <td>세종시</td>\n      <td>세종특별자치시</td>\n    </tr>\n    <tr>\n      <th>11</th>\n      <td>754.93</td>\n      <td>울주군</td>\n      <td>울산광역시</td>\n    </tr>\n    <tr>\n      <th>12</th>\n      <td>411.20</td>\n      <td>강화군</td>\n      <td>인천광역시</td>\n    </tr>\n    <tr>\n      <th>13</th>\n      <td>907.35</td>\n      <td>순천시</td>\n      <td>전라남도</td>\n    </tr>\n    <tr>\n      <th>14</th>\n      <td>821.00</td>\n      <td>완주군</td>\n      <td>전라북도</td>\n    </tr>\n    <tr>\n      <th>15</th>\n      <td>977.80</td>\n      <td>제주시</td>\n      <td>제주특별자치도</td>\n    </tr>\n    <tr>\n      <th>16</th>\n      <td>940.71</td>\n      <td>공주시</td>\n      <td>충청남도</td>\n    </tr>\n    <tr>\n      <th>17</th>\n      <td>983.70</td>\n      <td>충주시</td>\n      <td>충청북도</td>\n    </tr>\n  </tbody>\n</table>\n</div>"
     },
     "metadata": {},
     "execution_count": 39
    }
   ],
   "source": [
    "# Start the index from '1'\n",
    "\n",
    "import numpy as np\n",
    "max_areas.index = np.arange(1,len(max_areas)+1)\n",
    "max_areas"
   ]
  },
  {
   "cell_type": "code",
   "execution_count": 40,
   "metadata": {},
   "outputs": [
    {
     "output_type": "execute_result",
     "data": {
      "text/plain": "         면적 행정구역     광역시도\n1   1817.94  홍천군      강원도\n2   1519.00  안동시     경상북도\n3    983.70  충주시     충청북도\n4    983.42  합천군     경상남도\n5    977.80  제주시  제주특별자치도\n6    940.71  공주시     충청남도\n7    907.35  순천시     전라남도\n8    877.08  양평군      경기도\n9    821.00  완주군     전라북도\n10   754.93  울주군    울산광역시\n11   465.23  세종시  세종특별자치시\n12   427.03  달성군    대구광역시\n13   411.20  강화군    인천광역시\n14   222.88  광산구    광주광역시\n15   217.90  기장군    부산광역시\n16   177.16  유성구    대전광역시\n17    47.04  서초구    서울특별시",
      "text/html": "<div>\n<style scoped>\n    .dataframe tbody tr th:only-of-type {\n        vertical-align: middle;\n    }\n\n    .dataframe tbody tr th {\n        vertical-align: top;\n    }\n\n    .dataframe thead th {\n        text-align: right;\n    }\n</style>\n<table border=\"1\" class=\"dataframe\">\n  <thead>\n    <tr style=\"text-align: right;\">\n      <th></th>\n      <th>면적</th>\n      <th>행정구역</th>\n      <th>광역시도</th>\n    </tr>\n  </thead>\n  <tbody>\n    <tr>\n      <th>1</th>\n      <td>1817.94</td>\n      <td>홍천군</td>\n      <td>강원도</td>\n    </tr>\n    <tr>\n      <th>2</th>\n      <td>1519.00</td>\n      <td>안동시</td>\n      <td>경상북도</td>\n    </tr>\n    <tr>\n      <th>3</th>\n      <td>983.70</td>\n      <td>충주시</td>\n      <td>충청북도</td>\n    </tr>\n    <tr>\n      <th>4</th>\n      <td>983.42</td>\n      <td>합천군</td>\n      <td>경상남도</td>\n    </tr>\n    <tr>\n      <th>5</th>\n      <td>977.80</td>\n      <td>제주시</td>\n      <td>제주특별자치도</td>\n    </tr>\n    <tr>\n      <th>6</th>\n      <td>940.71</td>\n      <td>공주시</td>\n      <td>충청남도</td>\n    </tr>\n    <tr>\n      <th>7</th>\n      <td>907.35</td>\n      <td>순천시</td>\n      <td>전라남도</td>\n    </tr>\n    <tr>\n      <th>8</th>\n      <td>877.08</td>\n      <td>양평군</td>\n      <td>경기도</td>\n    </tr>\n    <tr>\n      <th>9</th>\n      <td>821.00</td>\n      <td>완주군</td>\n      <td>전라북도</td>\n    </tr>\n    <tr>\n      <th>10</th>\n      <td>754.93</td>\n      <td>울주군</td>\n      <td>울산광역시</td>\n    </tr>\n    <tr>\n      <th>11</th>\n      <td>465.23</td>\n      <td>세종시</td>\n      <td>세종특별자치시</td>\n    </tr>\n    <tr>\n      <th>12</th>\n      <td>427.03</td>\n      <td>달성군</td>\n      <td>대구광역시</td>\n    </tr>\n    <tr>\n      <th>13</th>\n      <td>411.20</td>\n      <td>강화군</td>\n      <td>인천광역시</td>\n    </tr>\n    <tr>\n      <th>14</th>\n      <td>222.88</td>\n      <td>광산구</td>\n      <td>광주광역시</td>\n    </tr>\n    <tr>\n      <th>15</th>\n      <td>217.90</td>\n      <td>기장군</td>\n      <td>부산광역시</td>\n    </tr>\n    <tr>\n      <th>16</th>\n      <td>177.16</td>\n      <td>유성구</td>\n      <td>대전광역시</td>\n    </tr>\n    <tr>\n      <th>17</th>\n      <td>47.04</td>\n      <td>서초구</td>\n      <td>서울특별시</td>\n    </tr>\n  </tbody>\n</table>\n</div>"
     },
     "metadata": {},
     "execution_count": 40
    }
   ],
   "source": [
    "max_areas = max_areas.sort_values(by = '면적', ascending=False).reset_index(drop= True)\n",
    "max_areas.index = np.arange(1,len(max_areas)+1)\n",
    "\n",
    "max_areas"
   ]
  },
  {
   "cell_type": "markdown",
   "metadata": {},
   "source": [
    "### Correlation\n",
    "#### Correlation coefficient has range of (-1 ~ 1)\n",
    "#### Means, more relative closer to '1'\n",
    "* Correlation of whole area and population\n",
    "* Correlation of area of Seoul and population of Seoul"
   ]
  },
  {
   "cell_type": "code",
   "execution_count": 41,
   "metadata": {
    "tags": []
   },
   "outputs": [
    {
     "output_type": "stream",
     "name": "stdout",
     "text": "Correlation of whole area and population\n -0.346035160504577\nCorrelation of area of Seoul and population of Seoul\n 0.6644268188909778\nCorrelation of area of Seoul and population of 부산광역시\n -0.13823708369604065\nCorrelation of area of Seoul and population of 경기도\n -0.21572485071590813\n"
    }
   ],
   "source": [
    "# Correlation of whole area and whole population\n",
    "print('Correlation of whole area and population\\n',data['면적'].corr(data['인구수']))\n",
    "# Correlation of area of Seoul and population of Seoul\n",
    "seoul = data['광역시도'] == '서울특별시'\n",
    "seoul_area = data.loc[seoul, '면적']\n",
    "seoul_pop = data.loc[seoul, '인구수']\n",
    "print('Correlation of area of Seoul and population of Seoul\\n', seoul_area.corr(seoul_pop))\n",
    "\n",
    "def corr_pop_and_area(city):\n",
    "    c = data['광역시도'] == city\n",
    "    c_area = data.loc[c, '면적']\n",
    "    c_pop = data.loc[c, '인구수']\n",
    "    print(f'Correlation of area of Seoul and population of {city}\\n',c_area.corr(c_pop))\n",
    "corr_pop_and_area('부산광역시')\n",
    "corr_pop_and_area('경기도')"
   ]
  },
  {
   "cell_type": "markdown",
   "metadata": {},
   "source": [
    "### Group by\n",
    "#### Two types\n",
    "* groupby() in Series object\n",
    "* groupby() in DataFrame object"
   ]
  },
  {
   "cell_type": "code",
   "execution_count": 42,
   "metadata": {},
   "outputs": [
    {
     "output_type": "execute_result",
     "data": {
      "text/plain": "광역시도\n경기도        11744210\n서울특별시       9394807\n부산광역시       3323591\n경상남도        3144487\n인천광역시       2766575\n경상북도        2508964\n대구광역시       2378450\n충청남도        1946129\n전라북도        1739048\n전라남도        1700563\n충청북도        1484720\n대전광역시       1467677\n광주광역시       1438209\n강원도         1429438\n울산광역시       1105585\n제주특별자치도      575873\n세종특별자치시      191233\nName: 인구수, dtype: int64"
     },
     "metadata": {},
     "execution_count": 42
    }
   ],
   "source": [
    "# Sum of population, for each '광역시도'\n",
    "pop_sum = data['인구수'].groupby(data['광역시도']).sum()\n",
    "pop_sum.sort_values(ascending = False)\n"
   ]
  },
  {
   "cell_type": "code",
   "execution_count": 43,
   "metadata": {},
   "outputs": [
    {
     "output_type": "execute_result",
     "data": {
      "text/plain": "광역시도\n경상북도       19021.850\n강원도        16874.810\n전라남도       12008.390\n경상남도       10437.460\n경기도        10179.743\n충청남도        8272.270\n전라북도        7907.220\n충청북도        7397.310\n제주특별자치도     1848.480\n인천광역시       1022.910\n울산광역시        980.220\n대구광역시        885.690\n부산광역시        763.240\n서울특별시        605.390\n대전광역시        539.640\n광주광역시        501.280\n세종특별자치시      465.230\nName: 면적, dtype: float64"
     },
     "metadata": {},
     "execution_count": 43
    }
   ],
   "source": [
    "pop_area = data['면적'].groupby(data['광역시도']).sum()\n",
    "pop_area.sort_values(ascending = False)"
   ]
  },
  {
   "cell_type": "code",
   "execution_count": 44,
   "metadata": {},
   "outputs": [
    {
     "output_type": "execute_result",
     "data": {
      "text/plain": "광역시도\n경상북도       19021.850\n강원도        16874.810\n전라남도       12008.390\n경상남도       10437.460\n경기도        10179.743\n충청남도        8272.270\n전라북도        7907.220\n충청북도        7397.310\n제주특별자치도     1848.480\n인천광역시       1022.910\n울산광역시        980.220\n대구광역시        885.690\n부산광역시        763.240\n서울특별시        605.390\n대전광역시        539.640\n광주광역시        501.280\n세종특별자치시      465.230\nName: 면적, dtype: float64"
     },
     "metadata": {},
     "execution_count": 44
    }
   ],
   "source": [
    "data.groupby('광역시도')['면적'].sum().sort_values(ascending = False)"
   ]
  },
  {
   "cell_type": "code",
   "execution_count": 45,
   "metadata": {},
   "outputs": [],
   "source": [
    "grouping_data = data.groupby(['광역시도', '행정구역'])['인구수'].sum()"
   ]
  },
  {
   "cell_type": "code",
   "execution_count": 47,
   "metadata": {},
   "outputs": [],
   "source": [
    "grouping_data.to_excel('./광역시도행정구역별인구수.xlsx',)"
   ]
  }
 ]
}