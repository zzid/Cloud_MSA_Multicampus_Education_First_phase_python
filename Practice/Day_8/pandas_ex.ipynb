{
 "metadata": {
  "language_info": {
   "codemirror_mode": {
    "name": "ipython",
    "version": 3
   },
   "file_extension": ".py",
   "mimetype": "text/x-python",
   "name": "python",
   "nbconvert_exporter": "python",
   "pygments_lexer": "ipython3",
   "version": 3
  },
  "orig_nbformat": 2,
  "kernelspec": {
   "name": "python_defaultSpec_1595486665662",
   "display_name": "Python 3.7.0 64-bit ('base': conda)"
  }
 },
 "nbformat": 4,
 "nbformat_minor": 2,
 "cells": [
  {
   "cell_type": "markdown",
   "metadata": {},
   "source": [
    "## Pandas exercise\n",
    "* Titanic passenger.csv"
   ]
  },
  {
   "cell_type": "code",
   "execution_count": 1,
   "metadata": {
    "tags": []
   },
   "outputs": [
    {
     "output_type": "execute_result",
     "data": {
      "text/plain": "             Survived        Age     Fare\nPassengerId                              \n1                   0  22.000000   7.2500\n2                   1  38.000000  71.2833\n3                   1  26.000000   7.9250\n4                   1  35.000000  53.1000\n5                   0  35.000000   8.0500\n...               ...        ...      ...\n887                 0  27.000000  13.0000\n888                 1  19.000000  30.0000\n889                 0  29.699118  23.4500\n890                 1  26.000000  30.0000\n891                 0  32.000000   7.7500\n\n[891 rows x 3 columns]",
      "text/html": "<div>\n<style scoped>\n    .dataframe tbody tr th:only-of-type {\n        vertical-align: middle;\n    }\n\n    .dataframe tbody tr th {\n        vertical-align: top;\n    }\n\n    .dataframe thead th {\n        text-align: right;\n    }\n</style>\n<table border=\"1\" class=\"dataframe\">\n  <thead>\n    <tr style=\"text-align: right;\">\n      <th></th>\n      <th>Survived</th>\n      <th>Age</th>\n      <th>Fare</th>\n    </tr>\n    <tr>\n      <th>PassengerId</th>\n      <th></th>\n      <th></th>\n      <th></th>\n    </tr>\n  </thead>\n  <tbody>\n    <tr>\n      <th>1</th>\n      <td>0</td>\n      <td>22.000000</td>\n      <td>7.2500</td>\n    </tr>\n    <tr>\n      <th>2</th>\n      <td>1</td>\n      <td>38.000000</td>\n      <td>71.2833</td>\n    </tr>\n    <tr>\n      <th>3</th>\n      <td>1</td>\n      <td>26.000000</td>\n      <td>7.9250</td>\n    </tr>\n    <tr>\n      <th>4</th>\n      <td>1</td>\n      <td>35.000000</td>\n      <td>53.1000</td>\n    </tr>\n    <tr>\n      <th>5</th>\n      <td>0</td>\n      <td>35.000000</td>\n      <td>8.0500</td>\n    </tr>\n    <tr>\n      <th>...</th>\n      <td>...</td>\n      <td>...</td>\n      <td>...</td>\n    </tr>\n    <tr>\n      <th>887</th>\n      <td>0</td>\n      <td>27.000000</td>\n      <td>13.0000</td>\n    </tr>\n    <tr>\n      <th>888</th>\n      <td>1</td>\n      <td>19.000000</td>\n      <td>30.0000</td>\n    </tr>\n    <tr>\n      <th>889</th>\n      <td>0</td>\n      <td>29.699118</td>\n      <td>23.4500</td>\n    </tr>\n    <tr>\n      <th>890</th>\n      <td>1</td>\n      <td>26.000000</td>\n      <td>30.0000</td>\n    </tr>\n    <tr>\n      <th>891</th>\n      <td>0</td>\n      <td>32.000000</td>\n      <td>7.7500</td>\n    </tr>\n  </tbody>\n</table>\n<p>891 rows × 3 columns</p>\n</div>"
     },
     "metadata": {},
     "execution_count": 1
    }
   ],
   "source": [
    "import pandas as pd\n",
    "\n",
    "train = pd.read_csv('train.csv', index_col = \"PassengerId\")\n",
    "\n",
    "# train[train['Sex'] == 'male'].head()\n",
    "\n",
    "# train[train[\"Embarked\"].isin([\"Q\", \"S\"])].head()\n",
    "# train[train[\"Age\"].isnull()].head()\n",
    "# train[train[\"Age\"].notnull()].head()\n",
    "\n",
    "# train[(train[\"Age\"].isnull()) & (train[\"Fare\"].isnull())]\n",
    "\n",
    "\n",
    "##########################################\n",
    "####### column append and modify #########\n",
    "##########################################\n",
    "train[\"DataCategory\"] = \"Titanic\"\n",
    "train[\"Id\"] = range(0, 891)\n",
    "train[\"FamilySize\"] = train[\"SibSp\"] + train[\"Parch\"] + 1\n",
    "train[[\"SibSp\", \"Parch\", \"FamilySize\"]].head()\n",
    "train[\"Nationality_FR\"] = train[\"Embarked\"] == \"C\"\n",
    "train[\"Nationality_UK\"] = train[\"Embarked\"].isin([\"S\", \"Q\"])\n",
    "\n",
    "train.loc[train[\"Embarked\"] == \"C\", \"Nationality\"] = \"France\"\n",
    "train.loc[train[\"Embarked\"].isin([\"S\", \"Q\"]), \"Nationality\"] = \"England\"\n",
    "train[\"Fare_Cheap\"] = train[\"Fare\"] < 30\n",
    "train[\"Fare_Medium\"] = (train[\"Fare\"] >= 30) & (train[\"Fare\"] < 100)\n",
    "train[\"Fare_Expensive\"] = train[\"Fare\"] >= 100\n",
    "train.head(10)\n",
    "train.loc[train[\"Fare\"] < 30, \"FareType\"] = \"Cheap\"\n",
    "train.loc[(train[\"Fare\"] >= 30) & (train[\"Fare\"] < 100), \"FareType\"] = \"Med\"\n",
    "train.loc[train[\"Fare\"] >= 100, \"FareType\"] = \"Expensive\"\n",
    "mean_age = train[\"Age\"].mean()\n",
    "train.loc[train[\"Age\"].isnull(), \"Age\"] = mean_age\n",
    "\n",
    "train.loc[train['Cabin'].isnull(), 'Cabin'] = 'Hall'\n",
    "train.loc[:, ['Survived', 'Age', 'Fare']]\n",
    "\n"
   ]
  },
  {
   "cell_type": "code",
   "execution_count": 2,
   "metadata": {
    "tags": []
   },
   "outputs": [
    {
     "output_type": "stream",
     "name": "stdout",
     "text": "2.2.3\n1.7.1\n0.9.0\n1.0.5\n"
    }
   ],
   "source": []
  },
  {
   "cell_type": "code",
   "execution_count": null,
   "metadata": {},
   "outputs": [],
   "source": []
  }
 ]
}