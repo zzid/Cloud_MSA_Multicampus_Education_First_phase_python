{
 "metadata": {
  "language_info": {
   "codemirror_mode": {
    "name": "ipython",
    "version": 3
   },
   "file_extension": ".py",
   "mimetype": "text/x-python",
   "name": "python",
   "nbconvert_exporter": "python",
   "pygments_lexer": "ipython3",
   "version": 3
  },
  "orig_nbformat": 2,
  "kernelspec": {
   "name": "python_defaultSpec_1595552335704",
   "display_name": "Python 3.7.0 64-bit ('base': conda)"
  }
 },
 "nbformat": 4,
 "nbformat_minor": 2,
 "cells": [
  {
   "cell_type": "markdown",
   "metadata": {},
   "source": [
    "## Maira DB\n",
    "### Use pymysql & sqlalchemy\n",
    "* pymysql : Make connection between python program and DB\n",
    "* sqlalchemy : Map the Object to DB table"
   ]
  },
  {
   "cell_type": "code",
   "execution_count": 2,
   "metadata": {
    "tags": []
   },
   "outputs": [
    {
     "output_type": "stream",
     "name": "stdout",
     "text": "Name: PyMySQL\nVersion: 0.10.0\nSummary: Pure Python MySQL Driver\nHome-page: https://github.com/PyMySQL/PyMySQL/\nAuthor: yutaka.matsubara\nAuthor-email: yutaka.matsubara@gmail.com\nLicense: \"MIT\"\nLocation: c:\\anaconda3\\lib\\site-packages\nRequires: \nRequired-by: \n"
    }
   ],
   "source": [
    "!pip show pymysql"
   ]
  },
  {
   "cell_type": "code",
   "execution_count": 3,
   "metadata": {
    "tags": []
   },
   "outputs": [
    {
     "output_type": "stream",
     "name": "stdout",
     "text": "Name: SQLAlchemy\nVersion: 1.2.11\nSummary: Database Abstraction Library\nHome-page: http://www.sqlalchemy.org\nAuthor: Mike Bayer\nAuthor-email: mike_mp@zzzcomputing.com\nLicense: MIT License\nLocation: c:\\anaconda3\\lib\\site-packages\nRequires: \nRequired-by: blaze\n"
    }
   ],
   "source": [
    "!pip show sqlalchemy"
   ]
  },
  {
   "cell_type": "code",
   "execution_count": 28,
   "metadata": {
    "tags": []
   },
   "outputs": [
    {
     "output_type": "execute_result",
     "data": {
      "text/plain": "    index      인구수  행정구역     광역시도\n0       8   313851   원주시      강원도\n1      30  1125461   수원시      경기도\n2      61  1010040   창원시     경상남도\n3      89   488395   포항시     경상북도\n4      93   439683    북구    광주광역시\n5      96   584517   달서구    대구광역시\n6     105   475094    서구    대전광역시\n7     123   397134  해운대구    부산광역시\n8     141   615487   송파구    서울특별시\n9     149   191233   세종시  세종특별자치시\n10    150   327270    남구    울산광역시\n11    160   527153   부평구    인천광역시\n12    177   263166   여수시     전라남도\n13    198   630708   전주시     전라북도\n14    202   430504   제주시  제주특별자치도\n15    214   584912   천안시     충청남도\n16    227   790216   청주시     충청북도",
      "text/html": "<div>\n<style scoped>\n    .dataframe tbody tr th:only-of-type {\n        vertical-align: middle;\n    }\n\n    .dataframe tbody tr th {\n        vertical-align: top;\n    }\n\n    .dataframe thead th {\n        text-align: right;\n    }\n</style>\n<table border=\"1\" class=\"dataframe\">\n  <thead>\n    <tr style=\"text-align: right;\">\n      <th></th>\n      <th>index</th>\n      <th>인구수</th>\n      <th>행정구역</th>\n      <th>광역시도</th>\n    </tr>\n  </thead>\n  <tbody>\n    <tr>\n      <th>0</th>\n      <td>8</td>\n      <td>313851</td>\n      <td>원주시</td>\n      <td>강원도</td>\n    </tr>\n    <tr>\n      <th>1</th>\n      <td>30</td>\n      <td>1125461</td>\n      <td>수원시</td>\n      <td>경기도</td>\n    </tr>\n    <tr>\n      <th>2</th>\n      <td>61</td>\n      <td>1010040</td>\n      <td>창원시</td>\n      <td>경상남도</td>\n    </tr>\n    <tr>\n      <th>3</th>\n      <td>89</td>\n      <td>488395</td>\n      <td>포항시</td>\n      <td>경상북도</td>\n    </tr>\n    <tr>\n      <th>4</th>\n      <td>93</td>\n      <td>439683</td>\n      <td>북구</td>\n      <td>광주광역시</td>\n    </tr>\n    <tr>\n      <th>5</th>\n      <td>96</td>\n      <td>584517</td>\n      <td>달서구</td>\n      <td>대구광역시</td>\n    </tr>\n    <tr>\n      <th>6</th>\n      <td>105</td>\n      <td>475094</td>\n      <td>서구</td>\n      <td>대전광역시</td>\n    </tr>\n    <tr>\n      <th>7</th>\n      <td>123</td>\n      <td>397134</td>\n      <td>해운대구</td>\n      <td>부산광역시</td>\n    </tr>\n    <tr>\n      <th>8</th>\n      <td>141</td>\n      <td>615487</td>\n      <td>송파구</td>\n      <td>서울특별시</td>\n    </tr>\n    <tr>\n      <th>9</th>\n      <td>149</td>\n      <td>191233</td>\n      <td>세종시</td>\n      <td>세종특별자치시</td>\n    </tr>\n    <tr>\n      <th>10</th>\n      <td>150</td>\n      <td>327270</td>\n      <td>남구</td>\n      <td>울산광역시</td>\n    </tr>\n    <tr>\n      <th>11</th>\n      <td>160</td>\n      <td>527153</td>\n      <td>부평구</td>\n      <td>인천광역시</td>\n    </tr>\n    <tr>\n      <th>12</th>\n      <td>177</td>\n      <td>263166</td>\n      <td>여수시</td>\n      <td>전라남도</td>\n    </tr>\n    <tr>\n      <th>13</th>\n      <td>198</td>\n      <td>630708</td>\n      <td>전주시</td>\n      <td>전라북도</td>\n    </tr>\n    <tr>\n      <th>14</th>\n      <td>202</td>\n      <td>430504</td>\n      <td>제주시</td>\n      <td>제주특별자치도</td>\n    </tr>\n    <tr>\n      <th>15</th>\n      <td>214</td>\n      <td>584912</td>\n      <td>천안시</td>\n      <td>충청남도</td>\n    </tr>\n    <tr>\n      <th>16</th>\n      <td>227</td>\n      <td>790216</td>\n      <td>청주시</td>\n      <td>충청북도</td>\n    </tr>\n  </tbody>\n</table>\n</div>"
     },
     "metadata": {},
     "execution_count": 28
    }
   ],
   "source": [
    "import pandas as pd\n",
    "\n",
    "data = pd.read_csv('../Day_7/data_draw_korea.csv')\n",
    "def province_most_pop(name):\n",
    "    specific = data['광역시도'] == name\n",
    "    return data.loc[specific, '인구수'].max()\n",
    "\n",
    "col = ['인구수', '행정구역','광역시도']\n",
    "max_pops = pd.DataFrame(columns= col)\n",
    "uniq = data['광역시도'].unique()\n",
    "for prov in uniq:\n",
    "    max_pops = max_pops.append(data.loc[data['인구수'] == province_most_pop(prov), col])\n",
    "max_pops.reset_index()\n"
   ]
  },
  {
   "cell_type": "code",
   "execution_count": 15,
   "metadata": {},
   "outputs": [],
   "source": [
    "import pymysql\n",
    "pymysql.install_as_MySQLdb()\n",
    "from sqlalchemy import create_engine\n",
    "engine = create_engine(\"mysql+mysqldb://python:\" + \"python\" + \"@localhost/python_db\"\\\n",
    "    , encoding = 'utf-8')\n",
    "## mysql + mysqldb : ID  + Password + DB name\n",
    "conn = engine.connect()\n",
    "max_pops.to_sql(name = 'maxpop', con = engine, if_exists = 'replace', index = False)\n"
   ]
  },
  {
   "cell_type": "code",
   "execution_count": null,
   "metadata": {},
   "outputs": [],
   "source": []
  }
 ]
}