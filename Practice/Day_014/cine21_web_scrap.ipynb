{
 "metadata": {
  "language_info": {
   "codemirror_mode": {
    "name": "ipython",
    "version": 3
   },
   "file_extension": ".py",
   "mimetype": "text/x-python",
   "name": "python",
   "nbconvert_exporter": "python",
   "pygments_lexer": "ipython3",
   "version": 3
  },
  "orig_nbformat": 2,
  "kernelspec": {
   "name": "python_defaultSpec_1596163553647",
   "display_name": "Python 3.7.0 64-bit ('base': conda)"
  }
 },
 "nbformat": 4,
 "nbformat_minor": 2,
 "cells": [
  {
   "cell_type": "markdown",
   "metadata": {},
   "source": [
    "### Cine21 web scraping\n",
    "* url : http://www.cine21.com/rank/person/\n",
    "* In developer tool, xhr >> content (Checking request method)\n",
    "* header check... \\>\\>\n",
    "* Request Method : POST\n",
    "* Form Data(One month data)\n",
    "    - section : actor\n",
    "    - period_start : 2020-07\n",
    "    - gender : all\n",
    "    - page : 1\n",
    "* Scarp one or two years data, store that to actors.json"
   ]
  },
  {
   "cell_type": "code",
   "execution_count": 224,
   "metadata": {},
   "outputs": [],
   "source": [
    "import requests\n",
    "import json, re\n",
    "from bs4 import BeautifulSoup\n",
    "import pymongo\n",
    "from urllib.parse import urljoin"
   ]
  },
  {
   "cell_type": "code",
   "execution_count": 225,
   "metadata": {
    "tags": []
   },
   "outputs": [],
   "source": [
    "actor_url = \"http://www.cine21.com/rank/person/content\"\n",
    "form_data = {\n",
    "    'section' : 'actor',\n",
    "    'period_start' : '2020-07',\n",
    "    'gender' : 'all',\n",
    "    'page' : 2\n",
    "}\n",
    "res = requests.post(url = actor_url, data = form_data)\n",
    "soup = BeautifulSoup(res.text, 'html.parser')\n",
    "\n",
    "hit = soup.select('ul.num_info > li > strong')\n",
    "mov_list = soup.select('ul.mov_list')\n",
    "ranks = soup.select('.grade')\n",
    "\n",
    "actor = []\n",
    "## this is novel (enumerate and index)\n",
    "for index, name in enumerate(soup.select('div.name')): \n",
    "    # for a in name.select('a'):\n",
    "    href = name.a['href']\n",
    "    name = re.sub(r'\\(\\w*\\)', '' ,name.text)\n",
    "    movie_titles = mov_list[index].select('li a span') ## this is novel\n",
    "    rank = ranks[index].text\n",
    "    m_l = []\n",
    "    for mt in movie_titles:\n",
    "        m_l.append(mt.text)\n",
    "    actor.append({\n",
    "        'name' : name, \n",
    "        'href': href, \n",
    "        'hit' : int(hit[index].text.replace(',','')), ## this is novel\n",
    "        'movie-list' : m_l,\n",
    "        'rank' : int(rank),\n",
    "        })"
   ]
  },
  {
   "cell_type": "markdown",
   "metadata": {},
   "source": [
    "#### REGEX\n",
    "Greedy(.\\*) vs Non-Greedy(.\\*?)\n",
    "* Greedy : Select all tags\n",
    "* Non-Greedy : Select first match\n",
    "* \\[\\n\\t\\r\\] : Select one of them at least\n",
    "* re.complie(r'\\[\\n\\t\\r\\]) : r'...'(regular expression) > create complier that select with that RE\n",
    "    - in complie(), expression should be followed after r''"
   ]
  },
  {
   "cell_type": "code",
   "execution_count": 226,
   "metadata": {
    "tags": []
   },
   "outputs": [
    {
     "output_type": "stream",
     "name": "stdout",
     "text": "[   {   '랭킹': 8,\n        '생년월일': '1990-02-18',\n        '성별': '여',\n        '소속사': '아바 엔터테인먼트',\n        '신장/체중': '165cm, 45kg',\n        '이름': '박신혜',\n        '직업': '배우',\n        '출연영화': ['＃살아있다'],\n        '취미': '음악감상',\n        '특기': '댄스',\n        '학교': '중앙대학교 연극영화학 (재학)',\n        '홈페이지': 'https://twitter.com/ssinzhttps://www.instagram.com/ssinz7/',\n        '흥행지수': 43667},\n    {   '다른 이름': '김주년',\n        '랭킹': 9,\n        '생년월일': '1981-08-07',\n        '성별': '남',\n        '이름': '김도윤',\n        '직업': '배우',\n        '출연영화': ['반도'],\n        '흥행지수': 39916},\n    {   '랭킹': 10,\n        '생년월일': '1970-06-02',\n        '성별': '남',\n        '이름': '전배수',\n        '직업': '배우',\n        '출연영화': ['＃살아있다'],\n        '흥행지수': 32750},\n    {   '랭킹': 11,\n        '생년월일': '1985-06-17',\n        '성별': '남',\n        '신장/체중': '180cm, 68kg',\n        '이름': '이현욱',\n        '직업': '배우',\n        '출연영화': ['＃살아있다'],\n        '흥행지수': 21833},\n    {   '랭킹': 12,\n        '성별': '여',\n        '이름': '오혜원',\n        '직업': '모델',\n        '출연영화': ['＃살아있다'],\n        '홈페이지': 'http://www.vlive.tv/channels/E29393',\n        '흥행지수': 10917},\n    {   '랭킹': 13,\n        '성별': '남',\n        '소속사': '아티스트컴퍼니',\n        '이름': '정우성',\n        '직업': '배우',\n        '출연영화': ['강철비2: 정상회담', '호우시절'],\n        '홈페이지': 'http://www.artistcompany.co.kr/portfolio-item/jung-woo-sung/',\n        '흥행지수': 9329},\n    {   '다른 이름': '곽병규',\n        '랭킹': 14,\n        '생년월일': '1974-00-00',\n        '성별': '남',\n        '이름': '곽도원',\n        '직업': '배우',\n        '출연영화': ['강철비2: 정상회담'],\n        '홈페이지': 'https://www.facebook.com/cjesdowonhttp://twitter.com/kwakbyoungkuy',\n        '흥행지수': 8771}]\n"
    }
   ],
   "source": [
    "actor_items = []\n",
    "for nh in actor:\n",
    "\n",
    "    actor_item = {}\n",
    "    actor_item['이름'] = nh['name']\n",
    "    actor_item['흥행지수'] = nh['hit']\n",
    "    actor_item['출연영화'] = nh['movie-list']\n",
    "    actor_item['랭킹'] = nh['rank']\n",
    "\n",
    "    url = urljoin(actor_url,nh['href'])\n",
    "    res = requests.get(url)\n",
    "    soup = BeautifulSoup(res.text, 'html.parser')\n",
    "\n",
    "    for li in soup.select('.default_info li'):\n",
    "        actor_item_key = li.select_one('span.tit').text\n",
    "        # print(actor_item_key)\n",
    "        actor_item_value = re.sub('<span.*?>.*?</span>|<.*?>','',str(li))\n",
    "        regex = re.compile(r'[\\n\\r\\t]')\n",
    "        actor_item_value= regex.sub('',actor_item_value)\n",
    "        actor_item[actor_item_key] = actor_item_value\n",
    "\n",
    "    actor_items.append(actor_item)\n",
    "import pprint\n",
    "pp = pprint.PrettyPrinter(indent = 4)\n",
    "pp.pprint(actor_items)        \n",
    "        # print(actor_item_value)\n",
    "\n"
   ]
  },
  {
   "cell_type": "code",
   "execution_count": null,
   "metadata": {},
   "outputs": [],
   "source": []
  }
 ]
}