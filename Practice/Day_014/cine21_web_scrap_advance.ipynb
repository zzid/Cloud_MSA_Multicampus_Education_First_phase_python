{
 "metadata": {
  "language_info": {
   "codemirror_mode": {
    "name": "ipython",
    "version": 3
   },
   "file_extension": ".py",
   "mimetype": "text/x-python",
   "name": "python",
   "nbconvert_exporter": "python",
   "pygments_lexer": "ipython3",
   "version": 3
  },
  "orig_nbformat": 2,
  "kernelspec": {
   "name": "python_defaultSpec_1596179800892",
   "display_name": "Python 3.7.0 64-bit ('base': conda)"
  }
 },
 "nbformat": 4,
 "nbformat_minor": 2,
 "cells": [
  {
   "cell_type": "code",
   "execution_count": 17,
   "metadata": {
    "tags": [
     "outputPrepend"
    ]
   },
   "outputs": [
    {
     "output_type": "stream",
     "name": "stdout",
     "text": "\nscraping 이덕화's info..\nscraping 소향's info..\nnow on page 159...\nscraping 이예성's info..\nscraping 주소정's info..\nscraping 백승철's info..\nscraping 윤계상's info..\nscraping 이주예's info..\nscraping 지's info..\nscraping 노경희's info..\nnow on page 160...\nscraping 노경희's info..\nscraping 신일룡's info..\nscraping 강봉성's info..\nscraping 김혜자's info..\nscraping 정연주's info..\nscraping 황현빈's info..\nscraping 고봉수's info..\nnow on page 161...\nscraping 고봉수's info..\nscraping 유정호's info..\nscraping 유시민's info..\nscraping 김성희's info..\nscraping 강홍석's info..\nscraping 오태경's info..\nscraping 곽규석's info..\nnow on page 162...\nscraping 이민영's info..\nscraping 곽규석's info..\nscraping 김승비's info..\nscraping 송용태's info..\nscraping 전혜영's info..\nscraping 하준호's info..\nscraping 성병숙's info..\nnow on page 163...\nscraping 전혜영's info..\nscraping 백인호's info..\nscraping 김창숙's info..\nscraping 민진웅's info..\nscraping 서현철's info..\nscraping 송경철's info..\nscraping 이승호's info..\nnow on page 164...\nscraping 조현영's info..\nscraping 장진희's info..\nscraping 주남정's info..\nscraping 민동호's info..\nscraping 김정기's info..\nscraping 하희라's info..\nscraping 김태훈's info..\nnow on page 165...\nscraping 김태훈's info..\nscraping 노지유's info..\nscraping 최원정's info..\nscraping 남명렬's info..\nscraping 문정희's info..\nscraping 이지연's info..\nscraping 하휘동's info..\nnow on page 166...\nscraping 문정희's info..\nscraping 정애란's info..\nscraping 이재웅's info..\nscraping 문가영's info..\nscraping 장예나's info..\nscraping 김인문's info..\nscraping 양훈's info..\nnow on page 167...\nscraping 전무송's info..\nscraping 서진원's info..\nscraping 사현진's info..\nscraping 김선경's info..\nscraping 백도빈's info..\nscraping 최진욱's info..\nscraping \n\n\n\n\n씨네21\n\n\n\n\n\n\n\n\n\n서비스 이용에 불편을 드려 죄송합니다.\n일시적으로 서비스 장애가 발생하였습니다.\n빠른 시간안에 복구하도록 하겠습니다.\n\t\t\t\n\n\n\n\n\n\">\n\n\n\n\n씨네21\n\n\n\n\n\n\n\n\n\n서비스 이용에 불편을 드려 죄송합니다.\n일시적으로 서비스 장애가 발생하였습니다.\n빠른 시간안에 복구하도록 하겠습니다.\n\t\t\t\n\n\n\n\n\n's info..\nnow on page 168...\nscraping 김복자's info..\nscraping 김동욱's info..\nscraping 이제연's info..\nscraping 백일섭's info..\nscraping 정우식's info..\nscraping 김결's info..\nscraping 임현식's info..\nnow on page 169...\nscraping 강계식's info..\nscraping 홍기's info..\nscraping 원세훈's info..\nscraping 노율's info..\nscraping 최리's info..\nscraping 엄지원's info..\nscraping 정하담's info..\nnow on page 170...\nscraping 이현행's info..\nscraping 곽인준's info..\nscraping 민채은's info..\nscraping 한예리's info..\nscraping 이로운's info..\nscraping 양익준's info..\nscraping 문예원's info..\nnow on page 171...\nscraping 김아림's info..\nscraping 박미성's info..\nscraping 오윤아's info..\nscraping 권율's info..\nscraping 선정엽's info..\nscraping 옥지영's info..\nscraping 송호준's info..\nnow on page 172...\nscraping 서월영's info..\nscraping 현성's info..\nscraping 김시은's info..\nscraping 전창근's info..\nscraping 박중훈's info..\nscraping 김수현's info..\nscraping 이춘연's info..\nnow on page 173...\nscraping 이춘연's info..\nscraping 김정학's info..\nscraping 주종혁's info..\nscraping 윤덕용's info..\nscraping 김명건's info..\nscraping 백지훈's info..\nscraping 최남미's info..\nnow on page 174...\nscraping 김미화's info..\nscraping 최남미's info..\nscraping 강계열's info..\nscraping 박고운's info..\nscraping 허규's info..\nscraping 정인선's info..\nscraping 장인한's info..\nnow on page 175...\nscraping 장인한's info..\nscraping 김서하's info..\nscraping 탁원정's info..\nscraping 주선태's info..\nscraping 송미림's info..\nscraping 연지원's info..\nscraping 김슬기's info..\nnow on page 176...\nscraping 주선태's info..\nscraping 송미림's info..\nscraping 연지원's info..\nscraping 김슬기's info..\nscraping 이장욱's info..\nscraping 장상기's info..\nscraping 강하늘's info..\nnow on page 177...\nscraping 장상기's info..\nscraping 강하늘's info..\nscraping 엄태웅's info..\nscraping 천성훈's info..\nscraping 유용's info..\nscraping 박채익's info..\nscraping 이다윗's info..\nnow on page 178...\nscraping 변준석's info..\nscraping 원빈's info..\nscraping 김정훈's info..\nscraping 박로사's info..\nscraping 이영숙's info..\nscraping 박상준's info..\nscraping 이해운's info..\nnow on page 179...\nscraping 이준익's info..\nscraping 석금성's info..\nscraping 여수진's info..\nscraping 강유진's info..\nscraping 조덕현's info..\nscraping 강희선's info..\nscraping 김경익's info..\nnow on page 180...\nscraping 이주실's info..\nscraping 이정수's info..\nscraping 김선자's info..\nscraping 기국서's info..\nscraping 차태현's info..\nscraping 강진아's info..\nscraping 이혜영's info..\nnow on page 181...\nscraping 한가인's info..\nscraping 양미희's info..\nscraping 안민영's info..\nscraping 박길수's info..\nscraping 정희태's info..\nscraping 송윤아's info..\nscraping 오지은's info..\nnow on page 182...\nscraping 이성욱's info..\nscraping 구봉서's info..\nscraping 고건혁's info..\nscraping 수영's info..\nscraping 복혜숙's info..\nscraping 이봄's info..\nscraping 박선영's info..\nnow on page 183...\nscraping 김창은's info..\nscraping 복혜숙's info..\nscraping 이봄's info..\nscraping 박선영's info..\nscraping 김보람's info..\nscraping 이자명's info..\nscraping 박상면's info..\nnow on page 184...\nscraping 김보람's info..\nscraping 이자명's info..\nscraping 이윤희's info..\nscraping 정현호's info..\nscraping 서호철's info..\nscraping 배춘희's info..\nscraping 오순택's info..\nnow on page 185...\nscraping 기영도's info..\nscraping 김충길's info..\nscraping 김유정's info..\nscraping 최성관's info..\nscraping 홍인's info..\nscraping 안소희's info..\nscraping 고원희's info..\nnow on page 186...\nscraping 홍인's info..\nscraping 안소희's info..\nscraping 고원희's info..\nscraping 주진모's info..\nscraping 윤유선's info..\nscraping 방지원's info..\nscraping 황석정's info..\nnow on page 187...\nscraping 김정난's info..\nscraping 정한비's info..\nscraping 변요한's info..\nscraping 조안's info..\nscraping 정휘's info..\nscraping 오민정's info..\nscraping 방수일's info..\nnow on page 188...\nscraping 정은채's info..\nscraping 김진희's info..\nscraping 채국희's info..\nscraping 황승언's info..\nscraping 진지희's info..\nscraping 김중기's info..\nscraping 유장현's info..\nnow on page 189...\nscraping 채국희's info..\nscraping 황승언's info..\nscraping 김신재's info..\nscraping 손석구's info..\nscraping 장동직's info..\nscraping 박지홍's info..\nscraping 이지희's info..\nnow on page 190...\nscraping 강현중's info..\nscraping 서갑숙's info..\nscraping 최진호's info..\nscraping 김도현's info..\nscraping 김가희's info..\nscraping 하연주's info..\nscraping 박혜수's info..\nnow on page 191...\nscraping 유지연's info..\nscraping 안예인's info..\nscraping 고수's info..\nscraping 김새론's info..\nscraping 윤다경's info..\nscraping 김상순's info..\nscraping 송영인's info..\nnow on page 192...\nscraping 김시후's info..\nscraping 김성은's info..\nscraping 박기태's info..\nscraping 최원's info..\nscraping 최준우's info..\nscraping 민지아's info..\nscraping 이웅빈's info..\nnow on page 193...\nscraping 최준우's info..\nscraping 민지아's info..\nscraping 이웅빈's info..\nscraping 이윤회's info..\nscraping 강혜정's info..\nscraping 황미선's info..\nscraping 이경준's info..\nnow on page 194...\nscraping 황미선's info..\nscraping 이경준's info..\nscraping 이경훈's info..\nscraping 이미숙's info..\nscraping 전계현's info..\nscraping 박상훈's info..\nscraping 이민지's info..\nnow on page 195...\nscraping 전계현's info..\nscraping 김재욱's info..\nscraping 박상훈's info..\nscraping 이민지's info..\nscraping 유은미's info..\nscraping 이해선's info..\nscraping 이빈화's info..\nnow on page 196...\nscraping 김운하's info..\nscraping 배진웅's info..\nscraping 김영현's info..\nscraping 유은미's info..\nscraping 이해선's info..\nscraping 이빈화's info..\nscraping 신민재's info..\nnow on page 197...\nscraping 이하나's info..\nscraping 허미동's info..\nscraping 이호연's info..\nscraping 김진순's info..\nscraping 한은선's info..\nscraping 김동주's info..\nscraping 조주경's info..\nnow on page 198...\nscraping 한은선's info..\nscraping 류승곤's info..\nscraping 백승환's info..\nscraping 권기하's info..\nscraping 조시내's info..\nscraping 김지수's info..\nscraping 전현경's info..\nnow on page 199...\nscraping 권기하's info..\nscraping 조시내's info..\nscraping 김지수's info..\nscraping 최민수's info..\nscraping 전현경's info..\nscraping 키's info..\nscraping 강승완's info..\nnow on page 200...\nscraping 김석옥's info..\nscraping 허진's info..\nscraping 수아's info..\nscraping 이승호's info..\nscraping 김용건's info..\nscraping 방중현's info..\nscraping 강예서's info..\nnow on page 201...\nscraping 윤영민's info..\nscraping 임성민's info..\nscraping 유지영's info..\nscraping 김용건's info..\nscraping 이승호's info..\nscraping 김선화's info..\nscraping 이은실's info..\nnow on page 202...\nscraping 조수원's info..\nscraping 채연's info..\nscraping 심혜진's info..\nscraping 여무영's info..\nscraping 임형태's info..\nscraping 김내현's info..\nscraping 이영호's info..\nnow on page 203...\nscraping 이유미's info..\nscraping 주현's info..\nscraping 최은애's info..\nscraping 손병욱's info..\nscraping 박용철's info..\nscraping 윤희석's info..\nscraping 황병국's info..\nnow on page 204...\nscraping 이유미's info..\nscraping 최은애's info..\nscraping 이인세's info..\nscraping 조은주's info..\nscraping 박보검's info..\nscraping 문희경's info..\nscraping 서신애's info..\nnow on page 205...\nscraping 이준's info..\nscraping 김진규's info..\nscraping 김민희's info..\nscraping 엄정화's info..\nscraping 조성희's info..\nscraping 엄경환's info..\nscraping 김지유's info..\nnow on page 206...\nscraping 유인영's info..\nscraping 박금분's info..\nscraping 안소영's info..\nscraping 박진우's info..\nscraping 이홍기's info..\nscraping 한지일's info..\nscraping 박진주's info..\nnow on page 207...\nscraping 김재화's info..\nscraping 정석용's info..\nscraping 이준's info..\nscraping 김진규's info..\nscraping 엄정화's info..\nscraping 김민희's info..\nscraping 조성희's info..\nnow on page 208...\nscraping 오지영's info..\nscraping 윤양하's info..\nscraping 이민기's info..\nscraping 강미애's info..\nscraping 이은주's info..\nscraping 신정훈's info..\nscraping 강능원's info..\nnow on page 209...\nscraping 김동희's info..\nscraping 최선자's info..\nscraping 서정's info..\nscraping 양준모's info..\nscraping 김동건's info..\nscraping 곽두조's info..\nscraping 김신명's info..\nnow on page 210...\nscraping 독고성's info..\nscraping 오의식's info..\nscraping 김동건's info..\nscraping 곽두조's info..\nscraping 김신명's info..\nscraping 이현우's info..\nscraping 이민우's info..\nnow on page 211...\nscraping 황미영's info..\nscraping 강백수's info..\nscraping 최제우's info..\nscraping 이청아's info..\nscraping 최기섭's info..\nscraping 박규채's info..\nscraping 민영's info..\nnow on page 212...\nscraping 최민규's info..\nscraping 강예원's info..\nscraping 강민아's info..\nscraping 윤주상's info..\nscraping 김용삼's info..\nscraping 황미영's info..\nscraping 강백수's info..\nnow on page 213...\nscraping 최제우's info..\nscraping 이청아's info..\nscraping 최기섭's info..\nscraping 박규채's info..\nscraping 오대환's info..\nscraping 최원용's info..\nscraping 공형진's info..\nnow on page 214...\nscraping 공형진's info..\nscraping 반민정's info..\nscraping 민윤재's info..\nscraping 임동진's info..\nscraping 현석's info..\nscraping 선우용녀's info..\nscraping 강금연's info..\nnow on page 215...\nscraping 김지호's info..\nscraping 강지우's info..\nscraping 한주완's info..\nscraping 오수미's info..\nscraping 이주영's info..\nscraping 장성윤's info..\nscraping 박지훈's info..\nnow on page 216...\nscraping 권혁범's info..\nscraping 서동수's info..\nscraping 김해곤's info..\nscraping 김형범's info..\nscraping 하박's info..\nscraping 양홍석's info..\nscraping 고경표's info..\nnow on page 217...\nscraping 고경표's info..\nscraping 장성호's info..\nscraping 홍은택's info..\nscraping 원준's info..\nscraping 유걸's info..\nscraping 조현도's info..\nscraping 수애's info..\nnow on page 218...\nscraping 성홍일's info..\nscraping 안서현's info..\nscraping 강시현's info..\nscraping 조민기's info..\nscraping 김혜은's info..\nscraping 구웅서's info..\nscraping 김영진's info..\nnow on page 219...\nscraping 안서현's info..\nscraping 강시현's info..\nscraping 조민기's info..\nscraping 김혜은's info..\nscraping 구웅서's info..\nscraping 김영진's info..\nscraping 허기호's info..\nnow on page 220...\nscraping 허기호's info..\nscraping 홍윤정's info..\nscraping 박세진's info..\nscraping 나영희's info..\nscraping 최휘찬's info..\nscraping 박은숙's info..\nscraping 이소영's info..\nnow on page 221...\nscraping 문희라's info..\nscraping 이종철's info..\nscraping 도용구's info..\nscraping 김재영's info..\nscraping 안윤선's info..\nscraping 이지현's info..\nscraping 정기섭's info..\nnow on page 222...\nscraping 이지현's info..\nscraping 도용구's info..\nscraping 김재영's info..\nscraping 안윤선's info..\nscraping 김도엽's info..\nscraping 문석범's info..\nscraping 정기섭's info..\nnow on page 223...\nscraping 임수경's info..\nscraping 렌's info..\nscraping 김영선's info..\nscraping 박성우's info..\nscraping 백선혁's info..\nscraping 김서원's info..\nscraping 유계선's info..\nnow on page 224...\nscraping 서강준's info..\nscraping 이일웅's info..\nscraping 노민우's info..\nscraping 박형수's info..\nscraping 박정자's info..\nscraping 이승신's info..\nscraping 배제기's info..\nnow on page 225...\nscraping 배제기's info..\nscraping 이기영's info..\nscraping 홍상표's info..\nscraping 김유라's info..\nscraping 이규정's info..\nscraping 오연서's info..\nscraping 김도완's info..\nnow on page 226...\nscraping 이일섭's info..\nscraping 김수로's info..\nscraping 이경섭's info..\nscraping 지진희's info..\nscraping 전고운's info..\nscraping 김세동's info..\nscraping 박월선's info..\nnow on page 227...\nscraping 조윤희's info..\nscraping 정윤겸's info..\nscraping 신민아's info..\nscraping 고동업's info..\nscraping 김영환's info..\nscraping 이일섭's info..\nscraping 김수로's info..\nnow on page 228...\nscraping 최용진's info..\nscraping 최정현's info..\nscraping 고성희's info..\nscraping 신일용's info..\nscraping 서영주's info..\nscraping 김선아's info..\nscraping 조지환's info..\nnow on page 229...\nscraping 황민현's info..\nscraping 박세은's info..\nscraping 박영수's info..\nscraping 장훈's info..\nscraping 천민희's info..\nscraping 이현학's info..\nscraping 이환's info..\nnow on page 230...\nscraping 조지환's info..\nscraping 황민현's info..\nscraping 박세은's info..\nscraping 박영수's info..\nscraping 장훈's info..\nscraping 천민희's info..\nscraping 이현학's info..\nnow on page 231...\nscraping 조달환's info..\nscraping 이바울's info..\nscraping 조경숙's info..\nscraping 정현's info..\nscraping 추현엽's info..\nscraping 하덕성's info..\nscraping 김현빈's info..\nnow on page 232...\nscraping 송형준's info..\nscraping 조달환's info..\nscraping 이바울's info..\nscraping 정현's info..\nscraping 조경숙's info..\nscraping 추현엽's info..\nscraping 하덕성's info..\nnow on page 233...\nscraping 강태우's info..\nscraping 김금화's info..\nscraping 김두선's info..\nscraping 유대형's info..\nscraping 김일우's info..\nscraping 엄효섭's info..\nscraping 양정원's info..\nnow on page 234...\nscraping 임호준's info..\nscraping 이재준's info..\nscraping 이대연's info..\nscraping 조상건's info..\nscraping 차순형's info..\nscraping 김호원's info..\nscraping 이찬희's info..\nnow on page 235...\nscraping 정현's info..\nscraping 최윤빈's info..\nscraping 최진영's info..\nscraping 반효정's info..\nscraping 정진수's info..\nscraping 이수현's info..\nscraping 조하영's info..\nnow on page 236...\nscraping 강하나's info..\nscraping 김지훈's info..\nscraping 강동호's info..\nscraping 최고's info..\nscraping 연준석's info..\nscraping 김휘's info..\nscraping 최윤빈's info..\nnow on page 237...\nscraping 이수현's info..\nscraping 조하영's info..\nscraping 한설아's info..\nscraping 김진화's info..\nscraping 문미봉's info..\nscraping 강래연's info..\nscraping 김원효's info..\nnow on page 238...\nscraping 박성택's info..\nscraping 김남진's info..\nscraping 박성광's info..\nscraping 신재훈's info..\nscraping 김종현's info..\nscraping 김범진's info..\nscraping 김지영's info..\nnow on page 239...\nscraping 주아름's info..\nscraping 권예영's info..\nscraping 임성포's info..\nscraping 고선애's info..\nscraping 김혜인's info..\nscraping 이현's info..\nscraping 김유리's info..\nnow on page 240...\nscraping 김혜인's info..\nscraping 임성포's info..\nscraping 이현's info..\nscraping 김유리's info..\nscraping 강도하's info..\nscraping 하명진's info..\nscraping 현숙희's info..\nnow on page 241...\nscraping 박순동's info..\nscraping 안도규's info..\nscraping 이순원's info..\nscraping 조금앵's info..\nscraping 하윤경's info..\nscraping 이혜영's info..\nscraping 김영삼's info..\nnow on page 242...\nscraping 윤송아's info..\nscraping 김범진's info..\nscraping 김지영's info..\nscraping 김진우's info..\nscraping 연상호's info..\nscraping 정솔's info..\nscraping 윤종빈's info..\nnow on page 243...\nscraping 한하나's info..\nscraping 박지수's info..\nscraping 이태리's info..\nscraping 다나's info..\nscraping 유민채's info..\nscraping 장성범's info..\nscraping 이빛나's info..\nnow on page 244...\nscraping 이동욱's info..\nscraping 이요섭's info..\nscraping 손지현's info..\nscraping 마민지's info..\nscraping 박혜숙's info..\nscraping 임양's info..\nscraping 진상진's info..\nnow on page 245...\nscraping 하준's info..\nscraping 성민철's info..\nscraping 강성연's info..\nscraping 성혁's info..\nscraping 현서영's info..\nscraping 이준기's info..\nscraping 고인범's info..\nnow on page 246...\nscraping 장준학's info..\nscraping 김유미's info..\nscraping 최명길's info..\nscraping 염현준's info..\nscraping 오연아's info..\nscraping 명승훈's info..\nscraping 하승엽's info..\nnow on page 247...\nscraping 서미지's info..\nscraping 김주현's info..\nscraping 방은진's info..\nscraping 이동욱's info..\nscraping 이요섭's info..\nscraping 손지현's info..\nscraping 마민지's info..\nnow on page 248...\nscraping 방은진's info..\nscraping 김주현's info..\nscraping 이동욱's info..\nscraping 이요섭's info..\nscraping 손지현's info..\nscraping 마민지's info..\nscraping 박혜숙's info..\nnow on page 249...\nscraping 이승훈's info..\nscraping 황신혜's info..\nscraping 윤대열's info..\nscraping 지대한's info..\nscraping 정미남's info..\nscraping 윤정희's info..\nscraping 정성모's info..\nnow on page 250...\nscraping 한재덕's info..\nscraping 김도희's info..\nscraping 김세원's info..\nscraping 백현진's info..\nscraping 유순철's info..\nscraping 채연희's info..\nscraping 남철's info..\nnow on page 251...\nscraping 임정은's info..\nscraping 김윤지's info..\nscraping 한성수's info..\nscraping 여호민's info..\nscraping 손이용's info..\nscraping 장동건's info..\nscraping 황성민's info..\nnow on page 252...\nscraping 장유상's info..\nscraping 김형묵's info..\nscraping 허정은's info..\nscraping 심원철's info..\nscraping 김혜정's info..\nscraping 이민정's info..\nscraping 서이안's info..\nnow on page 253...\nscraping 임정은's info..\nscraping 김윤지's info..\nscraping 여호민's info..\nscraping 한성수's info..\nscraping 손이용's info..\nscraping 조영각's info..\nscraping 김주헌's info..\nnow on page 254...\nscraping 유준상's info..\nscraping 최주봉's info..\nscraping 감승민's info..\nscraping 박수민's info..\nscraping 손담비's info..\nscraping 고준희's info..\nscraping 신동엽's info..\nnow on page 255...\nscraping 정인하's info..\nscraping 박선희's info..\nscraping 유준상's info..\nscraping 최주봉's info..\nscraping 감승민's info..\nscraping 박수민's info..\nscraping 손담비's info..\nnow on page 256...\nscraping 신동엽's info..\nscraping 민무제's info..\nscraping 이나영's info..\nscraping 고준희's info..\nscraping 김강민's info..\nscraping 김용학's info..\nscraping 이승현's info..\nnow on page 257...\nscraping 민무제's info..\nscraping 이나영's info..\nscraping 고준희's info..\nscraping 김용학's info..\nscraping 김강민's info..\nscraping 최성원's info..\nscraping 이승현's info..\nnow on page 258...\nscraping 최성원's info..\nscraping 이승현's info..\nscraping 이주연's info..\nscraping 최불암's info..\nscraping 정동환's info..\nscraping 박현영's info..\nscraping 강문's info..\nnow on page 259...\nscraping 이선호's info..\nscraping 신상옥's info..\nscraping 이승훈's info..\nscraping 허인영's info..\nscraping 이혁's info..\nscraping 정선경's info..\nscraping 류승수's info..\nnow on page 260...\nscraping 주희중's info..\nscraping 이준동's info..\nscraping 박지나's info..\nscraping 이호재's info..\nscraping 박선희's info..\nscraping 정인하's info..\nscraping 유준상's info..\nnow on page 261...\nscraping 허인영's info..\nscraping 류승수's info..\nscraping 장항선's info..\nscraping 하유미's info..\nscraping 김수현's info..\nscraping 박진수's info..\nscraping 김최용준's info..\nnow on page 262...\nscraping 여진구's info..\nscraping 문세윤's info..\nscraping 임철's info..\nscraping 이화룡's info..\nscraping 배민정's info..\nscraping 정보석's info..\nscraping 김용훈's info..\nnow on page 263...\nscraping 신예주's info..\nscraping 정윤희's info..\nscraping 이세미's info..\nscraping 이유준's info..\nscraping 신지훈's info..\nscraping 최근모's info..\nscraping 이도련's info..\nnow on page 264...\nscraping 김추련's info..\nscraping 곽정희's info..\nscraping 홍지우's info..\nscraping 박근수's info..\nscraping 김승우's info..\nscraping 박영서's info..\nscraping 김승수's info..\nnow on page 265...\nscraping 김승수's info..\nscraping 류제승's info..\nscraping 나한일's info..\nscraping 형슬우's info..\nscraping 윤세현's info..\nscraping 박유밀's info..\nscraping 윤지원's info..\nnow on page 266...\nscraping 윤은지's info..\nscraping 남상지's info..\nscraping 현길수's info..\nscraping 소정환's info..\nscraping 최성원's info..\nscraping 이윤건's info..\nscraping 최희진's info..\nnow on page 267...\nscraping 최숙진's info..\nscraping 홍지우's info..\nscraping 김승우's info..\nscraping 박영서's info..\nscraping 박근수's info..\nscraping 김보경's info..\nscraping 김승수's info..\nnow on page 268...\nscraping 윤은지's info..\nscraping 현길수's info..\nscraping 소정환's info..\nscraping 최성원's info..\nscraping 이윤건's info..\nscraping 최희진's info..\nscraping 한혜숙's info..\nnow on page 269...\nscraping 남상지's info..\nscraping 김종원's info..\nscraping 한유정's info..\nscraping 윤은지's info..\nscraping 현길수's info..\nscraping 소정환's info..\nscraping 최성원's info..\nnow on page 270...\nscraping 정윤희's info..\nscraping 이세미's info..\nscraping 이유준's info..\nscraping 신지훈's info..\nscraping 문혜인's info..\nscraping 최근모's info..\nscraping 이도련's info..\nnow on page 271...\nscraping 윤세현's info..\nscraping 박유밀's info..\nscraping 윤지원's info..\nscraping 나한일's info..\nscraping 이승연's info..\nscraping 이동규's info..\nscraping 정영웅's info..\nnow on page 272...\nscraping 김윤식's info..\nscraping 석인수's info..\nscraping 김광석's info..\nscraping 염동헌's info..\nscraping 김하림's info..\nscraping 조형기's info..\nscraping 윤종석's info..\nnow on page 273...\nscraping 윤지원's info..\nnow on page 274...\nFinish! - 1905 people's data has appended\n"
    }
   ],
   "source": [
    "import requests\n",
    "import json, re\n",
    "from bs4 import BeautifulSoup\n",
    "import pymongo\n",
    "from urllib.parse import urljoin\n",
    "import pprint\n",
    "from itertools import count\n",
    "\n",
    "actor_url = \"http://www.cine21.com/rank/person/content\"\n",
    "form_data['section'] = 'actor'\n",
    "form_data['gender'] = 'all'\n",
    "form_data['period_start'] = '2019-07'\n",
    "actor_items = []\n",
    "\n",
    "for page in count(1):\n",
    "    form_data['page'] = page\n",
    "    print(f'now on page {page}...')\n",
    "\n",
    "    res = requests.post(url = actor_url, data = form_data)\n",
    "    soup = BeautifulSoup(res.text, 'html.parser')\n",
    "\n",
    "    names = soup.select('div.name')\n",
    "    if len(names) == 0:\n",
    "        break\n",
    "    hit = soup.select('ul.num_info > li > strong')\n",
    "    mov_list = soup.select('ul.mov_list')\n",
    "    ranks = soup.select('.grade')\n",
    "\n",
    "    actor = []\n",
    "    ## this is novel (enumerate and index)\n",
    "    for index, name in enumerate(names): \n",
    "        href = name.a['href']\n",
    "        name = re.sub(r'\\(\\w*\\)', '' ,name.text)\n",
    "\n",
    "        print(f'scraping {name}\\'s info..')\n",
    "\n",
    "        movie_titles = mov_list[index].select('li a span') ## this is novel\n",
    "        rank = ranks[index].text\n",
    "        m_l = []\n",
    "        for mt in movie_titles:\n",
    "            m_l.append(mt.text)\n",
    "        actor.append({\n",
    "            'name' : name, \n",
    "            'href': href, \n",
    "            'hit' : int(hit[index].text.replace(',','')), ## this is novel\n",
    "            'movie-list' : m_l,\n",
    "            'rank' : int(rank),\n",
    "            })\n",
    "\n",
    "    \n",
    "    for nh in actor:\n",
    "\n",
    "        actor_item = {}\n",
    "        actor_item['이름'] = nh['name']\n",
    "        actor_item['흥행지수'] = nh['hit']\n",
    "        actor_item['출연영화'] = nh['movie-list']\n",
    "        actor_item['랭킹'] = nh['rank']\n",
    "\n",
    "        url = urljoin(actor_url,nh['href'])\n",
    "        res = requests.get(url)\n",
    "        soup = BeautifulSoup(res.text, 'html.parser')\n",
    "\n",
    "        for li in soup.select('.default_info li'):\n",
    "            actor_item_key = li.select_one('span.tit').text\n",
    "            # print(actor_item_key)\n",
    "            actor_item_value = re.sub('<span.*?>.*?</span>|<.*?>','',str(li))\n",
    "            regex = re.compile(r'[\\n\\r\\t]')\n",
    "            actor_item_value= regex.sub('',actor_item_value)\n",
    "            actor_item[actor_item_key] = actor_item_value\n",
    "\n",
    "        actor_items.append(actor_item)\n",
    "print(f'Finish! - {len(actor_items)} people\\'s data has appended')\n"
   ]
  },
  {
   "cell_type": "code",
   "execution_count": 19,
   "metadata": {
    "tags": []
   },
   "outputs": [],
   "source": [
    "actor_list = [ actor for actor in actor_items if len(actor['이름']) < 10]\n"
   ]
  },
  {
   "cell_type": "code",
   "execution_count": 27,
   "metadata": {},
   "outputs": [],
   "source": [
    "with open('./actor.json', 'w', encoding='utf-8') as f:\n",
    "    f.write(json.dumps(actor_list, indent = 4, ensure_ascii = False))"
   ]
  }
 ]
}