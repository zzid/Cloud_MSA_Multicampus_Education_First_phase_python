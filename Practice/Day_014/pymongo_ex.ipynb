{
 "metadata": {
  "language_info": {
   "codemirror_mode": {
    "name": "ipython",
    "version": 3
   },
   "file_extension": ".py",
   "mimetype": "text/x-python",
   "name": "python",
   "nbconvert_exporter": "python",
   "pygments_lexer": "ipython3",
   "version": 3
  },
  "orig_nbformat": 2,
  "kernelspec": {
   "name": "python_defaultSpec_1596156143627",
   "display_name": "Python 3.7.0 64-bit ('base': conda)"
  }
 },
 "nbformat": 4,
 "nbformat_minor": 2,
 "cells": [
  {
   "cell_type": "code",
   "execution_count": 2,
   "metadata": {},
   "outputs": [],
   "source": [
    "import pymongo\n",
    "import json\n",
    "json_path = '../../docs/data/zip.json'"
   ]
  },
  {
   "cell_type": "code",
   "execution_count": 5,
   "metadata": {
    "tags": []
   },
   "outputs": [],
   "source": [
    "with open(json_path, 'r') as f:\n",
    "    contents = f.read()\n",
    "    json_data = json.loads(contents)"
   ]
  },
  {
   "cell_type": "code",
   "execution_count": 7,
   "metadata": {},
   "outputs": [
    {
     "output_type": "execute_result",
     "data": {
      "text/plain": "<pymongo.results.InsertManyResult at 0x165cf83c288>"
     },
     "metadata": {},
     "execution_count": 7
    }
   ],
   "source": [
    "conn = pymongo.MongoClient()\n",
    "zips_db = conn.zips_db\n",
    "zips_col = zips_db.zips_col\n",
    "zips_col.insert_many(json_data)"
   ]
  },
  {
   "cell_type": "code",
   "execution_count": 12,
   "metadata": {},
   "outputs": [],
   "source": [
    "import pprint \n",
    "pp = pprint.PrettyPrinter(indent = 4)\n",
    "\n",
    "def prt(q):\n",
    "    return pp.pprint(list(q))"
   ]
  },
  {
   "cell_type": "code",
   "execution_count": 27,
   "metadata": {
    "tags": []
   },
   "outputs": [
    {
     "output_type": "stream",
     "name": "stdout",
     "text": "[{'count': 29353}]\n"
    }
   ],
   "source": [
    "# 1. select count(*) as count from zips\n",
    "prt(zips_col.aggregate([\n",
    "    {\n",
    "        \"$group\" : {\n",
    "            \"_id\" : \"null\",\n",
    "            \"count\" : {\"$sum\" : 1}\n",
    "        }\n",
    "    },\n",
    "    {\n",
    "        \"$project\" :{\n",
    "            \"_id\" : 0,\n",
    "            \"count\" : 1\n",
    "        }\n",
    "    }\n",
    "]))"
   ]
  },
  {
   "cell_type": "code",
   "execution_count": 28,
   "metadata": {
    "tags": []
   },
   "outputs": [
    {
     "output_type": "stream",
     "name": "stdout",
     "text": "[{'total_pop': 248408400}]\n"
    }
   ],
   "source": [
    "# 2. select sum(pop) as total_pop from zips \n",
    "prt(zips_col.aggregate([\n",
    "    {\n",
    "        \"$group\" :{\n",
    "            \"_id\" : \"null\",\n",
    "            \"total_pop\" : {\"$sum\" : \"$pop\"}\n",
    "        },\n",
    "    },\n",
    "    {\n",
    "        \"$project\" :{\n",
    "            \"_id\" : 0,\n",
    "            \"total_pop\" : 1\n",
    "        }\n",
    "    }\n",
    "]))"
   ]
  },
  {
   "cell_type": "code",
   "execution_count": 33,
   "metadata": {
    "tags": []
   },
   "outputs": [
    {
     "output_type": "stream",
     "name": "stdout",
     "text": "[   {'_id': 'NC', 'total_pop': 6628637},\n    {'_id': 'AZ', 'total_pop': 3665228},\n    {'_id': 'LA', 'total_pop': 4217595},\n    {'_id': 'NM', 'total_pop': 1515069},\n    {'_id': 'NV', 'total_pop': 1201833},\n    {'_id': 'ND', 'total_pop': 638272},\n    {'_id': 'PA', 'total_pop': 11881643},\n    {'_id': 'OK', 'total_pop': 3145585},\n    {'_id': 'AK', 'total_pop': 544698},\n    {'_id': 'MN', 'total_pop': 4372982},\n    {'_id': 'FL', 'total_pop': 12686644},\n    {'_id': 'AR', 'total_pop': 2350725},\n    {'_id': 'NH', 'total_pop': 1109252},\n    {'_id': 'ME', 'total_pop': 1226648},\n    {'_id': 'DE', 'total_pop': 666168},\n    {'_id': 'IN', 'total_pop': 5544136},\n    {'_id': 'TN', 'total_pop': 4876457},\n    {'_id': 'MT', 'total_pop': 798948},\n    {'_id': 'VT', 'total_pop': 562758},\n    {'_id': 'KS', 'total_pop': 2475285},\n    {'_id': 'UT', 'total_pop': 1722850},\n    {'_id': 'WI', 'total_pop': 4891769},\n    {'_id': 'AL', 'total_pop': 4040587},\n    {'_id': 'CA', 'total_pop': 29754890},\n    {'_id': 'SD', 'total_pop': 695397},\n    {'_id': 'GA', 'total_pop': 6478216},\n    {'_id': 'HI', 'total_pop': 1108229},\n    {'_id': 'WA', 'total_pop': 4866692},\n    {'_id': 'MS', 'total_pop': 2573216},\n    {'_id': 'RI', 'total_pop': 1003218},\n    {'_id': 'IA', 'total_pop': 2776420},\n    {'_id': 'MI', 'total_pop': 9295297},\n    {'_id': 'DC', 'total_pop': 606900},\n    {'_id': 'KY', 'total_pop': 3675484},\n    {'_id': 'SC', 'total_pop': 3486703},\n    {'_id': 'OH', 'total_pop': 10846517},\n    {'_id': 'MD', 'total_pop': 4781379},\n    {'_id': 'IL', 'total_pop': 11427576},\n    {'_id': 'CT', 'total_pop': 3287116},\n    {'_id': 'MA', 'total_pop': 6016425},\n    {'_id': 'ID', 'total_pop': 1006749},\n    {'_id': 'NY', 'total_pop': 17990402},\n    {'_id': 'WV', 'total_pop': 1793146},\n    {'_id': 'NJ', 'total_pop': 7730188},\n    {'_id': 'MO', 'total_pop': 5110648},\n    {'_id': 'NE', 'total_pop': 1578139},\n    {'_id': 'TX', 'total_pop': 16984601},\n    {'_id': 'CO', 'total_pop': 3293755},\n    {'_id': 'VA', 'total_pop': 6181479},\n    {'_id': 'WY', 'total_pop': 453528},\n    {'_id': 'OR', 'total_pop': 2842321}]\n"
    }
   ],
   "source": [
    "# 3. select state, sum(pop) as total_pop from zip group by state\n",
    "prt(zips_col.aggregate([\n",
    "    {\n",
    "        \"$group\" : {\n",
    "            \"_id\" :\"$state\",\n",
    "            \"total_pop\" : {\"$sum\" : \"$pop\"}\n",
    "        }\n",
    "    }\n",
    "]))"
   ]
  },
  {
   "cell_type": "code",
   "execution_count": 34,
   "metadata": {
    "tags": [
     "outputPrepend"
    ]
   },
   "outputs": [
    {
     "output_type": "stream",
     "name": "stdout",
     "text": "id': 'GIBBS', 'total_pop': 389},\n    {'_id': 'NINEPOINTS', 'total_pop': 4517},\n    {'_id': 'GALATIA', 'total_pop': 3527},\n    {'_id': 'PINK HILL', 'total_pop': 2201},\n    {'_id': 'SEABOARD', 'total_pop': 1767},\n    {'_id': 'OBERLIN', 'total_pop': 17798},\n    {'_id': 'NEW ALBANY', 'total_pop': 64360},\n    {'_id': 'RAY CITY', 'total_pop': 1859},\n    {'_id': 'DEDHAM', 'total_pop': 24344},\n    {'_id': 'MEALLY', 'total_pop': 925},\n    {'_id': 'VIOLET', 'total_pop': 10549},\n    {'_id': 'FOLCROFT', 'total_pop': 7399},\n    {'_id': 'ANETH', 'total_pop': 3442},\n    {'_id': 'CARLISLE BARRACK', 'total_pop': 50939},\n    {'_id': 'OZONE PARK', 'total_pop': 40644},\n    {'_id': 'OTHO', 'total_pop': 1910},\n    {'_id': 'JOHNSTON CITY', 'total_pop': 5424},\n    {'_id': 'GATE', 'total_pop': 323},\n    {'_id': 'SUNBURY', 'total_pop': 26554},\n    {'_id': 'CLARKSTON', 'total_pop': 35365},\n    {'_id': 'BOX ELDER', 'total_pop': 5702},\n    {'_id': 'KIRKLAND', 'total_pop': 74455},\n    {'_id': 'MOUNT MORIAH', 'total_pop': 247},\n    {'_id': 'YARMOUTH', 'total_pop': 3407},\n    {'_id': 'THOMSON', 'total_pop': 23383},\n    {'_id': 'HUNTINGBURG', 'total_pop': 7415},\n    {'_id': 'COPELAND', 'total_pop': 536},\n    {'_id': 'ASHFORD', 'total_pop': 6783},\n    {'_id': 'MENOMONEE FALLS', 'total_pop': 26840},\n    {'_id': 'RAIFORD', 'total_pop': 1594},\n    {'_id': 'HUTTONSVILLE', 'total_pop': 1072},\n    {'_id': 'HELPER', 'total_pop': 4005},\n    {'_id': 'HICKORY HILL', 'total_pop': 34144},\n    {'_id': 'KIRKLIN', 'total_pop': 2038},\n    {'_id': 'MOUNT JULIET', 'total_pop': 24498},\n    {'_id': 'JOANNA', 'total_pop': 2592},\n    {'_id': 'ETNA GREEN', 'total_pop': 1290},\n    {'_id': 'LU VERNE', 'total_pop': 1337},\n    {'_id': 'PENTWATER', 'total_pop': 3915},\n    {'_id': 'WEST ONEONTA', 'total_pop': 3471},\n    {'_id': 'MICKLETON', 'total_pop': 1850},\n    {'_id': 'GLEN LYN', 'total_pop': 126},\n    {'_id': 'THORN HILL', 'total_pop': 1676},\n    {'_id': 'LOST NATION', 'total_pop': 768},\n    {'_id': 'CLAY CENTER', 'total_pop': 7153},\n    {'_id': 'YUTAN', 'total_pop': 1838},\n    {'_id': 'HUGHSON', 'total_pop': 6383},\n    {'_id': 'REIDSVILLE', 'total_pop': 40569},\n    {'_id': 'SCIENCE HILL', 'total_pop': 2899},\n    {'_id': 'HARVEL', 'total_pop': 374},\n    {'_id': 'AUSTELL', 'total_pop': 25021},\n    {'_id': 'HUNTLEY', 'total_pop': 5915},\n    {'_id': 'DAMAR', 'total_pop': 214},\n    {'_id': 'SALDEE', 'total_pop': 118},\n    {'_id': 'PACIFICA', 'total_pop': 37596},\n    {'_id': 'ALBIN', 'total_pop': 310},\n    {'_id': 'UNADILLA', 'total_pop': 7370},\n    {'_id': 'PEACH SPRINGS', 'total_pop': 798},\n    {'_id': 'CLARA CITY', 'total_pop': 1879},\n    {'_id': 'ROXANA', 'total_pop': 1630},\n    {'_id': 'KENNESAW', 'total_pop': 37120},\n    {'_id': 'JEFFERSON CITY', 'total_pop': 66848},\n    {'_id': 'FEDERAL HEIGHTS', 'total_pop': 54069},\n    {'_id': 'CONVOY', 'total_pop': 2134},\n    {'_id': 'CAPE NEDDICK', 'total_pop': 953},\n    {'_id': 'MAGNETIC SPRINGS', 'total_pop': 708},\n    {'_id': 'BIGLERVILLE', 'total_pop': 5280},\n    {'_id': 'CHESTERFIELD', 'total_pop': 69922},\n    {'_id': 'APPAM', 'total_pop': 116},\n    {'_id': 'GIBBON GLADE', 'total_pop': 94},\n    {'_id': 'MAROA', 'total_pop': 1883},\n    {'_id': 'WOODWAY', 'total_pop': 32152},\n    {'_id': 'SAYBROOK', 'total_pop': 1051},\n    {'_id': 'RUSH VALLEY', 'total_pop': 1893},\n    {'_id': 'WEST DANVILLE', 'total_pop': 1130},\n    {'_id': 'LARSON', 'total_pop': 484},\n    {'_id': 'HOMEWORTH', 'total_pop': 3400},\n    {'_id': 'ACUSHNET', 'total_pop': 9601},\n    {'_id': 'GILCHRIST', 'total_pop': 148},\n    {'_id': 'SANDY CREEK', 'total_pop': 801},\n    {'_id': 'TITUS', 'total_pop': 2683},\n    {'_id': 'ROXBURY', 'total_pop': 66565},\n    {'_id': 'FERN PARK', 'total_pop': 4815},\n    {'_id': 'LAKE VIEW', 'total_pop': 10241},\n    {'_id': 'DEFIANCE', 'total_pop': 32720},\n    {'_id': 'EMBARRASS', 'total_pop': 1143},\n    {'_id': 'GREENBANK', 'total_pop': 926},\n    {'_id': 'COOLSPRING', 'total_pop': 44},\n    {'_id': 'WELLFLEET', 'total_pop': 2684},\n    {'_id': 'PARAMUS', 'total_pop': 25085},\n    {'_id': 'DONALDSONVILLE', 'total_pop': 11265},\n    {'_id': 'JACKPOT', 'total_pop': 95},\n    {'_id': 'ZURICH', 'total_pop': 318},\n    {'_id': 'IDALOU', 'total_pop': 4632},\n    {'_id': 'WINDSOR LOCKS', 'total_pop': 12358},\n    {'_id': 'ALHAMBRA', 'total_pop': 82919},\n    {'_id': 'HICKORY HILLS', 'total_pop': 12894},\n    {'_id': 'ELK GROVE', 'total_pop': 36947},\n    {'_id': 'AMIDON', 'total_pop': 673},\n    {'_id': 'POINT MARION', 'total_pop': 1474},\n    {'_id': 'KLAMATH', 'total_pop': 1390},\n    {'_id': 'PORTAL', 'total_pop': 4931},\n    {'_id': 'BLOXOM', 'total_pop': 1581},\n    {'_id': 'GROVER HILL', 'total_pop': 1113},\n    {'_id': 'GRAYLING', 'total_pop': 7591},\n    {'_id': 'HERSHEY', 'total_pop': 22199},\n    {'_id': 'SHAFER', 'total_pop': 1519},\n    {'_id': 'GOODE', 'total_pop': 2516},\n    {'_id': 'RHOADESVILLE', 'total_pop': 1072},\n    {'_id': 'REDWAY', 'total_pop': 148},\n    {'_id': 'BURBANK', 'total_pop': 124594},\n    {'_id': 'GLORIETA', 'total_pop': 1246},\n    {'_id': 'RANDOLPH CENTER', 'total_pop': 1567},\n    {'_id': 'SEAL BEACH', 'total_pop': 24537},\n    {'_id': 'CLARYVILLE', 'total_pop': 137},\n    {'_id': 'MIDLOTHIAN', 'total_pop': 56243},\n    {'_id': 'HARRISONBURG', 'total_pop': 44375},\n    {'_id': 'WANN', 'total_pop': 977},\n    {'_id': 'PRINTER', 'total_pop': 243},\n    {'_id': 'KEITH', 'total_pop': 185},\n    {'_id': 'DOUGLAS', 'total_pop': 47079},\n    {'_id': 'FLOYD', 'total_pop': 1954},\n    {'_id': 'WESSON', 'total_pop': 4187},\n    {'_id': 'WHITESBORO', 'total_pop': 16550},\n    {'_id': 'ELLISVILLE', 'total_pop': 11197},\n    {'_id': 'MECHANICSTOWN', 'total_pop': 709},\n    {'_id': 'HEROD', 'total_pop': 699},\n    {'_id': 'ALBORN', 'total_pop': 601},\n    {'_id': 'TERMO', 'total_pop': 199},\n    {'_id': 'LOUP CITY', 'total_pop': 1810},\n    {'_id': 'WEST PADUCAH', 'total_pop': 2223},\n    {'_id': 'GOOSE LAKE', 'total_pop': 542},\n    {'_id': 'THE SEA RANCH', 'total_pop': 576},\n    {'_id': 'CROWN CITY', 'total_pop': 2677},\n    {'_id': 'DUPONT', 'total_pop': 716},\n    {'_id': 'CHAPEL HILL', 'total_pop': 64022},\n    {'_id': 'BABBITT', 'total_pop': 2014},\n    {'_id': 'DEADWOOD', 'total_pop': 2726},\n    {'_id': 'MARMADUKE', 'total_pop': 2082},\n    {'_id': 'BENLD', 'total_pop': 1604},\n    {'_id': 'VARNADO', 'total_pop': 15},\n    {'_id': 'AUBURN HILLS', 'total_pop': 16184},\n    {'_id': 'ROSEMONT', 'total_pop': 28926},\n    {'_id': 'STOCKHOLM', 'total_pop': 4687},\n    {'_id': 'WEST GRANBY', 'total_pop': 948},\n    {'_id': 'RALPH', 'total_pop': 1028},\n    {'_id': 'ORFORDVILLE', 'total_pop': 1923},\n    {'_id': 'LOVELOCK', 'total_pop': 3276},\n    {'_id': 'ALVATON', 'total_pop': 5261},\n    {'_id': 'COMMERCE', 'total_pop': 19837},\n    {'_id': 'MANTADOR', 'total_pop': 239},\n    {'_id': 'OCHOPEE', 'total_pop': 1257},\n    {'_id': 'BOSQUE FARMS', 'total_pop': 6286},\n    {'_id': 'MIDDLE GRANVILLE', 'total_pop': 249},\n    {'_id': 'ATOKA', 'total_pop': 12298},\n    {'_id': 'LENNON', 'total_pop': 3778},\n    {'_id': 'JERSEYVILLE', 'total_pop': 9439},\n    {'_id': 'ANAHEIM', 'total_pop': 272327},\n    {'_id': 'TRIBBEY', 'total_pop': 2312},\n    {'_id': 'WETONKA', 'total_pop': 337},\n    {'_id': 'EMERALD', 'total_pop': 11946},\n    {'_id': 'BERN', 'total_pop': 718},\n    {'_id': 'REEDVILLE', 'total_pop': 2037},\n    {'_id': 'PENLLYN', 'total_pop': 16645},\n    {'_id': 'HUBERT', 'total_pop': 8527},\n    {'_id': 'VANDIVER', 'total_pop': 1066},\n    {'_id': 'WEST HELENA', 'total_pop': 12265},\n    {'_id': 'MC NEAL', 'total_pop': 3135},\n    {'_id': 'EIELSON AFB', 'total_pop': 5266},\n    {'_id': 'PHOENIXVILLE', 'total_pop': 30460},\n    {'_id': 'BYROMVILLE', 'total_pop': 1672},\n    {'_id': 'NORTH FRYEBURG', 'total_pop': 185},\n    {'_id': 'NARROWSBURG', 'total_pop': 1576},\n    {'_id': 'GAY', 'total_pop': 4402},\n    {'_id': 'HANCEVILLE', 'total_pop': 10186},\n    {'_id': 'MESQUITE', 'total_pop': 107780},\n    {'_id': 'KEMMERER', 'total_pop': 4258},\n    {'_id': 'MORAN', 'total_pop': 1976},\n    {'_id': 'METUCHEN', 'total_pop': 20017},\n    {'_id': 'CAZENOVIA', 'total_pop': 9712},\n    {'_id': 'HEATH', 'total_pop': 30948},\n    {'_id': 'CAPE SAINT CLAIR', 'total_pop': 44757},\n    {'_id': 'CAMP', 'total_pop': 401},\n    {'_id': 'DRAYDEN', 'total_pop': 413},\n    {'_id': 'FORRESTON', 'total_pop': 2367},\n    {'_id': 'PORT ARTHUR', 'total_pop': 33943},\n    {'_id': 'SOUTH BURLINGTON', 'total_pop': 12809},\n    {'_id': 'KEWEENAW BAY', 'total_pop': 1759},\n    {'_id': 'VANCE', 'total_pop': 4978},\n    {'_id': 'VALLEY VIEW', 'total_pop': 4761},\n    {'_id': 'OKTAHA', 'total_pop': 2624},\n    {'_id': 'ELBURN', 'total_pop': 6271},\n    {'_id': 'WINDYVILLE', 'total_pop': 769},\n    {'_id': 'DATELAND', 'total_pop': 659},\n    {'_id': 'TIJERAS', 'total_pop': 6861},\n    {'_id': 'LAKE OSWEGO', 'total_pop': 37368},\n    {'_id': 'CUSHMAN', 'total_pop': 37299},\n    {'_id': 'EKWOK', 'total_pop': 77},\n    {'_id': 'PAHOKEE', 'total_pop': 8354},\n    {'_id': 'KANOPOLIS', 'total_pop': 641},\n    {'_id': 'CONOWINGO', 'total_pop': 3025},\n    {'_id': 'WHARNCLIFFE', 'total_pop': 428},\n    {'_id': 'CLAY CITY', 'total_pop': 4028},\n    {'_id': 'MOUNT TOM', 'total_pop': 16864},\n    {'_id': 'WOODLYN', 'total_pop': 5186},\n    {'_id': 'MARSHALLTOWN', 'total_pop': 30857},\n    {'_id': 'CLAM FALLS', 'total_pop': 4011},\n    {'_id': 'ARROYO SECO', 'total_pop': 782},\n    {'_id': 'IMBODEN', 'total_pop': 889},\n    {'_id': 'WEST LAWN', 'total_pop': 9845},\n    {'_id': 'ROYAL LAKES', 'total_pop': 844},\n    {'_id': 'DENTON', 'total_pop': 94627},\n    {'_id': 'SOLDIERS GROVE', 'total_pop': 1621},\n    {'_id': 'STEINAUER', 'total_pop': 378},\n    {'_id': 'SUBIACO', 'total_pop': 1190},\n    {'_id': 'POLK', 'total_pop': 7165},\n    {'_id': 'MORRISTON', 'total_pop': 2054},\n    {'_id': 'LLOYD', 'total_pop': 212},\n    {'_id': 'VIAN', 'total_pop': 6030},\n    {'_id': 'MISSION', 'total_pop': 18040},\n    {'_id': 'HASTY', 'total_pop': 219},\n    {'_id': 'ELIOT', 'total_pop': 6506},\n    {'_id': 'JULIAN', 'total_pop': 8890},\n    {'_id': 'COLON', 'total_pop': 42627},\n    {'_id': 'BLOUNTS CREEK', 'total_pop': 1272},\n    {'_id': 'DETOUR', 'total_pop': 970},\n    {'_id': 'PIERRE', 'total_pop': 14138},\n    {'_id': 'HUNTINGTOWN', 'total_pop': 8290},\n    {'_id': 'GLENPOOL', 'total_pop': 6575},\n    {'_id': 'GILMER', 'total_pop': 10141},\n    {'_id': 'STIGLER', 'total_pop': 4932},\n    {'_id': 'BROAD TOP', 'total_pop': 331},\n    {'_id': 'FRANK', 'total_pop': 8906},\n    {'_id': 'SHREWSBURY', 'total_pop': 30991},\n    {'_id': 'CLARINGTON', 'total_pop': 2201},\n    {'_id': 'WOLVERINE', 'total_pop': 1857},\n    {'_id': 'CROSS TIMBERS', 'total_pop': 612},\n    {'_id': 'SOUTHFIELD', 'total_pop': 52027},\n    {'_id': 'FISHERVILLE', 'total_pop': 937},\n    {'_id': 'FLEMINGSBURG', 'total_pop': 6549},\n    {'_id': 'BARLING', 'total_pop': 3857},\n    {'_id': 'GOREE', 'total_pop': 523},\n    {'_id': 'CASTLE HAYNE', 'total_pop': 7329},\n    {'_id': 'FLEMING NEON', 'total_pop': 2563},\n    {'_id': 'GLEN ROGERS', 'total_pop': 367},\n    {'_id': 'NEW RAYMER', 'total_pop': 310},\n    {'_id': 'GREENFIELD', 'total_pop': 97111},\n    {'_id': 'BITELY', 'total_pop': 1828},\n    {'_id': 'SEATAC', 'total_pop': 97},\n    {'_id': 'KENNEBUNKPORT', 'total_pop': 5220},\n    {'_id': 'GRANITE', 'total_pop': 4410},\n    {'_id': 'OSWEGO', 'total_pop': 97590},\n    {'_id': 'RANSON', 'total_pop': 3010},\n    {'_id': 'DINGESS', 'total_pop': 2012},\n    {'_id': 'BUNNLEVEL', 'total_pop': 4749},\n    {'_id': 'BARNEVELD', 'total_pop': 2684},\n    {'_id': 'MARIAH HILL', 'total_pop': 1317},\n    {'_id': 'KOSSE', 'total_pop': 854},\n    {'_id': 'AULT', 'total_pop': 2684},\n    {'_id': 'EL TORO MARINE C', 'total_pop': 8078},\n    {'_id': 'REDVALE', 'total_pop': 409},\n    {'_id': 'SICKLERVILLE', 'total_pop': 29949},\n    {'_id': 'LEOPOLD', 'total_pop': 926},\n    {'_id': 'LITTLE ORLEANS', 'total_pop': 699},\n    {'_id': 'VANDERVOORT', 'total_pop': 323},\n    {'_id': 'SALTERS', 'total_pop': 1932},\n    {'_id': 'VICHY', 'total_pop': 977},\n    {'_id': 'GLADYS', 'total_pop': 3511},\n    {'_id': 'KENOVA', 'total_pop': 7491},\n    {'_id': 'BALL STATE UNIVE', 'total_pop': 3259},\n    {'_id': 'SEELEY LAKE', 'total_pop': 1240},\n    {'_id': 'GROSSINGER', 'total_pop': 851},\n    {'_id': 'BLUE SPRINGS', 'total_pop': 22452},\n    {'_id': 'BARKSDALE', 'total_pop': 353},\n    {'_id': 'NESQUEHONING', 'total_pop': 3364},\n    {'_id': 'VIBORG', 'total_pop': 1664},\n    {'_id': 'POTEET', 'total_pop': 9523},\n    {'_id': 'CHASE', 'total_pop': 1788},\n    {'_id': 'RAYMOND', 'total_pop': 55931},\n    {'_id': 'SWEA CITY', 'total_pop': 1440},\n    {'_id': 'MOORESTOWN', 'total_pop': 22317},\n    {'_id': 'KARNAK', 'total_pop': 710},\n    {'_id': 'SUNDERLAND', 'total_pop': 5063},\n    {'_id': 'WEST ALEXANDER', 'total_pop': 1642},\n    {'_id': 'CALAMINE', 'total_pop': 1078},\n    {'_id': 'LOWER LAKE', 'total_pop': 4880},\n    {'_id': 'ELMORE', 'total_pop': 7469},\n    {'_id': 'BEAVER DAM', 'total_pop': 26047},\n    {'_id': 'BREDA', 'total_pop': 773},\n    {'_id': 'SIMPSONVILLE', 'total_pop': 30881},\n    {'_id': 'ZANONI', 'total_pop': 274},\n    {'_id': 'BIG TIMBER', 'total_pop': 2296},\n    {'_id': 'PAIA', 'total_pop': 2311},\n    {'_id': 'RIVESVILLE', 'total_pop': 2938},\n    {'_id': 'MIDDLESBORO', 'total_pop': 14900},\n    {'_id': 'MANHATTAN', 'total_pop': 57296},\n    {'_id': 'COIN', 'total_pop': 387},\n    {'_id': 'OREGONIA', 'total_pop': 1405},\n    {'_id': 'VOSSBURG', 'total_pop': 1357},\n    {'_id': 'CASSCOE', 'total_pop': 1033},\n    {'_id': 'MAYVIEW', 'total_pop': 746},\n    {'_id': 'CRESCENT MILLS', 'total_pop': 189},\n    {'_id': 'GREEN RIDGE', 'total_pop': 1198},\n    {'_id': 'NORTH POWDER', 'total_pop': 571},\n    {'_id': 'WEST HYATTSVILLE', 'total_pop': 28026},\n    {'_id': 'MC CLELLANVILLE', 'total_pop': 3020},\n    {'_id': 'CAMILLUS', 'total_pop': 15236},\n    {'_id': 'JAMESON', 'total_pop': 401},\n    {'_id': 'TOLUCA LAKE', 'total_pop': 14301},\n    {'_id': 'WEISSPORT', 'total_pop': 17675},\n    {'_id': 'LANEXA', 'total_pop': 3609},\n    {'_id': 'IDA GROVE', 'total_pop': 3633},\n    {'_id': 'EARLE', 'total_pop': 5009},\n    {'_id': 'GREENTOP', 'total_pop': 859},\n    {'_id': 'WHIPPANY', 'total_pop': 7233},\n    {'_id': 'ARAPAHOE', 'total_pop': 3564},\n    {'_id': 'GRESHAM', 'total_pop': 65337},\n    {'_id': 'AUTAUGAVILLE', 'total_pop': 2641},\n    {'_id': 'CLEO SPRINGS', 'total_pop': 630},\n    {'_id': 'VINITA', 'total_pop': 8987},\n    {'_id': 'RINARD', 'total_pop': 377},\n    {'_id': 'MARCY', 'total_pop': 7937},\n    {'_id': 'SILER', 'total_pop': 151},\n    {'_id': 'LYNN GARDEN', 'total_pop': 6024},\n    {'_id': 'RINGLE', 'total_pop': 1370},\n    {'_id': 'FINLEYVILLE', 'total_pop': 8838},\n    {'_id': 'PARKERS LAKE', 'total_pop': 1952},\n    {'_id': 'KAPAA', 'total_pop': 15627},\n    {'_id': 'PORT READING', 'total_pop': 4083},\n    {'_id': 'WOOLDRIDGE', 'total_pop': 571},\n    {'_id': 'ARONA', 'total_pop': 397},\n    {'_id': 'SILVERDALE', 'total_pop': 15978},\n    {'_id': 'SALISBURY CENTER', 'total_pop': 896},\n    {'_id': 'JOLIETTE', 'total_pop': 907},\n    {'_id': 'COLLEGEVILLE', 'total_pop': 26229},\n    {'_id': 'BRIDPORT', 'total_pop': 641},\n    {'_id': 'LEARY', 'total_pop': 6832},\n    {'_id': 'SHUBERT', 'total_pop': 320},\n    {'_id': 'HERRICK CENTER', 'total_pop': 218},\n    {'_id': 'WILLOW WOOD', 'total_pop': 665},\n    {'_id': 'GALLANT', 'total_pop': 337},\n    {'_id': 'MINTER CITY', 'total_pop': 1064},\n    {'_id': 'BLUEJACKET', 'total_pop': 1005},\n    {'_id': 'PORT LAVACA', 'total_pop': 15627},\n    {'_id': 'LACONIA', 'total_pop': 1058},\n    {'_id': 'DELEVAN', 'total_pop': 4516},\n    {'_id': 'BROWDER', 'total_pop': 0},\n    {'_id': 'GLASTONBURY', 'total_pop': 24287},\n    {'_id': 'LOVETTSVILLE', 'total_pop': 3631},\n    {'_id': 'BRITTON', 'total_pop': 5060},\n    {'_id': 'FRYBURG', 'total_pop': 3170},\n    {'_id': 'RESERVE', 'total_pop': 13676},\n    {'_id': 'NEW JOHNSONVILLE', 'total_pop': 2812},\n    {'_id': 'GRASS VALLEY', 'total_pop': 42651},\n    {'_id': 'WILEY', 'total_pop': 711},\n    {'_id': 'GILBERTVILLE', 'total_pop': 2385},\n    {'_id': 'LONG BOTTOM', 'total_pop': 1692},\n    {'_id': 'NORTH HAMPTON', 'total_pop': 3637},\n    {'_id': 'WILDERSVILLE', 'total_pop': 2828},\n    {'_id': 'GOLVA', 'total_pop': 290},\n    {'_id': 'BAISDEN', 'total_pop': 1183},\n    {'_id': 'GRAVOIS MILLS', 'total_pop': 5653},\n    {'_id': 'BURDICK', 'total_pop': 230},\n    {'_id': 'EAGLE LAKE', 'total_pop': 8217},\n    {'_id': 'LAQUEY', 'total_pop': 798},\n    {'_id': 'GLOUCESTER', 'total_pop': 28716},\n    {'_id': 'COLEBROOK', 'total_pop': 4435},\n    {'_id': 'COMINS', 'total_pop': 515},\n    {'_id': 'CABERY', 'total_pop': 510},\n    {'_id': 'PERRIN', 'total_pop': 1065},\n    {'_id': 'CUMBERLAND FURNA', 'total_pop': 2288},\n    {'_id': 'SOUTH BYRON', 'total_pop': 1842},\n    {'_id': 'DEVERS', 'total_pop': 570},\n    {'_id': 'EAST BRIDGEWATER', 'total_pop': 11104},\n    {'_id': 'SAINT LEO', 'total_pop': 483},\n    {'_id': 'EAST JEWETT', 'total_pop': 241},\n    {'_id': 'ROCKYBRANCH', 'total_pop': 79},\n    {'_id': 'NUNN', 'total_pop': 505},\n    {'_id': 'CANON CITY', 'total_pop': 23049},\n    {'_id': 'MAPLE SHADE', 'total_pop': 19365},\n    {'_id': 'CARRIER MILLS', 'total_pop': 3355},\n    {'_id': 'MANTI', 'total_pop': 3088},\n    {'_id': 'TONALEA', 'total_pop': 158},\n    {'_id': 'LEIPSIC', 'total_pop': 4657},\n    {'_id': 'CLARKS MILLS', 'total_pop': 1351},\n    {'_id': 'MOUNT MARION', 'total_pop': 753},\n    {'_id': 'LEAVENWORTH', 'total_pop': 33468},\n    {'_id': 'NASHOBA', 'total_pop': 534},\n{'_id': 'RIO VISTA', 'total_pop': 6335},\n    {'_id': 'SHELLEY', 'total_pop': 6164},\n    {'_id': 'PILGRIM GARDENS', 'total_pop': 32559},\n    {'_id': 'FORT THOMPSON', 'total_pop': 1495},\n    {'_id': 'FENWICK', 'total_pop': 1833},\n    {'_id': 'BRILLION', 'total_pop': 4618},\n    {'_id': 'FORT WORTH', 'total_pop': 451415},\n    {'_id': 'ALSTEAD', 'total_pop': 1721},\n    {'_id': 'LEONARDTOWN', 'total_pop': 8922},\n    {'_id': 'EL MACERO', 'total_pop': 1126},\n    {'_id': 'STEPHENS CITY', 'total_pop': 10954},\n    {'_id': 'HURT', 'total_pop': 5283},\n    {'_id': 'AU SABLE FORKS', 'total_pop': 2143},\n    {'_id': 'VAN', 'total_pop': 4028},\n    {'_id': 'HOOVERSVILLE', 'total_pop': 731},\n    {'_id': 'WALNUT COVE', 'total_pop': 9048},\n    {'_id': 'HACKLEBURG', 'total_pop': 2828},\n    {'_id': 'DANUBE', 'total_pop': 1179},\n    {'_id': 'NAKNEK', 'total_pop': 0},\n    {'_id': 'EAST CAMDEN', 'total_pop': 22640},\n    {'_id': 'WILLISTON PARK', 'total_pop': 11057},\n    {'_id': 'DENVER', 'total_pop': 472054},\n    {'_id': 'JAVA CENTER', 'total_pop': 613},\n    {'_id': 'VESTA', 'total_pop': 525},\n    {'_id': 'LINN CREEK', 'total_pop': 2308},\n    {'_id': 'ESTHERVILLE', 'total_pop': 8614},\n    {'_id': 'KINDER', 'total_pop': 6853},\n    {'_id': 'MIDWAY', 'total_pop': 16072},\n    {'_id': 'ESTERO', 'total_pop': 1846},\n    {'_id': 'TRIBUNE', 'total_pop': 1774},\n    {'_id': 'CHARTER OAK', 'total_pop': 797},\n    {'_id': 'RINGGOLD', 'total_pop': 35465},\n    {'_id': 'AVONMORE', 'total_pop': 3306},\n    {'_id': 'SHAVERTOWN', 'total_pop': 12656},\n    {'_id': 'BUNCOMBE', 'total_pop': 696},\n    {'_id': 'LA HONDA', 'total_pop': 1557},\n    {'_id': 'GREYBULL', 'total_pop': 2460},\n    {'_id': 'HALLOWELL', 'total_pop': 7363},\n    {'_id': 'BEE', 'total_pop': 942},\n    {'_id': 'HOLLY BLUFF', 'total_pop': 218},\n    {'_id': 'QUAIL', 'total_pop': 73},\n    {'_id': 'ORANGE PARK', 'total_pop': 56529},\n    {'_id': 'FOMBELL', 'total_pop': 2611},\n    {'_id': 'JARRATT', 'total_pop': 2055},\n    {'_id': 'CASTINE', 'total_pop': 8201},\n    {'_id': 'ISLE AU HAUT', 'total_pop': 46},\n    {'_id': 'SUGAR CITY', 'total_pop': 4917},\n    {'_id': 'BAXLEY', 'total_pop': 14099},\n    {'_id': 'ROSMAN', 'total_pop': 2779},\n    {'_id': 'BRYCE CANYON', 'total_pop': 958},\n    {'_id': 'RICE', 'total_pop': 16693},\n    {'_id': 'PICKEREL', 'total_pop': 269},\n    {'_id': 'LA VERGNE', 'total_pop': 6115},\n    {'_id': 'HEPPNER', 'total_pop': 2127},\n    {'_id': 'SLICKVILLE', 'total_pop': 318},\n    {'_id': 'MUNNSVILLE', 'total_pop': 2116},\n    {'_id': 'HUNTER', 'total_pop': 1842},\n    {'_id': 'COLMA', 'total_pop': 40406},\n    {'_id': 'CUMBY', 'total_pop': 2894},\n    {'_id': 'GEORGE AFB', 'total_pop': 6815}]\n"
    }
   ],
   "source": [
    "# 4. select city, sum(pop) as total_pop from zips group by city\n",
    "prt(zips_col.aggregate([\n",
    "    {\n",
    "        \"$group\" : {\n",
    "            \"_id\" : \"$city\",\n",
    "            \"total_pop\" : {\"$sum\" : \"$pop\"}\n",
    "        }\n",
    "    }\n",
    "]))"
   ]
  },
  {
   "cell_type": "code",
   "execution_count": 37,
   "metadata": {
    "tags": []
   },
   "outputs": [
    {
     "output_type": "stream",
     "name": "stdout",
     "text": "[   {'_id': 'WY', 'total_pop': 453528},\n    {'_id': 'AK', 'total_pop': 544698},\n    {'_id': 'VT', 'total_pop': 562758},\n    {'_id': 'DC', 'total_pop': 606900},\n    {'_id': 'ND', 'total_pop': 638272},\n    {'_id': 'DE', 'total_pop': 666168},\n    {'_id': 'SD', 'total_pop': 695397},\n    {'_id': 'MT', 'total_pop': 798948},\n    {'_id': 'RI', 'total_pop': 1003218},\n    {'_id': 'ID', 'total_pop': 1006749},\n    {'_id': 'HI', 'total_pop': 1108229},\n    {'_id': 'NH', 'total_pop': 1109252},\n    {'_id': 'NV', 'total_pop': 1201833},\n    {'_id': 'ME', 'total_pop': 1226648},\n    {'_id': 'NM', 'total_pop': 1515069},\n    {'_id': 'NE', 'total_pop': 1578139},\n    {'_id': 'UT', 'total_pop': 1722850},\n    {'_id': 'WV', 'total_pop': 1793146},\n    {'_id': 'AR', 'total_pop': 2350725},\n    {'_id': 'KS', 'total_pop': 2475285},\n    {'_id': 'MS', 'total_pop': 2573216},\n    {'_id': 'IA', 'total_pop': 2776420},\n    {'_id': 'OR', 'total_pop': 2842321},\n    {'_id': 'OK', 'total_pop': 3145585},\n    {'_id': 'CT', 'total_pop': 3287116},\n    {'_id': 'CO', 'total_pop': 3293755},\n    {'_id': 'SC', 'total_pop': 3486703},\n    {'_id': 'AZ', 'total_pop': 3665228},\n    {'_id': 'KY', 'total_pop': 3675484},\n    {'_id': 'AL', 'total_pop': 4040587},\n    {'_id': 'LA', 'total_pop': 4217595},\n    {'_id': 'MN', 'total_pop': 4372982},\n    {'_id': 'MD', 'total_pop': 4781379},\n    {'_id': 'WA', 'total_pop': 4866692},\n    {'_id': 'TN', 'total_pop': 4876457},\n    {'_id': 'WI', 'total_pop': 4891769},\n    {'_id': 'MO', 'total_pop': 5110648},\n    {'_id': 'IN', 'total_pop': 5544136},\n    {'_id': 'MA', 'total_pop': 6016425},\n    {'_id': 'VA', 'total_pop': 6181479},\n    {'_id': 'GA', 'total_pop': 6478216},\n    {'_id': 'NC', 'total_pop': 6628637},\n    {'_id': 'NJ', 'total_pop': 7730188},\n    {'_id': 'MI', 'total_pop': 9295297},\n    {'_id': 'OH', 'total_pop': 10846517},\n    {'_id': 'IL', 'total_pop': 11427576},\n    {'_id': 'PA', 'total_pop': 11881643},\n    {'_id': 'FL', 'total_pop': 12686644},\n    {'_id': 'TX', 'total_pop': 16984601},\n    {'_id': 'NY', 'total_pop': 17990402},\n    {'_id': 'CA', 'total_pop': 29754890}]\n"
    }
   ],
   "source": [
    "# 5. select state, sum(pop) as total_pop from zip group by state order by total_pop\n",
    "prt(zips_col.aggregate([\n",
    "    {\n",
    "        \"$group\" : {\n",
    "            \"_id\" : \"$state\",\n",
    "            \"total_pop\" : {\"$sum\" : \"$pop\"}\n",
    "        }\n",
    "    },\n",
    "    {\n",
    "        \"$sort\" :{\n",
    "            \"total_pop\" : pymongo.ASCENDING\n",
    "        }\n",
    "    }\n",
    "]))"
   ]
  },
  {
   "cell_type": "code",
   "execution_count": 41,
   "metadata": {
    "tags": []
   },
   "outputs": [
    {
     "output_type": "stream",
     "name": "stdout",
     "text": "[{'count': 474}]\n"
    }
   ],
   "source": [
    "# 6. SELECT COUNT(*) FROM zip WHERE state = 'MA' \n",
    "prt(zips_col.aggregate([\n",
    "    {\n",
    "        \"$match\" : {\n",
    "            \"state\" : 'MA'\n",
    "        }\n",
    "    },\n",
    "    {\n",
    "        \"$group\" :{\n",
    "            \"_id\" : 'null',\n",
    "            \"count\" : {\"$sum\" : 1}\n",
    "        }\n",
    "    },\n",
    "    {\n",
    "        \"$project\" : {\n",
    "            \"_id\" : 0,\n",
    "            \"count\" : 1\n",
    "        }\n",
    "    }\n",
    "]))"
   ]
  },
  {
   "cell_type": "code",
   "execution_count": 44,
   "metadata": {
    "tags": []
   },
   "outputs": [
    {
     "output_type": "stream",
     "name": "stdout",
     "text": "[{'_id': 'MA', 'total_pop': 6016425}]\n"
    }
   ],
   "source": [
    "# 7. select state,sum(pop) as total_pop from zip where state = 'MA' group by state\n",
    "prt(zips_col.aggregate([\n",
    "    {\n",
    "        \"$match\" : {\n",
    "            'state' : 'MA'\n",
    "        }\n",
    "    },\n",
    "    {\n",
    "        '$group' : {\n",
    "            '_id' : '$state',\n",
    "            'total_pop' : {'$sum' : '$pop'}\n",
    "        }\n",
    "    }\n",
    "]))\n"
   ]
  },
  {
   "cell_type": "code",
   "execution_count": 45,
   "metadata": {
    "tags": []
   },
   "outputs": [
    {
     "output_type": "stream",
     "name": "stdout",
     "text": "[{'_id': 'MS', 'total_pop': 2573216}, {'_id': 'DE', 'total_pop': 666168}]\n"
    }
   ],
   "source": [
    "# 7.1 select state,sum(pop) as total_pop from zip where state in ('DE', 'MS') group by state\n",
    "prt(zips_col.aggregate([\n",
    "    {\n",
    "        \"$match\" : {\n",
    "            'state' : {'$in' : ['MS', 'DE']}\n",
    "        }\n",
    "    },\n",
    "    {\n",
    "        '$group' : {\n",
    "            '_id' : '$state',\n",
    "            'total_pop' : {'$sum' : '$pop'}\n",
    "        }\n",
    "    }\n",
    "]))\n"
   ]
  },
  {
   "cell_type": "code",
   "execution_count": 46,
   "metadata": {
    "tags": []
   },
   "outputs": [
    {
     "output_type": "stream",
     "name": "stdout",
     "text": "[   {'_id': 'PA', 'total_pop': 11881643},\n    {'_id': 'FL', 'total_pop': 12686644},\n    {'_id': 'CA', 'total_pop': 29754890},\n    {'_id': 'OH', 'total_pop': 10846517},\n    {'_id': 'IL', 'total_pop': 11427576},\n    {'_id': 'NY', 'total_pop': 17990402},\n    {'_id': 'TX', 'total_pop': 16984601}]\n"
    }
   ],
   "source": [
    "# 8. SELECT state, SUM(pop) as total_pop FROM zip GROUP BY state HAVING SUM(pop) > 10000000\n",
    "prt(zips_col.aggregate([\n",
    "    {\n",
    "        '$group' : {\n",
    "            '_id' : '$state',\n",
    "            'total_pop' : {'$sum' : '$pop'}\n",
    "        }\n",
    "    },\n",
    "    {\n",
    "        '$match' : {\n",
    "            'total_pop' : {'$gt' : 10000000}\n",
    "        }\n",
    "    }\n",
    "]))"
   ]
  },
  {
   "cell_type": "code",
   "execution_count": 56,
   "metadata": {
    "tags": []
   },
   "outputs": [
    {
     "output_type": "stream",
     "name": "stdout",
     "text": "[   {'state_pop': 11881643},\n    {'state_pop': 12686644},\n    {'state_pop': 29754890},\n    {'state_pop': 10846517},\n    {'state_pop': 11427576},\n    {'state_pop': 17990402},\n    {'state_pop': 16984601}]\n"
    }
   ],
   "source": [
    "# 9.1000만 이상의 state 별 총 인구를 state_pop 필드명으로 출력하고 _id는 출력하지 않기\n",
    "prt(zips_col.aggregate([\n",
    "    {\n",
    "        '$group' : {\n",
    "            '_id' : '$state',\n",
    "            'state_pop' : {'$sum' : '$pop'}\n",
    "        }\n",
    "    },\n",
    "    {\n",
    "        '$match' : {\n",
    "            'state_pop' : {'$gte' : 10000000}\n",
    "        }\n",
    "    },\n",
    "    {\n",
    "        '$project' : {\n",
    "            '_id' : 0,\n",
    "            'state_pop' : 1\n",
    "        }\n",
    "    }\n",
    "]))\n"
   ]
  },
  {
   "cell_type": "code",
   "execution_count": 51,
   "metadata": {
    "tags": []
   },
   "outputs": [
    {
     "output_type": "stream",
     "name": "stdout",
     "text": "[   {'_id': 'CA', 'state_pop': 29754890},\n    {'_id': 'NY', 'state_pop': 17990402},\n    {'_id': 'TX', 'state_pop': 16984601}]\n"
    }
   ],
   "source": [
    "# 10.1000만 이상의 state만 내림차순 정렬하여 3개만 가져오기\n",
    "prt(zips_col.aggregate([\n",
    "    {\n",
    "        '$group' : {\n",
    "            '_id' : '$state',\n",
    "            'state_pop' : {'$sum' : '$pop'}\n",
    "        }\n",
    "    },\n",
    "    {\n",
    "        '$match' : {\n",
    "            'state_pop' : {'$gte' : 10000000}\n",
    "        }\n",
    "    },\n",
    "    {\n",
    "        '$sort' :{\n",
    "            'state_pop' : pymongo.DESCENDING\n",
    "        }\n",
    "    },\n",
    "    {\n",
    "        '$limit' : 3\n",
    "    }\n",
    "]))\n"
   ]
  },
  {
   "cell_type": "code",
   "execution_count": 54,
   "metadata": {
    "tags": []
   },
   "outputs": [
    {
     "output_type": "stream",
     "name": "stdout",
     "text": "[{'state_pop': 29754890}, {'state_pop': 17990402}, {'state_pop': 16984601}]\n"
    }
   ],
   "source": [
    "# 11.1000만 이상의 state 별 총 인구를 state_pop 필드명으로 출력하고,\n",
    "#  _id는 출력하지 않으며, 가장 많은 인구를 가진 3개만 출력하기\n",
    "prt(zips_col.aggregate([\n",
    "    {\n",
    "        '$group' : {\n",
    "            '_id' : '$state',\n",
    "            'state_pop' : {'$sum' : '$pop'}\n",
    "        }\n",
    "    },\n",
    "    {\n",
    "        '$match' : {\n",
    "            'state_pop' : {'$gte' : 10000000}\n",
    "        }\n",
    "    },\n",
    "    {\n",
    "        '$sort' :{\n",
    "            'state_pop' : pymongo.DESCENDING\n",
    "        }\n",
    "    },\n",
    "    {\n",
    "        '$limit' : 3\n",
    "    },\n",
    "    {\n",
    "        '$project' : {\n",
    "            '_id' :0,\n",
    "            'state_pop' : 1\n",
    "        }\n",
    "    }\n",
    "]))\n",
    "\n"
   ]
  },
  {
   "cell_type": "code",
   "execution_count": 57,
   "metadata": {
    "tags": [
     "outputPrepend"
    ]
   },
   "outputs": [
    {
     "output_type": "stream",
     "name": "stdout",
     "text": ": 'NY'}, 'total_pop': 37695},\n    {'_id': {'city': 'RAMSEY', 'state': 'IL'}, 'total_pop': 4166},\n    {'_id': {'city': 'DEVILS ELBOW', 'state': 'MO'}, 'total_pop': 1717},\n    {'_id': {'city': 'SYCAMORE', 'state': 'PA'}, 'total_pop': 395},\n    {'_id': {'city': 'MORGANVILLE', 'state': 'KS'}, 'total_pop': 847},\n    {'_id': {'city': 'ELK GARDEN', 'state': 'WV'}, 'total_pop': 1168},\n    {'_id': {'city': 'PASCOAG', 'state': 'RI'}, 'total_pop': 7156},\n    {'_id': {'city': 'ESSEX', 'state': 'MA'}, 'total_pop': 3260},\n    {'_id': {'city': 'WILLIAMSBURG', 'state': 'VA'}, 'total_pop': 14957},\n    {'_id': {'city': 'MARKLE', 'state': 'IN'}, 'total_pop': 3084},\n    {'_id': {'city': 'FALLS MILLS', 'state': 'VA'}, 'total_pop': 960},\n    {'_id': {'city': 'GILMAN', 'state': 'IL'}, 'total_pop': 2125},\n    {'_id': {'city': 'KINGFISHER', 'state': 'OK'}, 'total_pop': 6323},\n    {'_id': {'city': 'FERRELLSBURG', 'state': 'WV'}, 'total_pop': 1611},\n    {'_id': {'city': 'WATERFORD', 'state': 'CT'}, 'total_pop': 15217},\n    {'_id': {'city': 'WARM SPRINGS', 'state': 'GA'}, 'total_pop': 819},\n    {'_id': {'city': 'BEAVER', 'state': 'IA'}, 'total_pop': 501},\n    {'_id': {'city': 'POWDERVILLE', 'state': 'MT'}, 'total_pop': 24},\n    {'_id': {'city': 'MANCHESTER CENTE', 'state': 'VT'}, 'total_pop': 3622},\n    {'_id': {'city': 'MARION', 'state': 'KY'}, 'total_pop': 8733},\n    {'_id': {'city': 'TREVOR', 'state': 'WI'}, 'total_pop': 3527},\n    {'_id': {'city': 'COAL VALLEY', 'state': 'IL'}, 'total_pop': 5435},\n    {'_id': {'city': 'WEBSTER', 'state': 'MN'}, 'total_pop': 1452},\n    {'_id': {'city': 'ABERDEEN', 'state': 'MS'}, 'total_pop': 15769},\n    {'_id': {'city': 'KISMET', 'state': 'KS'}, 'total_pop': 1195},\n    {'_id': {'city': 'MEADOW BRIDGE', 'state': 'WV'}, 'total_pop': 1446},\n    {'_id': {'city': 'REVERE', 'state': 'MA'}, 'total_pop': 42766},\n    {'_id': {'city': 'MARENGO', 'state': 'IA'}, 'total_pop': 4856},\n    {'_id': {'city': 'LIVINGSTON', 'state': 'LA'}, 'total_pop': 4653},\n    {'_id': {'city': 'GRANGER', 'state': 'TX'}, 'total_pop': 3160},\n    {'_id': {'city': 'FREMONT', 'state': 'UT'}, 'total_pop': 987},\n    {'_id': {'city': 'LEVITTOWN', 'state': 'PA'}, 'total_pop': 63555},\n    {'_id': {'city': 'SHIPPENVILLE', 'state': 'PA'}, 'total_pop': 2448},\n    {'_id': {'city': 'BURNHAM', 'state': 'PA'}, 'total_pop': 2005},\n    {'_id': {'city': 'HERKIMER', 'state': 'NY'}, 'total_pop': 10090},\n    {'_id': {'city': 'NEW WASHINGTON', 'state': 'OH'}, 'total_pop': 1679},\n    {'_id': {'city': 'BOWEN', 'state': 'IL'}, 'total_pop': 693},\n    {'_id': {'city': 'GALENA PARK', 'state': 'TX'}, 'total_pop': 9306},\n    {'_id': {'city': 'CROSSVILLE', 'state': 'AL'}, 'total_pop': 4874},\n    {'_id': {'city': 'IRWIN', 'state': 'OH'}, 'total_pop': 498},\n    {'_id': {'city': 'ARBOLES', 'state': 'CO'}, 'total_pop': 587},\n    {'_id': {'city': 'ROGERS', 'state': 'NM'}, 'total_pop': 30},\n    {'_id': {'city': 'AMBLER', 'state': 'AK'}, 'total_pop': 8},\n    {'_id': {'city': 'WILSON', 'state': 'NC'}, 'total_pop': 47823},\n    {'_id': {'city': 'CLERMONT', 'state': 'IA'}, 'total_pop': 817},\n    {'_id': {'city': 'HAMPTON', 'state': 'CT'}, 'total_pop': 2139},\n    {'_id': {'city': 'WHITAKERS', 'state': 'NC'}, 'total_pop': 6281},\n    {'_id': {'city': 'CRESSON', 'state': 'PA'}, 'total_pop': 5829},\n    {'_id': {'city': 'HOLLYWOOD', 'state': 'AL'}, 'total_pop': 2038},\n    {'_id': {'city': 'TAZEWELL', 'state': 'TN'}, 'total_pop': 8567},\n    {'_id': {'city': 'TARKIO', 'state': 'MO'}, 'total_pop': 2553},\n    {'_id': {'city': 'GLENN', 'state': 'GA'}, 'total_pop': 7230},\n    {'_id': {'city': 'LARRABEE', 'state': 'IA'}, 'total_pop': 607},\n    {'_id': {'city': 'GARRETT', 'state': 'WY'}, 'total_pop': 120},\n    {'_id': {'city': 'KEMPTON', 'state': 'IN'}, 'total_pop': 1501},\n    {'_id': {'city': 'SOUTH WHITLEY', 'state': 'IN'}, 'total_pop': 3791},\n    {'_id': {'city': 'DIAMOND BAR', 'state': 'CA'}, 'total_pop': 84126},\n    {'_id': {'city': 'SATSUMA', 'state': 'AL'}, 'total_pop': 6197},\n    {'_id': {'city': 'LYONS', 'state': 'NY'}, 'total_pop': 8168},\n    {'_id': {'city': 'WABASHA', 'state': 'MN'}, 'total_pop': 3743},\n    {'_id': {'city': 'CASSATT', 'state': 'SC'}, 'total_pop': 2164},\n    {'_id': {'city': 'PORT WASHINGTON', 'state': 'WI'}, 'total_pop': 10829},\n    {'_id': {'city': 'UNION HALL', 'state': 'VA'}, 'total_pop': 804},\n    {'_id': {'city': 'PARDEEVILLE', 'state': 'WI'}, 'total_pop': 6321},\n    {'_id': {'city': 'NAHANT', 'state': 'MA'}, 'total_pop': 3828},\n    {'_id': {'city': 'CRYSTAL', 'state': 'MN'}, 'total_pop': 33233},\n    {'_id': {'city': 'BLOOMFIELD', 'state': 'NJ'}, 'total_pop': 46131},\n    {'_id': {'city': 'NEWBERNE', 'state': 'WV'}, 'total_pop': 86},\n    {'_id': {'city': 'FIVE POINTS', 'state': 'TN'}, 'total_pop': 798},\n    {'_id': {'city': 'GROVE CITY', 'state': 'MN'}, 'total_pop': 1428},\n    {'_id': {'city': 'WEST ORANGE', 'state': 'NJ'}, 'total_pop': 38639},\n    {'_id': {'city': 'BOSTIC', 'state': 'NC'}, 'total_pop': 3094},\n    {'_id': {'city': 'HUNKER', 'state': 'PA'}, 'total_pop': 1592},\n    {'_id': {'city': 'BEACONSFIELD', 'state': 'IA'}, 'total_pop': 195},\n    {'_id': {'city': 'TODD', 'state': 'NC'}, 'total_pop': 1039},\n    {'_id': {'city': 'WHITEWATER', 'state': 'WI'}, 'total_pop': 16723},\n    {'_id': {'city': 'CROOKS', 'state': 'SD'}, 'total_pop': 1262},\n    {'_id': {'city': 'KINARD', 'state': 'FL'}, 'total_pop': 297},\n    {'_id': {'city': 'HETLAND', 'state': 'SD'}, 'total_pop': 1069},\n    {'_id': {'city': 'ALTON BAY', 'state': 'NH'}, 'total_pop': 157},\n    {'_id': {'city': 'BROOKS A F B', 'state': 'TX'}, 'total_pop': 885},\n    {'_id': {'city': 'MOFFETT FIELD', 'state': 'CA'}, 'total_pop': 790},\n    {'_id': {'city': 'SAINT CHARLES', 'state': 'VA'}, 'total_pop': 485},\n    {'_id': {'city': 'LAKE TOXAWAY', 'state': 'NC'}, 'total_pop': 1849},\n    {'_id': {'city': 'CORNELIA', 'state': 'GA'}, 'total_pop': 7597},\n    {'_id': {'city': 'HAMLET', 'state': 'NC'}, 'total_pop': 13443},\n    {'_id': {'city': 'MULBERRY', 'state': 'FL'}, 'total_pop': 13338},\n    {'_id': {'city': 'SCHOHARIE', 'state': 'NY'}, 'total_pop': 4095},\n    {'_id': {'city': 'AUXIER', 'state': 'KY'}, 'total_pop': 2461},\n    {'_id': {'city': 'BANDYTOWN', 'state': 'WV'}, 'total_pop': 500},\n    {'_id': {'city': 'WHITEWATER', 'state': 'MT'}, 'total_pop': 110},\n    {'_id': {'city': 'UNIVERSITY', 'state': 'MS'}, 'total_pop': 1902},\n    {'_id': {'city': 'HILLSBORO', 'state': 'OH'}, 'total_pop': 19825},\n    {'_id': {'city': 'BURBANK', 'state': 'OK'}, 'total_pop': 641},\n    {'_id': {'city': 'CARBONADO', 'state': 'WA'}, 'total_pop': 495},\n    {'_id': {'city': 'SARATOGA', 'state': 'AR'}, 'total_pop': 281},\n    {'_id': {'city': 'BREWSTER', 'state': 'MN'}, 'total_pop': 800},\n    {'_id': {'city': 'HANOVER TOWNSHIP', 'state': 'PA'}, 'total_pop': 54119},\n    {'_id': {'city': 'PEMBROKE', 'state': 'NC'}, 'total_pop': 10673},\n    {'_id': {'city': 'GRAFTON', 'state': 'NE'}, 'total_pop': 302},\n    {'_id': {'city': 'MORROW', 'state': 'GA'}, 'total_pop': 20584},\n    {'_id': {'city': 'STOW', 'state': 'MA'}, 'total_pop': 5328},\n    {'_id': {'city': 'DICKSON CITY', 'state': 'PA'}, 'total_pop': 5012},\n    {'_id': {'city': 'SCOTTVILLE', 'state': 'MI'}, 'total_pop': 4229},\n    {'_id': {'city': 'HAMLET', 'state': 'ND'}, 'total_pop': 238},\n    {'_id': {'city': 'AVONDALE ESTATES', 'state': 'GA'}, 'total_pop': 4459},\n    {'_id': {'city': 'ELLSWORTH', 'state': 'KS'}, 'total_pop': 3728},\n    {'_id': {'city': 'CREEDE', 'state': 'CO'}, 'total_pop': 558},\n    {'_id': {'city': 'MARYSVILLE', 'state': 'CA'}, 'total_pop': 43785},\n    {'_id': {'city': 'ROCK SPRINGS', 'state': 'WI'}, 'total_pop': 735},\n    {'_id': {'city': 'REAGAN', 'state': 'TX'}, 'total_pop': 796},\n    {'_id': {'city': 'S RICHMOND HILL', 'state': 'NY'}, 'total_pop': 37530},\n    {'_id': {'city': 'BOLCKOW', 'state': 'MO'}, 'total_pop': 684},\n    {'_id': {'city': 'FORT ROCK', 'state': 'OR'}, 'total_pop': 35},\n    {'_id': {'city': 'KAUFMAN', 'state': 'TX'}, 'total_pop': 9160},\n    {'_id': {'city': 'WELLSBURG', 'state': 'IA'}, 'total_pop': 1353},\n    {'_id': {'city': 'EASTFORD', 'state': 'CT'}, 'total_pop': 76},\n    {'_id': {'city': 'VENICE CENTER', 'state': 'NY'}, 'total_pop': 1520},\n    {'_id': {'city': 'CHAMBERLAIN', 'state': 'ME'}, 'total_pop': 482},\n    {'_id': {'city': 'HOUGHTON', 'state': 'IA'}, 'total_pop': 448},\n    {'_id': {'city': 'YUKON', 'state': 'OK'}, 'total_pop': 38891},\n    {'_id': {'city': 'CHEBEAGUE ISLAND', 'state': 'ME'}, 'total_pop': 337},\n    {'_id': {'city': 'TAMMS', 'state': 'IL'}, 'total_pop': 2020},\n    {'_id': {'city': 'MUKILTEO', 'state': 'WA'}, 'total_pop': 10373},\n    {'_id': {'city': 'STEVENS VILLAGE', 'state': 'AK'}, 'total_pop': 110},\n    {'_id': {'city': 'CARRIER MILLS', 'state': 'IL'}, 'total_pop': 3355},\n    {'_id': {'city': 'COLD SPRING', 'state': 'MN'}, 'total_pop': 5162},\n    {'_id': {'city': 'ANTONITO', 'state': 'CO'}, 'total_pop': 2246},\n    {'_id': {'city': 'HAYDEN LAKE', 'state': 'ID'}, 'total_pop': 9287},\n    {'_id': {'city': 'BOUND BROOK', 'state': 'NJ'}, 'total_pop': 11275},\n    {'_id': {'city': 'CASTLETON ON HUD', 'state': 'NY'}, 'total_pop': 7029},\n    {'_id': {'city': 'MC GEES MILLS', 'state': 'PA'}, 'total_pop': 1792},\n    {'_id': {'city': 'PERRYVILLE', 'state': 'AK'}, 'total_pop': 143},\n    {'_id': {'city': 'ELIOT', 'state': 'ME'}, 'total_pop': 6506},\n    {'_id': {'city': 'HINCKLEY', 'state': 'OH'}, 'total_pop': 5845},\n    {'_id': {'city': 'SAN PABLO', 'state': 'CA'}, 'total_pop': 47668},\n    {'_id': {'city': 'CAZENOVIA', 'state': 'NY'}, 'total_pop': 7748},\n    {'_id': {'city': 'FORT RUCKER', 'state': 'AL'}, 'total_pop': 7607},\n    {'_id': {'city': 'ALDENVILLE', 'state': 'PA'}, 'total_pop': 422},\n    {'_id': {'city': 'MAGNOLIA', 'state': 'NJ'}, 'total_pop': 5931},\n    {'_id': {'city': 'BOLING', 'state': 'TX'}, 'total_pop': 3459},\n    {'_id': {'city': 'CHANDLER', 'state': 'AZ'}, 'total_pop': 91211},\n    {'_id': {'city': 'HILLROSE', 'state': 'CO'}, 'total_pop': 516},\n    {'_id': {'city': 'TOLEDO', 'state': 'IA'}, 'total_pop': 3891},\n    {'_id': {'city': 'HAMBURG', 'state': 'IA'}, 'total_pop': 1997},\n    {'_id': {'city': 'ANNADA', 'state': 'MO'}, 'total_pop': 199},\n    {'_id': {'city': 'HASTINGS', 'state': 'MI'}, 'total_pop': 15043},\n    {'_id': {'city': 'NEW BAVARIA', 'state': 'OH'}, 'total_pop': 523},\n    {'_id': {'city': 'MERION STATION', 'state': 'PA'}, 'total_pop': 5633},\n    {'_id': {'city': 'TEXICO', 'state': 'IL'}, 'total_pop': 1159},\n    {'_id': {'city': 'MIMBRES', 'state': 'NM'}, 'total_pop': 818},\n    {'_id': {'city': 'SMITHDALE', 'state': 'MS'}, 'total_pop': 1247},\n    {'_id': {'city': 'PARK HILL', 'state': 'OK'}, 'total_pop': 4003},\n    {'_id': {'city': 'LANEXA', 'state': 'VA'}, 'total_pop': 3609},\n    {'_id': {'city': 'CUDDEBACKVILLE', 'state': 'NY'}, 'total_pop': 1191},\n    {'_id': {'city': 'ROMANCE', 'state': 'WV'}, 'total_pop': 1880},\n    {'_id': {'city': 'THOMPSON', 'state': 'MI'}, 'total_pop': 6753},\n    {'_id': {'city': 'PLAINS', 'state': 'KS'}, 'total_pop': 1417},\n    {'_id': {'city': 'ROCKAWAY', 'state': 'NJ'}, 'total_pop': 20388},\n    {'_id': {'city': 'EVANSTON', 'state': 'WY'}, 'total_pop': 12577},\n    {'_id': {'city': 'CANON', 'state': 'GA'}, 'total_pop': 1393},\n    {'_id': {'city': 'MAPLE HILL', 'state': 'NC'}, 'total_pop': 2095},\n    {'_id': {'city': 'NORTHWOOD', 'state': 'OH'}, 'total_pop': 7526},\n    {'_id': {'city': 'EAST CARBON', 'state': 'UT'}, 'total_pop': 1628},\n    {'_id': {'city': 'ARLINGTON', 'state': 'WI'}, 'total_pop': 1329},\n    {'_id': {'city': 'GRANNIS', 'state': 'AR'}, 'total_pop': 751},\n    {'_id': {'city': 'HENDERSONVILLE', 'state': 'NC'}, 'total_pop': 47162},\n    {'_id': {'city': 'MAYSVILLE', 'state': 'NC'}, 'total_pop': 3899},\n    {'_id': {'city': 'NEW LISBON', 'state': 'NY'}, 'total_pop': 19},\n    {'_id': {'city': 'MULBERRY', 'state': 'IN'}, 'total_pop': 1938},\n    {'_id': {'city': 'ANDERSON', 'state': 'TX'}, 'total_pop': 1792},\n    {'_id': {'city': 'CENTER SANDWICH', 'state': 'NH'}, 'total_pop': 615},\n    {'_id': {'city': 'LYNBROOK', 'state': 'NY'}, 'total_pop': 22659},\n    {'_id': {'city': 'NEW HAMPTON', 'state': 'NH'}, 'total_pop': 1214},\n    {'_id': {'city': 'NORFOLK', 'state': 'VA'}, 'total_pop': 233150},\n    {'_id': {'city': 'WHEATLAND', 'state': 'IA'}, 'total_pop': 1092},\n    {'_id': {'city': 'SHENANGO', 'state': 'PA'}, 'total_pop': 19982},\n    {'_id': {'city': 'ANAMOSA', 'state': 'IA'}, 'total_pop': 7264},\n    {'_id': {'city': 'WING', 'state': 'ND'}, 'total_pop': 376},\n    {'_id': {'city': 'WITTER', 'state': 'AR'}, 'total_pop': 179},\n    {'_id': {'city': 'SHANDON', 'state': 'CA'}, 'total_pop': 908},\n    {'_id': {'city': 'LINCOLN PARK', 'state': 'MI'}, 'total_pop': 41763},\n    {'_id': {'city': 'BIG SUR', 'state': 'CA'}, 'total_pop': 1669},\n    {'_id': {'city': 'THOMASBORO', 'state': 'IL'}, 'total_pop': 1638},\n    {'_id': {'city': 'MOUNT DESERT', 'state': 'ME'}, 'total_pop': 2184},\n    {'_id': {'city': 'MILLER PLACE', 'state': 'NY'}, 'total_pop': 9601},\n    {'_id': {'city': 'IVOR', 'state': 'VA'}, 'total_pop': 2205},\n    {'_id': {'city': 'SOUTH AMANA', 'state': 'IA'}, 'total_pop': 45},\n    {'_id': {'city': 'SOUTH EL MONTE', 'state': 'CA'}, 'total_pop': 43691},\n    {'_id': {'city': 'ANDERSON', 'state': 'SC'}, 'total_pop': 71323},\n    {'_id': {'city': 'MONMOUTH', 'state': 'IA'}, 'total_pop': 304},\n    {'_id': {'city': 'DUNKERTON', 'state': 'IA'}, 'total_pop': 1676},\n    {'_id': {'city': 'VERNON CENTER', 'state': 'NY'}, 'total_pop': 1440},\n    {'_id': {'city': 'PHILADELPHIA', 'state': 'MS'}, 'total_pop': 24316},\n    {'_id': {'city': 'CONWAY', 'state': 'PA'}, 'total_pop': 2438},\n    {'_id': {'city': 'ALLENDALE', 'state': 'SC'}, 'total_pop': 5704},\n    {'_id': {'city': 'MANTORVILLE', 'state': 'MN'}, 'total_pop': 1324},\n    {'_id': {'city': 'WAGARVILLE', 'state': 'AL'}, 'total_pop': 1681},\n    {'_id': {'city': 'BARRINGTON', 'state': 'IL'}, 'total_pop': 37323},\n    {'_id': {'city': 'BROWNVILLE', 'state': 'NE'}, 'total_pop': 475},\n    {'_id': {'city': 'POSEY', 'state': 'CA'}, 'total_pop': 253},\n    {'_id': {'city': 'DELTA', 'state': 'PA'}, 'total_pop': 4910},\n    {'_id': {'city': 'JEFFERSON', 'state': 'MD'}, 'total_pop': 4132},\n    {'_id': {'city': 'CHUNKY', 'state': 'MS'}, 'total_pop': 79},\n    {'_id': {'city': 'WATER VALLEY', 'state': 'KY'}, 'total_pop': 409},\n    {'_id': {'city': 'ANTIGO', 'state': 'WI'}, 'total_pop': 13087},\n    {'_id': {'city': 'CAWKER CITY', 'state': 'KS'}, 'total_pop': 637},\n    {'_id': {'city': 'JONESVILLE', 'state': 'MI'}, 'total_pop': 5671},\n    {'_id': {'city': 'AMITY', 'state': 'AR'}, 'total_pop': 1569},\n    {'_id': {'city': 'CLAY CITY', 'state': 'IN'}, 'total_pop': 2275},\n    {'_id': {'city': 'TUCKERMAN', 'state': 'AR'}, 'total_pop': 2564},\n    {'_id': {'city': 'PORTALES', 'state': 'NM'}, 'total_pop': 14828},\n    {'_id': {'city': 'LA HONDA', 'state': 'CA'}, 'total_pop': 1557},\n    {'_id': {'city': 'IOWA HILL', 'state': 'CA'}, 'total_pop': 7344},\n    {'_id': {'city': 'OCEAN PARK', 'state': 'WA'}, 'total_pop': 2601},\n    {'_id': {'city': 'BAINBRIDGE', 'state': 'OH'}, 'total_pop': 4356},\n    {'_id': {'city': 'WESTVIEW', 'state': 'KY'}, 'total_pop': 223},\n    {'_id': {'city': 'SOQUEL', 'state': 'CA'}, 'total_pop': 8143},\n    {'_id': {'city': 'CALE', 'state': 'AR'}, 'total_pop': 230},\n    {'_id': {'city': 'HERCULANEUM', 'state': 'MO'}, 'total_pop': 2490},\n    {'_id': {'city': 'CORDOVA', 'state': 'SC'}, 'total_pop': 2808},\n    {'_id': {'city': 'SACRAMENTO', 'state': 'KY'}, 'total_pop': 1265},\n    {'_id': {'city': 'JEFFERSON MANOR', 'state': 'VA'}, 'total_pop': 12662},\n    {'_id': {'city': 'BELLAIRE', 'state': 'TX'}, 'total_pop': 13913},\n    {'_id': {'city': 'STERLING', 'state': 'ID'}, 'total_pop': 2653},\n    {'_id': {'city': 'VALYERMO', 'state': 'CA'}, 'total_pop': 1456},\n    {'_id': {'city': 'ANDOVER', 'state': 'MA'}, 'total_pop': 29161},\n    {'_id': {'city': 'ENCINAL', 'state': 'TX'}, 'total_pop': 821},\n    {'_id': {'city': 'DRUMORE', 'state': 'PA'}, 'total_pop': 1191},\n    {'_id': {'city': 'SHELBY', 'state': 'OH'}, 'total_pop': 14736},\n    {'_id': {'city': 'OWLS HEAD', 'state': 'ME'}, 'total_pop': 1624},\n    {'_id': {'city': 'ARMAGH', 'state': 'PA'}, 'total_pop': 2839},\n    {'_id': {'city': 'NAZARETH', 'state': 'PA'}, 'total_pop': 19236},\n    {'_id': {'city': 'INKSTER', 'state': 'MI'}, 'total_pop': 30772},\n    {'_id': {'city': 'HANOVER', 'state': 'PA'}, 'total_pop': 37367},\n    {'_id': {'city': 'BETHLEHEM', 'state': 'CT'}, 'total_pop': 3071},\n    {'_id': {'city': 'PURLING', 'state': 'NY'}, 'total_pop': 516},\n    {'_id': {'city': 'LEE', 'state': 'FL'}, 'total_pop': 1260},\n    {'_id': {'city': 'HERSHEY', 'state': 'PA'}, 'total_pop': 20514},\n    {'_id': {'city': 'SIMPSONVILLE', 'state': 'KY'}, 'total_pop': 2443},\n    {'_id': {'city': 'STOCKTON', 'state': 'MD'}, 'total_pop': 691},\n    {'_id': {'city': 'BABB', 'state': 'MT'}, 'total_pop': 224},\n    {'_id': {'city': 'NEWHOPE', 'state': 'AR'}, 'total_pop': 400},\n    {'_id': {'city': 'DRESDEN', 'state': 'KS'}, 'total_pop': 158},\n    {'_id': {'city': 'SPRING CITY', 'state': 'PA'}, 'total_pop': 7988},\n    {'_id': {'city': 'ADOLPHUS', 'state': 'KY'}, 'total_pop': 1976},\n    {'_id': {'city': 'UTOPIA', 'state': 'TX'}, 'total_pop': 593},\n    {'_id': {'city': 'HATCH', 'state': 'NM'}, 'total_pop': 2314},\n    {'_id': {'city': 'SLEETMUTE', 'state': 'AK'}, 'total_pop': 0},\n    {'_id': {'city': 'WOODBINE', 'state': 'MD'}, 'total_pop': 6224},\n    {'_id': {'city': 'GAINESVILLE', 'state': 'VA'}, 'total_pop': 3929},\n    {'_id': {'city': 'COWAN', 'state': 'TN'}, 'total_pop': 2713},\n    {'_id': {'city': 'SHAWMUT', 'state': 'MT'}, 'total_pop': 249},\n    {'_id': {'city': 'RIDGE MANOR WEST', 'state': 'FL'}, 'total_pop': 4940},\n    {'_id': {'city': 'EAST SAINT LOUIS', 'state': 'IL'}, 'total_pop': 26923},\n    {'_id': {'city': 'DE KALB', 'state': 'IL'}, 'total_pop': 38360},\n    {'_id': {'city': 'KAHOKA', 'state': 'MO'}, 'total_pop': 3922},\n    {'_id': {'city': 'CLAYTON', 'state': 'KS'}, 'total_pop': 485},\n    {'_id': {'city': 'NORTH HIGHLANDS', 'state': 'CA'}, 'total_pop': 42271},\n    {'_id': {'city': 'BURTON', 'state': 'OH'}, 'total_pop': 6677},\n    {'_id': {'city': 'COLESBURG', 'state': 'IA'}, 'total_pop': 1401},\n    {'_id': {'city': 'SCOTLAND', 'state': 'TX'}, 'total_pop': 398},\n    {'_id': {'city': 'BUCKINGHAM', 'state': 'KY'}, 'total_pop': 879},\n    {'_id': {'city': 'DINGMANS FERRY', 'state': 'PA'}, 'total_pop': 3705},\n    {'_id': {'city': 'REALITOS', 'state': 'TX'}, 'total_pop': 520},\n    {'_id': {'city': 'STUMPY POINT', 'state': 'NC'}, 'total_pop': 880},\n    {'_id': {'city': 'STAFFORD SPRINGS', 'state': 'CT'}, 'total_pop': 12392},\n    {'_id': {'city': 'ARAGON', 'state': 'GA'}, 'total_pop': 4692},\n    {'_id': {'city': 'DEERFIELD', 'state': 'NH'}, 'total_pop': 3124},\n    {'_id': {'city': 'MARNE', 'state': 'MI'}, 'total_pop': 2715},\n    {'_id': {'city': 'ROSSBURG', 'state': 'OH'}, 'total_pop': 1450},\n    {'_id': {'city': 'MENOMINEE', 'state': 'MI'}, 'total_pop': 13149},\n    {'_id': {'city': 'WESTHOPE', 'state': 'ND'}, 'total_pop': 855},\n    {'_id': {'city': 'WALKERTON', 'state': 'IN'}, 'total_pop': 5279},\n    {'_id': {'city': 'BODE', 'state': 'IA'}, 'total_pop': 555},\n    {'_id': {'city': 'TUCKER', 'state': 'AR'}, 'total_pop': 2170},\n    {'_id': {'city': 'HATLEY', 'state': 'WI'}, 'total_pop': 2129},\n    {'_id': {'city': 'HERSHEY', 'state': 'NE'}, 'total_pop': 1685},\n    {'_id': {'city': 'HANNA', 'state': 'WY'}, 'total_pop': 1585},\n    {'_id': {'city': 'GREENCASTLE', 'state': 'PA'}, 'total_pop': 14553},\n    {'_id': {'city': 'MASSILLON', 'state': 'OH'}, 'total_pop': 62807},\n    {'_id': {'city': 'SANDY CREEK', 'state': 'NY'}, 'total_pop': 801},\n    {'_id': {'city': 'SPEIGHT', 'state': 'KY'}, 'total_pop': 17},\n    {'_id': {'city': 'ROSE CITY', 'state': 'MI'}, 'total_pop': 2962},\n    {'_id': {'city': 'KIRKLAND', 'state': 'AZ'}, 'total_pop': 186},\n    {'_id': {'city': 'PARAMOUNT', 'state': 'CA'}, 'total_pop': 46679},\n    {'_id': {'city': 'MOUNT STERLING', 'state': 'MO'}, 'total_pop': 285},\n    {'_id': {'city': 'NUNDA', 'state': 'NY'}, 'total_pop': 2439}]\n"
    }
   ],
   "source": [
    "# 12. select state, city, sum(pop) as total_pop from zip group by state,city \n",
    "prt(zips_col.aggregate([\n",
    "    {\n",
    "        '$group' :{\n",
    "            '_id' : {\n",
    "                'state' : '$state',\n",
    "                'city' : '$city'\n",
    "            },\n",
    "            'total_pop' : {'$sum' : '$pop'}\n",
    "        }\n",
    "    }\n",
    "]))"
   ]
  },
  {
   "cell_type": "code",
   "execution_count": 84,
   "metadata": {
    "tags": []
   },
   "outputs": [
    {
     "output_type": "stream",
     "name": "stdout",
     "text": "[{'_id': {'city': 'POINT BAKER', 'state': 'AK'}, 'total_pop': 426}]\n"
    }
   ],
   "source": [
    "# 13. select state, city, sum(pop) as total_pop from zip GROUP BY state, city HAVING city = 'POINT BAKER'\n",
    "prt(zips_col.aggregate([\n",
    "    # {\n",
    "    #     '$match' : {\n",
    "    #         'city' : 'POINT BAKER'\n",
    "    #     }\n",
    "    # },\n",
    "    {\n",
    "        '$group' :{\n",
    "            '_id' : {\n",
    "                'state' : '$state',\n",
    "                'city' : '$city'\n",
    "            },\n",
    "            'total_pop' : {'$sum' : '$pop'}\n",
    "        }\n",
    "    },\n",
    "    {\n",
    "        '$match' : {\n",
    "            '_id.city' : 'POINT BAKER'\n",
    "        }\n",
    "    }\n",
    "]))"
   ]
  },
  {
   "cell_type": "code",
   "execution_count": 72,
   "metadata": {
    "tags": [
     "outputPrepend"
    ]
   },
   "outputs": [
    {
     "output_type": "stream",
     "name": "stdout",
     "text": "te': 'NY'}, 'avg_pop': 698.0},\n    {'_id': {'city': 'STEUBEN', 'state': 'ME'}, 'avg_pop': 773.0},\n    {'_id': {'city': 'SAINT CLOUD', 'state': 'FL'}, 'avg_pop': 6983.75},\n    {'_id': {'city': 'MORNING SUN', 'state': 'IA'}, 'avg_pop': 1165.0},\n    {'_id': {'city': 'POMARIA', 'state': 'SC'}, 'avg_pop': 3278.0},\n    {'_id': {'city': 'OLIVETTE', 'state': 'MO'}, 'avg_pop': 15193.0},\n    {'_id': {'city': 'UNIONVILLE', 'state': 'MO'}, 'avg_pop': 3515.0},\n    {'_id': {'city': 'DAMASCUS', 'state': 'MD'}, 'avg_pop': 10446.0},\n    {'_id': {'city': 'COFFEY', 'state': 'MO'}, 'avg_pop': 359.0},\n    {'_id': {'city': 'DUNNEGAN', 'state': 'MO'}, 'avg_pop': 755.0},\n    {'_id': {'city': 'REDFIELD', 'state': 'NY'}, 'avg_pop': 482.0},\n    {'_id': {'city': 'DE SMET', 'state': 'SD'}, 'avg_pop': 1956.0},\n    {'_id': {'city': 'ROOSEVELT', 'state': 'UT'}, 'avg_pop': 6725.0},\n    {'_id': {'city': 'LEDYARD', 'state': 'CT'}, 'avg_pop': 7602.0},\n    {'_id': {'city': 'ALLISONIA', 'state': 'VA'}, 'avg_pop': 2062.0},\n    {'_id': {'city': 'HALTOM CITY', 'state': 'TX'}, 'avg_pop': 27312.0},\n    {'_id': {'city': 'RIVERVIEW', 'state': 'MI'}, 'avg_pop': 50509.0},\n    {'_id': {'city': 'BLOOM CITY', 'state': 'WI'}, 'avg_pop': 437.0},\n    {'_id': {'city': 'LAKE WINNEBAGO', 'state': 'MO'}, 'avg_pop': 5578.0},\n    {'_id': {'city': 'CHRISTMAS', 'state': 'FL'}, 'avg_pop': 2331.0},\n    {'_id': {'city': 'TIGHTWAD', 'state': 'MO'}, 'avg_pop': 12259.0},\n    {'_id': {'city': 'ETNA', 'state': 'PA'}, 'avg_pop': 7261.0},\n    {'_id': {'city': 'KEUTERVILLE', 'state': 'ID'}, 'avg_pop': 0.0},\n    {'_id': {'city': 'GLORIETA', 'state': 'NM'}, 'avg_pop': 1246.0},\n    {'_id': {'city': 'WOLSEY', 'state': 'SD'}, 'avg_pop': 751.0},\n    {'_id': {'city': 'SHOREWOOD', 'state': 'IL'}, 'avg_pop': 56510.0},\n    {'_id': {'city': 'WATERBURY', 'state': 'NE'}, 'avg_pop': 241.0},\n    {'_id': {'city': 'SALYER', 'state': 'CA'}, 'avg_pop': 903.0},\n    {'_id': {'city': 'ROCKFALL', 'state': 'CT'}, 'avg_pop': 1330.0},\n    {'_id': {'city': 'GRAND RIDGE', 'state': 'FL'}, 'avg_pop': 1708.0},\n    {'_id': {'city': 'DOVER PLAINS', 'state': 'NY'}, 'avg_pop': 4775.0},\n    {'_id': {'city': 'SECAUCUS', 'state': 'NJ'}, 'avg_pop': 14061.0},\n    {'_id': {'city': 'BURGHILL', 'state': 'OH'}, 'avg_pop': 802.0},\n    {'_id': {'city': 'ELMHURST', 'state': 'IL'}, 'avg_pop': 43637.0},\n    {'_id': {'city': 'SULLIVANS ISLAND', 'state': 'SC'}, 'avg_pop': 1623.0},\n    {'_id': {'city': 'REEDSVILLE', 'state': 'PA'}, 'avg_pop': 3320.0},\n    {'_id': {'city': 'HILLVIEW', 'state': 'IL'}, 'avg_pop': 795.0},\n    {'_id': {'city': 'YUMA', 'state': 'TN'}, 'avg_pop': 1063.0},\n    {'_id': {'city': 'BRECKENRIDGE', 'state': 'MN'}, 'avg_pop': 4776.0},\n    {'_id': {'city': 'BROOKSTON', 'state': 'TX'}, 'avg_pop': 287.0},\n    {'_id': {'city': 'ALEDO', 'state': 'TX'}, 'avg_pop': 5148.0},\n    {'_id': {'city': 'GEORGETOWN', 'state': 'NY'}, 'avg_pop': 611.0},\n    {'_id': {'city': 'PAYNESVILLE', 'state': 'WV'}, 'avg_pop': 1895.0},\n    {'_id': {'city': 'WAITE PARK', 'state': 'MN'}, 'avg_pop': 5227.0},\n    {'_id': {'city': 'WATERBURY', 'state': 'CT'}, 'avg_pop': 18113.5},\n    {'_id': {'city': 'WINDOM', 'state': 'TX'}, 'avg_pop': 363.0},\n    {'_id': {'city': 'SUBURBAN', 'state': 'NJ'}, 'avg_pop': 22320.0},\n    {'_id': {'city': 'SOUTHAMPTON', 'state': 'NY'}, 'avg_pop': 10810.0},\n    {'_id': {'city': 'GREENWOOD', 'state': 'NY'}, 'avg_pop': 927.0},\n    {'_id': {'city': 'W HARRISON', 'state': 'IN'}, 'avg_pop': 5338.0},\n    {'_id': {'city': 'GLEN CARBON', 'state': 'IL'}, 'avg_pop': 9729.0},\n    {'_id': {'city': 'DODD CITY', 'state': 'TX'}, 'avg_pop': 1094.0},\n    {'_id': {'city': 'PARKER DAM', 'state': 'CA'}, 'avg_pop': 141.0},\n    {'_id': {'city': 'SHAFTER', 'state': 'CA'}, 'avg_pop': 12270.0},\n    {'_id': {'city': 'LATHAM', 'state': 'NY'}, 'avg_pop': 20091.0},\n    {'_id': {'city': 'GALES CREEK', 'state': 'OR'}, 'avg_pop': 374.0},\n    {'_id': {'city': 'BERKSHIRE', 'state': 'NY'}, 'avg_pop': 2652.0},\n    {'_id': {'city': 'WINGATE', 'state': 'IN'}, 'avg_pop': 552.0},\n    {'_id': {'city': 'LUCAS', 'state': 'SD'}, 'avg_pop': 1258.0},\n    {'_id': {'city': 'RICHMOND DALE', 'state': 'OH'}, 'avg_pop': 454.0},\n    {'_id': {'city': 'NORTH BRANCH', 'state': 'NJ'}, 'avg_pop': 34212.0},\n    {'_id': {'city': 'DUNBAR', 'state': 'WV'}, 'avg_pop': 11543.0},\n    {'_id': {'city': 'PARKVILLE', 'state': 'MO'}, 'avg_pop': 18719.0},\n    {'_id': {'city': 'PRESCOTT', 'state': 'IA'}, 'avg_pop': 205.0},\n    {'_id': {'city': 'LIMINGTON', 'state': 'ME'}, 'avg_pop': 776.0},\n    {'_id': {'city': 'ROBBINS', 'state': 'TN'}, 'avg_pop': 2639.0},\n    {'_id': {'city': 'GARRETT', 'state': 'PA'}, 'avg_pop': 520.0},\n    {'_id': {'city': 'BYRAM', 'state': 'CT'}, 'avg_pop': 22685.0},\n    {'_id': {'city': 'POCONO SUMMIT', 'state': 'PA'}, 'avg_pop': 1509.0},\n    {'_id': {'city': 'SAINT JOSEPH', 'state': 'IL'}, 'avg_pop': 4168.0},\n    {'_id': {'city': 'DRY FORK', 'state': 'VA'}, 'avg_pop': 1989.0},\n    {'_id': {'city': 'CLONTARF', 'state': 'MN'}, 'avg_pop': 279.0},\n    {'_id': {'city': 'RINARD', 'state': 'IL'}, 'avg_pop': 377.0},\n    {'_id': {'city': 'KENNARD', 'state': 'TX'}, 'avg_pop': 1784.0},\n    {'_id': {'city': 'NOGALES', 'state': 'AZ'}, 'avg_pop': 25506.0},\n    {'_id': {'city': 'EARLIMART', 'state': 'CA'}, 'avg_pop': 11963.0},\n    {'_id': {'city': 'MCNARY', 'state': 'OR'}, 'avg_pop': 4009.0},\n    {'_id': {'city': 'RED BLUFF', 'state': 'CA'}, 'avg_pop': 25180.0},\n    {'_id': {'city': 'SICKLERVILLE', 'state': 'NJ'}, 'avg_pop': 29949.0},\n    {'_id': {'city': 'SUMMIT LAKE', 'state': 'WI'}, 'avg_pop': 616.0},\n    {'_id': {'city': 'KINGSTON', 'state': 'OH'}, 'avg_pop': 1347.0},\n    {'_id': {'city': 'MARINE ON SAINT', 'state': 'MN'}, 'avg_pop': 4310.0},\n    {'_id': {'city': 'GRANGERLAND', 'state': 'TX'}, 'avg_pop': 5767.0},\n    {'_id': {'city': 'HALEYVILLE', 'state': 'AL'}, 'avg_pop': 9141.0},\n    {'_id': {'city': 'FRASER', 'state': 'MI'}, 'avg_pop': 20605.0},\n    {'_id': {'city': 'BAKER', 'state': 'OK'}, 'avg_pop': 1542.0},\n    {'_id': {'city': 'OAKLAND', 'state': 'RI'}, 'avg_pop': 462.0},\n    {'_id': {'city': 'CRYSTAL CITY', 'state': 'TX'}, 'avg_pop': 9130.0},\n    {'_id': {'city': 'HAMLIN', 'state': 'WV'}, 'avg_pop': 2993.0},\n    {'_id': {'city': 'ANAMOOSE', 'state': 'ND'}, 'avg_pop': 595.0},\n    {'_id': {'city': 'PLAINFIELD', 'state': 'IL'}, 'avg_pop': 10416.0},\n    {'_id': {'city': 'LOTTIE', 'state': 'LA'}, 'avg_pop': 9.0},\n    {'_id': {'city': 'STRYKER', 'state': 'OH'}, 'avg_pop': 2607.0},\n    {'_id': {'city': 'OCHELATA', 'state': 'OK'}, 'avg_pop': 1381.0},\n    {'_id': {'city': 'AZTEC', 'state': 'NM'}, 'avg_pop': 10951.0},\n    {'_id': {'city': 'HARTFORD CITY', 'state': 'IN'}, 'avg_pop': 9762.0},\n    {'_id': {'city': 'SOUTH PLAINFIELD', 'state': 'NJ'}, 'avg_pop': 20540.0},\n    {'_id': {'city': 'SOMERSET', 'state': 'MI'}, 'avg_pop': 1556.0},\n    {'_id': {'city': 'HUDSON', 'state': 'IL'}, 'avg_pop': 1850.0},\n    {'_id': {'city': 'FREEDOM', 'state': 'NH'}, 'avg_pop': 935.0},\n    {'_id': {'city': 'SAINT PAUL', 'state': 'NE'}, 'avg_pop': 3088.0},\n    {'_id': {'city': 'TRENTON', 'state': 'NJ'}, 'avg_pop': 22696.333333333332},\n    {'_id': {'city': 'DOUGLAS', 'state': 'GA'}, 'avg_pop': 19607.0},\n    {'_id': {'city': 'FOWLER', 'state': 'KS'}, 'avg_pop': 881.0},\n    {'_id': {'city': 'CASPIANA', 'state': 'LA'}, 'avg_pop': 8897.0},\n    {'_id': {'city': 'COLUMBIANA', 'state': 'OH'}, 'avg_pop': 9868.0},\n    {'_id': {'city': 'PEACE VALLEY', 'state': 'MO'}, 'avg_pop': 1074.0},\n    {'_id': {'city': 'OVERBROOK', 'state': 'OK'}, 'avg_pop': 283.0},\n    {'_id': {'city': 'RHAME', 'state': 'ND'}, 'avg_pop': 467.0},\n    {'_id': {'city': 'LUTHER', 'state': 'IL'}, 'avg_pop': 2968.0},\n    {'_id': {'city': 'MARTIN CITY', 'state': 'MO'}, 'avg_pop': 600.0},\n    {'_id': {'city': 'HAKALAU', 'state': 'HI'}, 'avg_pop': 198.0},\n    {'_id': {'city': 'NEW PINE CREEK', 'state': 'OR'}, 'avg_pop': 198.0},\n    {'_id': {'city': 'UNION', 'state': 'NH'}, 'avg_pop': 4229.0},\n    {'_id': {'city': 'EMMET', 'state': 'NE'}, 'avg_pop': 190.0},\n    {'_id': {'city': 'BOYNTON BEACH', 'state': 'FL'}, 'avg_pop': 12099.5},\n    {'_id': {'city': 'MOUNT POCONO', 'state': 'PA'}, 'avg_pop': 2465.0},\n    {'_id': {'city': 'THREE RIVERS', 'state': 'CA'}, 'avg_pop': 2245.0},\n    {'_id': {'city': 'PRESTON', 'state': 'ID'}, 'avg_pop': 5402.0},\n    {'_id': {'city': 'CHICKASHA', 'state': 'OK'}, 'avg_pop': 19634.0},\n    {'_id': {'city': 'RICHMOND HEIGHTS', 'state': 'MO'}, 'avg_pop': 10263.0},\n    {'_id': {'city': 'CAMDEN', 'state': 'WV'}, 'avg_pop': 584.0},\n    {'_id': {'city': 'MIDDLEBOURNE', 'state': 'WV'}, 'avg_pop': 2527.0},\n    {'_id': {'city': 'WOLFCREEK', 'state': 'WV'}, 'avg_pop': 249.0},\n    {'_id': {'city': 'CHURDAN', 'state': 'IA'}, 'avg_pop': 797.0},\n    {'_id': {'city': 'PROSPECT', 'state': 'VA'}, 'avg_pop': 1661.0},\n    {'_id': {'city': 'SALINA', 'state': 'OK'}, 'avg_pop': 3432.0},\n    {'_id': {'city': 'STURGIS', 'state': 'MI'}, 'avg_pop': 16597.0},\n    {'_id': {'city': 'VALLEY', 'state': 'WA'}, 'avg_pop': 1328.0},\n    {'_id': {'city': 'ELOISE', 'state': 'FL'}, 'avg_pop': 30803.0},\n    {'_id': {'city': 'BARRY', 'state': 'MN'}, 'avg_pop': 135.0},\n    {'_id': {'city': 'CLOVERDALE', 'state': 'VA'}, 'avg_pop': 582.0},\n    {'_id': {'city': 'BEAVER CROSSING', 'state': 'NE'}, 'avg_pop': 827.0},\n    {'_id': {'city': 'KINGSTON', 'state': 'NJ'}, 'avg_pop': 160.0},\n    {'_id': {'city': 'WIGGINS', 'state': 'MS'}, 'avg_pop': 6632.0},\n    {'_id': {'city': 'THORNDIKE', 'state': 'ME'}, 'avg_pop': 962.0},\n    {'_id': {'city': 'PAEONIAN SPRINGS', 'state': 'VA'}, 'avg_pop': 488.0},\n    {'_id': {'city': 'WEST ONEONTA', 'state': 'NY'}, 'avg_pop': 3471.0},\n    {'_id': {'city': 'SAINT PAUL', 'state': 'OR'}, 'avg_pop': 1623.0},\n    {'_id': {'city': 'BUSTINS ISLAND', 'state': 'ME'}, 'avg_pop': 0.0},\n    {'_id': {'city': 'CENTRALIA', 'state': 'PA'}, 'avg_pop': 1006.0},\n    {'_id': {'city': 'INDIANTOWN', 'state': 'FL'}, 'avg_pop': 7823.0},\n    {'_id': {'city': 'ORCHARD', 'state': 'CO'}, 'avg_pop': 277.0},\n    {'_id': {'city': 'GRAND HAVEN', 'state': 'MI'}, 'avg_pop': 24103.0},\n    {'_id': {'city': 'LAKE HELEN', 'state': 'FL'}, 'avg_pop': 3229.0},\n    {'_id': {'city': 'CRANE', 'state': 'TX'}, 'avg_pop': 4652.0},\n    {'_id': {'city': 'LAKE ELSINORE', 'state': 'CA'}, 'avg_pop': 20707.5},\n    {'_id': {'city': 'STRONG', 'state': 'ME'}, 'avg_pop': 1631.0},\n    {'_id': {'city': 'VILLARD', 'state': 'MN'}, 'avg_pop': 730.0},\n    {'_id': {'city': 'FALFURRIAS', 'state': 'TX'}, 'avg_pop': 7501.0},\n    {'_id': {'city': 'MAD RIVER', 'state': 'CA'}, 'avg_pop': 6.0},\n    {'_id': {'city': 'TROUT DALE', 'state': 'VA'}, 'avg_pop': 1261.0},\n    {'_id': {'city': 'FERGUSON', 'state': 'NC'}, 'avg_pop': 1551.0},\n    {'_id': {'city': 'ILLINOIS CITY', 'state': 'IL'}, 'avg_pop': 1553.0},\n    {'_id': {'city': 'ROUND MOUNTAIN', 'state': 'TX'}, 'avg_pop': 169.0},\n    {'_id': {'city': 'SYRACUSE', 'state': 'UT'}, 'avg_pop': 9737.0},\n    {'_id': {'city': 'AUGUSTA', 'state': 'GA'}, 'avg_pop': 27452.0},\n    {'_id': {'city': 'GREENVILLE', 'state': 'FL'}, 'avg_pop': 4107.0},\n    {'_id': {'city': 'NEW EGYPT', 'state': 'NJ'}, 'avg_pop': 4601.0},\n    {'_id': {'city': 'LAKE HUNTINGTON', 'state': 'NY'}, 'avg_pop': 111.0},\n    {'_id': {'city': 'COOK FALLS', 'state': 'NY'}, 'avg_pop': 2737.0},\n    {'_id': {'city': 'LAKOTA', 'state': 'IA'}, 'avg_pop': 789.0},\n    {'_id': {'city': 'GREEN RIDGE', 'state': 'MO'}, 'avg_pop': 1198.0},\n    {'_id': {'city': 'CALLAWAY', 'state': 'MN'}, 'avg_pop': 761.0},\n    {'_id': {'city': 'EASTON', 'state': 'CT'}, 'avg_pop': 6213.0},\n    {'_id': {'city': 'WINSTON SALEM', 'state': 'NC'}, 'avg_pop': 28083.0},\n    {'_id': {'city': 'RICHFIELD SPRING', 'state': 'NY'}, 'avg_pop': 3825.0},\n    {'_id': {'city': 'EDGEFIELD', 'state': 'SC'}, 'avg_pop': 6884.0},\n    {'_id': {'city': 'TWO RIVERS', 'state': 'WI'}, 'avg_pop': 16768.0},\n    {'_id': {'city': 'WARRIOR', 'state': 'AL'}, 'avg_pop': 530.0},\n    {'_id': {'city': 'ALTO PASS', 'state': 'IL'}, 'avg_pop': 912.0},\n    {'_id': {'city': 'BRADLEY', 'state': 'AR'}, 'avg_pop': 2623.0},\n    {'_id': {'city': 'DESERT HOT SPRIN', 'state': 'CA'}, 'avg_pop': 686.0},\n    {'_id': {'city': 'FOREST HILL', 'state': 'MD'}, 'avg_pop': 9029.0},\n    {'_id': {'city': 'BACKOO', 'state': 'ND'}, 'avg_pop': 1759.0},\n    {'_id': {'city': 'BUCKFIELD', 'state': 'ME'}, 'avg_pop': 1551.0},\n    {'_id': {'city': 'WELLS TANNERY', 'state': 'PA'}, 'avg_pop': 563.0},\n    {'_id': {'city': 'BALLSTON SPA', 'state': 'NY'}, 'avg_pop': 25126.0},\n    {'_id': {'city': 'LEDGER', 'state': 'MT'}, 'avg_pop': 42.0},\n    {'_id': {'city': 'GREENE', 'state': 'ME'}, 'avg_pop': 3661.0},\n    {'_id': {'city': 'HILLSBORO', 'state': 'IL'}, 'avg_pop': 7916.0},\n    {'_id': {'city': 'SHANNON', 'state': 'NC'}, 'avg_pop': 2120.0},\n    {'_id': {'city': 'RED FEATHER LAKE', 'state': 'CO'}, 'avg_pop': 440.0},\n    {'_id': {'city': 'PULASKI', 'state': 'TN'}, 'avg_pop': 15310.0},\n    {'_id': {'city': 'FOUKE', 'state': 'AR'}, 'avg_pop': 5895.0},\n    {'_id': {'city': 'BRIDGEPORT', 'state': 'OH'}, 'avg_pop': 7706.0},\n    {'_id': {'city': 'STRABANE', 'state': 'PA'}, 'avg_pop': 2386.0},\n    {'_id': {'city': 'CHAMBERSBURG', 'state': 'IL'}, 'avg_pop': 203.0},\n    {'_id': {'city': 'BIG SPRING', 'state': 'MD'}, 'avg_pop': 3661.0},\n    {'_id': {'city': 'ROHRERSVILLE', 'state': 'MD'}, 'avg_pop': 200.0},\n    {'_id': {'city': 'WILLARD', 'state': 'MT'}, 'avg_pop': 39.0},\n    {'_id': {'city': 'SOUTH STERLING', 'state': 'PA'}, 'avg_pop': 922.0},\n    {'_id': {'city': 'BRANCHPORT', 'state': 'NY'}, 'avg_pop': 1126.0},\n    {'_id': {'city': 'NEPONSET', 'state': 'IL'}, 'avg_pop': 819.0},\n    {'_id': {'city': 'WYANET', 'state': 'IL'}, 'avg_pop': 1799.0},\n    {'_id': {'city': 'MELVIN', 'state': 'IL'}, 'avg_pop': 654.0},\n    {'_id': {'city': 'LAWTON', 'state': 'KS'}, 'avg_pop': 1515.0},\n    {'_id': {'city': 'LA GRANGE', 'state': 'TX'}, 'avg_pop': 10019.0},\n    {'_id': {'city': 'FAIRVIEW', 'state': 'PA'}, 'avg_pop': 7876.0},\n    {'_id': {'city': 'GOLDSMITH', 'state': 'TX'}, 'avg_pop': 442.0},\n    {'_id': {'city': 'VALMORA', 'state': 'NM'}, 'avg_pop': 138.0},\n    {'_id': {'city': 'STOKES', 'state': 'NC'}, 'avg_pop': 922.0},\n    {'_id': {'city': 'GOLDSBORO', 'state': 'TX'}, 'avg_pop': 27.0},\n    {'_id': {'city': 'SAG HARBOR', 'state': 'NY'}, 'avg_pop': 7384.0},\n    {'_id': {'city': 'CARLISLE', 'state': 'NY'}, 'avg_pop': 420.0},\n    {'_id': {'city': 'OGEMA', 'state': 'WI'}, 'avg_pop': 1459.0},\n    {'_id': {'city': 'ROUND LAKE', 'state': 'NY'}, 'avg_pop': 451.0},\n    {'_id': {'city': 'PHILOMATH', 'state': 'GA'}, 'avg_pop': 1137.0},\n    {'_id': {'city': 'FOSTER FALLS', 'state': 'VA'}, 'avg_pop': 4621.0},\n    {'_id': {'city': 'EDGEWOOD', 'state': 'TX'}, 'avg_pop': 3328.0},\n    {'_id': {'city': 'PARAGON', 'state': 'IN'}, 'avg_pop': 1244.0},\n    {'_id': {'city': 'SIERRA MADRE', 'state': 'CA'}, 'avg_pop': 10560.0},\n    {'_id': {'city': 'CHIMACUM', 'state': 'WA'}, 'avg_pop': 1191.0},\n    {'_id': {'city': 'CUMBERLAND FORES', 'state': 'ME'}, 'avg_pop': 2879.0},\n    {'_id': {'city': 'TYBEE ISLAND', 'state': 'GA'}, 'avg_pop': 3106.0},\n    {'_id': {'city': 'THREE OAKS', 'state': 'MI'}, 'avg_pop': 3994.0},\n    {'_id': {'city': 'ROUSES POINT', 'state': 'NY'}, 'avg_pop': 2508.0},\n    {'_id': {'city': 'HALE', 'state': 'MO'}, 'avg_pop': 771.0},\n    {'_id': {'city': 'WITTMANN', 'state': 'AZ'}, 'avg_pop': 789.0},\n    {'_id': {'city': 'BAIRD', 'state': 'TX'}, 'avg_pop': 2267.0},\n    {'_id': {'city': 'BENTON', 'state': 'TN'}, 'avg_pop': 3164.0},\n    {'_id': {'city': 'TOWNLEY', 'state': 'AL'}, 'avg_pop': 1819.0},\n    {'_id': {'city': 'CROTHERSVILLE', 'state': 'IN'}, 'avg_pop': 3865.0},\n    {'_id': {'city': 'RAPPAHANNOCK ACA', 'state': 'VA'}, 'avg_pop': 637.0},\n    {'_id': {'city': 'DELAVAN', 'state': 'IL'}, 'avg_pop': 2285.0},\n    {'_id': {'city': 'KELLY A F B', 'state': 'TX'}, 'avg_pop': 1784.0},\n    {'_id': {'city': 'MORRISTOWN', 'state': 'IN'}, 'avg_pop': 2215.0},\n    {'_id': {'city': 'GLENNS FERRY', 'state': 'ID'}, 'avg_pop': 2040.0},\n    {'_id': {'city': 'ASHKUM', 'state': 'IL'}, 'avg_pop': 1484.0},\n    {'_id': {'city': 'AURORA', 'state': 'KS'}, 'avg_pop': 195.0},\n    {'_id': {'city': 'QUARTZ HILL', 'state': 'CA'}, 'avg_pop': 39987.0},\n    {'_id': {'city': 'ABBEVILLE', 'state': 'AL'}, 'avg_pop': 5416.0},\n    {'_id': {'city': 'RINER', 'state': 'VA'}, 'avg_pop': 2947.0},\n    {'_id': {'city': 'CAZENOVIA', 'state': 'WI'}, 'avg_pop': 717.0},\n    {'_id': {'city': 'GREENVILLE', 'state': 'IA'}, 'avg_pop': 630.0},\n    {'_id': {'city': 'CHURCH VIEW', 'state': 'VA'}, 'avg_pop': 493.0},\n    {'_id': {'city': 'BELMONT', 'state': 'MA'}, 'avg_pop': 24733.0},\n    {'_id': {'city': 'NEW RIEGEL', 'state': 'OH'}, 'avg_pop': 1483.0},\n    {'_id': {'city': 'KADOKA', 'state': 'SD'}, 'avg_pop': 1024.0},\n    {'_id': {'city': 'WEBSTER', 'state': 'ND'}, 'avg_pop': 108.0},\n    {'_id': {'city': 'VICTORIA', 'state': 'IL'}, 'avg_pop': 669.0},\n    {   '_id': {'city': 'KEW GARDENS', 'state': 'NY'},\n        'avg_pop': 25320.666666666668},\n    {'_id': {'city': 'GAINESVILLE', 'state': 'FL'}, 'avg_pop': 18261.875},\n    {'_id': {'city': 'GLEN ALLAN', 'state': 'MS'}, 'avg_pop': 734.0},\n    {'_id': {'city': 'ULMER', 'state': 'SC'}, 'avg_pop': 1241.0},\n    {'_id': {'city': 'CARBON', 'state': 'TX'}, 'avg_pop': 462.0},\n    {'_id': {'city': 'RUMSEY', 'state': 'KY'}, 'avg_pop': 836.0},\n    {'_id': {'city': 'PAULINA', 'state': 'LA'}, 'avg_pop': 2639.0},\n    {'_id': {'city': 'EAST ELMHURST', 'state': 'NY'}, 'avg_pop': 26008.0},\n    {'_id': {'city': 'SAVOONGA', 'state': 'AK'}, 'avg_pop': 519.0},\n    {'_id': {'city': 'PATTEN', 'state': 'ME'}, 'avg_pop': 1595.0},\n    {'_id': {'city': 'JUDITH GAP', 'state': 'MT'}, 'avg_pop': 303.0},\n    {'_id': {'city': 'MEADOWS VILLAGE', 'state': 'FL'}, 'avg_pop': 20243.0},\n    {'_id': {'city': 'BOW', 'state': 'NH'}, 'avg_pop': 5500.0},\n    {'_id': {'city': 'NORRIS', 'state': 'MT'}, 'avg_pop': 148.0},\n    {'_id': {'city': 'COAL CENTER', 'state': 'PA'}, 'avg_pop': 482.0},\n    {'_id': {'city': 'STILESVILLE', 'state': 'IN'}, 'avg_pop': 1135.0},\n    {'_id': {'city': 'GILLETTE', 'state': 'WY'}, 'avg_pop': 13077.5},\n    {'_id': {'city': 'TOXEY', 'state': 'AL'}, 'avg_pop': 1980.0},\n    {'_id': {'city': 'COLUMBIA', 'state': 'IA'}, 'avg_pop': 304.0},\n    {'_id': {'city': 'NEEDMORE', 'state': 'PA'}, 'avg_pop': 1208.0},\n    {'_id': {'city': 'SAINT IGNACE', 'state': 'MI'}, 'avg_pop': 5411.0},\n    {'_id': {'city': 'SPENCER', 'state': 'VA'}, 'avg_pop': 1537.0},\n    {'_id': {'city': 'EDWARDSBURG', 'state': 'MI'}, 'avg_pop': 8926.0},\n    {'_id': {'city': 'CENTER HILL', 'state': 'FL'}, 'avg_pop': 1202.0},\n    {'_id': {'city': 'RICHLAND', 'state': 'IA'}, 'avg_pop': 1082.0},\n    {'_id': {'city': 'LAKE BUENA VISTA', 'state': 'FL'}, 'avg_pop': 6.0},\n    {'_id': {'city': 'OAK FOREST', 'state': 'IL'}, 'avg_pop': 26772.0},\n    {'_id': {'city': 'OLD MONROE', 'state': 'MO'}, 'avg_pop': 1591.0},\n    {'_id': {'city': 'SEADRIFT', 'state': 'TX'}, 'avg_pop': 1965.0},\n    {'_id': {'city': 'RENWICK', 'state': 'IA'}, 'avg_pop': 545.0},\n    {'_id': {'city': 'ALEXIS', 'state': 'NC'}, 'avg_pop': 4724.0},\n    {'_id': {'city': 'ORLEANS', 'state': 'NE'}, 'avg_pop': 760.0},\n    {'_id': {'city': 'RUTH', 'state': 'MS'}, 'avg_pop': 415.0},\n    {'_id': {'city': 'IRVONA', 'state': 'PA'}, 'avg_pop': 1183.0},\n    {'_id': {'city': 'CASTINE', 'state': 'OH'}, 'avg_pop': 8201.0},\n    {'_id': {'city': 'ATHENA', 'state': 'OR'}, 'avg_pop': 1334.0},\n    {'_id': {'city': 'WILLARD', 'state': 'WI'}, 'avg_pop': 682.0},\n    {'_id': {'city': 'STURGEON', 'state': 'MO'}, 'avg_pop': 1812.0},\n    {'_id': {'city': 'ISLAND POND', 'state': 'VT'}, 'avg_pop': 1585.0},\n    {'_id': {'city': 'WOODMERE', 'state': 'NY'}, 'avg_pop': 13084.0},\n    {'_id': {'city': 'CURRIE', 'state': 'MN'}, 'avg_pop': 1254.0},\n    {'_id': {'city': 'BREMEN', 'state': 'KS'}, 'avg_pop': 347.0},\n    {'_id': {'city': 'LAKE SAINT LOUIS', 'state': 'MO'}, 'avg_pop': 7785.0},\n    {'_id': {'city': 'TOMBSTONE', 'state': 'AZ'}, 'avg_pop': 1556.0},\n    {'_id': {'city': 'CHESHIRE', 'state': 'OR'}, 'avg_pop': 1050.0},\n    {'_id': {'city': 'GIFFORD', 'state': 'WA'}, 'avg_pop': 60.0}]\n"
    }
   ],
   "source": [
    "# 14. SELECT AVG(pop) FROM zip GROUP BY state, city  \n",
    "prt(zips_col.aggregate([\n",
    "    {\n",
    "        '$group' :{\n",
    "            '_id' : {\n",
    "                'state' : '$state',\n",
    "                'city' : '$city'\n",
    "            },\n",
    "            'avg_pop' : {'$avg' : '$pop'}\n",
    "        }\n",
    "    }\n",
    "]))"
   ]
  },
  {
   "cell_type": "code",
   "execution_count": 76,
   "metadata": {
    "tags": []
   },
   "outputs": [
    {
     "output_type": "stream",
     "name": "stdout",
     "text": "[   {'_id': {'city': 'BOARDMAN', 'state': 'OH'}},\n    {'_id': {'city': 'VIRGINIA BEACH', 'state': 'VA'}},\n    {'_id': {'city': 'OCEANSIDE', 'state': 'NY'}}]\n"
    }
   ],
   "source": [
    "# //15. select state,city, avg(pop) as avg_pop from zip  GROUP BY state, city  having avg_pop > 30000\n",
    "# //주별 도시 인구 평균이 30000 이 넘는 곳의 _id는 출력하지 않으며, state 와 city 이름만 출력하기 (3개만 출력하기\n",
    "\n",
    "prt(zips_col.aggregate([\n",
    "    {\n",
    "        '$group' :{\n",
    "            '_id' : {\n",
    "                'state' : '$state',\n",
    "                'city' : '$city'\n",
    "            },\n",
    "            'avg_pop' : {'$avg' : '$pop'}\n",
    "        }\n",
    "    },\n",
    "    {\n",
    "        '$match' : {\n",
    "            'avg_pop' : {'$gt' : 30000}\n",
    "        }\n",
    "    },\n",
    "    {\n",
    "        '$project' : {\n",
    "            'avg_pop' : 0\n",
    "        }\n",
    "    },\n",
    "    {\n",
    "        '$limit' : 3\n",
    "    }\n",
    "]))"
   ]
  },
  {
   "cell_type": "code",
   "execution_count": null,
   "metadata": {},
   "outputs": [],
   "source": []
  }
 ]
}