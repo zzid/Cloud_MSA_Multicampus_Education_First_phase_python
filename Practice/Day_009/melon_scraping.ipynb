{
 "metadata": {
  "language_info": {
   "codemirror_mode": {
    "name": "ipython",
    "version": 3
   },
   "file_extension": ".py",
   "mimetype": "text/x-python",
   "name": "python",
   "nbconvert_exporter": "python",
   "pygments_lexer": "ipython3",
   "version": 3
  },
  "orig_nbformat": 2,
  "kernelspec": {
   "name": "python_defaultSpec_1595581601165",
   "display_name": "Python 3.7.0 64-bit ('base': conda)"
  }
 },
 "nbformat": 4,
 "nbformat_minor": 2,
 "cells": [
  {
   "cell_type": "markdown",
   "metadata": {},
   "source": [
    "## Melon music data scraping from web\n",
    "* 1. Scrap the title and id of 100 songs\n",
    "* 2. Request 100 times(for each detail pages) >> get detail info\n",
    "* 3. Store that to pandas data frame\n",
    "* 4. and store that to DB as well (song table)"
   ]
  },
  {
   "cell_type": "code",
   "execution_count": 12,
   "metadata": {
    "tags": []
   },
   "outputs": [
    {
     "output_type": "error",
     "ename": "IndexError",
     "evalue": "list index out of range",
     "traceback": [
      "\u001b[1;31m---------------------------------------------------------------------------\u001b[0m",
      "\u001b[1;31mIndexError\u001b[0m                                Traceback (most recent call last)",
      "\u001b[1;32m<ipython-input-12-5818afc2a65f>\u001b[0m in \u001b[0;36m<module>\u001b[1;34m\u001b[0m\n\u001b[0;32m     43\u001b[0m     \u001b[1;31m# print(soup)\u001b[0m\u001b[1;33m\u001b[0m\u001b[1;33m\u001b[0m\u001b[0m\n\u001b[0;32m     44\u001b[0m     \u001b[0msong_lyric_dict\u001b[0m\u001b[1;33m[\u001b[0m\u001b[1;34m'곡명'\u001b[0m\u001b[1;33m]\u001b[0m \u001b[1;33m=\u001b[0m \u001b[0mlink\u001b[0m\u001b[1;33m[\u001b[0m\u001b[1;34m'title'\u001b[0m\u001b[1;33m]\u001b[0m\u001b[1;33m\u001b[0m\u001b[0m\n\u001b[1;32m---> 45\u001b[1;33m     \u001b[0msong_lyric_dict\u001b[0m\u001b[1;33m[\u001b[0m\u001b[1;34m'가수'\u001b[0m\u001b[1;33m]\u001b[0m \u001b[1;33m=\u001b[0m \u001b[0msoup\u001b[0m\u001b[1;33m.\u001b[0m\u001b[0mselect\u001b[0m\u001b[1;33m(\u001b[0m\u001b[1;34m'a[href*=\".goArtistDetail\"] span'\u001b[0m\u001b[1;33m)\u001b[0m\u001b[1;33m[\u001b[0m\u001b[1;36m0\u001b[0m\u001b[1;33m]\u001b[0m\u001b[1;33m.\u001b[0m\u001b[0mtext\u001b[0m\u001b[1;33m\u001b[0m\u001b[0m\n\u001b[0m\u001b[0;32m     46\u001b[0m     \u001b[0msong_lyric_dict\u001b[0m\u001b[1;33m[\u001b[0m\u001b[1;34m'앨범'\u001b[0m\u001b[1;33m]\u001b[0m \u001b[1;33m=\u001b[0m \u001b[0msoup\u001b[0m\u001b[1;33m.\u001b[0m\u001b[0mselect\u001b[0m\u001b[1;33m(\u001b[0m\u001b[1;34m'div.meta dd'\u001b[0m\u001b[1;33m)\u001b[0m\u001b[1;33m[\u001b[0m\u001b[1;36m0\u001b[0m\u001b[1;33m]\u001b[0m\u001b[1;33m.\u001b[0m\u001b[0mtext\u001b[0m\u001b[1;33m\u001b[0m\u001b[0m\n\u001b[0;32m     47\u001b[0m     \u001b[0msong_lyric_dict\u001b[0m\u001b[1;33m[\u001b[0m\u001b[1;34m'발매일'\u001b[0m\u001b[1;33m]\u001b[0m \u001b[1;33m=\u001b[0m \u001b[0msoup\u001b[0m\u001b[1;33m.\u001b[0m\u001b[0mselect\u001b[0m\u001b[1;33m(\u001b[0m\u001b[1;34m'div.meta dd'\u001b[0m\u001b[1;33m)\u001b[0m\u001b[1;33m[\u001b[0m\u001b[1;36m1\u001b[0m\u001b[1;33m]\u001b[0m\u001b[1;33m.\u001b[0m\u001b[0mtext\u001b[0m\u001b[1;33m\u001b[0m\u001b[0m\n",
      "\u001b[1;31mIndexError\u001b[0m: list index out of range"
     ]
    }
   ],
   "source": [
    "import requests, re\n",
    "import pandas as pd\n",
    "import numpy as np\n",
    "from bs4 import BeautifulSoup\n",
    "# https://www.melon.com/album/detail.htm?albumId=10462799\n",
    "# >>\n",
    "# songId = 32790516\n",
    "# >>\n",
    "# https://www.melon.com/song/detail.htm?songId=32790516\n",
    "url = 'https://www.melon.com/chart/index.htm'\n",
    "req_header = {\n",
    "    'User-Agent' : 'Mozilla/5.0 (Windows NT 10.0; Win64; x64) AppleWebKit/537.36 (KHTML, like Gecko) Chrome/83.0.4103.116 Safari/537.36',\n",
    "}\n",
    "html = requests.get(url, headers = req_header).text\n",
    "# print(html)\n",
    "soup = BeautifulSoup(html, 'html.parser')\n",
    "soup.select(\"tbody tr td a\")\n",
    "# for body in soup.find_all('tbody'):\n",
    "#     for tr in body.find_all(\"tr\"):\n",
    "#         for td in tr.find_all('td'):\n",
    "#             for a in td.find_all('a'):\n",
    "#                 print(a.string)\n",
    "#                 # print(a_title)\n",
    "\n",
    "# print(len(soup.select('#tb_list')))\n",
    "# print(len(soup.select(\"#tb_list tr div.wrap_song_info a[href*='playSong']\")))\n",
    "links = []\n",
    "for songs in soup.select(\"#tb_list tr div.wrap_song_info a[href*='playSong']\"):\n",
    "    links.append({\n",
    "        'title': songs.string,\n",
    "        'url' : \"https://www.melon.com/song/detail.htm?songId=\" + songs['href'][42:-2],\n",
    "    })\n",
    "    ## or use RE\n",
    "    # href = songs['href']\n",
    "    # matched = re.search(r\"(\\d+)\\)\",href)\n",
    "    # print(matched.group(1))\n",
    "# print(links)\n",
    "song_lyric_lists = []\n",
    "song_lyric_dict = {}\n",
    "for link in links:\n",
    "    html = requests.get(link['url'], headers= req_header).text\n",
    "    soup = BeautifulSoup(html, 'html.parser')\n",
    "    # print(soup)\n",
    "    song_lyric_dict['곡명'] = link['title']\n",
    "    song_lyric_dict['가수'] = soup.select('a[href*=\".goArtistDetail\"] span')[0].text\n",
    "    song_lyric_dict['앨범'] = soup.select('div.meta dd')[0].text\n",
    "    song_lyric_dict['발매일'] = soup.select('div.meta dd')[1].text\n",
    "    song_lyric_dict['장르'] = soup.select('div.meta dd')[2].text\n",
    "    #song_lyric_dict['좋아요'] = soup.select('span#d_like_count')[0].text\n",
    "    lyric = soup.select('div#d_video_summary')[0].text\n",
    "    regex = re.compile(r'[\\n\\r\\t]')\n",
    "    song_lyric_dict['가사'] = regex.sub('', lyric.strip())\n",
    "    song_lyric_lists.append(song_lyric_dict)\n",
    "    #print(song_lyric_dict)\n",
    "    song_lyric_dict = {}\n",
    "print(len(song_lyric_lists))\n"
   ]
  },
  {
   "cell_type": "code",
   "execution_count": 10,
   "metadata": {},
   "outputs": [],
   "source": [
    "# import re\n",
    "# song_lyric_lists = []\n",
    "# song_lyric_dict = {}\n",
    "# for song in song_detail_lists:\n",
    "#     html = requests.get(song['url'], headers=headers).text\n",
    "#     soup = BeautifulSoup(html,'html.parser')\n",
    "#     song_lyric_dict['곡명'] = song['title']\n",
    "#     song_lyric_dict['가수'] = soup.select('a[href*=\".goArtistDetail\"] span')[0].text\n",
    "#     song_lyric_dict['앨범'] = soup.select('div.meta dd')[0].text\n",
    "#     song_lyric_dict['발매일'] = soup.select('div.meta dd')[1].text\n",
    "#     song_lyric_dict['장르'] = soup.select('div.meta dd')[2].text\n",
    "#     #song_lyric_dict['좋아요'] = soup.select('span#d_like_count')[0].text\n",
    "#     lyric = soup.select('div#d_video_summary')[0].text\n",
    "#     regex = re.compile(r'[\\n\\r\\t]')\n",
    "#     song_lyric_dict['가사'] = regex.sub('', lyric.strip())\n",
    "#     song_lyric_lists.append(song_lyric_dict)\n",
    "#     #print(song_lyric_dict)\n",
    "#     song_lyric_dict = {}\n",
    "# print(len(song_lyric_lists))"
   ]
  },
  {
   "cell_type": "code",
   "execution_count": null,
   "metadata": {},
   "outputs": [],
   "source": []
  }
 ]
}