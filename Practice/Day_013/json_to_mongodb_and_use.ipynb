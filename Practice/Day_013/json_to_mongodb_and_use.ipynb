{
 "metadata": {
  "language_info": {
   "codemirror_mode": {
    "name": "ipython",
    "version": 3
   },
   "file_extension": ".py",
   "mimetype": "text/x-python",
   "name": "python",
   "nbconvert_exporter": "python",
   "pygments_lexer": "ipython3",
   "version": 3
  },
  "orig_nbformat": 2,
  "kernelspec": {
   "name": "python_defaultSpec_1596155874927",
   "display_name": "Python 3.7.0 64-bit ('base': conda)"
  }
 },
 "nbformat": 4,
 "nbformat_minor": 2,
 "cells": [
  {
   "cell_type": "markdown",
   "metadata": {
    "tags": [
     "outputPrepend"
    ]
   },
   "source": [
    "### Get data from songs.json and store that to mongoDB\n"
   ]
  },
  {
   "cell_type": "code",
   "execution_count": 1,
   "metadata": {},
   "outputs": [],
   "source": [
    "import json\n",
    "json_path = '../../docs/data/songs.json' "
   ]
  },
  {
   "cell_type": "code",
   "execution_count": 4,
   "metadata": {
    "tags": []
   },
   "outputs": [],
   "source": [
    "with open(json_path, 'r', encoding='utf8') as f:\n",
    "    contents = f.read()\n",
    "    json_data = json.loads(contents)"
   ]
  },
  {
   "cell_type": "code",
   "execution_count": 19,
   "metadata": {
    "tags": []
   },
   "outputs": [
    {
     "output_type": "execute_result",
     "data": {
      "text/plain": "<pymongo.results.InsertManyResult at 0x11516a0fe88>"
     },
     "metadata": {},
     "execution_count": 19
    }
   ],
   "source": [
    "import pymongo\n",
    "\n",
    "conn = pymongo.MongoClient()\n",
    "\n",
    "song_db = conn.song_db\n",
    "\n",
    "song_col = song_db.song_col\n",
    "\n",
    "song_col.insert_many(json_data)\n"
   ]
  },
  {
   "cell_type": "code",
   "execution_count": 82,
   "metadata": {
    "tags": []
   },
   "outputs": [
    {
     "output_type": "stream",
     "name": "stdout",
     "text": "[   {'_id': '발라드, 국내드라마'},\n    {'_id': 'POP'},\n    {'_id': '인디음악, 포크/블루스'},\n    {'_id': 'R&B/Soul'},\n    {'_id': '록/메탈'},\n    {'_id': 'R&B/Soul, 인디음악'},\n    {'_id': '록/메탈, 국내드라마'},\n    {'_id': '발라드'},\n    {'_id': '성인가요'},\n    {'_id': '댄스'},\n    {'_id': '랩/힙합, 인디음악'},\n    {'_id': '발라드, 인디음악'},\n    {'_id': '랩/힙합'}]\n"
    }
   ],
   "source": [
    "import pprint\n",
    "pp = pprint.PrettyPrinter(indent = 4)\n",
    "genre_q = [\n",
    "    {\n",
    "        \"$group\":{\n",
    "            \"_id\" : \"$장르\"\n",
    "        }\n",
    "    }\n",
    "]\n",
    "pp.pprint(list(song_col.aggregate(genre_q)))"
   ]
  },
  {
   "cell_type": "code",
   "execution_count": 59,
   "metadata": {
    "tags": []
   },
   "outputs": [
    {
     "output_type": "stream",
     "name": "stdout",
     "text": "{   '가수': '싹쓰리 (유두래곤, 린다G, 비룡)',\n    '곡명': '다시 여기 바닷가',\n    '발매일': '2020.07.18',\n    '앨범': '다시 여기 바닷가'}\n{'가수': '화사 (Hwa Sa)', '곡명': '마리아 (Maria)', '발매일': '2020.06.29', '앨범': 'María'}\n{   '가수': '싹쓰리 (유두래곤, 린다G, 비룡)',\n    '곡명': '그 여름을 틀어줘',\n    '발매일': '2020.07.25',\n    '앨범': '그 여름을 틀어줘'}\n{   '가수': '싹쓰리 (유두래곤, 린다G, 비룡)',\n    '곡명': '여름 안에서 by 싹쓰리 (Feat. 황광희)',\n    '발매일': '2020.07.11',\n    '앨범': '여름 안에서 by 싹쓰리'}\n{   '가수': '선미',\n    '곡명': '보라빛 밤 (pporappippam)',\n    '발매일': '2020.06.29',\n    '앨범': '보라빛 밤 (pporappippam)'}\n{'가수': '오마이걸', '곡명': '살짝 설렜어 (Nonstop)', '발매일': '2020.04.27', '앨범': 'NONSTOP'}\n{'가수': '오마이걸', '곡명': 'Dolphin', '발매일': '2020.04.27', '앨범': 'NONSTOP'}\n{   '가수': '아이유',\n    '곡명': 'Into the I-LAND',\n    '발매일': '2020.06.19',\n    '앨범': 'I-LAND Part.1 Signal Song'}\n{   '가수': 'TWICE (트와이스)',\n    '곡명': 'MORE & MORE',\n    '발매일': '2020.06.01',\n    '앨범': 'MORE & MORE'}\n{   '가수': '레드벨벳-아이린&슬기',\n    '곡명': 'Monster',\n    '발매일': '2020.07.06',\n    '앨범': 'Monster - The 1st Mini Album'}\n{'가수': '청하', '곡명': 'PLAY (Feat. 창모)', '발매일': '2020.07.06', '앨범': 'PLAY'}\n{   '가수': '방탄소년단',\n    '곡명': '작은 것들을 위한 시 (Boy With Luv) (Feat. Halsey)',\n    '발매일': '2019.04.12',\n    '앨범': 'MAP OF THE SOUL : PERSONA'}\n{   '가수': 'Red Velvet (레드벨벳)',\n    '곡명': 'Psycho',\n    '발매일': '2019.12.23',\n    '앨범': '‘The ReVe Festival’ Finale'}\n{   '가수': 'IZ*ONE (아이즈원)',\n    '곡명': '환상동화 (Secret Story of the Swan)',\n    '발매일': '2020.06.15',\n    '앨범': 'Oneiric Diary (幻想日記)'}\n{   '가수': 'Apink (에이핑크)',\n    '곡명': '덤더럼 (Dumhdurum)',\n    '발매일': '2020.04.13',\n    '앨범': 'LOOK'}\n{   '가수': '세븐틴',\n    '곡명': 'Left & Right',\n    '발매일': '2020.06.22',\n    '앨범': \"SEVENTEEN 7th Mini Album '헹가래'\"}\n{'가수': 'IZ*ONE (아이즈원)', '곡명': 'FIESTA', '발매일': '2020.02.17', '앨범': 'BLOOM*IZ'}\n{'가수': 'ITZY (있지)', '곡명': 'WANNABE', '발매일': '2020.03.09', '앨범': \"IT'z ME\"}\n{   '가수': '전소미',\n    '곡명': 'What You Waiting For',\n    '발매일': '2020.07.22',\n    '앨범': 'What You Waiting For'}\n{   '가수': '마마무 (Mamamoo)',\n    '곡명': 'HIP',\n    '발매일': '2019.11.14',\n    '앨범': 'reality in BLACK'}\n{   '가수': '여자친구 (GFRIEND)',\n    '곡명': 'Apple',\n    '발매일': '2020.07.13',\n    '앨범': '回:Song of the Sirens'}\n"
    }
   ],
   "source": [
    "# 장르 댄스 // 곡명 가수 앨범 발매일\n",
    "for song in song_col.find({'장르' : {\"$regex\" : \"댄스\"}}, {'곡명' : 1 , '가수' : 1, '앨범' : 1, '발매일' : 1, '_id' : 0}):\n",
    "    pp.pprint(song)"
   ]
  },
  {
   "cell_type": "code",
   "execution_count": 78,
   "metadata": {
    "tags": []
   },
   "outputs": [
    {
     "output_type": "stream",
     "name": "stdout",
     "text": "[   {   '가수': '방탄소년단',\n        '곡명': '작은 것들을 위한 시 (Boy With Luv) (Feat. Halsey)',\n        '발매일': '2019.04.12',\n        '앨범': 'MAP OF THE SOUL : PERSONA'},\n    {   '가수': '방탄소년단',\n        '곡명': 'ON',\n        '발매일': '2020.02.21',\n        '앨범': 'MAP OF THE SOUL : 7'},\n    {   '가수': '폴킴',\n        '곡명': '모든 날, 모든 순간 (Every day, Every Moment)',\n        '발매일': '2018.03.20',\n        '앨범': '`키스 먼저 할까요?` OST Part.3'},\n    {'가수': '폴킴', '곡명': '안녕', '발매일': '2019.08.12', '앨범': '호텔 델루나 OST Part.10'},\n    {   '가수': '방탄소년단',\n        '곡명': '봄날',\n        '발매일': '2017.02.13',\n        '앨범': 'YOU NEVER WALK ALONE'},\n    {'가수': '폴킴', '곡명': '비', '발매일': '2016.06.21', '앨범': '비'},\n    {   '가수': '방탄소년단',\n        '곡명': '00:00 (Zero O’Clock)',\n        '발매일': '2020.02.21',\n        '앨범': 'MAP OF THE SOUL : 7'},\n    {   '가수': '방탄소년단',\n        '곡명': 'Black Swan',\n        '발매일': '2020.01.17',\n        '앨범': 'MAP OF THE SOUL : 7'},\n    {'가수': '폴킴', '곡명': '너를 만나', '발매일': '2018.10.29', '앨범': '너를 만나'},\n    {   '가수': '방탄소년단',\n        '곡명': '친구',\n        '발매일': '2020.02.21',\n        '앨범': 'MAP OF THE SOUL : 7'},\n    {   '가수': '방탄소년단',\n        '곡명': 'Filter',\n        '발매일': '2020.02.21',\n        '앨범': 'MAP OF THE SOUL : 7'},\n    {   '가수': '방탄소년단',\n        '곡명': 'Moon',\n        '발매일': '2020.02.21',\n        '앨범': 'MAP OF THE SOUL : 7'},\n    {'가수': '폴킴', '곡명': '우리 만남이', '발매일': '2020.04.22', '앨범': \"정규 2집 '마음, 둘'\"}]\n"
    }
   ],
   "source": [
    "# 가수 방탄소년단, 폴킴 // 곡명 가수 앨범 발매일\n",
    "query = {\n",
    "    '가수' : {'$in' : ['방탄소년단', '폴킴']}\n",
    "}\n",
    "proj = {\n",
    "    '곡명' : 1,\n",
    "    '가수' : 1,\n",
    "    '앨범' : 1,\n",
    "    '발매일' : 1,\n",
    "    '_id' : 0,\n",
    "}\n",
    "def prt_find(query, proj):\n",
    "    pp.pprint(list(song_col.find(query,proj)))\n",
    "prt_find(query,proj)"
   ]
  },
  {
   "cell_type": "code",
   "execution_count": 79,
   "metadata": {
    "tags": []
   },
   "outputs": [
    {
     "output_type": "stream",
     "name": "stdout",
     "text": "[   {   '가수': '조정석',\n        '곡명': '아로하',\n        '발매일': '2020.03.27',\n        '앨범': '슬기로운 의사생활 OST Part 3'},\n    {   '가수': '전미도',\n        '곡명': '사랑하게 될 줄 알았어',\n        '발매일': '2020.05.22',\n        '앨범': '슬기로운 의사생활 OST Part 11'},\n    {   '가수': '장범준',\n        '곡명': '흔들리는 꽃들 속에서 네 샴푸향이 느껴진거야',\n        '발매일': '2019.08.23',\n        '앨범': '멜로가 체질 OST Part 3'},\n    {   '가수': '가호 (Gaho)',\n        '곡명': '시작',\n        '발매일': '2020.02.01',\n        '앨범': '이태원 클라쓰 OST Part.2'},\n    {   '가수': '조이 (JOY)',\n        '곡명': '좋은 사람 있으면 소개시켜줘',\n        '발매일': '2020.03.20',\n        '앨범': '슬기로운 의사생활 OST Part 2'},\n    {   '가수': '아이유',\n        '곡명': '마음을 드려요',\n        '발매일': '2020.02.15',\n        '앨범': '사랑의 불시착 OST Part 11'},\n    {   '가수': '폴킴',\n        '곡명': '모든 날, 모든 순간 (Every day, Every Moment)',\n        '발매일': '2018.03.20',\n        '앨범': '`키스 먼저 할까요?` OST Part.3'},\n    {   '가수': '미도와 파라솔',\n        '곡명': '너에게 난, 나에게 넌',\n        '발매일': '2020.05.29',\n        '앨범': '슬기로운 의사생활 OST Part 12'},\n    {   '가수': '규현 (KYUHYUN)',\n        '곡명': '화려하지 않은 고백',\n        '발매일': '2020.04.03',\n        '앨범': '슬기로운 의사생활 OST Part 4'},\n    {   '가수': '김필',\n        '곡명': '그때 그 아인',\n        '발매일': '2020.02.15',\n        '앨범': '이태원 클라쓰 OST Part.6'},\n    {'가수': '폴킴', '곡명': '안녕', '발매일': '2019.08.12', '앨범': '호텔 델루나 OST Part.10'},\n    {   '가수': '하현우 (국카스텐)',\n        '곡명': '돌덩이',\n        '발매일': '2020.02.07',\n        '앨범': '이태원 클라쓰 OST Part.3'},\n    {   '가수': '어반자카파',\n        '곡명': '그대 고운 내사랑',\n        '발매일': '2020.04.10',\n        '앨범': '슬기로운 의사생활 OST Part 5'},\n    {   '가수': '휘인 (Whee In)',\n        '곡명': '내 눈물 모아',\n        '발매일': '2020.05.01',\n        '앨범': '슬기로운 의사생활 OST Part 8'},\n    {   '가수': '이수현',\n        '곡명': '아직 너의 시간에 살아',\n        '발매일': '2020.07.12',\n        '앨범': '사이코지만 괜찮아 OST Part.4'},\n    {   '가수': '백현 (BAEKHYUN)',\n        '곡명': '너를 사랑하고 있어',\n        '발매일': '2020.01.07',\n        '앨범': '낭만닥터 김사부 2 OST Part.1'}]\n"
    }
   ],
   "source": [
    "# 앨범 이름 OST 포함 // 곡명 가수 앨범 발매일\n",
    "query = {\n",
    "    '앨범' : {'$regex' : 'OST'}\n",
    "}\n",
    "proj = {\n",
    "    '곡명' : 1,\n",
    "    '가수' : 1,\n",
    "    '앨범' : 1,\n",
    "    '발매일' : 1,\n",
    "    '_id' : 0,\n",
    "}\n",
    "prt_find(query,proj)"
   ]
  },
  {
   "cell_type": "code",
   "execution_count": 80,
   "metadata": {
    "tags": []
   },
   "outputs": [
    {
     "output_type": "stream",
     "name": "stdout",
     "text": "[   {'_id': '전미도'},\n    {'_id': '장범준'},\n    {'_id': '엠씨더맥스 (M.C the MAX)'},\n    {'_id': 'AKMU (악동뮤지션)'},\n    {'_id': '임재현'},\n    {'_id': '창모 (CHANGMO)'},\n    {'_id': '신예영'},\n    {'_id': '화사 (Hwa Sa)'},\n    {'_id': '솔지'},\n    {'_id': '오반'},\n    {'_id': '선미'},\n    {'_id': '황인욱'},\n    {'_id': '어반자카파'},\n    {'_id': 'HYNN (박혜원)'},\n    {'_id': '여자친구 (GFRIEND)'},\n    {'_id': 'ITZY (있지)'},\n    {'_id': 'Sam Smith'},\n    {'_id': 'Anne-Marie'},\n    {'_id': '레드벨벳-아이린&슬기'},\n    {'_id': 'Ruel'},\n    {'_id': '휘인 (Whee In)'},\n    {'_id': '전소미'},\n    {'_id': '노을'},\n    {'_id': 'ASH ISLAND'},\n    {'_id': '조이 (JOY)'},\n    {'_id': 'Dua Lipa'},\n    {'_id': '방탄소년단'},\n    {'_id': 'Tones And I'},\n    {'_id': '규현 (KYUHYUN)'},\n    {'_id': 'Ariana Grande'},\n    {'_id': 'Lauv'},\n    {'_id': 'BLACKPINK'},\n    {'_id': '하현우 (국카스텐)'},\n    {'_id': '마마무 (Mamamoo)'},\n    {'_id': 'TWICE (트와이스)'},\n    {'_id': '폴킴'},\n    {'_id': '이하이'},\n    {'_id': 'IZ*ONE (아이즈원)'},\n    {'_id': '지코 (ZICO)'},\n    {'_id': '아이유'},\n    {'_id': '진민호'},\n    {'_id': '신용재'},\n    {'_id': '세븐틴'},\n    {'_id': 'Red Velvet (레드벨벳)'},\n    {'_id': '태연 (TAEYEON)'},\n    {'_id': 'Crush'},\n    {'_id': '가호 (Gaho)'},\n    {'_id': '세훈&찬열'},\n    {'_id': '이수현'},\n    {'_id': 'Apink (에이핑크)'},\n    {'_id': '오마이걸'},\n    {'_id': '전상근'},\n    {'_id': '블루 (BLOO)'},\n    {'_id': '산들'},\n    {'_id': 'Conan Gray'},\n    {'_id': 'Etham'},\n    {'_id': 'Billie Eilish'},\n    {'_id': '식케이 (Sik-K)'},\n    {'_id': '임영웅'},\n    {'_id': '백현 (BAEKHYUN)'},\n    {'_id': '영탁'},\n    {'_id': '조정석'},\n    {'_id': '청하'},\n    {'_id': '싹쓰리 (유두래곤, 린다G, 비룡)'},\n    {'_id': '볼빨간사춘기'},\n    {'_id': '백지영'},\n    {'_id': 'Maroon 5'},\n    {'_id': '김필'},\n    {'_id': '마크툽 (MAKTUB)'},\n    {'_id': '런치'},\n    {'_id': '미도와 파라솔'}]\n"
    }
   ],
   "source": [
    "# 가수별 print\n",
    "query = [\n",
    "    {\n",
    "        '$group' : {\n",
    "            '_id' : \"$가수\"\n",
    "        }\n",
    "    }\n",
    "]\n",
    "# prt_aggre(query)\n",
    "pp.pprint(list(song_col.aggregate(query)))"
   ]
  }
 ]
}