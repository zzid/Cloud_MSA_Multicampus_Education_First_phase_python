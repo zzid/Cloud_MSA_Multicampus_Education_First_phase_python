{
 "metadata": {
  "language_info": {
   "codemirror_mode": {
    "name": "ipython",
    "version": 3
   },
   "file_extension": ".py",
   "mimetype": "text/x-python",
   "name": "python",
   "nbconvert_exporter": "python",
   "pygments_lexer": "ipython3",
   "version": 3
  },
  "orig_nbformat": 2,
  "kernelspec": {
   "name": "python_defaultSpec_1596085480096",
   "display_name": "Python 3.7.0 64-bit ('base': conda)"
  }
 },
 "nbformat": 4,
 "nbformat_minor": 2,
 "cells": [
  {
   "cell_type": "code",
   "execution_count": 2,
   "metadata": {
    "tags": []
   },
   "outputs": [
    {
     "output_type": "stream",
     "name": "stdout",
     "text": "Name: pymongo\nVersion: 3.10.1\nSummary: Python driver for MongoDB <http://www.mongodb.org>\nHome-page: http://github.com/mongodb/mongo-python-driver\nAuthor: Mike Dirolf\nAuthor-email: mongodb-user@googlegroups.com\nLicense: Apache License, Version 2.0\nLocation: c:\\anaconda3\\lib\\site-packages\nRequires: \nRequired-by: \n"
    }
   ],
   "source": [
    "!pip show pymongo"
   ]
  },
  {
   "cell_type": "markdown",
   "metadata": {},
   "source": [
    "### Pymongo\n",
    "* Create Database, Collection \n",
    "* CRUD the document in Collection"
   ]
  },
  {
   "cell_type": "code",
   "execution_count": 8,
   "metadata": {
    "tags": []
   },
   "outputs": [],
   "source": [
    "import pymongo\n",
    "\n",
    "## Create connection\n",
    "conn = pymongo.MongoClient(host = 'localhost', port = 27017)\n",
    "\n",
    "## Create database\n",
    "db = conn.pymongo_db ## right side is the name that we give this line\n",
    "# print(db.name)\n",
    "\n",
    "## Create collection\n",
    "col = db.pymongo_col ## same context with above one\n",
    "# print(col.name)\n",
    "\n"
   ]
  },
  {
   "cell_type": "markdown",
   "metadata": {},
   "source": [
    "#### insert_one(), insert_many()"
   ]
  },
  {
   "cell_type": "code",
   "execution_count": 32,
   "metadata": {
    "tags": []
   },
   "outputs": [
    {
     "output_type": "stream",
     "name": "stdout",
     "text": "5f22624f6ec8d0487dd681ce\n"
    }
   ],
   "source": [
    "post = {\n",
    "    \"author\"  : \"길동\",\n",
    "    \"text\" : \"첫번째 글\",\n",
    "    \"tags\" : [\n",
    "        \"mongodb\",\n",
    "        \"python\",\n",
    "        \"pymongo\"\n",
    "    ]\n",
    "}\n",
    "result = col.insert_one(post)\n",
    "print(result.inserted_id)"
   ]
  },
  {
   "cell_type": "code",
   "execution_count": 11,
   "metadata": {},
   "outputs": [
    {
     "output_type": "execute_result",
     "data": {
      "text/plain": "<pymongo.cursor.Cursor at 0x1b93766f470>"
     },
     "metadata": {},
     "execution_count": 11
    }
   ],
   "source": [
    "col.find()"
   ]
  },
  {
   "cell_type": "code",
   "execution_count": 16,
   "metadata": {
    "tags": []
   },
   "outputs": [
    {
     "output_type": "stream",
     "name": "stdout",
     "text": "Type :  <class 'dict'>\n{'_id': ObjectId('5f225fe36ec8d0487dd681bd'), 'author': '길동', 'text': '첫번째 글', 'tags': ['mongodb', 'python', 'pymongo']}\n"
    }
   ],
   "source": [
    "for post in col.find():\n",
    "    print('Type : ' , type(post))\n",
    "    print(post)"
   ]
  },
  {
   "cell_type": "code",
   "execution_count": 17,
   "metadata": {},
   "outputs": [
    {
     "output_type": "execute_result",
     "data": {
      "text/plain": "1"
     },
     "metadata": {},
     "execution_count": 17
    }
   ],
   "source": [
    "##  # of document \n",
    "col.count_documents({})"
   ]
  },
  {
   "cell_type": "code",
   "execution_count": 33,
   "metadata": {
    "tags": []
   },
   "outputs": [
    {
     "output_type": "execute_result",
     "data": {
      "text/plain": "<pymongo.results.InsertManyResult at 0x1b937c1d808>"
     },
     "metadata": {},
     "execution_count": 33
    }
   ],
   "source": [
    "post = [\n",
    "    {\n",
    "        \"author\"  : \"둘리\",\n",
    "        \"age\" : 10\n",
    "    },\n",
    "    {\n",
    "        \"author\"  : \"바다\",\n",
    "        \"age\" : 20\n",
    "    },\n",
    "    {\n",
    "        \"author\"  : \"연못\",\n",
    "        \"age\" : 30\n",
    "    },\n",
    "]\n",
    "col.insert_many(post)\n"
   ]
  },
  {
   "cell_type": "code",
   "execution_count": 41,
   "metadata": {
    "tags": []
   },
   "outputs": [
    {
     "output_type": "stream",
     "name": "stdout",
     "text": "4\n{'author': '연못', 'age': 30}\n{'author': '바다', 'age': 20}\n{'author': '둘리', 'age': 10}\n{'author': '길동', 'text': '첫번째 글'}\n"
    }
   ],
   "source": [
    "print(col.count_documents({}))\n",
    "for post in col.find({},{\"author\": 1, \"age\" :1, \"text\": 1, \"_id\" :0}).sort(\"age\", pymongo.DESCENDING):\n",
    "    print(post)"
   ]
  },
  {
   "cell_type": "code",
   "execution_count": 43,
   "metadata": {},
   "outputs": [],
   "source": [
    "# col.delete_many({\"age\" : 10})\n",
    "# col.delete_many({})"
   ]
  },
  {
   "cell_type": "code",
   "execution_count": 49,
   "metadata": {
    "tags": []
   },
   "outputs": [
    {
     "output_type": "stream",
     "name": "stdout",
     "text": "Collection(Database(MongoClient(host=['localhost:27017'], document_class=dict, tz_aware=False, connect=True), 'pymongo_db'), 'employees')\n"
    }
   ],
   "source": [
    "emp = db.employees\n",
    "print(emp)"
   ]
  },
  {
   "cell_type": "code",
   "execution_count": 52,
   "metadata": {},
   "outputs": [
    {
     "output_type": "execute_result",
     "data": {
      "text/plain": "<pymongo.results.InsertManyResult at 0x1b937d9a7c8>"
     },
     "metadata": {},
     "execution_count": 52
    }
   ],
   "source": [
    "from datetime import datetime\n",
    "emp_list = [\n",
    "    {\n",
    "        \"number\" : 1001,\n",
    "        \"last_name\" : \"Smith\",\n",
    "        \"first_name\" : \"John\",\n",
    "        \"salary\" : 62000,\n",
    "        \"department\" : \"sales\",\n",
    "        \"hire_date\" : datetime.strptime(\"2016-01-02\", \"%Y-%m-%d\")},\n",
    "    {\n",
    "        \"number\" : 1002,\n",
    "        \"last_name\" : \"Anderson\",\n",
    "        \"first_name\":\"Jane\",\n",
    "        \"salary\":57500,\n",
    "        \"department\":\"marketing\",\n",
    "        \"hire_date\":datetime.strptime(\"2013-11-09\", \"%Y-%m-%d\")},\n",
    "    {\n",
    "        \"number\" : 1003,\n",
    "        \"last_name\" : \"Everest\",\n",
    "        \"first_name\" : \"Brad\",\n",
    "        \"salary\" : 71000,\n",
    "        \"department\" : \"sales\",\n",
    "        \"hire_date\" :datetime.strptime(\"2017-02-03\", \"%Y-%m-%d\")},\n",
    "    {\n",
    "        \"number\" : 1004,\n",
    "        \"last_name\" : \"Horvath\",\n",
    "        \"first_name\" : \"Jack\",\n",
    "        \"salary\" : 42000,\n",
    "        \"department\" : \"marketing\",\n",
    "        \"hire_date\" :datetime.strptime(\"2017-06-01\", \"%Y-%m-%d\")},\n",
    "]\n",
    "emp.insert_many(emp_list)"
   ]
  },
  {
   "cell_type": "code",
   "execution_count": 59,
   "metadata": {
    "tags": []
   },
   "outputs": [
    {
     "output_type": "stream",
     "name": "stdout",
     "text": "{'number': 1004, 'last_name': 'Horvath', 'first_name': 'Jack', 'salary': 42000, 'department': 'marketing', 'hire_date': datetime.datetime(2017, 6, 1, 0, 0)}\n"
    }
   ],
   "source": [
    "## Find someone whose name have 'a'\n",
    "query = {\"first_name\" : {\"$regex\" : \"a\"}}\n",
    "\n",
    "## Find someone whose name start with 'J'\n",
    "query = {\"first_name\" : {\"$regex\" : \"^J\"}}\n",
    "\n",
    "## Find someone whose name end with 'k'\n",
    "query = {\"first_name\" : {\"$regex\" : \"k$\"}}\n",
    "\n",
    "for employee in emp.find(query, {\"_id\" : 0}):\n",
    "    print(employee)\n"
   ]
  },
  {
   "cell_type": "code",
   "execution_count": 66,
   "metadata": {
    "tags": []
   },
   "outputs": [
    {
     "output_type": "stream",
     "name": "stdout",
     "text": "{'number': 1001, 'last_name': 'Smith', 'first_name': 'John', 'salary': 62000, 'department': 'sales', 'hire_date': datetime.datetime(2016, 1, 2, 0, 0)}\n{'number': 1002, 'last_name': 'Anderson', 'first_name': 'Jane', 'salary': 57500, 'department': 'marketing', 'hire_date': datetime.datetime(2013, 11, 9, 0, 0)}\n"
    }
   ],
   "source": [
    "from datetime import datetime\n",
    "\n",
    "from_dt = datetime.strptime(\"2016-01-01\", '%Y-%m-%d')\n",
    "to_dt = datetime.strptime(\"2017-05-30\", '%Y-%m-%d')\n",
    "\n",
    "query = {\n",
    "    \"hire_date\" : {\"$gte\" : from_dt, \"$lte\" : to_dt}\n",
    "}\n",
    "\n",
    "query = {\n",
    "    \"number\" :{\"$in\" : [1001,1002]}\n",
    "}\n",
    "\n",
    "for employee in emp.find(query , {\"_id\" : 0}):\n",
    "    print(employee)"
   ]
  },
  {
   "cell_type": "code",
   "execution_count": 71,
   "metadata": {
    "tags": []
   },
   "outputs": [
    {
     "output_type": "stream",
     "name": "stdout",
     "text": "{'_id': ObjectId('5f2266606ec8d0487dd681d6'), 'number': 1001, 'last_name': 'Smith', 'first_name': 'John', 'salary': 62000, 'department': 'sales', 'hire_date': datetime.datetime(2016, 1, 2, 0, 0), 'commission': 0}\n{'_id': ObjectId('5f2266606ec8d0487dd681d8'), 'number': 1003, 'last_name': 'Everest', 'first_name': 'Brad', 'salary': 71000, 'department': 'sales', 'hire_date': datetime.datetime(2017, 2, 3, 0, 0), 'commission': 0}\n"
    }
   ],
   "source": [
    "query = {\n",
    "    \"$set\" : {\"department\" : \"sales\"}\n",
    "}\n",
    "emp.update_one({\"number\" : 1001},query)\n",
    "\n",
    "query = {\n",
    "    \"$set\" : {\"commission\" : 0 }\n",
    "}\n",
    "emp.update_many({\"department\" : \"sales\"}, query)\n",
    "\n",
    "for employee in emp.find({\"department\" : \"sales\"}):\n",
    "    print(employee)\n"
   ]
  },
  {
   "cell_type": "code",
   "execution_count": 75,
   "metadata": {
    "tags": []
   },
   "outputs": [
    {
     "output_type": "stream",
     "name": "stdout",
     "text": "{'_id': ObjectId('5f2266606ec8d0487dd681d6'), 'number': 1001, 'last_name': 'Smith', 'first_name': 'John', 'salary': 62000, 'department': 'sales', 'hire_date': datetime.datetime(2016, 1, 2, 0, 0), 'commission': 100}\n{'_id': ObjectId('5f2266606ec8d0487dd681d8'), 'number': 1003, 'last_name': 'Everest', 'first_name': 'Brad', 'salary': 71000, 'department': 'sales', 'hire_date': datetime.datetime(2017, 2, 3, 0, 0), 'commission': 100}\n"
    }
   ],
   "source": [
    "query = {\n",
    "    \"$inc\" : {\"commission\" : 100}\n",
    "}\n",
    "emp.update_many({\"department\" : \"sales\"}, query)\n",
    "for employee in emp.find({\"department\" : \"sales\"}):\n",
    "    print(employee)"
   ]
  },
  {
   "cell_type": "code",
   "execution_count": 91,
   "metadata": {
    "tags": []
   },
   "outputs": [],
   "source": [
    "def prt():\n",
    "    for employee in emp.find({},{\"_id\" : 0}):\n",
    "        print(employee)"
   ]
  },
  {
   "cell_type": "code",
   "execution_count": 92,
   "metadata": {
    "tags": []
   },
   "outputs": [
    {
     "output_type": "stream",
     "name": "stdout",
     "text": "{'number': 1001, 'last_name': 'Smith', 'first_name': 'John', 'salary': 62000, 'department': 'sales', 'hire_date': datetime.datetime(2016, 1, 2, 0, 0), 'commission': 100, 'status': 'A'}\n{'number': 1002, 'last_name': 'Anderson', 'first_name': 'Jane', 'salary': 57500, 'department': 'marketing', 'hire_date': datetime.datetime(2013, 11, 9, 0, 0), 'status': 'A'}\n"
    }
   ],
   "source": [
    "emp.update_many({},{\"$set\" : {\"status\" : \"A\"}})\n",
    "emp.update_many({\"number\" : {\"$in\" : [1003,1004] }},{\"$set\" : {\"status\" : \"B\"}})\n",
    "emp.delete_many({\"status\" : \"B\"})\n",
    "prt()"
   ]
  },
  {
   "cell_type": "code",
   "execution_count": null,
   "metadata": {},
   "outputs": [],
   "source": []
  }
 ]
}