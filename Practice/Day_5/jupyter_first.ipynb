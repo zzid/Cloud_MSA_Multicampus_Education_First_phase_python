{
 "cells": [
  {
   "cell_type": "code",
   "execution_count": null,
   "metadata": {},
   "outputs": [],
   "source": [
    "### 1. NHN News title search\n",
    "* requests, beautifulsoup basic\n",
    "* css selector -> attribute"
   ]
  },
  {
   "cell_type": "code",
   "execution_count": 8,
   "metadata": {},
   "outputs": [],
   "source": [
    "import requests\n",
    "from bs4 import BeautifulSoup\n",
    "from urllib.parse import urljoin"
   ]
  },
  {
   "cell_type": "code",
   "execution_count": 9,
   "metadata": {
    "tags": []
   },
   "outputs": [
    {
     "name": "stdout",
     "output_type": "stream",
     "text": [
      "status code : 200\n",
      "response header : {'date': 'Mon, 20 Jul 2020 07:25:59 GMT', 'cache-control': 'no-cache', 'expires': 'Thu, 01 Jan 1970 00:00:00 GMT', 'set-cookie': 'JSESSIONID=8F2E0B96855B51F41A53B492FF3AE74D; Path=/main; HttpOnly', 'content-language': 'ko-KR', 'vary': 'Accept-Encoding', 'content-encoding': 'gzip', 'transfer-encoding': 'chunked', 'content-type': 'text/html;charset=EUC-KR', 'referrer-policy': 'unsafe-url', 'server': 'nfront'}\n"
     ]
    }
   ],
   "source": [
    "url = 'https://news.naver.com/'\n",
    "response = requests.get(url)\n",
    "print(f'status code : {response.status_code}')\n",
    "print(f'response header : {response.headers}')"
   ]
  },
  {
   "cell_type": "markdown",
   "metadata": {},
   "source": [
    "<pre>\n",
    "http protocol\n",
    "http method (REST)\n",
    "    GET: append to url and send that (less secure)\n",
    "    POST : encapsule with body stream (more secure)\n",
    "    PUT : \n",
    "    DELETE : \n",
    "</pre>\n",
    "'''\n",
    "Cookie & Session\n",
    "    HTTP is connection less\n",
    "    For each client~ \n",
    "    ** HAVE TO DO\n",
    "'''\n",
    "'''\n",
    "CSS Selector\n",
    "\n",
    "    Tag selector            : select the tag with 'tag name'\n",
    "                                soup.select('li')\n",
    "    ID(#) selector          : select the tag with 'id'\n",
    "                                soup.select('#myDiv') \n",
    "    Class(.) selector       : select the tag with 'class'\n",
    "                                soup.select('.myClass')  OR\n",
    "                                soup.select('div.myClass')\n",
    "    Attribute([]) selector   : select the tag with 'attribute'\n",
    "                                soup.select[\"a[href='']\"]\n",
    "                                tag[attr*=\"bar\"] : partially matched\n",
    "                                tag[attr^=\"bar\"] : if start with \"bar\"\n",
    "                                tag[attr$=\"bar\"] : if end with \"bar\"\n",
    "<div id = 'myDiv'>\n",
    "</div>\n",
    "<div class = 'myClass'>\n",
    "</div>\n",
    "<ul>\n",
    "    <li>aaa</li>\n",
    "    <li>bbb</li>\n",
    "</ul>\n",
    "\n",
    "    \n",
    "'''"
   ]
  },
  {
   "cell_type": "code",
   "execution_count": 10,
   "metadata": {
    "tags": []
   },
   "outputs": [
    {
     "name": "stdout",
     "output_type": "stream",
     "text": [
      "文 \"시중자금, 부동산 아닌 증시 튼튼히 하는데…\n",
      "교육부 '폐지 동의'… 대원·영훈국제중 일반중 …\n",
      "\"고마워, 화물\"…대한항공·아시아나 '깜짝 실적'\n",
      "'검언유착 의혹' 구속된 전 채널A 기자 검찰 조사(종합)\n",
      "시속30km 안됐는데…'민식이법' 사망사고 운전자 檢송치에 \"시끌\"\n",
      "'박원순 청문회' 방불…말 아낀 경찰청장 후보자\n",
      "문대통령, 그린벨트 논란 커지자 직접 매듭…공급 대안 모색\n",
      "\n",
      "'적과 내통' 野 박지원 비판에...文 \"매우 부적절, 어떻게 그런 말을'\n",
      "볼턴, 주한미군 철수 반대…\"가까운 동맹을 버리는 일\"(종합)\n",
      "심상정 \"그린벨트로 집값 못 잡아…軍 골프장·용산 기지 활용해야\"\n",
      "\"안 떨어져요, 집값\" 백드롭 세운 통합당, 부동산 '총공세'\n",
      "민주당 \"수신료 인상\", 통합당 \"수신료 지불 가치 있나\"\n",
      "코로나19 여파…해군, 이달부터 시간외수당 대폭 낮춘다\n",
      "\n",
      "신사업 장착한 상장사 '사자'...'개미' 군침\n",
      "\"또 간봤나\"…그린벨트 해제 무산에 주민들 '부글부글'\n",
      "\"문재인 내려와\" 실검 등장… 부동산 조세저항 확산\n",
      "\"간호는 내 삶의 전부\"…아프리카 최빈국서 30년 봉사한 그녀\n",
      "\"파워보드 발열때문에\"…LG전자, 올레드TV 18개 모델 부품 무상교체\n",
      "[한국코퍼레이션㊤] 결국 M&A 매물로…급박한 일정에 의혹\n",
      "\n",
      "경기 안산시, 1단계 반값 등록금 6억여원 지원\n",
      "'서정협 서울시' 앞에 놓인 3중 파고…조사단 난항에 압수수색론, 그린벨트 현안까지\n",
      "이재명, 국회의원 300명에 또 편지 \"고리대금 이자 10% 제한\"\n",
      "‘검·언유착’ 진실 공방에 한동훈 소환 임박…檢, 수사 속도\n",
      "조국 \"허위·과장보도 모두 법적 조치\" 권경애 \"청문회 거짓말 국민 피해는?\"\n",
      "전날 나간 스테이크가 고추장구이로…원주 한 중학교 급식 재활용 논란\n",
      "\n",
      "\"10대도 구찌를 원한다\"…쑥쑥 크는 명품 플랫폼 스타트업 3인방\n",
      "영화관도 드디어 보복관람…5개월 만에 주말 관객 100만 돌파\n",
      "치료약 없는 치매, `방사선`으로 해결 가능할까\n",
      "손목터널증후군, '피부절개' 없는 수술 가능해진다?\n",
      "대한항공, 내달부터 여객기 좌석 떼고 화물 싣는다\n",
      "기아차, 전기차 기반 모빌리티 사업 추진 자회사 설립\n",
      "\n",
      "JP모건 회장의 푸념 \"美경제, 깜깜한 우물 속 같다\"\n",
      "“코로나19가 아이들의 운동을 빼앗아갔다”\n",
      "\"미중 무력충돌 가능성 고조…향후 수개월이 중대 고비\"\n",
      "\"한 번도 좋아한 적 없는 애\" 트럼프, 폭로서 쓴 조카 메리 맹비난\n",
      "\"블랙록, 中증시서 이익 실현…한국투자도 줄여\"-블룸버그\n",
      "600만명 늘어난 美 푸드스탬프 ‘사회안전망vs도덕적 해이’\n",
      "\n",
      "네이버뉴스, 이제 기사 제목 대신 '언론사' 더 강조한다\n",
      "LGD, 중소형 OLED 생산라인 정비…정호영號 사업 재편 본격화\n",
      "SK하이닉스, 반도체 EUV 공정 '가속페달' 밟는다\n",
      "국내 애플 ‘배터리게이트’ 재수사 착수…소비자단체 “환영”\n",
      "KBS수신료 인상 불지핀 한상혁…\"자구노력 전제돼야...\"\n",
      "'갤럭시폴드2' 공개 임박\n",
      "[속보]文대통령 “유동자금 3000조, 부동산 아닌 생산투자로 유입 노력”\n",
      "이재명 '무공천' 소신 발언에 정청래 \"왈가왈부 말길\"·진중권 \"립 서비스?\"\n",
      "[속보]文대통령 \"세수 감소 감수하더라도 개인투자자 의욕 살려야\"\n",
      "문대통령 \"그린벨트, 해제 않고 보존하기로\"(종합)\n",
      "집값대책 분노 폭발···실검 챌린지 이번엔 '문재인 내려와'\n",
      "[단독] 볼턴 \"주한미군 감축하면 독재국가들에 잘못된 메시지\"\n",
      "\"책임일꾼 싹 바꿔라\" 못마땅한 김정은 사진 보란듯 내보낸 北\n",
      "[속보] 문 대통령 “민간 참여하는 ‘뉴딜펀드’ 조성 적극 검토”\n",
      "[속보]文대통령 \"유동자금, 부동산 아닌 생산적 투자로 유입돼야\"\n",
      "그린벨트 논란 종지부…文 \"미래세대 위해 해제않고 보존 결정\"\n",
      "그린벨트 당정청 혼선 1주일만에…침묵 깬 文대통령 \"계속 보존\"\n",
      "\"보험 가입하고 렌터카 빌렸는데…수리비 4200만원 내라?\"\n",
      "[집코노미] 60억 건물 매각한 류승범의 '신통방통 절세법'\n",
      "승객 대신 짐 싣고 매출 ‘훨훨’…대한항공, 여객기 좌석 뜯는다\n",
      "문재인-정세균, 그린벨트 보존 뜻 모았다…\"태릉 골프장 등 활용\"\n",
      "저축은행 정기예금 '문어발 가입' 가능해진다\n",
      "[종합] 文대통령, 그린벨트 해제 ‘백지화’···“미래 위해 보존”\n",
      "[종합] 文대통령, 그린벨트 해제 '백지화'…\"미래 위해 보존\"\n",
      "420억에 강남아파트 통째로 사들인 사모펀드 논란\n",
      "주가 하락에 8000억 베팅…속 타는 개미들\n",
      "'남편이 마약하고 차 몰고 나갔어요'…새벽 45㎞ 추격전\n",
      "[속보] 김창룡 경찰청장 후보자 \"박원순 피소 유출 확인되면 책임지겠다\"\n",
      "5년 뒤엔 누구나 실업급여 받는다\n",
      "\"천륜이기에\"… 한소희는 엄마의 빚에 시달렸다 [전문]\n",
      "'속도 30km 이하지만…' 스쿨존서 두살배기 덮친 50대 '민식이법 적용'\n",
      "거짓말 학원강사에게 왜 그랬느냐고 물었더니\n",
      "'수돗물 유충' 불안 전국 확산…서울·부산·경기 등 신고 속출\n",
      "[속보] 권영진·이철우 \"군위군, 공동후보지 유치 간곡히 호소\"(전문)\n",
      "\"왜 잔소리하냐\" 시어머니 흉기로 찌른 며느리 구속영장\n",
      "\"박원순 피해자, 실습기간 '시보'때 비서실 발령···극히 이례적\"\n",
      "이순신이 관노와 동침? 난중일기 완역자가 답했다\n",
      "“편도수술 받은 6살 아들 싸늘하게…” 암투병 아빠의 호소\n",
      "'할인 논란' 반문한 아우디 사장…\"그래서, 싫어요?\"\n",
      "나영석 신작 ‘여름방학’, 일본게임 표절?…제작진 “전혀 아냐”\n",
      "바닷가 배경에 그림일기...나영석, 日게임 표절 논란\n",
      "\"아들에 드레스 권한 우리 엄마 '네가 이긴다는 걸 보여줘'\"\n",
      "상어 닮은 쌍용차의 첫 전기차…부활 신호탄 될까\n",
      "돈 한 푼 안 들이고 5kg 뺐지만, 더 좋은 것\n",
      "[이래도 되나요] \"25개월 딸 성폭행 당했다\" 청와대 청원 알고보니 거짓말\n",
      "조선 왕 27명도 한번 못본 조선왕조실록, 당신은 볼 수 있다\n",
      "중국, 물 방류 위해 댐 폭파…세계 최대 싼샤댐 아래 지역 대피해야?\n",
      "'부끄러운 아빠' 앤드루 왕자는 딸 결혼식 사진에도 없었다\n",
      "\"미국이 때려도 우릴 동정하는 나라 없다\" 中의 통절한 반성\n",
      "꽃다운 나이에 세상떠난 호주 전 피겨 선수, 유서엔 \"사랑한다\"\n",
      "美영아 무더기 감염, 시체 자리도 없는데···트럼프 \"잘 대응\"\n",
      "착용한 듯 안 한 듯…美 휩쓴 '초현실주의' 마스크\n",
      "日아베의 굴욕…자신이 가장 싫어하는 라이벌에게 지지자들 대거 이동\n",
      "코로나19 확산에도 돈 줄테니 여행 떠나라는 아베, 여론 ‘뭇매’\n",
      "이란 “한국, 원유 대금 안 갚으면 국제 소송할 것”\n",
      "美 연방판사 가족 괴한 총격…아들 사망·남편 중상\n",
      "서정진 셀트리온 회장 \"9월부터 코로나19 치료제 생산 시작\"\n",
      "성공 모델서 실패 사례로…반 토막 난 ‘배달의명수’ [IT선빵!]\n",
      "한상혁 \"공영방송 재원 문제 심각…KBS 수신료 인상에 동의\"\n",
      "보너스 5000만원·한달 휴가…요즘 기업 '그들' 모시기 경쟁\n",
      "서정진 셀트리온 회장 \"이르면 올해 말 코로나19 치료제 출시\"\n",
      "英 기상레이더에 잡힌 거대 그림자, 알고보니 개미떼?!(영상)\n",
      "낙동강에 간질약 떠다닌다.. \"독성 연구 필요\"\n",
      "셀트리온 \"9월 코로나19 항체치료제 생산 시작\"\n",
      "예상 밖 선전 '갤럭시Z플립'\n",
      "[단독]삼성·롯데·현대부터 KISTI까지 국내 290여곳 '정보탈취' 악성코드 감염\n"
     ]
    }
   ],
   "source": [
    "html_doc = response.text #page source code\n",
    "## BeautifulSoup\n",
    "soup = BeautifulSoup(html_doc, 'html.parser')\n",
    "\n",
    "tag_list = soup.select(\"a[href*=read.nhn]\")\n",
    "\n",
    "# for i in tag_list:\n",
    "#     ttl = i.get('title') ## get from bs4\n",
    "#     if ttl is not None: \n",
    "#         print(ttl)\n",
    "# print(\"===========================\")\n",
    "for i in tag_list:\n",
    "    ttl = i.text.strip() # text from bs4\n",
    "    # link = urljoin(url, i['href'])\n",
    "    # print(f'{ttl} \\\"{link}\\\"')\n",
    "    print(ttl)\n"
   ]
  },
  {
   "cell_type": "markdown",
   "metadata": {},
   "source": [
    "### 2. papago API \n",
    "* Code example from Naver"
   ]
  },
  {
   "cell_type": "code",
   "execution_count": 23,
   "metadata": {
    "tags": []
   },
   "outputs": [
    {
     "name": "stdout",
     "output_type": "stream",
     "text": [
      "{\"message\":{\"@type\":\"response\",\"@service\":\"naverservice.nmt.proxy\",\"@version\":\"1.0.0\",\"result\":{\"srcLangType\":\"en\",\"tarLangType\":\"ko\",\"translatedText\":\"왜 그녀가 가야만 했는지 모르겠다, 그녀는 말하지 않을 것이다.\",\"engineType\":\"N2MT\",\"pivot\":null}}}\n"
     ]
    }
   ],
   "source": [
    "import os\n",
    "import sys\n",
    "import urllib.request\n",
    "client_id = \"Zo1vTslyKxKYskf_qfUk\"\n",
    "client_secret = \"X5kGpbWEbv\"\n",
    "encText = urllib.parse.quote(\"Why she had to go, I don't know, she wouldn't say.\")\n",
    "data = \"source=en&target=ko&text=\" + encText\n",
    "url = \"https://openapi.naver.com/v1/papago/n2mt\"\n",
    "request = urllib.request.Request(url)\n",
    "request.add_header(\"X-Naver-Client-Id\",client_id)\n",
    "request.add_header(\"X-Naver-Client-Secret\",client_secret)\n",
    "response = urllib.request.urlopen(request, data=data.encode(\"utf-8\"))\n",
    "rescode = response.getcode()\n",
    "if(rescode==200):\n",
    "    response_body = response.read()\n",
    "    print(response_body.decode('utf-8'))\n",
    "else:\n",
    "    print(\"Error Code:\" + rescode)"
   ]
  },
  {
   "cell_type": "markdown",
   "metadata": {},
   "source": [
    "* Using Requests , JSON"
   ]
  },
  {
   "cell_type": "code",
   "execution_count": 26,
   "metadata": {
    "tags": []
   },
   "outputs": [
    {
     "name": "stdout",
     "output_type": "stream",
     "text": [
      "{\"message\":{\"@type\":\"response\",\"@service\":\"naverservice.nmt.proxy\",\"@version\":\"1.0.0\",\"result\":{\"srcLangType\":\"en\",\"tarLangType\":\"ko\",\"translatedText\":\"왜 그녀가 가야만 했는지 모르겠다, 그녀는 말하지 않을 것이다.\",\"engineType\":\"N2MT\",\"pivot\":null}}}\n"
     ]
    }
   ],
   "source": [
    "import requests\n",
    "client_id = \"Zo1vTslyKxKYskf_qfUk\"\n",
    "client_secret = \"X5kGpbWEbv\"\n",
    "encText = \"Why she had to go, I don't know, she wouldn't say.\"\n",
    "url = \"https://openapi.naver.com/v1/papago/n2mt\"\n",
    "\n",
    "req_headers = {\n",
    "    \"X-Naver-Client-Id\" : client_id,\n",
    "    \"X-Naver-Client-Secret\" : client_secret,\n",
    "}\n",
    "params ={\n",
    "    \"source\" : 'en',\n",
    "    \"target\" : 'ko',\n",
    "    \"text\" : encText,\n",
    "}\n",
    "response = requests.post(url, headers = req_headers, data = params)\n",
    "# print(f'response headers : {response.headers}')\n",
    "# print(f'request headers : {response.request.headers}')\n",
    "# print(f'status cdoe : {response.status_code}')\n",
    "\n",
    "if response.status_code == 200:\n",
    "    print(response.text)\n",
    "else:\n",
    "    print(f'Error Code {response.status_code}')"
   ]
  },
  {
   "cell_type": "code",
   "execution_count": 27,
   "metadata": {
    "tags": []
   },
   "outputs": [
    {
     "name": "stdout",
     "output_type": "stream",
     "text": [
      "왜 그녀가 가야만 했는지 모르겠다, 그녀는 말하지 않을 것이다.\n"
     ]
    }
   ],
   "source": [
    "myjson = response.json()\n",
    "print(myjson['message']['result']['translatedText'])"
   ]
  },
  {
   "cell_type": "code",
   "execution_count": null,
   "metadata": {},
   "outputs": [],
   "source": []
  }
 ],
 "metadata": {
  "kernelspec": {
   "display_name": "Python 3",
   "language": "python",
   "name": "python3"
  },
  "language_info": {
   "codemirror_mode": {
    "name": "ipython",
    "version": 3
   },
   "file_extension": ".py",
   "mimetype": "text/x-python",
   "name": "python",
   "nbconvert_exporter": "python",
   "pygments_lexer": "ipython3",
   "version": 3
  }
 },
 "nbformat": 4,
 "nbformat_minor": 2
}
