{
 "cells": [
  {
   "cell_type": "markdown",
   "metadata": {},
   "source": [
    "## 3. NHN webtoon image download and upload\n",
    "* Set the url to Header name 'Referer'\n",
    "* Using get() function from requests, request the image data\n",
    "* Using response.content property\n",
    "* Store as file in local"
   ]
  },
  {
   "cell_type": "markdown",
   "metadata": {},
   "source": [
    "### 1. Download images"
   ]
  },
  {
   "cell_type": "code",
   "execution_count": null,
   "metadata": {
    "tags": []
   },
   "outputs": [],
   "source": [
    "import requests, os\n",
    "# print(os.getcwd())\n",
    "req_hearder = {\n",
    "    'referer' : 'https://comic.naver.com/webtoon/detail.nhn?titleId=746535&no=3',\n",
    "    # 'referer' is reserved header name!\n",
    "}\n",
    "\n",
    "img_urls =[\n",
    "    'https://image-comic.pstatic.net/webtoon/746535/3/20200720100426_690986752102510f0a4f0c65118d2681_IMAG01_1.jpg',\n",
    "'https://image-comic.pstatic.net/webtoon/746535/3/20200720100426_690986752102510f0a4f0c65118d2681_IMAG01_2.jpg',\n",
    "'https://image-comic.pstatic.net/webtoon/746535/3/20200720100426_690986752102510f0a4f0c65118d2681_IMAG01_3.jpg',\n",
    "\n",
    "]\n",
    "\n",
    "for img_url in img_urls:\n",
    "    res = requests.get(img_url, headers = req_hearder)\n",
    "    # print(res.ok)\n",
    "    # print(res.content)\n",
    "    # print(res.text)\n",
    "    img_data = res.content\n",
    "    file_name = os.path.basename(img_url)\n",
    "    print(file_name)\n",
    "    with open('./img/' + file_name, 'wb') as f:\n",
    "        print(f'Writing image to {file_name} ({len(img_data)} bytes)')\n",
    "        f.write(img_data)\n",
    "\n",
    "\n"
   ]
  },
  {
   "cell_type": "markdown",
   "metadata": {},
   "source": [
    "### 2. Upload images\n",
    "* File upload have to use \"POST\" method"
   ]
  },
  {
   "cell_type": "code",
   "execution_count": null,
   "metadata": {
    "tags": [
     "outputPrepend"
    ]
   },
   "outputs": [],
   "source": [
    "import requests\n",
    "\n",
    "upload_files ={\n",
    "    'img1' : open('./img/20200720100426_690986752102510f0a4f0c65118d2681_IMAG01_1.jpg', 'rb'),\n",
    "    'img2' : open('./img/20200720100426_690986752102510f0a4f0c65118d2681_IMAG01_2.jpg', 'rb'),\n",
    "    'img3' : open('./img/20200720100426_690986752102510f0a4f0c65118d2681_IMAG01_3.jpg', 'rb')\n",
    "}\n",
    "url = 'https://httpbin.org/post'\n",
    "res = requests.post(url, files = upload_files)\n",
    "# print(res.status_code)\n",
    "print(res.json()['files']['img3'])"
   ]
  },
  {
   "cell_type": "code",
   "execution_count": null,
   "metadata": {},
   "outputs": [],
   "source": []
  }
 ],
 "metadata": {
  "kernelspec": {
   "display_name": "Python 3",
   "language": "python",
   "name": "python3"
  },
  "language_info": {
   "codemirror_mode": {
    "name": "ipython",
    "version": 3
   },
   "file_extension": ".py",
   "mimetype": "text/x-python",
   "name": "python",
   "nbconvert_exporter": "python",
   "pygments_lexer": "ipython3",
   "version": 3
  }
 },
 "nbformat": 4,
 "nbformat_minor": 2
}
