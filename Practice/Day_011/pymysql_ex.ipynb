{
 "metadata": {
  "language_info": {
   "codemirror_mode": {
    "name": "ipython",
    "version": 3
   },
   "file_extension": ".py",
   "mimetype": "text/x-python",
   "name": "python",
   "nbconvert_exporter": "python",
   "pygments_lexer": "ipython3",
   "version": 3
  },
  "orig_nbformat": 2,
  "kernelspec": {
   "name": "python_defaultSpec_1595921793120",
   "display_name": "Python 3.7.0 64-bit ('base': conda)"
  }
 },
 "nbformat": 4,
 "nbformat_minor": 2,
 "cells": [
  {
   "cell_type": "markdown",
   "metadata": {},
   "source": [
    "### SQL <-> Programming Langauge connection\n",
    "* Java - JDBC(java database conectivity), MyBatis framework, JPA(Java Persistence API)\n",
    "* Python - pymysql, sqlalchemy dJango, etc\n",
    "\n"
   ]
  },
  {
   "cell_type": "code",
   "execution_count": 12,
   "metadata": {
    "tags": []
   },
   "outputs": [
    {
     "output_type": "stream",
     "name": "stdout",
     "text": "Name: PyMySQL\nVersion: 0.10.0\nSummary: Pure Python MySQL Driver\nHome-page: https://github.com/PyMySQL/PyMySQL/\nAuthor: yutaka.matsubara\nAuthor-email: yutaka.matsubara@gmail.com\nLicense: \"MIT\"\nLocation: c:\\anaconda3\\lib\\site-packages\nRequires: \nRequired-by: \n"
    }
   ],
   "source": [
    "!pip show pymysql"
   ]
  },
  {
   "cell_type": "code",
   "execution_count": 13,
   "metadata": {},
   "outputs": [],
   "source": [
    "import pymysql\n",
    "sql = \"\"\"\n",
    "CREATE TABLE product (\n",
    "id INT UNSIGNED NOT NULL AUTO_INCREMENT,\n",
    "name VARCHAR(20) NOT NULL,\n",
    "model_num VARCHAR(10) NOT NULL,\n",
    "model_type VARCHAR(10) NOT NULL,\n",
    "PRIMARY KEY(id)\n",
    ");\n",
    "\"\"\"\n",
    "db = pymysql.connect(host ='localhost', port = 3306, db ='python_db', user = 'python', passwd = 'python')\n",
    "cursor = db.cursor()\n",
    "cursor.execute('drop table IF EXISTs product;')\n",
    "cursor.execute(sql)\n",
    "db.commit()"
   ]
  },
  {
   "cell_type": "code",
   "execution_count": 14,
   "metadata": {},
   "outputs": [
    {
     "output_type": "execute_result",
     "data": {
      "text/plain": "7"
     },
     "metadata": {},
     "execution_count": 14
    }
   ],
   "source": [
    "cursor.execute('show tables')"
   ]
  },
  {
   "cell_type": "code",
   "execution_count": 15,
   "metadata": {},
   "outputs": [],
   "source": [
    "db.close()"
   ]
  },
  {
   "cell_type": "code",
   "execution_count": 16,
   "metadata": {
    "tags": []
   },
   "outputs": [],
   "source": [
    "import pymysql\n",
    "db = pymysql.connect(host ='localhost', port = 3306, db ='python_db', user = 'python', passwd = 'python')\n",
    "\n",
    "try:\n",
    "    with db.cursor() as cursor:\n",
    "        cursor.execute('drop table product')\n",
    "        cursor.execute(sql)\n",
    "        db.commit()\n",
    "\n",
    "        for num in range(10, 20):\n",
    "            name = 'S20' + str(num)\n",
    "            # ins_sql = 'insert into product (name, model_num, model_type) values(%s, %s, %s)'\n",
    "            # cursor.execute(ins_sql, (name, '7700', 'Phone'))\n",
    "            ins_sql = \"insert into product (name, model_num, model_type) values('\" + name + \"',\" + \"'7700'\" + \",\" + \"'Phone'\" +\")\"\n",
    "            cursor.execute(ins_sql)\n",
    "        db.commit()\n",
    "finally:\n",
    "    db.close()\n"
   ]
  },
  {
   "cell_type": "code",
   "execution_count": 17,
   "metadata": {
    "tags": []
   },
   "outputs": [
    {
     "output_type": "stream",
     "name": "stdout",
     "text": "<class 'tuple'> (3, 'S2012', '7700', 'Phone')\n<class 'tuple'>\n(1, 'S2010', '7700', 'CellPhone')\n(2, 'S2011', '7700', 'CellPhone')\n(3, 'S2012', '7700', 'CellPhone')\n(4, 'S2013', '7700', 'CellPhone')\n(5, 'S2014', '7700', 'CellPhone')\n(6, 'S2015', '7700', 'CellPhone')\n(7, 'S2016', '7700', 'Phone')\n(8, 'S2017', '7700', 'Phone')\n(9, 'S2018', '7700', 'Phone')\n(10, 'S2019', '7700', 'Phone')\n====================================================================================================\n('CellPhone', 6)\n('Phone', 4)\n"
    }
   ],
   "source": [
    "import pymysql\n",
    "db = pymysql.connect(host ='localhost', port = 3306, db ='python_db', user = 'python', passwd = 'python')\n",
    "\n",
    "try:\n",
    "    with db.cursor() as cursor:\n",
    "        cursor.execute('select * from product where id = 3')\n",
    "        result = cursor.fetchone()\n",
    "        print(type(result), result)\n",
    "\n",
    "        upd_sql = \"update product set model_type = '%s' where name between 'S2010' and 'S2015'\"% 'CellPhone'\n",
    "        ## [(query)%something(query)] % [%somthing]\n",
    "\n",
    "        cursor.execute(upd_sql)\n",
    "        db.commit()\n",
    "        \n",
    "        ### model type grouping\n",
    "        grp_sql = \"select model_type, count(*) from product group by model_type\"\n",
    "        cursor.execute(grp_sql)\n",
    "        result_list2 = cursor.fetchall()\n",
    "\n",
    "        cursor.execute('select * from product')\n",
    "        result_list = cursor.fetchall()\n",
    "        print(type(result_list))\n",
    "        for r in result_list:\n",
    "            print(r)\n",
    "        print('=' * 100)\n",
    "        for r in result_list2:\n",
    "            print(r)\n",
    "finally:\n",
    "    db.close()"
   ]
  },
  {
   "cell_type": "code",
   "execution_count": null,
   "metadata": {},
   "outputs": [],
   "source": []
  }
 ]
}