{
 "cells": [
  {
   "cell_type": "code",
   "execution_count": null,
   "metadata": {},
   "outputs": [],
   "source": [
    "import requests\n",
    "from bs4 import BeautifulSoup\n",
    "from urllib.parse import urljoin\n",
    "import os,sys,re\n",
    "from itertools import count\n",
    "from time import sleep\n",
    "\n",
    "def clean_text(text):\n",
    "    text = text.replace(\"\\n\", \"\")\n",
    "    cleaned_text = re.sub('[\\{\\}\\[\\]\\/?.,;:|\\)*~`!^\\-_+<>@\\#$%&\\\\\\=\\(\\'\\\"]','', text)\n",
    "    return cleaned_text\n",
    "\n",
    "def get_podcast_mp3(pod_cast_id):\n",
    "    page_url = \"http://www.podbbang.com/podbbangchnew/episode_list\"\n",
    "\n",
    "    headers ={\n",
    "        'User-Agent': 'Mozilla/5.0 (Windows NT 10.0; Win64; x64) AppleWebKit/537.36 \\\n",
    "            (KHTML, like Gecko) Chrome/65.0.3325.181 Safari/537.36',\n",
    "    }\n",
    "\n",
    "    # for page_id in range(2):\n",
    "    for page_id in count(1):\n",
    "        params_dict ={\n",
    "            'id' : pod_cast_id,\n",
    "            'page' : page_id,\n",
    "        }\n",
    "        res = requests.get(page_url, params = params_dict, headers = headers)\n",
    "        res.encoding = 'utf-8'\n",
    "        # print(res.status_code, res.encoding)\n",
    "        html = res.text\n",
    "        soup = BeautifulSoup(html, 'html.parser')\n",
    " \n",
    "        for li_tag in soup.select('li'):\n",
    "            try:\n",
    "                title = li_tag.find('dt')['title']\n",
    "                if li_tag.find('a'):\n",
    "                    link = urljoin(page_url, li_tag.find('a')['href'])\n",
    "                else:\n",
    "                    link = None\n",
    "                print(title,link)\n",
    "            except(TypeError, KeyError): # if li tag doesn't exist anymore, >> type error\n",
    "                print('End!')\n",
    "                return\n",
    "            else:\n",
    "                req_headers ={\n",
    "                    'Referer' : 'http://www.podbbang.com/ch/' + str(pod_cast_id),\n",
    "                    'User-Agent': 'Mozilla/5.0 (Windows NT 10.0; Win64; x64) AppleWebKit/537.36 \\\n",
    "                        (KHTML, like Gecko) Chrome/65.0.3325.181 Safari/537.36',\n",
    "                }\n",
    "                if link:\n",
    "                    mp3_bin = requests.get(url= link, headers = req_headers).content\n",
    "                    title = clean_text(title)\n",
    "                    file_name = f'{title}.mp3'\n",
    "                    if not os.path.isdir('./mp3'):\n",
    "                        os.mkdir('./mp3')\n",
    "                    with open('./mp3/' + file_name, 'wb') as f:\n",
    "                        f.write(mp3_bin)\n",
    "                sleep(1) # sleep for a one second"
   ]
  },
  {
   "cell_type": "code",
   "execution_count": null,
   "metadata": {
    "tags": []
   },
   "outputs": [],
   "source": [
    "get_podcast_mp3(1773764)"
   ]
  }
 ],
 "metadata": {
  "kernelspec": {
   "display_name": "Python 3",
   "language": "python",
   "name": "python3"
  },
  "language_info": {
   "codemirror_mode": {
    "name": "ipython",
    "version": 3
   },
   "file_extension": ".py",
   "mimetype": "text/x-python",
   "name": "python",
   "nbconvert_exporter": "python",
   "pygments_lexer": "ipython3",
   "version": "3.7.0"
  }
 },
 "nbformat": 4,
 "nbformat_minor": 2
}