{
 "metadata": {
  "language_info": {
   "codemirror_mode": {
    "name": "ipython",
    "version": 3
   },
   "file_extension": ".py",
   "mimetype": "text/x-python",
   "name": "python",
   "nbconvert_exporter": "python",
   "pygments_lexer": "ipython3",
   "version": 3
  },
  "orig_nbformat": 2,
  "kernelspec": {
   "name": "python_defaultSpec_1595555002570",
   "display_name": "Python 3.7.0 64-bit ('base': conda)"
  }
 },
 "nbformat": 4,
 "nbformat_minor": 2,
 "cells": [
  {
   "cell_type": "markdown",
   "metadata": {},
   "source": [
    "## Melon music data scraping from web\n",
    "* 1. Scrap the title and id of 100 songs\n",
    "* 2. Request 100 times(for each detail pages) >> get detail info\n",
    "* 3. Store that to pandas data frame\n",
    "* 4. and store that to DB as well (song table)"
   ]
  },
  {
   "cell_type": "code",
   "execution_count": 114,
   "metadata": {
    "tags": []
   },
   "outputs": [
    {
     "output_type": "stream",
     "name": "stdout",
     "text": "https://www.melon.com/song/detail.htm?songId=32790516\nhttps://www.melon.com/song/detail.htm?songId=32725013\nhttps://www.melon.com/song/detail.htm?songId=32720013\nhttps://www.melon.com/song/detail.htm?songId=32734372\nhttps://www.melon.com/song/detail.htm?songId=32768945\nhttps://www.melon.com/song/detail.htm?songId=30773554\nhttps://www.melon.com/song/detail.htm?songId=32808616\nhttps://www.melon.com/song/detail.htm?songId=32578498\nhttps://www.melon.com/song/detail.htm?songId=32725022\nhttps://www.melon.com/song/detail.htm?songId=32491274\nhttps://www.melon.com/song/detail.htm?songId=32559781\nhttps://www.melon.com/song/detail.htm?songId=32614125\nhttps://www.melon.com/song/detail.htm?songId=32559782\nhttps://www.melon.com/song/detail.htm?songId=32698765\nhttps://www.melon.com/song/detail.htm?songId=31979846\nhttps://www.melon.com/song/detail.htm?songId=32055419\nhttps://www.melon.com/song/detail.htm?songId=32438894\nhttps://www.melon.com/song/detail.htm?songId=32224272\nhttps://www.melon.com/song/detail.htm?songId=32636656\nhttps://www.melon.com/song/detail.htm?songId=32137576\nhttps://www.melon.com/song/detail.htm?songId=32748910\nhttps://www.melon.com/song/detail.htm?songId=32003395\nhttps://www.melon.com/song/detail.htm?songId=32313543\nhttps://www.melon.com/song/detail.htm?songId=32183386\nhttps://www.melon.com/song/detail.htm?songId=32486613\nhttps://www.melon.com/song/detail.htm?songId=32583036\nhttps://www.melon.com/song/detail.htm?songId=32473998\nhttps://www.melon.com/song/detail.htm?songId=32749031\nhttps://www.melon.com/song/detail.htm?songId=32345931\nhttps://www.melon.com/song/detail.htm?songId=32061975\nhttps://www.melon.com/song/detail.htm?songId=32156286\nhttps://www.melon.com/song/detail.htm?songId=31029291\nhttps://www.melon.com/song/detail.htm?songId=32378104\nhttps://www.melon.com/song/detail.htm?songId=31853557\nhttps://www.melon.com/song/detail.htm?songId=32646938\nhttps://www.melon.com/song/detail.htm?songId=30962526\nhttps://www.melon.com/song/detail.htm?songId=31737197\nhttps://www.melon.com/song/detail.htm?songId=32399830\nhttps://www.melon.com/song/detail.htm?songId=32273582\nhttps://www.melon.com/song/detail.htm?songId=32651098\nhttps://www.melon.com/song/detail.htm?songId=32508146\nhttps://www.melon.com/song/detail.htm?songId=32631950\nhttps://www.melon.com/song/detail.htm?songId=32122539\nhttps://www.melon.com/song/detail.htm?songId=32681306\nhttps://www.melon.com/song/detail.htm?songId=31341518\nhttps://www.melon.com/song/detail.htm?songId=32508053\nhttps://www.melon.com/song/detail.htm?songId=32528369\nhttps://www.melon.com/song/detail.htm?songId=31984204\nhttps://www.melon.com/song/detail.htm?songId=32187544\nhttps://www.melon.com/song/detail.htm?songId=32377231\nhttps://www.melon.com/song/detail.htm?songId=8235260\nhttps://www.melon.com/song/detail.htm?songId=32650659\nhttps://www.melon.com/song/detail.htm?songId=32697987\nhttps://www.melon.com/song/detail.htm?songId=32734819\nhttps://www.melon.com/song/detail.htm?songId=32361098\nhttps://www.melon.com/song/detail.htm?songId=32616054\nhttps://www.melon.com/song/detail.htm?songId=32794652\nhttps://www.melon.com/song/detail.htm?songId=32521396\nhttps://www.melon.com/song/detail.htm?songId=32561690\nhttps://www.melon.com/song/detail.htm?songId=32381408\nhttps://www.melon.com/song/detail.htm?songId=32764095\nhttps://www.melon.com/song/detail.htm?songId=32224409\nhttps://www.melon.com/song/detail.htm?songId=32143487\nhttps://www.melon.com/song/detail.htm?songId=32803600\nhttps://www.melon.com/song/detail.htm?songId=32298623\nhttps://www.melon.com/song/detail.htm?songId=32769272\nhttps://www.melon.com/song/detail.htm?songId=32620700\nhttps://www.melon.com/song/detail.htm?songId=30244931\nhttps://www.melon.com/song/detail.htm?songId=32777625\nhttps://www.melon.com/song/detail.htm?songId=32445339\nhttps://www.melon.com/song/detail.htm?songId=31768993\nhttps://www.melon.com/song/detail.htm?songId=32777869\nhttps://www.melon.com/song/detail.htm?songId=32399832\nhttps://www.melon.com/song/detail.htm?songId=30492279\nhttps://www.melon.com/song/detail.htm?songId=32323969\nhttps://www.melon.com/song/detail.htm?songId=32808342\nhttps://www.melon.com/song/detail.htm?songId=31388145\nhttps://www.melon.com/song/detail.htm?songId=32397381\nhttps://www.melon.com/song/detail.htm?songId=31701428\nhttps://www.melon.com/song/detail.htm?songId=32778837\nhttps://www.melon.com/song/detail.htm?songId=32584913\nhttps://www.melon.com/song/detail.htm?songId=32373713\nhttps://www.melon.com/song/detail.htm?songId=32399834\nhttps://www.melon.com/song/detail.htm?songId=32175937\nhttps://www.melon.com/song/detail.htm?songId=32738672\nhttps://www.melon.com/song/detail.htm?songId=31703498\nhttps://www.melon.com/song/detail.htm?songId=32457751\nhttps://www.melon.com/song/detail.htm?songId=31509376\nhttps://www.melon.com/song/detail.htm?songId=32772984\nhttps://www.melon.com/song/detail.htm?songId=32323330\nhttps://www.melon.com/song/detail.htm?songId=32059630\nhttps://www.melon.com/song/detail.htm?songId=32399827\nhttps://www.melon.com/song/detail.htm?songId=32034629\nhttps://www.melon.com/song/detail.htm?songId=31873020\nhttps://www.melon.com/song/detail.htm?songId=32550314\nhttps://www.melon.com/song/detail.htm?songId=32399835\nhttps://www.melon.com/song/detail.htm?songId=32572926\nhttps://www.melon.com/song/detail.htm?songId=32763382\nhttps://www.melon.com/song/detail.htm?songId=31368699\nhttps://www.melon.com/song/detail.htm?songId=32556676\n"
    }
   ],
   "source": [
    "import requests, re\n",
    "import pandas as pd\n",
    "import numpy as np\n",
    "from bs4 import BeautifulSoup\n",
    "# https://www.melon.com/album/detail.htm?albumId=10462799\n",
    "# >>\n",
    "# songId = 32790516\n",
    "# >>\n",
    "# https://www.melon.com/song/detail.htm?songId=32790516\n",
    "url = 'https://www.melon.com/chart/index.htm'\n",
    "req_header = {\n",
    "    'User-Agent' : 'Mozilla/5.0 (Windows NT 10.0; Win64; x64) AppleWebKit/537.36 (KHTML, like Gecko) Chrome/83.0.4103.116 Safari/537.36',\n",
    "}\n",
    "html = requests.get(url, headers = req_header).text\n",
    "# print(html)\n",
    "soup = BeautifulSoup(html, 'html.parser')\n",
    "soup.select(\"tbody tr td a\")\n",
    "# for body in soup.find_all('tbody'):\n",
    "#     for tr in body.find_all(\"tr\"):\n",
    "#         for td in tr.find_all('td'):\n",
    "#             for a in td.find_all('a'):\n",
    "#                 print(a.string)\n",
    "#                 # print(a_title)\n",
    "\n",
    "# print(len(soup.select('#tb_list')))\n",
    "# print(len(soup.select(\"#tb_list tr div.wrap_song_info a[href*='playSong']\")))\n",
    "links = []\n",
    "for songs in soup.select(\"#tb_list tr div.wrap_song_info a[href*='playSong']\"):\n",
    "    links.append({\n",
    "        'title': songs.string,\n",
    "        'url' : \"https://www.melon.com/song/detail.htm?songId=\" + songs['href'][42:-2],\n",
    "    })\n",
    "    ## or use RE\n",
    "    # href = songs['href']\n",
    "    # matched = re.search(r\"(\\d+)\\)\",href)\n",
    "    # print(matched.group(1))\n",
    "# print(links)\n",
    "song_lyric_lists = []\n",
    "song_lyric_dict = {}\n",
    "for link in links:\n",
    "    html = requests.get(link['url'], headers= req_header).text\n",
    "    soup = BeautifulSoup(html, 'html.parser')\n",
    "    song_lyric_dict['곡명'] = song['title']\n",
    "    song_lyric_dict['가수'] = soup.select('a[href*=\".goArtistDetail\"] span')[0].text\n",
    "    song_lyric_dict['앨범'] = soup.select('div.meta dd')[0].text\n",
    "    song_lyric_dict['발매일'] = soup.select('div.meta dd')[1].text\n",
    "    song_lyric_dict['장르'] = soup.select('div.meta dd')[2].text\n",
    "    #song_lyric_dict['좋아요'] = soup.select('span#d_like_count')[0].text\n",
    "    lyric = soup.select('div#d_video_summary')[0].text\n",
    "    regex = re.compile(r'[\\n\\r\\t]')\n",
    "    song_lyric_dict['가사'] = regex.sub('', lyric.strip())\n",
    "    song_lyric_lists.append(song_lyric_dict)\n",
    "    #print(song_lyric_dict)\n",
    "    song_lyric_dict = {}\n",
    "print(len(song_lyric_lists))\n"
   ]
  },
  {
   "cell_type": "code",
   "execution_count": 115,
   "metadata": {},
   "outputs": [
    {
     "output_type": "error",
     "ename": "NameError",
     "evalue": "name 'song_detail_lists' is not defined",
     "traceback": [
      "\u001b[1;31m---------------------------------------------------------------------------\u001b[0m",
      "\u001b[1;31mNameError\u001b[0m                                 Traceback (most recent call last)",
      "\u001b[1;32m<ipython-input-115-fdd4cd94a8eb>\u001b[0m in \u001b[0;36m<module>\u001b[1;34m\u001b[0m\n\u001b[0;32m      2\u001b[0m \u001b[0msong_lyric_lists\u001b[0m \u001b[1;33m=\u001b[0m \u001b[1;33m[\u001b[0m\u001b[1;33m]\u001b[0m\u001b[1;33m\u001b[0m\u001b[0m\n\u001b[0;32m      3\u001b[0m \u001b[0msong_lyric_dict\u001b[0m \u001b[1;33m=\u001b[0m \u001b[1;33m{\u001b[0m\u001b[1;33m}\u001b[0m\u001b[1;33m\u001b[0m\u001b[0m\n\u001b[1;32m----> 4\u001b[1;33m \u001b[1;32mfor\u001b[0m \u001b[0msong\u001b[0m \u001b[1;32min\u001b[0m \u001b[0msong_detail_lists\u001b[0m\u001b[1;33m:\u001b[0m\u001b[1;33m\u001b[0m\u001b[0m\n\u001b[0m\u001b[0;32m      5\u001b[0m     \u001b[0mhtml\u001b[0m \u001b[1;33m=\u001b[0m \u001b[0mrequests\u001b[0m\u001b[1;33m.\u001b[0m\u001b[0mget\u001b[0m\u001b[1;33m(\u001b[0m\u001b[0msong\u001b[0m\u001b[1;33m[\u001b[0m\u001b[1;34m'url'\u001b[0m\u001b[1;33m]\u001b[0m\u001b[1;33m,\u001b[0m \u001b[0mheaders\u001b[0m\u001b[1;33m=\u001b[0m\u001b[0mheaders\u001b[0m\u001b[1;33m)\u001b[0m\u001b[1;33m.\u001b[0m\u001b[0mtext\u001b[0m\u001b[1;33m\u001b[0m\u001b[0m\n\u001b[0;32m      6\u001b[0m     \u001b[0msoup\u001b[0m \u001b[1;33m=\u001b[0m \u001b[0mBeautifulSoup\u001b[0m\u001b[1;33m(\u001b[0m\u001b[0mhtml\u001b[0m\u001b[1;33m,\u001b[0m\u001b[1;34m'html.parser'\u001b[0m\u001b[1;33m)\u001b[0m\u001b[1;33m\u001b[0m\u001b[0m\n",
      "\u001b[1;31mNameError\u001b[0m: name 'song_detail_lists' is not defined"
     ]
    }
   ],
   "source": [
    "import re\n",
    "song_lyric_lists = []\n",
    "song_lyric_dict = {}\n",
    "for song in song_detail_lists:\n",
    "    html = requests.get(song['url'], headers=headers).text\n",
    "    soup = BeautifulSoup(html,'html.parser')\n",
    "    song_lyric_dict['곡명'] = song['title']\n",
    "    song_lyric_dict['가수'] = soup.select('a[href*=\".goArtistDetail\"] span')[0].text\n",
    "    song_lyric_dict['앨범'] = soup.select('div.meta dd')[0].text\n",
    "    song_lyric_dict['발매일'] = soup.select('div.meta dd')[1].text\n",
    "    song_lyric_dict['장르'] = soup.select('div.meta dd')[2].text\n",
    "    #song_lyric_dict['좋아요'] = soup.select('span#d_like_count')[0].text\n",
    "    lyric = soup.select('div#d_video_summary')[0].text\n",
    "    regex = re.compile(r'[\\n\\r\\t]')\n",
    "    song_lyric_dict['가사'] = regex.sub('', lyric.strip())\n",
    "    song_lyric_lists.append(song_lyric_dict)\n",
    "    #print(song_lyric_dict)\n",
    "    song_lyric_dict = {}\n",
    "print(len(song_lyric_lists))"
   ]
  },
  {
   "cell_type": "code",
   "execution_count": null,
   "metadata": {},
   "outputs": [],
   "source": []
  }
 ]
}