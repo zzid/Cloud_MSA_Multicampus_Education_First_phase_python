{
 "metadata": {
  "language_info": {
   "codemirror_mode": {
    "name": "ipython",
    "version": 3
   },
   "file_extension": ".py",
   "mimetype": "text/x-python",
   "name": "python",
   "nbconvert_exporter": "python",
   "pygments_lexer": "ipython3",
   "version": 3
  },
  "orig_nbformat": 2,
  "kernelspec": {
   "name": "python_defaultSpec_1595580636264",
   "display_name": "Python 3.7.0 64-bit ('base': conda)"
  }
 },
 "nbformat": 4,
 "nbformat_minor": 2,
 "cells": [
  {
   "cell_type": "markdown",
   "metadata": {},
   "source": [
    "## Ajax\n",
    "* Asynchrounous Javascript And Xml\n",
    "* With using ajax, html doesn't contain whole tags and more things\n",
    "* JS gonna render\n",
    "* JS gonna append and insert the tags \n",
    "* These make user can use the web before whole rending >> fast\n",
    "\n",
    "### Congressman data web scraping\n",
    "<pre>    \n",
    "    Scrap the data\n",
    "->  Store to pandas dataframe\n",
    "->  Plotting(bar plot, histogram, pychart)\n",
    "->  Store to DB\n",
    "</pre>\n"
   ]
  },
  {
   "cell_type": "code",
   "execution_count": 2,
   "metadata": {},
   "outputs": [],
   "source": [
    "# https://www.assembly.go.kr/assm/memact/congressman/memCond/memCondListAjax.do\n",
    "\n",
    "\n",
    "### Developer tool >> Network tap >> .do file >> form data !! ############\n",
    "\n",
    "# currentPage: 13\n",
    "# currentPage: 7\n",
    "# rowPerPage: 6\n",
    "#  ...\n",
    "##########################################################################\n",
    "\n",
    "### >> query! :: ?currentPage=1&rowPerPage=300 (300 rows!)\n",
    "# https://www.assembly.go.kr/assm/memact/congressman/memCond/memCondListAjax.do?currentPage=1&rowPerPage=300"
   ]
  },
  {
   "cell_type": "code",
   "execution_count": 3,
   "metadata": {
    "tags": []
   },
   "outputs": [
    {
     "output_type": "stream",
     "name": "stdout",
     "text": "강기윤's information has appended\n강대식's information has appended\n강득구's information has appended\n강민국's information has appended\n강민정's information has appended\n강병원's information has appended\n강선우's information has appended\n강은미's information has appended\n강준현's information has appended\n강훈식's information has appended\n고민정's information has appended\n고영인's information has appended\n고용진's information has appended\n곽상도's information has appended\n구자근's information has appended\n권명호's information has appended\n권성동's information has appended\n권영세's information has appended\n권은희's information has appended\n권인숙's information has appended\n권칠승's information has appended\n기동민's information has appended\n김경만's information has appended\n김경협's information has appended\n김교흥's information has appended\n김기현's information has appended\n김남국's information has appended\n김도읍's information has appended\n김두관's information has appended\n김미애's information has appended\n김민기's information has appended\n김민석's information has appended\n김민철's information has appended\n김병기's information has appended\n김병욱's information has appended\n김병욱's information has appended\n김병주's information has appended\n김상훈's information has appended\n김상희's information has appended\n김석기's information has appended\n김선교's information has appended\n김성원's information has appended\n김성주's information has appended\n김성환's information has appended\n김수흥's information has appended\n김승남's information has appended\n김승수's information has appended\n김승원's information has appended\n김영배's information has appended\n김영식's information has appended\n김영주's information has appended\n김영진's information has appended\n김영호's information has appended\n김예지's information has appended\n김용민's information has appended\n김용판's information has appended\n김웅's information has appended\n김원이's information has appended\n김윤덕's information has appended\n김은혜's information has appended\n김정재's information has appended\n김정호's information has appended\n김종민's information has appended\n김주영's information has appended\n김진애's information has appended\n김진표's information has appended\n김철민's information has appended\n김태년's information has appended\n김태호's information has appended\n김태흠's information has appended\n김한정's information has appended\n김형동's information has appended\n김홍걸's information has appended\n김회재's information has appended\n김희곤's information has appended\n김희국's information has appended\n남인순's information has appended\n노웅래's information has appended\n도종환's information has appended\n류성걸's information has appended\n류호정's information has appended\n맹성규's information has appended\n문정복's information has appended\n문진석's information has appended\n민병덕's information has appended\n민형배's information has appended\n민홍철's information has appended\n박광온's information has appended\n박대수's information has appended\n박대출's information has appended\n박덕흠's information has appended\n박범계's information has appended\n박병석's information has appended\n박상혁's information has appended\n박성민's information has appended\n박성준's information has appended\n박성중's information has appended\n박수영's information has appended\n박영순's information has appended\n박완수's information has appended\n박완주's information has appended\n박용진's information has appended\n박재호's information has appended\n박정's information has appended\n박주민's information has appended\n박진's information has appended\n박찬대's information has appended\n박형수's information has appended\n박홍근's information has appended\n배준영's information has appended\n배진교's information has appended\n배현진's information has appended\n백종헌's information has appended\n백혜련's information has appended\n변재일's information has appended\n서동용's information has appended\n서범수's information has appended\n서병수's information has appended\n서삼석's information has appended\n서영교's information has appended\n서영석's information has appended\n서일준's information has appended\n서정숙's information has appended\n설훈's information has appended\n성일종's information has appended\n소병철's information has appended\n소병훈's information has appended\n송갑석's information has appended\n송기헌's information has appended\n송석준's information has appended\n송언석's information has appended\n송영길's information has appended\n송옥주's information has appended\n송재호's information has appended\n신동근's information has appended\n신영대's information has appended\n신원식's information has appended\n신정훈's information has appended\n신현영's information has appended\n심상정's information has appended\n안규백's information has appended\n안민석's information has appended\n안병길's information has appended\n안호영's information has appended\n양경숙's information has appended\n양금희's information has appended\n양기대's information has appended\n양이원영's information has appended\n양정숙's information has appended\n양향자's information has appended\n어기구's information has appended\n엄태영's information has appended\n오기형's information has appended\n오영환's information has appended\n오영훈's information has appended\n용혜인's information has appended\n우상호's information has appended\n우원식's information has appended\n위성곤's information has appended\n유경준's information has appended\n유기홍's information has appended\n유동수's information has appended\n유상범's information has appended\n유의동's information has appended\n유정주's information has appended\n윤건영's information has appended\n윤관석's information has appended\n윤두현's information has appended\n윤미향's information has appended\n윤상현's information has appended\n윤영덕's information has appended\n윤영석's information has appended\n윤영찬's information has appended\n윤재갑's information has appended\n윤재옥's information has appended\n윤주경's information has appended\n윤준병's information has appended\n윤창현's information has appended\n윤한홍's information has appended\n윤호중's information has appended\n윤후덕's information has appended\n윤희숙's information has appended\n이개호's information has appended\n이광재's information has appended\n이규민's information has appended\n이낙연's information has appended\n이달곤's information has appended\n이동주's information has appended\n이만희's information has appended\n이명수's information has appended\n이병훈's information has appended\n이상민's information has appended\n이상직's information has appended\n이상헌's information has appended\n이성만's information has appended\n이소영's information has appended\n이수진's information has appended\n이수진's information has appended\n이양수's information has appended\n이영's information has appended\n이용's information has appended\n이용빈's information has appended\n이용선's information has appended\n이용우's information has appended\n이용호's information has appended\n이원욱's information has appended\n이원택's information has appended\n이은주's information has appended\n이인영's information has appended\n이장섭's information has appended\n이재정's information has appended\n이정문's information has appended\n이종배's information has appended\n이종성's information has appended\n이주환's information has appended\n이채익's information has appended\n이철규's information has appended\n이탄희's information has appended\n이태규's information has appended\n이학영's information has appended\n이해식's information has appended\n이헌승's information has appended\n이형석's information has appended\n인재근's information has appended\n임오경's information has appended\n임이자's information has appended\n임종성's information has appended\n임호선's information has appended\n장경태's information has appended\n장제원's information has appended\n장철민's information has appended\n장혜영's information has appended\n전봉민's information has appended\n전용기's information has appended\n전재수's information has appended\n전주혜's information has appended\n전해철's information has appended\n전혜숙's information has appended\n정경희's information has appended\n정동만's information has appended\n정성호's information has appended\n정운천's information has appended\n정일영's information has appended\n정점식's information has appended\n정정순's information has appended\n정진석's information has appended\n정찬민's information has appended\n정청래's information has appended\n정춘숙's information has appended\n정태호's information has appended\n정필모's information has appended\n정희용's information has appended\n조경태's information has appended\n조명희's information has appended\n조수진's information has appended\n조승래's information has appended\n조오섭's information has appended\n조응천's information has appended\n조정식's information has appended\n조정훈's information has appended\n조태용's information has appended\n조해진's information has appended\n주철현's information has appended\n주호영's information has appended\n지성호's information has appended\n진선미's information has appended\n진성준's information has appended\n천준호's information has appended\n최강욱's information has appended\n최기상's information has appended\n최승재's information has appended\n최연숙's information has appended\n최인호's information has appended\n최종윤's information has appended\n최춘식's information has appended\n최형두's information has appended\n최혜영's information has appended\n추경호's information has appended\n태영호's information has appended\n하영제's information has appended\n하태경's information has appended\n한기호's information has appended\n한무경's information has appended\n한병도's information has appended\n한정애's information has appended\n한준호's information has appended\n허영's information has appended\n허은아's information has appended\n허종식's information has appended\n홍기원's information has appended\n홍문표's information has appended\n홍석준's information has appended\n홍성국's information has appended\n홍영표's information has appended\n홍익표's information has appended\n홍정민's information has appended\n홍준표's information has appended\n황보승희's information has appended\n황운하's information has appended\n황희's information has appended\nFinished!\n"
    }
   ],
   "source": [
    "import pandas as pd\n",
    "import numpy as np\n",
    "from bs4 import BeautifulSoup\n",
    "import requests,re\n",
    "from urllib.parse import urljoin\n",
    "\n",
    "def cleaning_str(some_str):\n",
    "    regex = re.compile(r'[\\n\\r\\t]')\n",
    "    result = regex.sub('',some_str)\n",
    "    return result.strip().replace(' ' ,'')\n",
    "\n",
    "url = 'https://www.assembly.go.kr/assm/memact/congressman/memCond/memCondListAjax.do?currentPage=1&rowPerPage=300'\n",
    "html = requests.get(url).text\n",
    "soup = BeautifulSoup(html, 'html.parser')\n",
    "\n",
    "men_list = soup.select('.memberna_list dl dt a')\n",
    "# print(len(men_list))\n",
    "men_dicts = []\n",
    "for men in men_list:\n",
    "    name = men.string\n",
    "    matched = re.search(r\"(\\d+)\", men['href'])\n",
    "    link = f\"https://www.assembly.go.kr/assm/memPop/memPopup.do?dept_cd={matched.group(0)}\"\n",
    "    # print(f'{name} {link}')\n",
    "    men_dicts.append({\n",
    "        'name' : name,\n",
    "        'link' : link,\n",
    "    })\n",
    "congressman = []\n",
    "for link in men_dicts:\n",
    "    html = requests.get(link['link']).text\n",
    "    soup = BeautifulSoup(html, 'html.parser')\n",
    "    # print(link['name'], end = ' ')\n",
    "    birth_day = ''\n",
    "    img_url =''\n",
    "    party = ''\n",
    "    elec = ''\n",
    "    dt = []\n",
    "    dd = []\n",
    "    for i in soup.select('.pro_detail dd'): ## data\n",
    "        if i.string is None:\n",
    "            dd.append(\"NULL\")\n",
    "        else:\n",
    "            dd.append(cleaning_str(i.string)) #\n",
    "    for i in soup.select('.pro_detail dt'): ## title \n",
    "        dt.append(i.string)\n",
    "    congressman_dict = dict(zip(dt,dd))\n",
    "    for i in soup.select('.profile'):\n",
    "        congressman_dict['이름'] = link['name']\n",
    "        congressman_dict['생년월일'] = i.select_one('li:nth-of-type(4)').string\n",
    "        congressman_dict['image'] = urljoin(link['link'], i.select_one(\"img\")['src'])\n",
    "\n",
    "    congressman.append(congressman_dict)\n",
    "    print(f'{link[\"name\"]}\\'s information has appended')\n",
    "print('Finished!')\n",
    "    # print(congressman_dict)\n",
    "# data = pd.DataFrame.from_dict(congressman)\n",
    "# data"
   ]
  },
  {
   "cell_type": "code",
   "execution_count": 4,
   "metadata": {
    "tags": []
   },
   "outputs": [
    {
     "output_type": "execute_result",
     "data": {
      "text/plain": "1      1960-06-04\n2      1959-11-02\n3      1963-05-27\n4      1971-03-03\n5      1961-04-26\n          ...    \n296    1978-11-24\n297    1954-12-05\n298    1976-08-05\n299    1962-09-10\n300    1967-07-28\nName: 생년월일, Length: 300, dtype: object"
     },
     "metadata": {},
     "execution_count": 4
    }
   ],
   "source": [
    "data = pd.DataFrame.from_dict(congressman)\n",
    "data.index = np.arange(1, len(data)+1)\n",
    "# data.ignore_index()\n",
    "# spe = data['취미, 특기'] != 'NULL'\n",
    "# data.loc[spe,:]\n",
    "# data.shape\n",
    "# data['정당'].unique()\n",
    "data['정당'].value_counts()\n",
    "data['선거구'].value_counts()\n",
    "data['당선횟수'].value_counts()\n",
    "# data['소속위원회'].value_counts()\n",
    "# data.info()\n",
    "data['소속위원회'].value_counts()\n",
    "# data.info()\n",
    "data['생년월일']"
   ]
  },
  {
   "cell_type": "code",
   "execution_count": 5,
   "metadata": {
    "tags": []
   },
   "outputs": [
    {
     "output_type": "stream",
     "name": "stdout",
     "text": "초선    151\n재선     74\n3선     42\n4선     19\n5선     13\n6선      1\nName: 당선횟수, dtype: int64\n"
    },
    {
     "output_type": "execute_result",
     "data": {
      "text/plain": "     이름   정당\n93  박병석  무소속",
      "text/html": "<div>\n<style scoped>\n    .dataframe tbody tr th:only-of-type {\n        vertical-align: middle;\n    }\n\n    .dataframe tbody tr th {\n        vertical-align: top;\n    }\n\n    .dataframe thead th {\n        text-align: right;\n    }\n</style>\n<table border=\"1\" class=\"dataframe\">\n  <thead>\n    <tr style=\"text-align: right;\">\n      <th></th>\n      <th>이름</th>\n      <th>정당</th>\n    </tr>\n  </thead>\n  <tbody>\n    <tr>\n      <th>93</th>\n      <td>박병석</td>\n      <td>무소속</td>\n    </tr>\n  </tbody>\n</table>\n</div>"
     },
     "metadata": {},
     "execution_count": 5
    }
   ],
   "source": [
    "data['당선횟수'] = data['당선횟수'].str[:2] ### Series object to string >> this makes can sliciing\n",
    "# data['당선횟수'] = elec[:2]\n",
    "# data['당선횟수']\n",
    "print(data['당선횟수'].value_counts())\n",
    "data.loc[data['당선횟수'] == '6선',['이름','정당']]"
   ]
  },
  {
   "cell_type": "code",
   "execution_count": 26,
   "metadata": {
    "tags": []
   },
   "outputs": [
    {
     "output_type": "stream",
     "name": "stdout",
     "text": "81    류호정\nName: 이름, dtype: object\n====================================================================================================\n66     김진표\n291    홍문표\nName: 이름, dtype: object\n"
    },
    {
     "output_type": "execute_result",
     "data": {
      "text/plain": "     year  month  day\n1    1960      6    4\n2    1959     11    2\n3    1963      5   27\n4    1971      3    3\n5    1961      4   26\n..    ...    ...  ...\n296  1978     11   24\n297  1954     12    5\n298  1976      8    5\n299  1962      9   10\n300  1967      7   28\n\n[300 rows x 3 columns]",
      "text/html": "<div>\n<style scoped>\n    .dataframe tbody tr th:only-of-type {\n        vertical-align: middle;\n    }\n\n    .dataframe tbody tr th {\n        vertical-align: top;\n    }\n\n    .dataframe thead th {\n        text-align: right;\n    }\n</style>\n<table border=\"1\" class=\"dataframe\">\n  <thead>\n    <tr style=\"text-align: right;\">\n      <th></th>\n      <th>year</th>\n      <th>month</th>\n      <th>day</th>\n    </tr>\n  </thead>\n  <tbody>\n    <tr>\n      <th>1</th>\n      <td>1960</td>\n      <td>6</td>\n      <td>4</td>\n    </tr>\n    <tr>\n      <th>2</th>\n      <td>1959</td>\n      <td>11</td>\n      <td>2</td>\n    </tr>\n    <tr>\n      <th>3</th>\n      <td>1963</td>\n      <td>5</td>\n      <td>27</td>\n    </tr>\n    <tr>\n      <th>4</th>\n      <td>1971</td>\n      <td>3</td>\n      <td>3</td>\n    </tr>\n    <tr>\n      <th>5</th>\n      <td>1961</td>\n      <td>4</td>\n      <td>26</td>\n    </tr>\n    <tr>\n      <th>...</th>\n      <td>...</td>\n      <td>...</td>\n      <td>...</td>\n    </tr>\n    <tr>\n      <th>296</th>\n      <td>1978</td>\n      <td>11</td>\n      <td>24</td>\n    </tr>\n    <tr>\n      <th>297</th>\n      <td>1954</td>\n      <td>12</td>\n      <td>5</td>\n    </tr>\n    <tr>\n      <th>298</th>\n      <td>1976</td>\n      <td>8</td>\n      <td>5</td>\n    </tr>\n    <tr>\n      <th>299</th>\n      <td>1962</td>\n      <td>9</td>\n      <td>10</td>\n    </tr>\n    <tr>\n      <th>300</th>\n      <td>1967</td>\n      <td>7</td>\n      <td>28</td>\n    </tr>\n  </tbody>\n</table>\n<p>300 rows × 3 columns</p>\n</div>"
     },
     "metadata": {},
     "execution_count": 26
    }
   ],
   "source": [
    "# year = data['생년월일']\n",
    "age_max = data['생년월일'].str[:4].max()\n",
    "age_min = data['생년월일'].str[:4].min()\n",
    "#  data['생년월일']\n",
    "print(data.loc[data['생년월일'].str[:4] == age_max,'이름'])\n",
    "print(\"=\" * 100)\n",
    "print(data.loc[data['생년월일'].str[:4] == age_min,'이름'])\n",
    "data['year'] = data['생년월일'].str[:4].astype(int)\n",
    "data['month'] = data['생년월일'].str[5:7].astype(int)\n",
    "data['day'] = data['생년월일'].str[8:10].astype(int)\n",
    "data.loc[:,'year':'day']\n"
   ]
  },
  {
   "cell_type": "code",
   "execution_count": 27,
   "metadata": {
    "tags": []
   },
   "outputs": [],
   "source": [
    "## User DatetimeIndex class [year/month/day] extracting\n",
    "# birth_day = data['생년월일']\n",
    "# str(birth_day.encode= 'utf-8')\n",
    "# print(type(birth_day))\n",
    "# data['year'] = pd.DatetimeIndex(birth_day).year"
   ]
  },
  {
   "cell_type": "code",
   "execution_count": 28,
   "metadata": {
    "tags": []
   },
   "outputs": [],
   "source": [
    "from datetime import date\n",
    "\n",
    "def calc_age(dtob):\n",
    "    today = date.today()\n",
    "    return today.year - dtob.year - ((today.month, today.day) < (dtob.month, dtob.day))\n",
    "for idx,row in data.iterrows():\n",
    "    age = calc_age(date(row['year'], row['month'], row['day']))\n",
    "    data.loc[idx,'age'] = int(\"{:2d}\".format(age))\n",
    "\n",
    "\n",
    "# print(data['age'].max())\n",
    "# age(date(data['생년월일'].str[:4],data['생년월일'].str[5:7],data['생년월일'].str[8:10]))\n",
    "# age(date(year=1993, month=10, day =10))"
   ]
  },
  {
   "cell_type": "code",
   "execution_count": 29,
   "metadata": {
    "tags": []
   },
   "outputs": [
    {
     "output_type": "stream",
     "name": "stdout",
     "text": "최고령 :  73\n최저령 :  27\n평균 나이 :  55\n"
    },
    {
     "output_type": "execute_result",
     "data": {
      "text/plain": "경기    59\n서울    49\n비례    47\n부산    18\n경남    16\n인천    13\n경북    13\n대구    12\n충남    11\n전남    10\n전북    10\n광주     8\n충북     8\n강원     8\n대전     7\n울산     6\n제주     3\n세종     2\nName: 선거구2, dtype: int64"
     },
     "metadata": {},
     "execution_count": 29
    }
   ],
   "source": [
    "print('최고령 : ', data['age'].max())\n",
    "print('최저령 : ', data['age'].min())\n",
    "print('평균 나이 : ', int(data['age'].mean()))\n",
    "\n",
    "temp = data['선거구'].str\n",
    "data['선거구2'] = temp[:2]\n",
    "data.loc[data['선거구2'] == '부산', '이름']\n",
    "data['선거구2'].value_counts()\n",
    "# data['선거구2'].value_counts(normalize=True) ## normalization"
   ]
  }
 ]
}