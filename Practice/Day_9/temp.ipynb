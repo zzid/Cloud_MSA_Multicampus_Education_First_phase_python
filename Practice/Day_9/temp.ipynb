{
 "metadata": {
  "language_info": {
   "codemirror_mode": {
    "name": "ipython",
    "version": 3
   },
   "file_extension": ".py",
   "mimetype": "text/x-python",
   "name": "python",
   "nbconvert_exporter": "python",
   "pygments_lexer": "ipython3",
   "version": 3
  },
  "orig_nbformat": 2,
  "kernelspec": {
   "name": "python_defaultSpec_1595550838590",
   "display_name": "Python 3.7.0 64-bit ('base': conda)"
  }
 },
 "nbformat": 4,
 "nbformat_minor": 2,
 "cells": [
  {
   "cell_type": "markdown",
   "metadata": {},
   "source": [
    "## Start"
   ]
  },
  {
   "cell_type": "code",
   "execution_count": 3,
   "metadata": {
    "tags": []
   },
   "outputs": [
    {
     "output_type": "stream",
     "name": "stdout",
     "text": "index  광역시도 행정구역     인구수       면적\n1        0   강원도  강릉시  202520  1040.07\n2        1   강원도  고성군   25589   664.19\n3        2   강원도  동해시   86747   180.01\n4        3   강원도  삼척시   63986  1185.80\n5        4   강원도  속초시   76733   105.25\n..     ...   ...  ...     ...      ...\n156    224  충청북도  제천시  127462   882.47\n157    225  충청북도  증평군   34480    81.84\n158    226  충청북도  진천군   62809   406.08\n159    227  충청북도  청주시  790216   932.51\n160    228  충청북도  충주시  198077   983.70\n\n[160 rows x 5 columns]\n"
    }
   ],
   "source": [
    "import pandas as pd\n",
    "import numpy as np\n",
    "\n",
    "data = pd.read_csv('../../docs/webscrap_source/data/data_draw_korea.csv')\n",
    "## Practice\n",
    "## (Find the rows which have lower pop than std from whole & bigger area than mean from whole)\n",
    "\n",
    "std_val = data['인구수'].std()\n",
    "mean_area = data['면적'].mean()\n",
    "# print(mean_area)\n",
    "prac_col = ['광역시도', '행정구역', '인구수', '면적']\n",
    "prac = data.loc[(data['인구수'] < std_val) | (data['면적'] > mean_area), prac_col]\n",
    "prac = prac.reset_index()\n",
    "prac.index = np.arange(1,len(prac)+1)\n",
    "print(prac)"
   ]
  },
  {
   "cell_type": "code",
   "execution_count": null,
   "metadata": {},
   "outputs": [],
   "source": []
  }
 ]
}