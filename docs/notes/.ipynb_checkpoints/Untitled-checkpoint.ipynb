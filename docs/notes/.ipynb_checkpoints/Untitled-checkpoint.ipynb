{
 "cells": [
  {
   "cell_type": "code",
   "execution_count": 6,
   "metadata": {},
   "outputs": [
    {
     "name": "stdout",
     "output_type": "stream",
     "text": [
      "\u001b[33mWARNING: The directory '/Users/zzid/Library/Caches/pip' or its parent directory is not owned or is not writable by the current user. The cache has been disabled. Check the permissions and owner of that directory. If executing pip with sudo, you may want sudo's -H flag.\u001b[0m\n",
      "Requirement already satisfied: requests in /Users/zzid/.pyenv/versions/3.8.5/envs/py385/lib/python3.8/site-packages (2.24.0)\n",
      "Requirement already satisfied: idna<3,>=2.5 in /Users/zzid/.pyenv/versions/3.8.5/envs/py385/lib/python3.8/site-packages (from requests) (2.10)\n",
      "Requirement already satisfied: certifi>=2017.4.17 in /Users/zzid/.pyenv/versions/3.8.5/envs/py385/lib/python3.8/site-packages (from requests) (2020.6.20)\n",
      "Requirement already satisfied: urllib3!=1.25.0,!=1.25.1,<1.26,>=1.21.1 in /Users/zzid/.pyenv/versions/3.8.5/envs/py385/lib/python3.8/site-packages (from requests) (1.25.10)\n",
      "Requirement already satisfied: chardet<4,>=3.0.2 in /Users/zzid/.pyenv/versions/3.8.5/envs/py385/lib/python3.8/site-packages (from requests) (3.0.4)\n"
     ]
    }
   ],
   "source": [
    "!pip install requests"
   ]
  },
  {
   "cell_type": "code",
   "execution_count": 7,
   "metadata": {},
   "outputs": [],
   "source": [
    "from matplotlib import pyplot as plt"
   ]
  },
  {
   "cell_type": "code",
   "execution_count": 14,
   "metadata": {},
   "outputs": [],
   "source": [
    "from bs4 import BeautifulSoup\n",
    "import re, datetime\n",
    "import requests\n",
    "import pprint\n",
    "\n",
    "def bbcweather():\n",
    "    # url = 'https://www.bbc.com/weather/1835848/today' ## url :: Seoul, today\n",
    "    url = 'https://www.bbc.com/weather/1835848/day1'  ## url :: Seoul, tomorrow\n",
    "    rawBBCWeather = requests.get(url).text\n",
    "    soup = BeautifulSoup(rawBBCWeather, 'html.parser')\n",
    "    \n",
    "    # pp = pprint.PrettyPrinter(indent =4)\n",
    "    temps = []\n",
    "    for link in soup.select(\"a#daylink-1 .wr-value--temperature--c\"):\n",
    "        # print(link.text, type(link.text)) \n",
    "        temps.append(link.text)\n",
    "\n",
    "    ## higest temp, lowest temp of the day\n",
    "#     higest_temp = temps[0]\n",
    "#     lowest_temp = temps[1]\n",
    "    print(temps)\n",
    "\n",
    "    t = []\n",
    "    p = []\n",
    "    times = soup.select('span.wr-time-slot-primary__hours.wr-u-font-weight-500')\n",
    "    posss = soup.select('div.wr-u-font-weight-500')\n",
    "    for time in times:\n",
    "        t.append(int(time.text))\n",
    "    for poss in posss:\n",
    "        p.append(int(re.sub(r'[\\D]','', poss.text)))\n",
    "\n",
    "    # time_rain_pos = {}\n",
    "    # for time, poss in zip(t,p):\n",
    "    #     time_rain_pos[time] = poss\n",
    "    tup = list(zip(t,p))\n",
    "    \n",
    "    # print('higest temp : ', higest_temp)\n",
    "    # print('lowest temp : ', lowest_temp)\n",
    "    # print(time_rain_pos)\n",
    "    info = {}\n",
    "#     info['highest_temp'] = higest_temp\n",
    "#     info['lowest_temp'] = lowest_temp\n",
    "    info['time'] = t\n",
    "    info['pre'] = p\n",
    "    # info['time_pre'] = tup\n",
    "    return info\n"
   ]
  },
  {
   "cell_type": "code",
   "execution_count": 18,
   "metadata": {},
   "outputs": [
    {
     "name": "stdout",
     "output_type": "stream",
     "text": [
      "['29°', '24°']\n",
      "{'time': [6, 7, 8, 9, 10, 11, 12, 13, 14, 15, 16, 17, 18, 19, 20, 21, 22, 23, 0, 1, 2, 3, 4, 5], 'pre': [98, 97, 94, 91, 92, 92, 88, 64, 29, 12, 10, 6, 3, 8, 13, 17, 26, 34, 31, 28, 31, 32, 33, 34]}\n"
     ]
    }
   ],
   "source": [
    "data = bbcweather()\n",
    "print(data)\n"
   ]
  },
  {
   "cell_type": "code",
   "execution_count": 21,
   "metadata": {},
   "outputs": [],
   "source": [
    "for i in range(len(data['time'])):\n",
    "    if data['time'][i] < data['time'][0]:\n",
    "        data['time'][i] += 24\n"
   ]
  },
  {
   "cell_type": "code",
   "execution_count": 22,
   "metadata": {},
   "outputs": [
    {
     "data": {
      "text/plain": [
       "[<matplotlib.lines.Line2D at 0x11cd1ee80>]"
      ]
     },
     "execution_count": 22,
     "metadata": {},
     "output_type": "execute_result"
    },
    {
     "data": {
      "image/png": "[encoded data removed]",
      "text/plain": [
       "<Figure size 432x288 with 1 Axes>"
      ]
     },
     "metadata": {
      "needs_background": "light"
     },
     "output_type": "display_data"
    }
   ],
   "source": [
    "plt.plot(data['time'],data['pre'])"
   ]
  },
  {
   "cell_type": "code",
   "execution_count": null,
   "metadata": {},
   "outputs": [],
   "source": []
  }
 ],
 "metadata": {
  "kernelspec": {
   "display_name": "py385",
   "language": "python",
   "name": "py385"
  },
  "language_info": {
   "codemirror_mode": {
    "name": "ipython",
    "version": 3
   },
   "file_extension": ".py",
   "mimetype": "text/x-python",
   "name": "python",
   "nbconvert_exporter": "python",
   "pygments_lexer": "ipython3",
   "version": "3.8.5"
  }
 },
 "nbformat": 4,
 "nbformat_minor": 4
}
