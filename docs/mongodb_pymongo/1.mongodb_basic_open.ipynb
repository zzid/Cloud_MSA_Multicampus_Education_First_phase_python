{
 "cells": [
  {
   "cell_type": "markdown",
   "metadata": {},
   "source": [
    "# 0. 빅데이터\n",
    "* 기존: 관계형 데이터베이스(RDBMS)\n",
    "  - SQL 언어로 사용 가능\n",
    "  - SQL 데이터베이스\n",
    "* 빅데이터: NoSQL 데이터베이스\n",
    "  "
   ]
  },
  {
   "cell_type": "markdown",
   "metadata": {},
   "source": [
    "## 1. NoSQL 이해\n",
    "  - Not only SQL\n",
    "  - RDBMS의 한계를 극복하기 위해 만들어진 새로운 형태의 데이터저장소\n",
    "  - RDBMS처럼 고정된 스키마 및 JOIN 이 존재하지 않음\n",
    "  - 스키마 변경? ALERT 등 필요 없음"
   ]
  },
  {
   "cell_type": "code",
   "execution_count": 2,
   "metadata": {},
   "outputs": [
    {
     "data": {
      "text/html": [
       "<img src=\"img/img01.png\"/>"
      ],
      "text/plain": [
       "<IPython.core.display.Image object>"
      ]
     },
     "metadata": {},
     "output_type": "display_data"
    }
   ],
   "source": [
    "from IPython.display import Image, display\n",
    "display(Image(url= 'img/img01.png'))"
   ]
  },
  {
   "cell_type": "markdown",
   "metadata": {},
   "source": [
    "### 1.1. Why NoSQL?\n",
    "  - RDBMS를 기본으로 사용하지만,\n",
    "  - 초당 데이터가 수십만개씩 쌓이는 서비스가 많아지면서 (소셜, 온라인 서비스등), NoSQL을 사용하는 경우가 많아지고 있음\n",
    "\n",
    "  - 경험적 수치\n",
    "    - 95% read, 5% write 경우는 RDBMS 가 성능이 나쁘지 않음\n",
    "    - 50% write > 인 경우 RDBMS는 성능 저하 또는 불안정\n",
    "    - NoSQL + Redis (In memory cache) 등을 고려하게 됨"
   ]
  },
  {
   "cell_type": "markdown",
   "metadata": {},
   "source": [
    "* 관계형 데이터베이스 종류\n",
    "  - MySQL, Oracle, PostgreSQL, SQLlite"
   ]
  },
  {
   "cell_type": "markdown",
   "metadata": {},
   "source": [
    "* NoSQL 데이터베이스는 각 데이터베이스마다 기반으로 하는 데이터 모델이 다르므로, 데이터 모델별로 대표적인 데이터베이스를 알아둘 필요가 있음\n",
    "  - 각기 데이터베이스 다루는 인터페이스가 다름\n",
    "    - Key/Value Store : (Redis)[https://redis.io/]\n",
    "    - Wide Column Store : (Casandra)[https://cassandra.apache.org]\n",
    "    - Document Store : (MongoDB)[https://www.mongodb.com] (MongoDB Docs)[https://docs.mongodb.com/manual/]\n",
    "    - Graph Store : (Neo4j)[https://neo4j.com]"
   ]
  },
  {
   "cell_type": "code",
   "execution_count": 4,
   "metadata": {},
   "outputs": [
    {
     "data": {
      "text/html": [
       "<img src=\"img/img02.png\"/>"
      ],
      "text/plain": [
       "<IPython.core.display.Image object>"
      ]
     },
     "metadata": {},
     "output_type": "display_data"
    }
   ],
   "source": [
    "from IPython.display import Image, display  \n",
    "display(Image(url= 'img/img02.png'))"
   ]
  },
  {
   "cell_type": "markdown",
   "metadata": {},
   "source": [
    "### 1.2. MongoDB 란?\n",
    "* MongoDB는 Document DB\n",
    "  - JSON 기반의 Document 기반 데이터 관리\n",
    "* MongoDB의 특징\n",
    "- Document-Oriented Storage : 모든 데이터가 JSON 형태로 저장되며 schema가 없습니다.\n",
    "- Full Index Support : RDBMS에 뒤지지 않는 다양한 인덱싱을 제공합니다.\n",
    "- Replication & High Availability : 데이터 복제를 통해 가용성을 향상시킬 수 있습니다.\n",
    "- Auto-Sharding : Primary key를 기반으로 여러 서버에 데이터를 나누는 scale-out이 가능합니다.\n",
    "- Querying : key 기반의 get, put 뿐만이 아니라 다양한 종류의 쿼리들을 제공합니다.\n",
    "- Fast In-Place Updates : 고성능의 atomic operation을 지원합니다.\n",
    "- Map/Reduce : 맵리듀스를 지원합니다.\n",
    "- GridFS : 별도 스토리지 엔진을 통해 파일을 저장할 수 있습니다.\n"
   ]
  },
  {
   "cell_type": "markdown",
   "metadata": {},
   "source": [
    "* 프로그래밍에서 다루는 데이터 포맷\n",
    "  - 정수(int), 소숫점(float), 문자(string)\n",
    "  - CSV, JSON등\n",
    "* JSON\n",
    "  document  = { \"id\":\"01\", \"languange\":\"java\", \"edition\": { \"first\": \"1st\", \"second\":\"2nd\", \"third\":\"third\" } }"
   ]
  },
  {
   "cell_type": "markdown",
   "metadata": {},
   "source": [
    "<pre>\n",
    "MongoDB Document 예)\n",
    "\n",
    "{\n",
    "    \"_id\": ObjectId(\"5099803df3f42312312391\"),\n",
    "    \"username\": \"gildong\",\n",
    "    \"name\": { first: \"길동\", last: \"홍\" }\n",
    "}\n",
    "</pre>"
   ]
  },
  {
   "cell_type": "markdown",
   "metadata": {},
   "source": [
    "### 1.3. MongoDB 데이터 구조\n",
    " * Database - Collection(Table과 유사) - Document(Row 와 Column이라는 개념이 없다.)\n",
    " * RDBMS: Database - Table - Row와 Column\n",
    " \n",
    "   - RDBMS의 table이 아니라, collection 에 JSON 형태의 Document를 넣습니다.\n",
    "   - Document 하나가 하나의 로우(레코드)임"
   ]
  },
  {
   "cell_type": "markdown",
   "metadata": {},
   "source": [
    "#### MongoDB Database\n",
    "* Database는 Collection의 집합\n",
    "\n",
    "#### MongoDB Collection\n",
    "\n",
    "* Collection은 MongoDB Document의 집합\n",
    "* RDBMS Table과 유사한 개념, 단 정규화된 데이터 구조, 즉 Schema가 정의되어 있지 않음\n"
   ]
  },
  {
   "cell_type": "code",
   "execution_count": 7,
   "metadata": {},
   "outputs": [
    {
     "data": {
      "text/html": [
       "<img src=\"img/img05.png\"/>"
      ],
      "text/plain": [
       "<IPython.core.display.Image object>"
      ]
     },
     "metadata": {},
     "output_type": "display_data"
    }
   ],
   "source": [
    "from IPython.display import Image, display \n",
    "display(Image(url= 'img/img05.png'))"
   ]
  },
  {
   "cell_type": "markdown",
   "metadata": {},
   "source": [
    "## 2. mongoDB 설치 및 환경 구축 \n",
    "\n",
    "### 2.1. mongodb  설치 방법 (맥 환경)\n",
    "\n",
    "* Homebrew 프로그램을 사용해서 설치하는 것이 가장 쉬움\n",
    "  - https://brew.sh/index_ko \n",
    "  - /usr/bin/ruby -e \"$(curl -fsSL https://raw.githubusercontent.com/Homebrew/install/master/install)\"\n",
    "  \n",
    "* Homebrew 설치 후\n",
    "  - brew install mongodb\n",
    "  \n",
    "* mongodb 설치 후\n",
    "  - mongod 또는 brew services start mongodb \n",
    "  "
   ]
  },
  {
   "cell_type": "markdown",
   "metadata": {},
   "source": [
    "### 2.2. mongodb  설치 방법 (윈도우 환경)\n",
    "\n",
    "* https://www.mongodb.com/download-center/community 이동 후, .msi 파일 다운로드 및 설치\n",
    "* 참고 블로그: https://javacpro.tistory.com/64"
   ]
  },
  {
   "cell_type": "markdown",
   "metadata": {},
   "source": [
    "## 3. mongoDB 바로 다뤄보기"
   ]
  },
  {
   "cell_type": "markdown",
   "metadata": {},
   "source": [
    "* mongodb의 데이터 구성\n",
    " - db, collection으로 구성\n",
    " - 데이터는 각 collection에 document 형식(python dictionary)으로 저장 됨\n",
    " - collection들의 논리적인 집합이 database"
   ]
  },
  {
   "cell_type": "markdown",
   "metadata": {},
   "source": [
    "### 3.1. Robomongo 설치 (MongoDB 관리 GUI 툴) (실습)\n",
    "##### Robo 3T (formerly Robomongo)\n",
    "\n",
    "* https://robomongo.org/download\n",
    "  - 맥에서 처음 실행시 잘 안되면, 삭제 후, 다시 다운로드받아서 재설치하세요\n",
    "* 실행\n",
    "  - Click Create\n",
    "    - In Connection\n",
    "      - Name: AWS EC2 IP\n",
    "      - Address: AWS EC2 IP (port는 27017 디폴트)\n",
    "    - In Authentication\n",
    "      - Database 이름: admin\n",
    "      - User Name: 사용자 ID\n",
    "      - Password: 사용자 암호\n",
    "    - Click Test & Save button to check connection\n",
    "  - Connection\n",
    "    - Click Coonect buttion\n",
    "  - Check connection\n",
    "    - Right-click (server name) -> Show Log\n",
    "  - Create DB\n",
    "    - Right-click (Server) -> Create Database -> Add dave_db\n",
    "  - Create Collection\n",
    "    - Right-click (Collections(0) in created DB) -> Create Collection -> Add test\n",
    "  - Insert Document\n",
    "    - Right-click (test collection) -> Insert Document -> Add the following JSON(BSON) Document -> Click Validate & Save buttons\n",
    "    - Click View Documents in test collection\n",
    "    - Check _id_ in indexes of test collection (인덱스 자동 생성)"
   ]
  },
  {
   "cell_type": "markdown",
   "metadata": {},
   "source": [
    "<pre>\n",
    "{\n",
    "    \"_id\" : ObjectId(\"5f1c3a099648a1965fbcada4\"),\n",
    "    \"배우이름\" : \"유아인\",\n",
    "    \"흥행지수\" : 167829,\n",
    "    \"출연영화\" : [ \n",
    "        \"＃살아있다\", \n",
    "        \"버닝\"\n",
    "    ],\n",
    "    \"랭킹\" : \"1\",\n",
    "    \"다른 이름\" : \"엄홍식\",\n",
    "    \"직업\" : \"배우\",\n",
    "    \"생년월일\" : \"1986-10-06\",\n",
    "    \"성별\" : \"남\",\n",
    "    \"홈페이지\" : \"https://www.instagram.com/hongsick/https://twitter.com/seeksik\",\n",
    "    \"신장/체중\" : \"178cm, 60kg\",\n",
    "    \"학교\" : \"단국대학교 연극\",\n",
    "    \"취미\" : \"피아노 연주, 인터넷 게임, 영화, 음악감상\",\n",
    "    \"특기\" : \"스노우보드, 수영\"\n",
    "}\n",
    "</pre>"
   ]
  },
  {
   "cell_type": "code",
   "execution_count": 3,
   "metadata": {},
   "outputs": [
    {
     "data": {
      "text/html": [
       "<img src=\"img/img06.png\"/>"
      ],
      "text/plain": [
       "<IPython.core.display.Image object>"
      ]
     },
     "metadata": {},
     "output_type": "display_data"
    }
   ],
   "source": [
    "display(Image(url= 'img/img06.png'))"
   ]
  },
  {
   "cell_type": "code",
   "execution_count": 8,
   "metadata": {},
   "outputs": [
    {
     "data": {
      "text/html": [
       "<img src=\"img/img07.png\"/>"
      ],
      "text/plain": [
       "<IPython.core.display.Image object>"
      ]
     },
     "metadata": {},
     "output_type": "display_data"
    }
   ],
   "source": [
    "display(Image(url= 'img/img07.png'))"
   ]
  },
  {
   "cell_type": "markdown",
   "metadata": {},
   "source": [
    "### 3.2. Robomongo에서 커멘드 입력해보기 (실습)\n",
    " - Right-click (Server) -> Open Shell\n",
    " - show dbs - 전체 데이터베이스 열람\n",
    " - use [DB 이름] - 데이터베이스 선택 (없으면 데이터베이스 생성)\n",
    "   * 예) use python_db - dave_db 데이터베이스 선택\n",
    "   \n",
    " \n",
    " - show collections - 선택된 데이터베이스의 콜렉션 열람\n",
    " - db.[Collection 이름].함수() 로 해당 컬렉션의 데이터 열람 및 조작\n",
    "   * 예) db.my_col.find() - my_col 컬렉션에서 전체 Document 검색\n",
    "\n",
    "* 데이터베이스 생성\n",
    "  - use python_db\n",
    "* 데이터베이스 현황 확인\n",
    "  - db \n",
    "  - db.stats()\n",
    "* collection 생성 및 삭제\n",
    "  - db.createCollection(\"employees\", {capped:true, size:10000})\n",
    "    - Right-click (server) -> Click Refresh -> Go to dave_db -> Go to Collections -> Check employees\n",
    "    - capped:true 최초 제한된 크기로 생성된 공간에서만 데이터를 저장하는 설정 (고성능, 저장공간차면 기존 공간 재사용, 일정시간만 저장하는 로그에 적합)\n",
    "  - db.employees.isCapped()\n",
    "  - db.employees.drop()\n",
    "  - db.createCollection(\"employees\")  \n",
    "  - db.employees.isCapped()\n",
    "  - db.employees.drop()\n",
    "  - db.createCollection(\"employees\", {capped:true, size:10000})\n",
    "* collection 확인\n",
    "  - show collections\n",
    "  - db.employees.stats()\n",
    "* collection 이름 변경\n",
    "  - db.employees.renameCollection(\"emp\")\n",
    "* collection 삭제\n",
    "  - db.employees.drop()"
   ]
  },
  {
   "cell_type": "markdown",
   "metadata": {},
   "source": [
    "### 3.3. SQL과 간단 비교 - mongodb collection 생성/변경\n",
    "* collection 생성 (원하는 타임으로 데이터를 바로 넣으면 됨)\n",
    "  - PRIMARY KEY를 위한 별도 컬럼 만들 필요 없음. \n",
    "  - mongodb는 collection에서 _id가 각 Document마다 자동생성되어 primary key 역햘을 함\n",
    "  - 컬럼마다 데이터 타입을 정할 필요 없음 (\"컬럼명\": 컬럼값 이 기본 형태임)"
   ]
  },
  {
   "cell_type": "markdown",
   "metadata": {},
   "source": [
    "### 3.3.1 DDL SQL vs Mongo DB"
   ]
  },
  {
   "cell_type": "code",
   "execution_count": 10,
   "metadata": {},
   "outputs": [
    {
     "data": {
      "text/html": [
       "<img src=\"img/img08.png\"/>"
      ],
      "text/plain": [
       "<IPython.core.display.Image object>"
      ]
     },
     "metadata": {},
     "output_type": "display_data"
    }
   ],
   "source": [
    "display(Image(url= 'img/img08.png'))"
   ]
  },
  {
   "cell_type": "code",
   "execution_count": 11,
   "metadata": {},
   "outputs": [
    {
     "data": {
      "text/html": [
       "<img src=\"img/img09.png\"/>"
      ],
      "text/plain": [
       "<IPython.core.display.Image object>"
      ]
     },
     "metadata": {},
     "output_type": "display_data"
    }
   ],
   "source": [
    "display(Image(url= 'img/img09.png'))"
   ]
  },
  {
   "cell_type": "markdown",
   "metadata": {},
   "source": [
    "* collection 구조 변경 (기존 Document에 컬럼 추가/삭제 필요없을 시는 새로운 Document에만 필요한 컬럼을 추가 또는 삭제해서 넣으면됨)\n",
    "  - ALTER TABLE은 기본적으로 collection에서는 필요 없음 \n",
    "  - 일부 기존 Document에도 컬럼과 컬럼값을 넣거나 삭제해야 한다면 다음과 같은 형태로는 가능함"
   ]
  },
  {
   "cell_type": "markdown",
   "metadata": {},
   "source": [
    "* 기존 Document에도 컬럼과 컬럼값 추가시 \n",
    "  - SQL: ALTER TABLE people ADD COLUMN join_date DATETIME\n",
    "  - mongodb: db.people.updateMany({ }, { $set: { join_date: new Date() } })"
   ]
  },
  {
   "cell_type": "markdown",
   "metadata": {},
   "source": [
    "* 기존 Document에도 컬럼과 컬럼값 삭제시 \n",
    "  - SQL: ALTER TABLE people DROP COLUMN join_date\n",
    "  - mongodb: db.people.updateMany({ }, { $unset: { \"join_date\": \"\" } })"
   ]
  },
  {
   "cell_type": "markdown",
   "metadata": {},
   "source": [
    "## 4. mongoDB 데이터 입력/검색/수정/삭제 (CRUD)"
   ]
  },
  {
   "cell_type": "markdown",
   "metadata": {},
   "source": [
    "* Create, Insert Operation은 컬렉션(Collection)에 도큐먼트(Documents)를 삽입합니다.\n",
    "* 만약 컬렉션이 아직 존재하지 않는다면, 도큐먼트 삽입과 동시에 컬렉션이 생성됩니다.\n",
    "* 모든 Mongo DB의 삽입 연산은 단일 컬렉션을 대상으로 한다.\n",
    "### 4.1. Document 입력 - insertOne, insertMany\n",
    "  - insertOne : 한개의 document 생성\n",
    "  - insertMany : list of document 생성"
   ]
  },
  {
   "cell_type": "markdown",
   "metadata": {},
   "source": [
    "### Document 입력 문법"
   ]
  },
  {
   "cell_type": "code",
   "execution_count": 12,
   "metadata": {},
   "outputs": [
    {
     "data": {
      "text/html": [
       "<img src=\"img/img10.png\"/>"
      ],
      "text/plain": [
       "<IPython.core.display.Image object>"
      ]
     },
     "metadata": {},
     "output_type": "display_data"
    }
   ],
   "source": [
    "display(Image(url= 'img/img10.png'))"
   ]
  },
  {
   "cell_type": "markdown",
   "metadata": {},
   "source": [
    "### SQL INSERT 문법과 비교"
   ]
  },
  {
   "cell_type": "code",
   "execution_count": 13,
   "metadata": {},
   "outputs": [
    {
     "data": {
      "text/html": [
       "<img src=\"img/img11.png\"/>"
      ],
      "text/plain": [
       "<IPython.core.display.Image object>"
      ]
     },
     "metadata": {},
     "output_type": "display_data"
    }
   ],
   "source": [
    "display(Image(url= 'img/img11.png'))"
   ]
  },
  {
   "cell_type": "markdown",
   "metadata": {},
   "source": [
    "* insertOne 예제"
   ]
  },
  {
   "cell_type": "markdown",
   "metadata": {},
   "source": [
    "<pre>\n",
    "db.people.insertOne(\n",
    "     { user_id: \"bcd001\", age:45,status:'A' }\n",
    ")\n",
    "</pre>"
   ]
  },
  {
   "cell_type": "markdown",
   "metadata": {},
   "source": [
    "* insertMany 예제"
   ]
  },
  {
   "cell_type": "markdown",
   "metadata": {},
   "source": [
    "<pre>\n",
    "db.people.insertMany([\n",
    "    { user_id: \"bcd002\", age:25,status:\"B\" },\n",
    "    { user_id: \"bcd003\", age:50,status:\"A\" },\n",
    "    { user_id: \"bcd004\", age:35,status:\"A\" },\n",
    "    { user_id: \"abc001\", age:28,status:\"B\" }\t\n",
    "])\n",
    "</pre>"
   ]
  },
  {
   "cell_type": "markdown",
   "metadata": {},
   "source": [
    "<div class=\"alert alert-block alert-success\">\n",
    "<font color=\"blue\" size=\"4em\">실습</font><br>\n",
    "1. employees Collection 생성 <br>\n",
    "2. 다음 Document 데이터 넣기<br>\n",
    "   - user_id 가 bcd001, age 가 45, status 가 A 인 Document<br>\n",
    "   - user_id 가 bcd002, age 가 25, status 가 B 인 Document<br>\n",
    "   - user_id 가 bcd003, age 가 50, status 가 A 인 Document<br>\n",
    "   - user_id 가 bcd004, age 가 35, status 가 A 인 Document<br>\n",
    "   - user_id 가 abc001, age 가 28, status 가 B 인 Document<br>\n",
    "</div>"
   ]
  },
  {
   "cell_type": "markdown",
   "metadata": {},
   "source": [
    "* 읽기 작업(Read Operations)는 컬렉션에서 도큐먼트(Documents)를 검색합니다. (컬렉션을 쿼리하여 문서를 조회)\n",
    "### 4.2. Document 읽기(검색) - findOne, find\n",
    "  - findOne : 매칭되는 한개의 document 검색\n",
    "  - find : 매칭되는 list of document 검색"
   ]
  },
  {
   "cell_type": "markdown",
   "metadata": {},
   "source": [
    "### Document 읽기(검색) 문법"
   ]
  },
  {
   "cell_type": "code",
   "execution_count": 14,
   "metadata": {},
   "outputs": [
    {
     "data": {
      "text/html": [
       "<img src=\"img/img12.png\"/>"
      ],
      "text/plain": [
       "<IPython.core.display.Image object>"
      ]
     },
     "metadata": {},
     "output_type": "display_data"
    }
   ],
   "source": [
    "display(Image(url= 'img/img12.png'))"
   ]
  },
  {
   "cell_type": "markdown",
   "metadata": {},
   "source": [
    "- find()/findOne 명령과 - SQL 문 비교"
   ]
  },
  {
   "cell_type": "markdown",
   "metadata": {},
   "source": [
    "<pre>\n",
    "db.people.find() - SELECT * FROM people\n",
    "db.people.find({ }, { user_id: 1, status: 1 }) - SELECT _id, user_id, status FROM people\n",
    "db.people.find({ },{ user_id: 1, status: 1, _id: 0 }) - SELECT user_id, status FROM people\n",
    "\n",
    "db.people.find({ status: \"A\" }) - SELECT * FROM people WHERE status = 'A'\n",
    "db.people.find({ status: \"A\" },{ user_id:1, status:1,_id:0}) - SELECT user_id,status from people where status = 'A'\n",
    "db.people.find({ status: { $ne:\"A\" }}) - SELECT * from people where status != 'A'\n",
    "\n",
    "db.people.find({ status: \"A\", age: 50 }) - SELECT * FROM people WHERE status = 'A' AND age = 50\n",
    "db.people.find({ $or: [ { status: \"A\" } , { age: 50 } ] }) - SELECT * FROM people WHERE status = \"A\" OR age = 50\n",
    "\n",
    "</pre>"
   ]
  },
  {
   "cell_type": "markdown",
   "metadata": {},
   "source": [
    "<div class=\"alert alert-block alert-success\">\n",
    "<font color=\"blue\" size=\"4em\">실습</font><br>\n",
    "1. employees Collection 에서 user_id 가 bcd002 인 Document의 user_id, age, status, _id 출력<br>\n",
    "2. employees Collection 에서 user_id 가 bcd003 인 Document의 user_id, age, status 출력<br>\n",
    "3. employees Collection 에서 user_id 가 bcd004 이거나, age가 28인 Document 의 모든 필드 출력\n",
    "</div>"
   ]
  },
  {
   "cell_type": "markdown",
   "metadata": {},
   "source": [
    "### 비교 문법\n",
    "<pre>\n",
    "$eq     =    Matches values that are equal to a specified value.\n",
    "$gt     >    Matches values that are greater than a specified value.\n",
    "$gte    >=   Matches values that are greater than or equal to a specified value.\n",
    "$in          Matches any of the values specified in an array.\n",
    "$lt     <    Matches values that are less than a specified value.\n",
    "$lte    <=   Matches values that are less than or equal to a specified value.\n",
    "$ne     !=   Matches all values that are not equal to a specified value.\n",
    "$nin         Matches none of the values specified in an array.\n",
    "</pre>"
   ]
  },
  {
   "cell_type": "markdown",
   "metadata": {},
   "source": [
    "### 비교 문법 코드 예제\n",
    "<pre>\n",
    "db.people.find({ age: { $gt: 25 } }) - SELECT * FROM people WHERE age > 25\n",
    "db.people.find({ age: { $lt: 25 } }) - SELECT * FROM people WHERE age < 25\n",
    "db.people.find({ age: { $gt: 25, $lte: 50 } }) - SELECT * FROM people WHERE age > 25 AND age <= 50\n",
    "db.people.find( { age: { $in: [ 5, 15 ] } } )) - SELECT * FROM people WHERE age in (5,15)\n",
    "db.people.find( { age: { $nin: [ 5, 15 ] } } )) - SELECT * FROM people WHERE age not in (5,15)\n",
    "\n",
    "db.people.find( { user_id: { $regex: /bc/ } } )  - SELECT * FROM people WHERE user_id like \"%bc%\"\n",
    "db.people.find( { user_id: { $regex: /^bc/ } } ) - SELECT * FROM people WHERE user_id like \"bc%\"\n",
    "db.people.find({user_id:{$regex:/01$/}}) - SELECT * from people where user_id like \"%01\"\n",
    "\n",
    "db.people.find( { status: \"A\" } ).sort( { user_id: 1 } ) - SELECT * FROM people WHERE status = \"A\" ORDER BY user_id ASC \n",
    "db.people.find( { status: \"A\" } ).sort( { user_id: -1 } ) - SELECT * FROM people WHERE status = \"A\" ORDER BY user_id DESC\n",
    "\n",
    "db.people.count() - SELECT COUNT(*) FROM people\n",
    "db.people.count({ age : { $gt:30 }}) - select count(*) from people where age > 30\n",
    "\n",
    "db.people.count( { user_id: { $exists: true } } )  - SELECT COUNT(user_id) FROM people : user_id 컬럼의 값이 존재하는 row count\n",
    "\n",
    "db.people.aggregate( [{ $group : {_id: \"$status\" }}] ) - SELECT DISTINCT(status) FROM people\n",
    "\n",
    "db.people.findOne()\n",
    "db.people.find().limit(1)  - SELECT * FROM people LIMIT 1\n",
    "\n",
    "db.people.find().limit(3).skip(1)  \n",
    "</pre>"
   ]
  },
  {
   "cell_type": "markdown",
   "metadata": {},
   "source": [
    "<div class=\"alert alert-block alert-success\">\n",
    "<font color=\"blue\" size=\"4em\">실습</font><br>\n",
    "1. 다음 Document 데이터 조회하기<br>\n",
    "   - age 가 20 보다 큰 Document 의 user_id 만 출력하기<br>\n",
    "   - age 가 50 이고 status 가 A 인 Document 의 user_id 만 출력하기<br>\n",
    "   - age 가 50 보다 작은 Document 의 user_id 와 age 출력하기<br>\n",
    "   - status 종류 출력하기<br>\n",
    "   - user_id 가 bcd 로 시작하는 전체 Document 출력하기\n",
    "</div>"
   ]
  },
  {
   "cell_type": "markdown",
   "metadata": {},
   "source": [
    "* 수정 작업 (Update Operations)은 컬렉션 내에 존재하는 도큐먼트를 수정합니다.\n",
    "* Mongo DB에서는 단일 컬렉션을 대상으로 update operation을 지원합니다.\n",
    "### Document 수정 - updateOne, updateMany\n",
    "  - updateOne - 매칭되는 한개의 document 업데이트\n",
    "  - updateMany - 매칭되는 list of document 업데이트"
   ]
  },
  {
   "cell_type": "markdown",
   "metadata": {},
   "source": [
    "### 4.3. Document 수정 문법"
   ]
  },
  {
   "cell_type": "code",
   "execution_count": 15,
   "metadata": {},
   "outputs": [
    {
     "data": {
      "text/html": [
       "<img src=\"img/img13.png\"/>"
      ],
      "text/plain": [
       "<IPython.core.display.Image object>"
      ]
     },
     "metadata": {},
     "output_type": "display_data"
    }
   ],
   "source": [
    "display(Image(url= 'img/img13.png'))"
   ]
  },
  {
   "cell_type": "raw",
   "metadata": {},
   "source": [
    "- $set: field 값 설정\n",
    "- $inc: field 값을 증가시키거나, 감소시킴\n",
    "  - 예: $inc: { age: 2 } - age 값을 본래의 값에서 2 증가"
   ]
  },
  {
   "cell_type": "markdown",
   "metadata": {},
   "source": [
    "### Document 수정 코드 예제"
   ]
  },
  {
   "cell_type": "markdown",
   "metadata": {},
   "source": [
    "<pre>\n",
    "db.people.updateMany( { age: { $gt: 45 } }, { $set: { status: \"C\" } } ) - UPDATE people SET status = \"C\" WHERE age > 45\n",
    "\n",
    "* 1개의 Document만 수정하려면 updateOne을 사용함\n",
    "db.people.updateOne( { age: { $lte: 25 } }, { $set: { status: \"D\" } } )\n",
    "\n",
    "db.people.updateMany( { status: \"A\" } , { $inc: { age: 3 } } ) - UPDATE people SET age = age + 3 WHERE status = \"A\"\n",
    "</pre>"
   ]
  },
  {
   "cell_type": "markdown",
   "metadata": {},
   "source": [
    "<div class=\"alert alert-block alert-success\">\n",
    "<font color=\"blue\" size=\"4em\">실습</font><br>\n",
    "1. 다음 Document 데이터 수정하기<br>\n",
    "   - age 가 40 보다 큰 Document 의 status 를 B 로 변환하기\n",
    "</div>"
   ]
  },
  {
   "cell_type": "markdown",
   "metadata": {},
   "source": [
    "* 삭제 작업 (Delete Operations)은 컬렉션 내의 도큐먼트를 삭제합니다.\n",
    "* Mongo DB에서의 삭제 작업은 단일 Collection을 대상으로 합니다.\n",
    "### 4.4. Document 삭제 - deleteOne, deleteMany\n",
    "  - deleteOne - 매칭되는 한개의 document 삭제\n",
    "  - deleteMany - 매칭되는 list of document 삭제\n"
   ]
  },
  {
   "cell_type": "markdown",
   "metadata": {},
   "source": [
    "### Document 삭제 문법"
   ]
  },
  {
   "cell_type": "code",
   "execution_count": 17,
   "metadata": {},
   "outputs": [
    {
     "data": {
      "text/html": [
       "<img src=\"img/img14.png\"/>"
      ],
      "text/plain": [
       "<IPython.core.display.Image object>"
      ]
     },
     "metadata": {},
     "output_type": "display_data"
    }
   ],
   "source": [
    "display(Image(url= 'img/img14.png'))"
   ]
  },
  {
   "cell_type": "markdown",
   "metadata": {},
   "source": [
    "<pre>\n",
    "db.people.deleteMany( { status: \"D\" } ) - DELETE FROM people WHERE status = \"D\"\n",
    "\n",
    "db.people.deleteMany({}) - DELETE FROM people  \n",
    "</pre>  "
   ]
  },
  {
   "cell_type": "markdown",
   "metadata": {},
   "source": [
    "<div class=\"alert alert-block alert-success\">\n",
    "<font color=\"blue\" size=\"4em\">실습</font><br>\n",
    "1. 다음 Document 데이터 삭제하기<br>\n",
    "   - age 가 30 보다 작은 Document 삭제하기\n",
    "</div>"
   ]
  },
  {
   "cell_type": "markdown",
   "metadata": {},
   "source": [
    "### 참고: mongo shell\n",
    " - 로컬에서 서버가 돌아갈 경우,\n",
    "   - mongo\n",
    " - 원격 서버에 접속할 경우 \n",
    "   - mongo --host 'host_address' --port 'port'\n",
    "   - 예) mongo --host 192.10.21.3 --port 27017\n"
   ]
  },
  {
   "cell_type": "markdown",
   "metadata": {},
   "source": [
    "### Aggregation Pipeline\n",
    "* Mongo DB의 Aggregation Framework는 데이터 처리 파이프라인의 개념을 모델로 합니다.\n",
    "* 문서는 여러 단계의 파이프라인을 거쳐 변화하고 하나의 문서의 형태로 집계할 수 있습니다.\n",
    "\n",
    "* **파이프라인(pipeline)** 이란, 이전 단계의 연산결과를 다음 단계연산에 이용하는 것을 의미합니다."
   ]
  },
  {
   "cell_type": "code",
   "execution_count": 21,
   "metadata": {},
   "outputs": [
    {
     "data": {
      "text/html": [
       "<img src=\"img/img15.png\"/>"
      ],
      "text/plain": [
       "<IPython.core.display.Image object>"
      ]
     },
     "metadata": {},
     "output_type": "display_data"
    }
   ],
   "source": [
    "display(Image(url= 'img/img15.png'))"
   ]
  },
  {
   "cell_type": "markdown",
   "metadata": {},
   "source": [
    "### $match\n",
    "\n",
    "* 조건에 만족하는 Document만 Filtering\n",
    "* 입력형식\n",
    "  - { $match: { <query> } }"
   ]
  },
  {
   "cell_type": "markdown",
   "metadata": {},
   "source": [
    "* $match 입력데이터\n",
    "<pre>\n",
    "{ \"_id\" : ObjectId(\"512bc95fe835e68f199c8686\"), \"author\" : \"john\", \"score\" : 80, \"views\" : 100 }\n",
    "{ \"_id\" : ObjectId(\"512bc962e835e68f199c8687\"), \"author\" : \"john\", \"score\" : 85, \"views\" : 521 }\n",
    "{ \"_id\" : ObjectId(\"55f5a192d4bede9ac365b257\"), \"author\" : \"ahn\", \"score\" : 60, \"views\" : 1000 }\n",
    "{ \"_id\" : ObjectId(\"55f5a192d4bede9ac365b258\"), \"author\" : \"li\", \"score\" : 55, \"views\" : 5000 }\n",
    "{ \"_id\" : ObjectId(\"55f5a1d3d4bede9ac365b259\"), \"author\" : \"annT\", \"score\" : 60, \"views\" : 50 }\n",
    "{ \"_id\" : ObjectId(\"55f5a1d3d4bede9ac365b25a\"), \"author\" : \"li\", \"score\" : 94, \"views\" : 999 }\n",
    "{ \"_id\" : ObjectId(\"55f5a1d3d4bede9ac365b25b\"), \"author\" : \"ty\", \"score\" : 95, \"views\" : 1000 }\n",
    "</pre>"
   ]
  },
  {
   "cell_type": "markdown",
   "metadata": {},
   "source": [
    "* $match 사용 코드\n",
    "\n",
    "<pre>\n",
    "db.articles.aggregate(\n",
    "    [ { $match : { author : \"john\" } } ]\n",
    ");\n",
    "</pre>"
   ]
  },
  {
   "cell_type": "markdown",
   "metadata": {},
   "source": [
    "### $group\n",
    "\n",
    "* Document에 대한 Grouping 연산을 수행\n",
    "* Group에 대한 id를 지정해야하고, 특정 필드에 대한 집계 연산이 가능\n",
    "* $group은 연산된 Document에 대한 정렬을 지원하지 않음\n",
    "\n",
    "* 입력형식\n",
    "    - { $group: { _id: <expression>, <field1>: { <accumulator1> : <expression1> }, ... } }"
   ]
  },
  {
   "cell_type": "code",
   "execution_count": 22,
   "metadata": {},
   "outputs": [
    {
     "data": {
      "text/html": [
       "<img src=\"img/img16.png\"/>"
      ],
      "text/plain": [
       "<IPython.core.display.Image object>"
      ]
     },
     "metadata": {},
     "output_type": "display_data"
    }
   ],
   "source": [
    "display(Image(url= 'img/img16.png'))"
   ]
  },
  {
   "cell_type": "markdown",
   "metadata": {},
   "source": [
    "* $group 입력데이터\n",
    "<pre>\n",
    "{ \"_id\" : 1, \"item\" : \"abc\", \"price\" : 10, \"quantity\" : 2, \"date\" : ISODate(\"2014-03-01T08:00:00Z\") }\n",
    "{ \"_id\" : 2, \"item\" : \"jkl\", \"price\" : 20, \"quantity\" : 1, \"date\" : ISODate(\"2014-03-01T09:00:00Z\") }\n",
    "{ \"_id\" : 3, \"item\" : \"xyz\", \"price\" : 5, \"quantity\" : 10, \"date\" : ISODate(\"2014-03-15T09:00:00Z\") }\n",
    "{ \"_id\" : 4, \"item\" : \"xyz\", \"price\" : 5, \"quantity\" : 20, \"date\" : ISODate(\"2014-04-04T11:21:39.736Z\") }\n",
    "{ \"_id\" : 5, \"item\" : \"abc\", \"price\" : 10, \"quantity\" : 10, \"date\" : ISODate(\"2014-04-04T21:23:13.331Z\") }\n",
    "</pre>"
   ]
  },
  {
   "cell_type": "markdown",
   "metadata": {},
   "source": [
    "* $group 사용 코드\n",
    "\n",
    "<pre>\n",
    "db.sales.aggregate(\n",
    "   [\n",
    "      {\n",
    "        $group : {\n",
    "           _id : { month: { $month: \"$date\" }, day: { $dayOfMonth: \"$date\" }, year: { $year: \"$date\" } },\n",
    "           totalPrice: { $sum: { $multiply: [ \"$price\", \"$quantity\" ] } },\n",
    "           averageQuantity: { $avg: \"$quantity\" },\n",
    "           count: { $sum: 1 }\n",
    "        }\n",
    "      }\n",
    "   ]\n",
    ")\n",
    "\n",
    "\n",
    "* 년/월/일을 기준으로 집계\n",
    "* $price * $quantity 를 곱한 값의 합을 totalPrice 필드로 지정\n",
    "* $quantity 필드 값의 평균을 averageQuantity 필드로 지정\n",
    "* Group별 데이터의 갯수를 count 로 지정\n",
    "</pre>"
   ]
  },
  {
   "cell_type": "markdown",
   "metadata": {},
   "source": [
    "### $unwind\n",
    "\n",
    "* Document내의 \"배열 필드\"를 기반으로 각각의 Document로 분리\n",
    "\n",
    "* $unwind (aggregation)\n",
    "\n",
    " https://docs.mongodb.com/manual/reference/operator/aggregation/unwind/\n",
    " \n",
    "\n",
    "* 입력형식\n",
    "```sql\n",
    "    {\n",
    "      $unwind:\n",
    "        {\n",
    "          path: <field path>,\n",
    "          includeArrayIndex: <string>,\n",
    "          preserveNullAndEmptyArrays: <boolean>\n",
    "        }\n",
    "    }\n",
    "```  "
   ]
  },
  {
   "cell_type": "markdown",
   "metadata": {},
   "source": [
    "* $unwind 입력데이터\n",
    "\n",
    "<pre>\n",
    "{ \"_id\" : 1, \"item\" : \"ABC1\", sizes: [ \"S\", \"M\", \"L\"] }\n",
    "</pre>"
   ]
  },
  {
   "cell_type": "markdown",
   "metadata": {},
   "source": [
    "* $unwind 사용 코드\n",
    "\n",
    "<pre>\n",
    "db.inventory.aggregate( [ { $unwind : \"$sizes\" } ] )\n",
    "</pre>"
   ]
  },
  {
   "cell_type": "markdown",
   "metadata": {},
   "source": [
    "### SQL to Aggregation Mapping Chart\n",
    "https://docs.mongodb.com/manual/reference/sql-aggregation-comparison/#examplesjohn"
   ]
  },
  {
   "cell_type": "markdown",
   "metadata": {},
   "source": [
    "* aggregate() 함수연습 입력데이터\n",
    "\n",
    "<pre>    \n",
    "    {\n",
    "      cust_id: \"abc123\",\n",
    "      ord_date: ISODate(\"2012-01-02T17:04:11.102Z\"),\n",
    "      status: 'A',\n",
    "      price: 100,\n",
    "      items: [ { sku: \"xxx\", qty: 25, price: 1 },\n",
    "               { sku: \"yyy\", qty: 25, price: 1 } ]\n",
    "    },\n",
    "    {\n",
    "      cust_id: \"abc123\",\n",
    "      ord_date: ISODate(\"2012-01-02T17:04:11.102Z\"),\n",
    "      status: 'A',\n",
    "      price: 500,\n",
    "      items: [ { sku: \"xxx\", qty: 25, price: 1 },\n",
    "               { sku: \"yyy\", qty: 25, price: 1 } ]\n",
    "    },\n",
    "    {\n",
    "      cust_id: \"abc123\",\n",
    "      ord_date: ISODate(\"2012-01-02T17:04:11.102Z\"),\n",
    "      status: 'B',\n",
    "      price: 130,\n",
    "      items: [ { sku: \"jkl\", qty: 35, price: 2 },\n",
    "               { sku: \"abv\", qty: 35, price: 1 } ]\n",
    "    },\n",
    "    {\n",
    "      cust_id: \"abc123\",\n",
    "      ord_date: ISODate(\"2012-01-02T17:04:11.102Z\"),\n",
    "      status: 'A',\n",
    "      price: 130,\n",
    "      items: [ { sku: \"xxx\", qty: 15, price: 1 },\n",
    "               { sku: \"yyy\", qty: 15, price: 1 } ]\n",
    "    },\n",
    "    {\n",
    "      cust_id: \"abc456\",\n",
    "      ord_date: ISODate(\"2012-02-02T17:04:11.102Z\"),\n",
    "      status: 'C',\n",
    "      price: 70,\n",
    "      items: [ { sku: \"jkl\", qty: 45, price: 2 },\n",
    "               { sku: \"abv\", qty: 45, price: 3 } ]\n",
    "    },\n",
    "    {\n",
    "      cust_id: \"abc456\",\n",
    "      ord_date: ISODate(\"2012-02-02T17:04:11.102Z\"),\n",
    "      status: 'A',\n",
    "      price: 150,\n",
    "      items: [ { sku: \"xxx\", qty: 35, price: 4 },\n",
    "               { sku: \"yyy\", qty: 35, price: 5 } ]\n",
    "    },\n",
    "    {\n",
    "      cust_id: \"abc456\",\n",
    "      ord_date: ISODate(\"2012-02-02T17:04:11.102Z\"),\n",
    "      status: 'B',\n",
    "      price: 20,\n",
    "      items: [ { sku: \"jkl\", qty: 45, price: 2 },\n",
    "               { sku: \"abv\", qty: 45, price: 1 } ]\n",
    "    },\n",
    "    {\n",
    "      cust_id: \"abc780\",\n",
    "      ord_date: ISODate(\"2012-02-02T17:04:11.102Z\"),\n",
    "      status: 'B',\n",
    "      price: 260,\n",
    "      items: [ { sku: \"jkl\", qty: 50, price: 2 },\n",
    "               { sku: \"abv\", qty: 35, price: 1 } ]\n",
    "    }\n",
    "</pre>    "
   ]
  },
  {
   "cell_type": "markdown",
   "metadata": {},
   "source": [
    "###  SQL Terms, Functions, and Concepts \n",
    "\n",
    "<pre>\n",
    "|   SQL    |     Mongo     |\n",
    "|----------|:-------------:|\n",
    "| WHERE    |    $match     |\n",
    "| GROUP BY |    $group     |\n",
    "| HAVING   |    $match     |\n",
    "| SELECT   |    $project   |\n",
    "| ORDER BY |    $sort      |\n",
    "| LIMIT    |    $limit     |\n",
    "| SUM()    |    $sum       |\n",
    "| SELECT   |    $project   |\n",
    "| COUNT()  |    $sum       |\n",
    "| join     |    $lookup    |\n",
    "</pre>\n"
   ]
  },
  {
   "cell_type": "markdown",
   "metadata": {},
   "source": [
    "#### $dateToString (aggregation)\n",
    "https://docs.mongodb.com/manual/reference/operator/aggregation/dateToString/"
   ]
  }
 ],
 "metadata": {
  "kernelspec": {
   "display_name": "Python 3",
   "language": "python",
   "name": "python3"
  },
  "language_info": {
   "codemirror_mode": {
    "name": "ipython",
    "version": 3
   },
   "file_extension": ".py",
   "mimetype": "text/x-python",
   "name": "python",
   "nbconvert_exporter": "python",
   "pygments_lexer": "ipython3",
   "version": "3.7.0"
  },
  "nbTranslate": {
   "displayLangs": [
    "*"
   ],
   "hotkey": "alt-t",
   "langInMainMenu": true,
   "sourceLang": "en",
   "targetLang": "fr",
   "useGoogleTranslate": true
  }
 },
 "nbformat": 4,
 "nbformat_minor": 2
}